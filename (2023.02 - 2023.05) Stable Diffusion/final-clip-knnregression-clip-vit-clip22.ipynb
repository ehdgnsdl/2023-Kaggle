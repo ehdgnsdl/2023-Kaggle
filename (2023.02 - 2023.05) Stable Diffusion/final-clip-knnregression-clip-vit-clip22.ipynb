{
 "cells": [
  {
   "cell_type": "markdown",
   "id": "5d0fe7b1",
   "metadata": {
    "papermill": {
     "duration": 0.026917,
     "end_time": "2023-05-15T01:31:04.428243",
     "exception": false,
     "start_time": "2023-05-15T01:31:04.401326",
     "status": "completed"
    },
    "tags": []
   },
   "source": [
    "# Overview"
   ]
  },
  {
   "cell_type": "markdown",
   "id": "48834b7b",
   "metadata": {
    "papermill": {
     "duration": 0.025603,
     "end_time": "2023-05-15T01:31:04.480655",
     "exception": false,
     "start_time": "2023-05-15T01:31:04.455052",
     "status": "completed"
    },
    "tags": []
   },
   "source": [
    "This method uses k-NN regression with distances of CLIP embeddings.  \n",
    "***Note: This method does not use generated images, only prompts.***\n",
    "![](https://www.googleapis.com/download/storage/v1/b/kaggle-forum-message-attachments/o/inbox%2F8163878%2Fbf35d4beb7867bc163f28abb647128ae%2FSDIP_method.PNG?generation=1682513923845611&alt=media)"
   ]
  },
  {
   "cell_type": "code",
   "execution_count": 1,
   "id": "d7d7a979",
   "metadata": {
    "execution": {
     "iopub.execute_input": "2023-05-15T01:31:04.533412Z",
     "iopub.status.busy": "2023-05-15T01:31:04.532521Z",
     "iopub.status.idle": "2023-05-15T01:31:04.545597Z",
     "shell.execute_reply": "2023-05-15T01:31:04.544650Z"
    },
    "papermill": {
     "duration": 0.042458,
     "end_time": "2023-05-15T01:31:04.548083",
     "exception": false,
     "start_time": "2023-05-15T01:31:04.505625",
     "status": "completed"
    },
    "tags": []
   },
   "outputs": [],
   "source": [
    "# 앙상블 Ratio\n",
    "ratio_ViT_224 = 0.5 # LB 0.55567 (opencli-l18 (900k))\n",
    "CLIP_KNN_g_ratio = 0.4 # 0.55246\n",
    "CLIP_KNN_ratio = 0.4 # 0.55313\n",
    "ratio_ViT_384 = 0.2 #  LB 0.52823\n",
    "ratio_interrogator = 0.2"
   ]
  },
  {
   "cell_type": "markdown",
   "id": "30837782",
   "metadata": {
    "papermill": {
     "duration": 0.025434,
     "end_time": "2023-05-15T01:31:04.601113",
     "exception": false,
     "start_time": "2023-05-15T01:31:04.575679",
     "status": "completed"
    },
    "tags": []
   },
   "source": [
    "# openclip224-l18 models"
   ]
  },
  {
   "cell_type": "code",
   "execution_count": 2,
   "id": "166ad95f",
   "metadata": {
    "execution": {
     "iopub.execute_input": "2023-05-15T01:31:04.653178Z",
     "iopub.status.busy": "2023-05-15T01:31:04.652849Z",
     "iopub.status.idle": "2023-05-15T01:31:15.966677Z",
     "shell.execute_reply": "2023-05-15T01:31:15.965561Z"
    },
    "papermill": {
     "duration": 11.343288,
     "end_time": "2023-05-15T01:31:15.969618",
     "exception": false,
     "start_time": "2023-05-15T01:31:04.626330",
     "status": "completed"
    },
    "tags": []
   },
   "outputs": [],
   "source": [
    "import numpy as np\n",
    "import pickle\n",
    "import pandas as pd\n",
    "from tqdm import tqdm\n",
    "import torch\n",
    "from sklearn.model_selection import train_test_split\n",
    "from glob import glob\n",
    "from torch import nn\n",
    "import torch.optim as optim\n",
    "from torch.utils.data import DataLoader\n",
    "from PIL import Image\n",
    "from pathlib import Path\n",
    "from transformers import AutoModel, AutoProcessor\n",
    "from torchvision.transforms.functional import resize\n",
    "import torch\n",
    "import torchvision.transforms as transforms\n",
    "from torch.utils.data import DataLoader\n",
    "from tqdm import tqdm\n",
    "import numpy as np\n",
    "from PIL import Image\n",
    "import torch.nn.functional as F\n",
    "\n",
    "clip_processor = AutoProcessor.from_pretrained(\"/kaggle/input/0511-clip224-l18-models/clip-vit-large-patch14_processor\")\n",
    "BATCHSIZE=128\n",
    "SAVE_OPT_CKP = True\n",
    "SAVE_MODEL_CKP = True\n",
    "UNFREEZE_START = 18 # set it to lower number when significantly more samples are included.\n",
    "device = torch.device(\"cuda\" if torch.cuda.is_available() else \"cpu\")\n",
    "torch.backends.cuda.matmul.allow_tf32 = True # allow tf32 on matmul\n",
    "torch.backends.cudnn.allow_tf32 = True # allow tf32 on cudnn\n",
    "\n",
    "run_name = f'clip224-l18'"
   ]
  },
  {
   "cell_type": "code",
   "execution_count": 3,
   "id": "217d71f7",
   "metadata": {
    "execution": {
     "iopub.execute_input": "2023-05-15T01:31:16.023299Z",
     "iopub.status.busy": "2023-05-15T01:31:16.021264Z",
     "iopub.status.idle": "2023-05-15T01:31:16.029929Z",
     "shell.execute_reply": "2023-05-15T01:31:16.028898Z"
    },
    "papermill": {
     "duration": 0.037277,
     "end_time": "2023-05-15T01:31:16.032239",
     "exception": false,
     "start_time": "2023-05-15T01:31:15.994962",
     "status": "completed"
    },
    "tags": []
   },
   "outputs": [
    {
     "data": {
      "text/plain": [
       "'1.13.0'"
      ]
     },
     "execution_count": 3,
     "metadata": {},
     "output_type": "execute_result"
    }
   ],
   "source": [
    "torch.__version__"
   ]
  },
  {
   "cell_type": "code",
   "execution_count": 4,
   "id": "4eee3d48",
   "metadata": {
    "execution": {
     "iopub.execute_input": "2023-05-15T01:31:16.084414Z",
     "iopub.status.busy": "2023-05-15T01:31:16.083673Z",
     "iopub.status.idle": "2023-05-15T01:31:16.088753Z",
     "shell.execute_reply": "2023-05-15T01:31:16.087620Z"
    },
    "papermill": {
     "duration": 0.033643,
     "end_time": "2023-05-15T01:31:16.091048",
     "exception": false,
     "start_time": "2023-05-15T01:31:16.057405",
     "status": "completed"
    },
    "tags": []
   },
   "outputs": [],
   "source": [
    "class CFG:\n",
    "    model_path = '/kaggle/input/0515-clip224-l18-1/clip224-l18_trn07134_val07109.pt'    \n",
    "    model_name= 'clip-vit-large-patch14'\n",
    "    input_size = 224\n",
    "    batch_size = 128"
   ]
  },
  {
   "cell_type": "code",
   "execution_count": 5,
   "id": "2db6cecb",
   "metadata": {
    "execution": {
     "iopub.execute_input": "2023-05-15T01:31:16.143645Z",
     "iopub.status.busy": "2023-05-15T01:31:16.142729Z",
     "iopub.status.idle": "2023-05-15T01:31:16.152247Z",
     "shell.execute_reply": "2023-05-15T01:31:16.151325Z"
    },
    "papermill": {
     "duration": 0.038154,
     "end_time": "2023-05-15T01:31:16.154489",
     "exception": false,
     "start_time": "2023-05-15T01:31:16.116335",
     "status": "completed"
    },
    "tags": []
   },
   "outputs": [],
   "source": [
    "class InferenceIMGDataset:    \n",
    "    def __init__(self, image_paths, clip_processor=clip_processor):\n",
    "        self.images = image_paths        \n",
    "        self.input_processor = clip_processor\n",
    "        \n",
    "    def __len__(self):\n",
    "        return len(self.images)            \n",
    "\n",
    "    def __getitem__(self, item):\n",
    "        image = Image.open(self.images[item])\n",
    "        image = self.input_processor(images=image)\n",
    "        return image\n",
    "    \n",
    "class Net(nn.Module):\n",
    "    def __init__(self):\n",
    "        super(Net, self).__init__()\n",
    "        clip = AutoModel.from_pretrained(\"/kaggle/input/0511-clip224-l18-models/clip-vit-large-patch14_model\")\n",
    "        self.vision = clip.vision_model\n",
    "        self.fc = nn.Linear(1024, 384)\n",
    "\n",
    "    def forward(self, x):\n",
    "        out = self.vision(x)['pooler_output']\n",
    "        return self.fc(out)"
   ]
  },
  {
   "cell_type": "code",
   "execution_count": 6,
   "id": "acdf97dc",
   "metadata": {
    "execution": {
     "iopub.execute_input": "2023-05-15T01:31:16.207197Z",
     "iopub.status.busy": "2023-05-15T01:31:16.206221Z",
     "iopub.status.idle": "2023-05-15T01:31:16.216233Z",
     "shell.execute_reply": "2023-05-15T01:31:16.215275Z"
    },
    "papermill": {
     "duration": 0.038755,
     "end_time": "2023-05-15T01:31:16.218696",
     "exception": false,
     "start_time": "2023-05-15T01:31:16.179941",
     "status": "completed"
    },
    "tags": []
   },
   "outputs": [],
   "source": [
    "# optimizer load할 필요는 없음.\n",
    "def infer(\n",
    "    images,\n",
    "    model_path,    \n",
    "    input_size,\n",
    "    batch_size\n",
    "):\n",
    "    device = torch.device('cuda' if torch.cuda.is_available() else 'cpu')\n",
    "    \n",
    "    dataset = InferenceIMGDataset(images, clip_processor=clip_processor)\n",
    "    dataloader = DataLoader(\n",
    "        dataset=dataset,\n",
    "        shuffle=False,\n",
    "        batch_size=batch_size,\n",
    "        pin_memory=True,\n",
    "        num_workers=2,\n",
    "        drop_last=False\n",
    "    )\n",
    "\n",
    "    model = Net()\n",
    "    state_dict = torch.load(model_path)\n",
    "    model.load_state_dict(state_dict)\n",
    "    model.to(device)\n",
    "    model.eval()    \n",
    "    \n",
    "    preds = []\n",
    "    for batch_images in tqdm(dataloader, leave=False):\n",
    "        batch_images = batch_images['pixel_values'][0].to(device)\n",
    "\n",
    "        with torch.no_grad():\n",
    "            output = model(batch_images)\n",
    "            output = F.normalize(output, p=2, dim=1)  # Normalize output\n",
    "            \n",
    "            preds.append(output.cpu().numpy())\n",
    "                \n",
    "    return np.vstack(preds)"
   ]
  },
  {
   "cell_type": "code",
   "execution_count": 7,
   "id": "9c29fe9e",
   "metadata": {
    "execution": {
     "iopub.execute_input": "2023-05-15T01:31:16.271207Z",
     "iopub.status.busy": "2023-05-15T01:31:16.270272Z",
     "iopub.status.idle": "2023-05-15T01:31:56.796551Z",
     "shell.execute_reply": "2023-05-15T01:31:56.795063Z"
    },
    "papermill": {
     "duration": 40.555377,
     "end_time": "2023-05-15T01:31:56.799119",
     "exception": false,
     "start_time": "2023-05-15T01:31:16.243742",
     "status": "completed"
    },
    "tags": []
   },
   "outputs": [
    {
     "name": "stderr",
     "output_type": "stream",
     "text": [
      "                                             \r"
     ]
    }
   ],
   "source": [
    "images = list(Path('/kaggle/input/stable-diffusion-image-to-prompts/images').glob('*.png'))\n",
    "imgIds = [i.stem for i in images]\n",
    "EMBEDDING_LENGTH = 384\n",
    "imgId_eId = [\n",
    "    '_'.join(map(str, i)) for i in zip(\n",
    "        np.repeat(imgIds, EMBEDDING_LENGTH),\n",
    "        np.tile(range(EMBEDDING_LENGTH), len(imgIds)))]\n",
    "\n",
    "embeddings4 = infer(images, CFG.model_path, CFG.input_size, CFG.batch_size) # shape: (7,384)\n",
    "embeddings4 = embeddings4.flatten()"
   ]
  },
  {
   "cell_type": "markdown",
   "id": "e62de294",
   "metadata": {
    "papermill": {
     "duration": 0.029635,
     "end_time": "2023-05-15T01:31:56.854692",
     "exception": false,
     "start_time": "2023-05-15T01:31:56.825057",
     "status": "completed"
    },
    "tags": []
   },
   "source": [
    "# Library"
   ]
  },
  {
   "cell_type": "code",
   "execution_count": 8,
   "id": "4a8b8b1c",
   "metadata": {
    "execution": {
     "iopub.execute_input": "2023-05-15T01:31:56.947729Z",
     "iopub.status.busy": "2023-05-15T01:31:56.946416Z",
     "iopub.status.idle": "2023-05-15T01:32:18.733238Z",
     "shell.execute_reply": "2023-05-15T01:32:18.731839Z"
    },
    "papermill": {
     "duration": 21.83596,
     "end_time": "2023-05-15T01:32:18.736353",
     "exception": false,
     "start_time": "2023-05-15T01:31:56.900393",
     "status": "completed"
    },
    "tags": []
   },
   "outputs": [
    {
     "name": "stdout",
     "output_type": "stream",
     "text": [
      "\u001b[33mWARNING: Running pip as the 'root' user can result in broken permissions and conflicting behaviour with the system package manager. It is recommended to use a virtual environment instead: https://pip.pypa.io/warnings/venv\u001b[0m\u001b[33m\r\n",
      "\u001b[0m"
     ]
    }
   ],
   "source": [
    "wheels_path = \"/kaggle/input/clip-interrogator-wheels-x\"\n",
    "clip_interrogator_whl_path = f\"{wheels_path}/clip_interrogator-0.4.3-py3-none-any.whl\"\n",
    "!pip install --no-index --find-links $wheels_path $clip_interrogator_whl_path -q"
   ]
  },
  {
   "cell_type": "code",
   "execution_count": 9,
   "id": "ce36189f",
   "metadata": {
    "execution": {
     "iopub.execute_input": "2023-05-15T01:32:18.791696Z",
     "iopub.status.busy": "2023-05-15T01:32:18.790709Z",
     "iopub.status.idle": "2023-05-15T01:32:19.232322Z",
     "shell.execute_reply": "2023-05-15T01:32:19.231253Z"
    },
    "papermill": {
     "duration": 0.471721,
     "end_time": "2023-05-15T01:32:19.235267",
     "exception": false,
     "start_time": "2023-05-15T01:32:18.763546",
     "status": "completed"
    },
    "tags": []
   },
   "outputs": [],
   "source": [
    "import os, glob, gc\n",
    "import random\n",
    "import numpy as np\n",
    "import pandas as pd\n",
    "import pickle\n",
    "from pathlib import Path\n",
    "from PIL import Image\n",
    "from tqdm.notebook import tqdm\n",
    "from sklearn.preprocessing import normalize\n",
    "import torch\n",
    "from torch import nn\n",
    "from torchvision import transforms\n",
    "import open_clip\n",
    "import warnings\n",
    "warnings.filterwarnings('ignore')\n",
    "from matplotlib import pyplot as plt"
   ]
  },
  {
   "cell_type": "markdown",
   "id": "1f00ae98",
   "metadata": {
    "papermill": {
     "duration": 0.025763,
     "end_time": "2023-05-15T01:32:19.287198",
     "exception": false,
     "start_time": "2023-05-15T01:32:19.261435",
     "status": "completed"
    },
    "tags": []
   },
   "source": [
    "# Config ViT-G-14"
   ]
  },
  {
   "cell_type": "code",
   "execution_count": 10,
   "id": "bc244c48",
   "metadata": {
    "execution": {
     "iopub.execute_input": "2023-05-15T01:32:19.340926Z",
     "iopub.status.busy": "2023-05-15T01:32:19.340547Z",
     "iopub.status.idle": "2023-05-15T01:32:19.346359Z",
     "shell.execute_reply": "2023-05-15T01:32:19.345275Z"
    },
    "papermill": {
     "duration": 0.035537,
     "end_time": "2023-05-15T01:32:19.348691",
     "exception": false,
     "start_time": "2023-05-15T01:32:19.313154",
     "status": "completed"
    },
    "tags": []
   },
   "outputs": [],
   "source": [
    "class CFG:\n",
    "    clip_model_path = \"/kaggle/input/0503-vit-g-14-models/ViT-g-14.pt\"\n",
    "    clip_preproc_pkl = \"/kaggle/input/0503-vit-g-14-models/preprocess.pkl\"\n",
    "    input_size = 224\n",
    "    batch_size = 64\n",
    "    seed = 42\n",
    "    knn_topk = 100\n",
    "    knn_interval = 2500\n",
    "    knn_dim = 6"
   ]
  },
  {
   "cell_type": "code",
   "execution_count": 11,
   "id": "cad6ef8a",
   "metadata": {
    "execution": {
     "iopub.execute_input": "2023-05-15T01:32:19.404447Z",
     "iopub.status.busy": "2023-05-15T01:32:19.404128Z",
     "iopub.status.idle": "2023-05-15T01:32:19.412715Z",
     "shell.execute_reply": "2023-05-15T01:32:19.411478Z"
    },
    "papermill": {
     "duration": 0.039594,
     "end_time": "2023-05-15T01:32:19.415284",
     "exception": false,
     "start_time": "2023-05-15T01:32:19.375690",
     "status": "completed"
    },
    "tags": []
   },
   "outputs": [],
   "source": [
    "def seed_everything(seed):\n",
    "    os.environ['PYTHONHASHSEED'] = str(seed)\n",
    "    random.seed(seed)\n",
    "    np.random.seed(seed)\n",
    "    torch.manual_seed(seed)\n",
    "    \n",
    "    if torch.cuda.is_available(): \n",
    "        torch.cuda.manual_seed(seed)\n",
    "        torch.backends.cudnn.deterministic = True\n",
    "\n",
    "seed_everything(CFG.seed)"
   ]
  },
  {
   "cell_type": "code",
   "execution_count": 12,
   "id": "36718ca3",
   "metadata": {
    "execution": {
     "iopub.execute_input": "2023-05-15T01:32:19.471331Z",
     "iopub.status.busy": "2023-05-15T01:32:19.470735Z",
     "iopub.status.idle": "2023-05-15T01:32:19.477707Z",
     "shell.execute_reply": "2023-05-15T01:32:19.476552Z"
    },
    "papermill": {
     "duration": 0.03857,
     "end_time": "2023-05-15T01:32:19.480368",
     "exception": false,
     "start_time": "2023-05-15T01:32:19.441798",
     "status": "completed"
    },
    "tags": []
   },
   "outputs": [],
   "source": [
    "device = torch.device('cuda' if torch.cuda.is_available() else 'cpu')"
   ]
  },
  {
   "cell_type": "markdown",
   "id": "38514841",
   "metadata": {
    "papermill": {
     "duration": 0.028182,
     "end_time": "2023-05-15T01:32:19.537721",
     "exception": false,
     "start_time": "2023-05-15T01:32:19.509539",
     "status": "completed"
    },
    "tags": []
   },
   "source": [
    "#### <a id=\"top\"></a>\n",
    "# <div style=\"box-shadow: rgb(60, 121, 245) 0px 0px 0px 3px inset, rgb(255, 255, 255) 10px -10px 0px -3px, rgb(31, 193, 27) 10px -10px, rgb(255, 255, 255) 20px -20px 0px -3px, rgb(255, 217, 19) 20px -20px, rgb(255, 255, 255) 30px -30px 0px -3px, rgb(255, 156, 85) 30px -30px, rgb(255, 255, 255) 40px -40px 0px -3px, rgb(255, 85, 85) 40px -40px; padding:20px; margin-right: 40px; font-size:30px; font-family: consolas; text-align:center; display:fill; border-radius:15px; color:rgb(60, 121, 245);\"><b> ref_embeddings </b></div>\n"
   ]
  },
  {
   "cell_type": "code",
   "execution_count": 13,
   "id": "37f808ed",
   "metadata": {
    "execution": {
     "iopub.execute_input": "2023-05-15T01:32:19.596407Z",
     "iopub.status.busy": "2023-05-15T01:32:19.596027Z",
     "iopub.status.idle": "2023-05-15T01:32:19.602252Z",
     "shell.execute_reply": "2023-05-15T01:32:19.601247Z"
    },
    "papermill": {
     "duration": 0.038733,
     "end_time": "2023-05-15T01:32:19.604929",
     "exception": false,
     "start_time": "2023-05-15T01:32:19.566196",
     "status": "completed"
    },
    "tags": []
   },
   "outputs": [],
   "source": [
    "FILES_OBJECTIVE_EMB = []\n",
    "FILES_CLIP_EMB = []"
   ]
  },
  {
   "cell_type": "code",
   "execution_count": 14,
   "id": "9945119b",
   "metadata": {
    "execution": {
     "iopub.execute_input": "2023-05-15T01:32:19.661151Z",
     "iopub.status.busy": "2023-05-15T01:32:19.660813Z",
     "iopub.status.idle": "2023-05-15T01:32:19.683384Z",
     "shell.execute_reply": "2023-05-15T01:32:19.682143Z"
    },
    "papermill": {
     "duration": 0.053238,
     "end_time": "2023-05-15T01:32:19.685849",
     "exception": false,
     "start_time": "2023-05-15T01:32:19.632611",
     "status": "completed"
    },
    "tags": []
   },
   "outputs": [
    {
     "name": "stdout",
     "output_type": "stream",
     "text": [
      "16 16\n"
     ]
    }
   ],
   "source": [
    "### DiffusionDB-2M \n",
    "# Objective embeddings\n",
    "FILES_OBJECTIVE_EMB += sorted(glob.glob(\"/kaggle/input/pub-dffusion2m-prompt-15m/all-MiniLM-L6-v2/*.npy\"))\n",
    "\n",
    "FILES_CLIP_EMB += sorted(glob.glob(\"/kaggle/input/pub-dffusion2m-prompt-15m/vitg14/*.npy\"))\n",
    "print(len(FILES_OBJECTIVE_EMB), len(FILES_CLIP_EMB))"
   ]
  },
  {
   "cell_type": "code",
   "execution_count": 15,
   "id": "06b7e526",
   "metadata": {
    "execution": {
     "iopub.execute_input": "2023-05-15T01:32:19.740093Z",
     "iopub.status.busy": "2023-05-15T01:32:19.739113Z",
     "iopub.status.idle": "2023-05-15T01:32:19.755211Z",
     "shell.execute_reply": "2023-05-15T01:32:19.753808Z"
    },
    "papermill": {
     "duration": 0.045963,
     "end_time": "2023-05-15T01:32:19.757812",
     "exception": false,
     "start_time": "2023-05-15T01:32:19.711849",
     "status": "completed"
    },
    "tags": []
   },
   "outputs": [
    {
     "name": "stdout",
     "output_type": "stream",
     "text": [
      "17 17\n"
     ]
    }
   ],
   "source": [
    "### sd2-81k\n",
    "# Objective embeddings\n",
    "FILES_OBJECTIVE_EMB += sorted(glob.glob(\"/kaggle/input/0502-df-sd2-81k/all-MiniLM-L6-v2/*.npy\"))\n",
    "\n",
    "FILES_CLIP_EMB += sorted(glob.glob(\"/kaggle/input/0502-df-sd2-81k/vitg14/*.npy\"))\n",
    "print(len(FILES_OBJECTIVE_EMB), len(FILES_CLIP_EMB))"
   ]
  },
  {
   "cell_type": "code",
   "execution_count": 16,
   "id": "bca8ff1b",
   "metadata": {
    "execution": {
     "iopub.execute_input": "2023-05-15T01:32:19.811725Z",
     "iopub.status.busy": "2023-05-15T01:32:19.811423Z",
     "iopub.status.idle": "2023-05-15T01:32:19.824667Z",
     "shell.execute_reply": "2023-05-15T01:32:19.823448Z"
    },
    "papermill": {
     "duration": 0.042578,
     "end_time": "2023-05-15T01:32:19.826951",
     "exception": false,
     "start_time": "2023-05-15T01:32:19.784373",
     "status": "completed"
    },
    "tags": []
   },
   "outputs": [
    {
     "name": "stdout",
     "output_type": "stream",
     "text": [
      "18 18\n"
     ]
    }
   ],
   "source": [
    "### /kaggle/input/0502-gpt-generated-prompts-30k\n",
    "# Objective embeddings\n",
    "FILES_OBJECTIVE_EMB += sorted(glob.glob(\"/kaggle/input/0502-gpt-generated-prompts-30k/all-MiniLM-L6-v2/*.npy\"))\n",
    "\n",
    "FILES_CLIP_EMB += sorted(glob.glob(\"/kaggle/input/0502-gpt-generated-prompts-30k/vitg14/*.npy\"))\n",
    "print(len(FILES_OBJECTIVE_EMB), len(FILES_CLIP_EMB))"
   ]
  },
  {
   "cell_type": "code",
   "execution_count": 17,
   "id": "418d46b2",
   "metadata": {
    "execution": {
     "iopub.execute_input": "2023-05-15T01:32:19.888889Z",
     "iopub.status.busy": "2023-05-15T01:32:19.888539Z",
     "iopub.status.idle": "2023-05-15T01:32:19.901941Z",
     "shell.execute_reply": "2023-05-15T01:32:19.900712Z"
    },
    "papermill": {
     "duration": 0.043487,
     "end_time": "2023-05-15T01:32:19.904350",
     "exception": false,
     "start_time": "2023-05-15T01:32:19.860863",
     "status": "completed"
    },
    "tags": []
   },
   "outputs": [
    {
     "name": "stdout",
     "output_type": "stream",
     "text": [
      "19 19\n"
     ]
    }
   ],
   "source": [
    "### /kaggle/input/0502-hardcoded-42k\n",
    "# Objective embeddings\n",
    "FILES_OBJECTIVE_EMB += sorted(glob.glob(\"/kaggle/input/0502-hardcoded-42k/all-MiniLM-L6-v2/*.npy\"))\n",
    "\n",
    "FILES_CLIP_EMB += sorted(glob.glob(\"/kaggle/input/0502-hardcoded-42k/vitg14/*.npy\"))\n",
    "print(len(FILES_OBJECTIVE_EMB), len(FILES_CLIP_EMB))"
   ]
  },
  {
   "cell_type": "code",
   "execution_count": 18,
   "id": "5ed695d4",
   "metadata": {
    "execution": {
     "iopub.execute_input": "2023-05-15T01:32:19.959266Z",
     "iopub.status.busy": "2023-05-15T01:32:19.958953Z",
     "iopub.status.idle": "2023-05-15T01:32:19.975492Z",
     "shell.execute_reply": "2023-05-15T01:32:19.974303Z"
    },
    "papermill": {
     "duration": 0.046844,
     "end_time": "2023-05-15T01:32:19.977755",
     "exception": false,
     "start_time": "2023-05-15T01:32:19.930911",
     "status": "completed"
    },
    "tags": []
   },
   "outputs": [
    {
     "name": "stdout",
     "output_type": "stream",
     "text": [
      "21 21\n"
     ]
    }
   ],
   "source": [
    "### /kaggle/input/0502-prompt-900k\n",
    "# Objective embeddings\n",
    "FILES_OBJECTIVE_EMB += sorted(glob.glob(\"/kaggle/input/0502-prompt-900k/all-MiniLM-L6-v2/*.npy\"))\n",
    "\n",
    "FILES_CLIP_EMB += sorted(glob.glob(\"/kaggle/input/0502-prompt-900k/vitg14/*.npy\"))\n",
    "print(len(FILES_OBJECTIVE_EMB), len(FILES_CLIP_EMB))"
   ]
  },
  {
   "cell_type": "code",
   "execution_count": 19,
   "id": "31c5ceff",
   "metadata": {
    "execution": {
     "iopub.execute_input": "2023-05-15T01:32:20.033502Z",
     "iopub.status.busy": "2023-05-15T01:32:20.032638Z",
     "iopub.status.idle": "2023-05-15T01:32:20.051835Z",
     "shell.execute_reply": "2023-05-15T01:32:20.050531Z"
    },
    "papermill": {
     "duration": 0.049799,
     "end_time": "2023-05-15T01:32:20.054295",
     "exception": false,
     "start_time": "2023-05-15T01:32:20.004496",
     "status": "completed"
    },
    "tags": []
   },
   "outputs": [
    {
     "name": "stdout",
     "output_type": "stream",
     "text": [
      "22 22\n"
     ]
    }
   ],
   "source": [
    "### /kaggle/input/0502-prompt-chatgpt-25k\n",
    "# Objective embeddings\n",
    "FILES_OBJECTIVE_EMB += sorted(glob.glob(\"/kaggle/input/0502-prompt-chatgpt-25k/all-MiniLM-L6-v2/*.npy\"))\n",
    "\n",
    "FILES_CLIP_EMB += sorted(glob.glob(\"/kaggle/input/0502-prompt-chatgpt-25k/vitg14/*.npy\"))\n",
    "print(len(FILES_OBJECTIVE_EMB), len(FILES_CLIP_EMB))"
   ]
  },
  {
   "cell_type": "code",
   "execution_count": 20,
   "id": "d07824ac",
   "metadata": {
    "execution": {
     "iopub.execute_input": "2023-05-15T01:32:20.109444Z",
     "iopub.status.busy": "2023-05-15T01:32:20.109128Z",
     "iopub.status.idle": "2023-05-15T01:32:20.131115Z",
     "shell.execute_reply": "2023-05-15T01:32:20.129763Z"
    },
    "papermill": {
     "duration": 0.052324,
     "end_time": "2023-05-15T01:32:20.133486",
     "exception": false,
     "start_time": "2023-05-15T01:32:20.081162",
     "status": "completed"
    },
    "tags": []
   },
   "outputs": [
    {
     "name": "stdout",
     "output_type": "stream",
     "text": [
      "33 33\n"
     ]
    }
   ],
   "source": [
    "### /kaggle/input/0502-prompt-magic-1m\n",
    "# Objective embeddings\n",
    "FILES_OBJECTIVE_EMB += sorted(glob.glob(\"/kaggle/input/0502-prompt-magic-1m/all-MiniLM-L6-v2/*.npy\"))\n",
    "\n",
    "FILES_CLIP_EMB += sorted(glob.glob(\"/kaggle/input/0502-prompt-magic-1m/vitg14/*.npy\"))\n",
    "print(len(FILES_OBJECTIVE_EMB), len(FILES_CLIP_EMB))"
   ]
  },
  {
   "cell_type": "code",
   "execution_count": 21,
   "id": "76370c6a",
   "metadata": {
    "execution": {
     "iopub.execute_input": "2023-05-15T01:32:20.189616Z",
     "iopub.status.busy": "2023-05-15T01:32:20.188755Z",
     "iopub.status.idle": "2023-05-15T01:32:20.201823Z",
     "shell.execute_reply": "2023-05-15T01:32:20.200480Z"
    },
    "papermill": {
     "duration": 0.043904,
     "end_time": "2023-05-15T01:32:20.204406",
     "exception": false,
     "start_time": "2023-05-15T01:32:20.160502",
     "status": "completed"
    },
    "tags": []
   },
   "outputs": [
    {
     "name": "stdout",
     "output_type": "stream",
     "text": [
      "34 34\n"
     ]
    }
   ],
   "source": [
    "### /kaggle/input/0502-prompt-sd2-30k\n",
    "# Objective embeddings\n",
    "FILES_OBJECTIVE_EMB += sorted(glob.glob(\"/kaggle/input/0502-prompt-sd2-30k/all-MiniLM-L6-v2/*.npy\"))\n",
    "\n",
    "FILES_CLIP_EMB += sorted(glob.glob(\"/kaggle/input/0502-prompt-sd2-30k/vitg14/*.npy\"))\n",
    "print(len(FILES_OBJECTIVE_EMB), len(FILES_CLIP_EMB))"
   ]
  },
  {
   "cell_type": "code",
   "execution_count": 22,
   "id": "9e87565e",
   "metadata": {
    "execution": {
     "iopub.execute_input": "2023-05-15T01:32:20.260292Z",
     "iopub.status.busy": "2023-05-15T01:32:20.259987Z",
     "iopub.status.idle": "2023-05-15T01:32:20.298519Z",
     "shell.execute_reply": "2023-05-15T01:32:20.297130Z"
    },
    "papermill": {
     "duration": 0.069257,
     "end_time": "2023-05-15T01:32:20.300854",
     "exception": false,
     "start_time": "2023-05-15T01:32:20.231597",
     "status": "completed"
    },
    "tags": []
   },
   "outputs": [
    {
     "name": "stdout",
     "output_type": "stream",
     "text": [
      "80 80\n"
     ]
    }
   ],
   "source": [
    "### /kaggle/input/0502-prompt-sd2-30k\n",
    "# Objective embeddings\n",
    "FILES_OBJECTIVE_EMB += sorted(glob.glob(\"/kaggle/input/0502-laion2b-1/all-MiniLM-L6-v2/*.npy\"))\n",
    "\n",
    "FILES_CLIP_EMB += sorted(glob.glob(\"/kaggle/input/0502-laion2b-1/vitg14/*.npy\"))\n",
    "print(len(FILES_OBJECTIVE_EMB), len(FILES_CLIP_EMB))"
   ]
  },
  {
   "cell_type": "code",
   "execution_count": 23,
   "id": "446d566b",
   "metadata": {
    "execution": {
     "iopub.execute_input": "2023-05-15T01:32:20.357606Z",
     "iopub.status.busy": "2023-05-15T01:32:20.356706Z",
     "iopub.status.idle": "2023-05-15T01:32:20.392603Z",
     "shell.execute_reply": "2023-05-15T01:32:20.391330Z"
    },
    "papermill": {
     "duration": 0.066838,
     "end_time": "2023-05-15T01:32:20.395159",
     "exception": false,
     "start_time": "2023-05-15T01:32:20.328321",
     "status": "completed"
    },
    "tags": []
   },
   "outputs": [
    {
     "name": "stdout",
     "output_type": "stream",
     "text": [
      "126 126\n"
     ]
    }
   ],
   "source": [
    "### /kaggle/input/0502-prompt-sd2-30k\n",
    "# Objective embeddings\n",
    "FILES_OBJECTIVE_EMB += sorted(glob.glob(\"/kaggle/input/0502-laion2b-2/all-MiniLM-L6-v2/*.npy\"))\n",
    "\n",
    "FILES_CLIP_EMB += sorted(glob.glob(\"/kaggle/input/0502-laion2b-2/vitg14/*.npy\"))\n",
    "print(len(FILES_OBJECTIVE_EMB), len(FILES_CLIP_EMB))"
   ]
  },
  {
   "cell_type": "code",
   "execution_count": 24,
   "id": "af2cc5d3",
   "metadata": {
    "execution": {
     "iopub.execute_input": "2023-05-15T01:32:20.451530Z",
     "iopub.status.busy": "2023-05-15T01:32:20.450956Z",
     "iopub.status.idle": "2023-05-15T01:32:20.484450Z",
     "shell.execute_reply": "2023-05-15T01:32:20.483027Z"
    },
    "papermill": {
     "duration": 0.064214,
     "end_time": "2023-05-15T01:32:20.486710",
     "exception": false,
     "start_time": "2023-05-15T01:32:20.422496",
     "status": "completed"
    },
    "tags": []
   },
   "outputs": [
    {
     "name": "stdout",
     "output_type": "stream",
     "text": [
      "172 172\n"
     ]
    }
   ],
   "source": [
    "### /kaggle/input/0502-prompt-sd2-30k\n",
    "# Objective embeddings\n",
    "FILES_OBJECTIVE_EMB += sorted(glob.glob(\"/kaggle/input/0502-laion2b-3/all-MiniLM-L6-v2/*.npy\"))\n",
    "\n",
    "FILES_CLIP_EMB += sorted(glob.glob(\"/kaggle/input/0502-laion2b-3/vitg14/*.npy\"))\n",
    "print(len(FILES_OBJECTIVE_EMB), len(FILES_CLIP_EMB))"
   ]
  },
  {
   "cell_type": "code",
   "execution_count": 25,
   "id": "687af87a",
   "metadata": {
    "execution": {
     "iopub.execute_input": "2023-05-15T01:32:20.544514Z",
     "iopub.status.busy": "2023-05-15T01:32:20.543418Z",
     "iopub.status.idle": "2023-05-15T01:32:20.574424Z",
     "shell.execute_reply": "2023-05-15T01:32:20.572866Z"
    },
    "papermill": {
     "duration": 0.062127,
     "end_time": "2023-05-15T01:32:20.576673",
     "exception": false,
     "start_time": "2023-05-15T01:32:20.514546",
     "status": "completed"
    },
    "tags": []
   },
   "outputs": [
    {
     "name": "stdout",
     "output_type": "stream",
     "text": [
      "218 218\n"
     ]
    }
   ],
   "source": [
    "### /kaggle/input/0502-prompt-sd2-30k\n",
    "# Objective embeddings\n",
    "FILES_OBJECTIVE_EMB += sorted(glob.glob(\"/kaggle/input/0502-laion2b-4/all-MiniLM-L6-v2/*.npy\"))\n",
    "\n",
    "FILES_CLIP_EMB += sorted(glob.glob(\"/kaggle/input/0502-laion2b-4/vitg14/*.npy\"))\n",
    "print(len(FILES_OBJECTIVE_EMB), len(FILES_CLIP_EMB))"
   ]
  },
  {
   "cell_type": "code",
   "execution_count": 26,
   "id": "54db3c4c",
   "metadata": {
    "execution": {
     "iopub.execute_input": "2023-05-15T01:32:20.635211Z",
     "iopub.status.busy": "2023-05-15T01:32:20.633428Z",
     "iopub.status.idle": "2023-05-15T01:32:20.664413Z",
     "shell.execute_reply": "2023-05-15T01:32:20.662846Z"
    },
    "papermill": {
     "duration": 0.061925,
     "end_time": "2023-05-15T01:32:20.666665",
     "exception": false,
     "start_time": "2023-05-15T01:32:20.604740",
     "status": "completed"
    },
    "tags": []
   },
   "outputs": [
    {
     "name": "stdout",
     "output_type": "stream",
     "text": [
      "264 264\n"
     ]
    }
   ],
   "source": [
    "### /kaggle/input/0502-prompt-sd2-30k\n",
    "# Objective embeddings\n",
    "FILES_OBJECTIVE_EMB += sorted(glob.glob(\"/kaggle/input/0502-laion2b-5/all-MiniLM-L6-v2/*.npy\"))\n",
    "\n",
    "FILES_CLIP_EMB += sorted(glob.glob(\"/kaggle/input/0502-laion2b-5/vitg14/*.npy\"))\n",
    "print(len(FILES_OBJECTIVE_EMB), len(FILES_CLIP_EMB))"
   ]
  },
  {
   "cell_type": "code",
   "execution_count": 27,
   "id": "dc07d270",
   "metadata": {
    "execution": {
     "iopub.execute_input": "2023-05-15T01:32:20.724877Z",
     "iopub.status.busy": "2023-05-15T01:32:20.723784Z",
     "iopub.status.idle": "2023-05-15T01:32:20.759500Z",
     "shell.execute_reply": "2023-05-15T01:32:20.758182Z"
    },
    "papermill": {
     "duration": 0.069264,
     "end_time": "2023-05-15T01:32:20.763964",
     "exception": false,
     "start_time": "2023-05-15T01:32:20.694700",
     "status": "completed"
    },
    "tags": []
   },
   "outputs": [
    {
     "name": "stdout",
     "output_type": "stream",
     "text": [
      "310 310\n"
     ]
    }
   ],
   "source": [
    "### /kaggle/input/0502-prompt-sd2-30k\n",
    "# Objective embeddings\n",
    "FILES_OBJECTIVE_EMB += sorted(glob.glob(\"/kaggle/input/0502-laion2b-6/all-MiniLM-L6-v2/*.npy\"))\n",
    "\n",
    "FILES_CLIP_EMB += sorted(glob.glob(\"/kaggle/input/0502-laion2b-6/vitg14/*.npy\"))\n",
    "print(len(FILES_OBJECTIVE_EMB), len(FILES_CLIP_EMB))"
   ]
  },
  {
   "cell_type": "code",
   "execution_count": 28,
   "id": "c6b725ec",
   "metadata": {
    "execution": {
     "iopub.execute_input": "2023-05-15T01:32:20.822258Z",
     "iopub.status.busy": "2023-05-15T01:32:20.821944Z",
     "iopub.status.idle": "2023-05-15T01:32:20.855933Z",
     "shell.execute_reply": "2023-05-15T01:32:20.854352Z"
    },
    "papermill": {
     "duration": 0.065774,
     "end_time": "2023-05-15T01:32:20.858308",
     "exception": false,
     "start_time": "2023-05-15T01:32:20.792534",
     "status": "completed"
    },
    "tags": []
   },
   "outputs": [
    {
     "name": "stdout",
     "output_type": "stream",
     "text": [
      "356 356\n"
     ]
    }
   ],
   "source": [
    "### /kaggle/input/0502-prompt-sd2-30k\n",
    "# Objective embeddings\n",
    "FILES_OBJECTIVE_EMB += sorted(glob.glob(\"/kaggle/input/0502-laion2b-7/all-MiniLM-L6-v2/*.npy\"))\n",
    "\n",
    "FILES_CLIP_EMB += sorted(glob.glob(\"/kaggle/input/0502-laion2b-7/vitg14/*.npy\"))\n",
    "print(len(FILES_OBJECTIVE_EMB), len(FILES_CLIP_EMB))"
   ]
  },
  {
   "cell_type": "code",
   "execution_count": 29,
   "id": "e4681133",
   "metadata": {
    "execution": {
     "iopub.execute_input": "2023-05-15T01:32:20.951194Z",
     "iopub.status.busy": "2023-05-15T01:32:20.950808Z",
     "iopub.status.idle": "2023-05-15T01:32:20.984676Z",
     "shell.execute_reply": "2023-05-15T01:32:20.983082Z"
    },
    "papermill": {
     "duration": 0.065579,
     "end_time": "2023-05-15T01:32:20.986961",
     "exception": false,
     "start_time": "2023-05-15T01:32:20.921382",
     "status": "completed"
    },
    "tags": []
   },
   "outputs": [
    {
     "name": "stdout",
     "output_type": "stream",
     "text": [
      "402 402\n"
     ]
    }
   ],
   "source": [
    "### /kaggle/input/0502-prompt-sd2-30k\n",
    "# Objective embeddings\n",
    "FILES_OBJECTIVE_EMB += sorted(glob.glob(\"/kaggle/input/0502-laion2b-8/all-MiniLM-L6-v2/*.npy\"))\n",
    "\n",
    "FILES_CLIP_EMB += sorted(glob.glob(\"/kaggle/input/0502-laion2b-8/vitg14/*.npy\"))\n",
    "print(len(FILES_OBJECTIVE_EMB), len(FILES_CLIP_EMB))"
   ]
  },
  {
   "cell_type": "code",
   "execution_count": 30,
   "id": "721f28df",
   "metadata": {
    "execution": {
     "iopub.execute_input": "2023-05-15T01:32:21.045587Z",
     "iopub.status.busy": "2023-05-15T01:32:21.044690Z",
     "iopub.status.idle": "2023-05-15T01:32:21.120939Z",
     "shell.execute_reply": "2023-05-15T01:32:21.119712Z"
    },
    "papermill": {
     "duration": 0.108097,
     "end_time": "2023-05-15T01:32:21.123454",
     "exception": false,
     "start_time": "2023-05-15T01:32:21.015357",
     "status": "completed"
    },
    "tags": []
   },
   "outputs": [
    {
     "name": "stdout",
     "output_type": "stream",
     "text": [
      "493 493\n"
     ]
    }
   ],
   "source": [
    "### /kaggle/input/0502-prompt-sd2-30k\n",
    "# Objective embeddings\n",
    "FILES_OBJECTIVE_EMB += sorted(glob.glob(\"/kaggle/input/0502-laion2b-9/all-MiniLM-L6-v2/*.npy\"))\n",
    "\n",
    "FILES_CLIP_EMB += sorted(glob.glob(\"/kaggle/input/0502-laion2b-9/vitg14/*.npy\"))\n",
    "print(len(FILES_OBJECTIVE_EMB), len(FILES_CLIP_EMB))"
   ]
  },
  {
   "cell_type": "code",
   "execution_count": 31,
   "id": "dc7e9913",
   "metadata": {
    "execution": {
     "iopub.execute_input": "2023-05-15T01:32:21.182601Z",
     "iopub.status.busy": "2023-05-15T01:32:21.181720Z",
     "iopub.status.idle": "2023-05-15T01:32:21.211513Z",
     "shell.execute_reply": "2023-05-15T01:32:21.210108Z"
    },
    "papermill": {
     "duration": 0.061932,
     "end_time": "2023-05-15T01:32:21.213978",
     "exception": false,
     "start_time": "2023-05-15T01:32:21.152046",
     "status": "completed"
    },
    "tags": []
   },
   "outputs": [
    {
     "name": "stdout",
     "output_type": "stream",
     "text": [
      "539 539\n"
     ]
    }
   ],
   "source": [
    "### /kaggle/input/0502-prompt-sd2-30k\n",
    "# Objective embeddings\n",
    "FILES_OBJECTIVE_EMB += sorted(glob.glob(\"/kaggle/input/0502-laion2b-10/all-MiniLM-L6-v2/*.npy\"))\n",
    "\n",
    "FILES_CLIP_EMB += sorted(glob.glob(\"/kaggle/input/0502-laion2b-10/vitg14/*.npy\"))\n",
    "print(len(FILES_OBJECTIVE_EMB), len(FILES_CLIP_EMB))"
   ]
  },
  {
   "cell_type": "code",
   "execution_count": 32,
   "id": "7d77b724",
   "metadata": {
    "execution": {
     "iopub.execute_input": "2023-05-15T01:32:21.273856Z",
     "iopub.status.busy": "2023-05-15T01:32:21.272800Z",
     "iopub.status.idle": "2023-05-15T01:32:21.286517Z",
     "shell.execute_reply": "2023-05-15T01:32:21.285250Z"
    },
    "papermill": {
     "duration": 0.045964,
     "end_time": "2023-05-15T01:32:21.288811",
     "exception": false,
     "start_time": "2023-05-15T01:32:21.242847",
     "status": "completed"
    },
    "tags": []
   },
   "outputs": [
    {
     "name": "stdout",
     "output_type": "stream",
     "text": [
      "540 540\n"
     ]
    }
   ],
   "source": [
    "### /kaggle/input/0502-prompt-sd2-30k\n",
    "# Objective embeddings\n",
    "FILES_OBJECTIVE_EMB += sorted(glob.glob(\"/kaggle/input/gpt-prompts-50k/all-MiniLM-L6-v2/*.npy\"))\n",
    "\n",
    "FILES_CLIP_EMB += sorted(glob.glob(\"/kaggle/input/gpt-prompts-50k/vitg14/*.npy\"))\n",
    "print(len(FILES_OBJECTIVE_EMB), len(FILES_CLIP_EMB))"
   ]
  },
  {
   "cell_type": "code",
   "execution_count": 33,
   "id": "d25d9660",
   "metadata": {
    "execution": {
     "iopub.execute_input": "2023-05-15T01:32:21.348110Z",
     "iopub.status.busy": "2023-05-15T01:32:21.347121Z",
     "iopub.status.idle": "2023-05-15T01:32:21.365954Z",
     "shell.execute_reply": "2023-05-15T01:32:21.364595Z"
    },
    "papermill": {
     "duration": 0.050842,
     "end_time": "2023-05-15T01:32:21.368221",
     "exception": false,
     "start_time": "2023-05-15T01:32:21.317379",
     "status": "completed"
    },
    "tags": []
   },
   "outputs": [
    {
     "name": "stdout",
     "output_type": "stream",
     "text": [
      "555 555\n"
     ]
    }
   ],
   "source": [
    "### /kaggle/input/0502-prompt-sd2-30k\n",
    "# Objective embeddings\n",
    "FILES_OBJECTIVE_EMB += sorted(glob.glob(\"/kaggle/input/0502-openprompts-1400k/all-MiniLM-L6-v2/*.npy\"))\n",
    "\n",
    "FILES_CLIP_EMB += sorted(glob.glob(\"/kaggle/input/0502-openprompts-1400k/vitg14/*.npy\"))\n",
    "print(len(FILES_OBJECTIVE_EMB), len(FILES_CLIP_EMB))"
   ]
  },
  {
   "cell_type": "code",
   "execution_count": null,
   "id": "0f7fb79b",
   "metadata": {
    "papermill": {
     "duration": 0.028932,
     "end_time": "2023-05-15T01:32:21.426374",
     "exception": false,
     "start_time": "2023-05-15T01:32:21.397442",
     "status": "completed"
    },
    "tags": []
   },
   "outputs": [],
   "source": []
  },
  {
   "cell_type": "code",
   "execution_count": null,
   "id": "eba0686c",
   "metadata": {
    "papermill": {
     "duration": 0.028656,
     "end_time": "2023-05-15T01:32:21.483845",
     "exception": false,
     "start_time": "2023-05-15T01:32:21.455189",
     "status": "completed"
    },
    "tags": []
   },
   "outputs": [],
   "source": []
  },
  {
   "cell_type": "code",
   "execution_count": null,
   "id": "fd3b773d",
   "metadata": {
    "papermill": {
     "duration": 0.029013,
     "end_time": "2023-05-15T01:32:21.541474",
     "exception": false,
     "start_time": "2023-05-15T01:32:21.512461",
     "status": "completed"
    },
    "tags": []
   },
   "outputs": [],
   "source": []
  },
  {
   "cell_type": "markdown",
   "id": "e56a83e3",
   "metadata": {
    "papermill": {
     "duration": 0.028642,
     "end_time": "2023-05-15T01:32:21.598881",
     "exception": false,
     "start_time": "2023-05-15T01:32:21.570239",
     "status": "completed"
    },
    "tags": []
   },
   "source": [
    "#### <a id=\"top\"></a>\n",
    "# <div style=\"box-shadow: rgb(60, 121, 245) 0px 0px 0px 3px inset, rgb(255, 255, 255) 10px -10px 0px -3px, rgb(31, 193, 27) 10px -10px, rgb(255, 255, 255) 20px -20px 0px -3px, rgb(255, 217, 19) 20px -20px, rgb(255, 255, 255) 30px -30px 0px -3px, rgb(255, 156, 85) 30px -30px, rgb(255, 255, 255) 40px -40px 0px -3px, rgb(255, 85, 85) 40px -40px; padding:20px; margin-right: 40px; font-size:30px; font-family: consolas; text-align:center; display:fill; border-radius:15px; color:rgb(60, 121, 245);\"><b> Generate CLIP vision embeddings </b></div>"
   ]
  },
  {
   "cell_type": "code",
   "execution_count": 34,
   "id": "5f5f30ce",
   "metadata": {
    "execution": {
     "iopub.execute_input": "2023-05-15T01:32:21.657996Z",
     "iopub.status.busy": "2023-05-15T01:32:21.657605Z",
     "iopub.status.idle": "2023-05-15T01:32:21.664612Z",
     "shell.execute_reply": "2023-05-15T01:32:21.662964Z"
    },
    "papermill": {
     "duration": 0.039287,
     "end_time": "2023-05-15T01:32:21.666891",
     "exception": false,
     "start_time": "2023-05-15T01:32:21.627604",
     "status": "completed"
    },
    "tags": []
   },
   "outputs": [
    {
     "name": "stdout",
     "output_type": "stream",
     "text": [
      "7\n"
     ]
    }
   ],
   "source": [
    "test_images = list(Path('/kaggle/input/stable-diffusion-image-to-prompts/images').glob('*.png'))\n",
    "print(len(test_images))"
   ]
  },
  {
   "cell_type": "code",
   "execution_count": 35,
   "id": "2a392f50",
   "metadata": {
    "execution": {
     "iopub.execute_input": "2023-05-15T01:32:21.727516Z",
     "iopub.status.busy": "2023-05-15T01:32:21.727200Z",
     "iopub.status.idle": "2023-05-15T01:32:57.267326Z",
     "shell.execute_reply": "2023-05-15T01:32:57.266048Z"
    },
    "papermill": {
     "duration": 35.573318,
     "end_time": "2023-05-15T01:32:57.270385",
     "exception": false,
     "start_time": "2023-05-15T01:32:21.697067",
     "status": "completed"
    },
    "tags": []
   },
   "outputs": [],
   "source": [
    "# load CLIP vision model (Laion/ViTH14)\n",
    "clip_model = torch.jit.load(CFG.clip_model_path).cuda()\n",
    "clip_model = clip_model.cuda().eval().half();"
   ]
  },
  {
   "cell_type": "code",
   "execution_count": 36,
   "id": "6a08b4e7",
   "metadata": {
    "execution": {
     "iopub.execute_input": "2023-05-15T01:32:57.332908Z",
     "iopub.status.busy": "2023-05-15T01:32:57.332533Z",
     "iopub.status.idle": "2023-05-15T01:32:57.344985Z",
     "shell.execute_reply": "2023-05-15T01:32:57.343815Z"
    },
    "papermill": {
     "duration": 0.046787,
     "end_time": "2023-05-15T01:32:57.347777",
     "exception": false,
     "start_time": "2023-05-15T01:32:57.300990",
     "status": "completed"
    },
    "tags": []
   },
   "outputs": [
    {
     "data": {
      "text/plain": [
       "Compose(\n",
       "    Resize(size=224, interpolation=bicubic, max_size=None, antialias=None)\n",
       "    CenterCrop(size=(224, 224))\n",
       "    <function _convert_to_rgb at 0x781b0c64e0e0>\n",
       "    ToTensor()\n",
       "    Normalize(mean=(0.48145466, 0.4578275, 0.40821073), std=(0.26862954, 0.26130258, 0.27577711))\n",
       ")"
      ]
     },
     "execution_count": 36,
     "metadata": {},
     "output_type": "execute_result"
    }
   ],
   "source": [
    "# load transforms from pickele\n",
    "with open(CFG.clip_preproc_pkl, \"rb\") as fp:\n",
    "    saved_preprocess = pickle.load(fp)\n",
    "saved_preprocess"
   ]
  },
  {
   "cell_type": "code",
   "execution_count": 37,
   "id": "9af83ea0",
   "metadata": {
    "execution": {
     "iopub.execute_input": "2023-05-15T01:32:57.410460Z",
     "iopub.status.busy": "2023-05-15T01:32:57.410144Z",
     "iopub.status.idle": "2023-05-15T01:33:02.831249Z",
     "shell.execute_reply": "2023-05-15T01:33:02.830025Z"
    },
    "papermill": {
     "duration": 5.459166,
     "end_time": "2023-05-15T01:33:02.837223",
     "exception": false,
     "start_time": "2023-05-15T01:32:57.378057",
     "status": "completed"
    },
    "tags": []
   },
   "outputs": [
    {
     "data": {
      "application/vnd.jupyter.widget-view+json": {
       "model_id": "1d16f068e671496580c44b60ec8005fc",
       "version_major": 2,
       "version_minor": 0
      },
      "text/plain": [
       "  0%|          | 0/7 [00:00<?, ?it/s]"
      ]
     },
     "metadata": {},
     "output_type": "display_data"
    },
    {
     "name": "stdout",
     "output_type": "stream",
     "text": [
      "(7, 1024)\n"
     ]
    }
   ],
   "source": [
    "# Inference with CLIP vision encoder\n",
    "test_vision_embeddings = []\n",
    "for test_image in tqdm(test_images):\n",
    "    image = Image.open( test_image )\n",
    "    prep = saved_preprocess(image).unsqueeze(0).to(device)\n",
    "    embedding = clip_model(prep.half())\n",
    "    test_vision_embeddings.append( embedding.detach().cpu().numpy() )\n",
    "test_vision_embeddings = np.concatenate(test_vision_embeddings).astype(np.float16)\n",
    "print(test_vision_embeddings.shape)"
   ]
  },
  {
   "cell_type": "code",
   "execution_count": 38,
   "id": "cf2c0f9c",
   "metadata": {
    "execution": {
     "iopub.execute_input": "2023-05-15T01:33:02.941434Z",
     "iopub.status.busy": "2023-05-15T01:33:02.940919Z",
     "iopub.status.idle": "2023-05-15T01:33:03.637093Z",
     "shell.execute_reply": "2023-05-15T01:33:03.635977Z"
    },
    "papermill": {
     "duration": 0.751726,
     "end_time": "2023-05-15T01:33:03.639700",
     "exception": false,
     "start_time": "2023-05-15T01:33:02.887974",
     "status": "completed"
    },
    "tags": []
   },
   "outputs": [
    {
     "data": {
      "text/plain": [
       "2798"
      ]
     },
     "execution_count": 38,
     "metadata": {},
     "output_type": "execute_result"
    }
   ],
   "source": [
    "del clip_model, prep, image, embedding\n",
    "gc.collect()"
   ]
  },
  {
   "cell_type": "code",
   "execution_count": 39,
   "id": "3875dac7",
   "metadata": {
    "execution": {
     "iopub.execute_input": "2023-05-15T01:33:03.703121Z",
     "iopub.status.busy": "2023-05-15T01:33:03.701607Z",
     "iopub.status.idle": "2023-05-15T01:33:03.709003Z",
     "shell.execute_reply": "2023-05-15T01:33:03.707922Z"
    },
    "papermill": {
     "duration": 0.041636,
     "end_time": "2023-05-15T01:33:03.711424",
     "exception": false,
     "start_time": "2023-05-15T01:33:03.669788",
     "status": "completed"
    },
    "tags": []
   },
   "outputs": [
    {
     "name": "stdout",
     "output_type": "stream",
     "text": [
      "!!! Debug mode !!!\n",
      "len(FILES_OBJECTIVE_EMB)=5\n",
      "len(FILES_CLIP_EMB)=5\n"
     ]
    }
   ],
   "source": [
    "# Reduce the number of files as debugging.\n",
    "if test_vision_embeddings.shape[0] == 7:   # 7 public test images\n",
    "    FILES_OBJECTIVE_EMB = FILES_OBJECTIVE_EMB[:5]\n",
    "    FILES_CLIP_EMB = FILES_CLIP_EMB[:5]\n",
    "    print(f\"!!! Debug mode !!!\")\n",
    "    print(f\"len(FILES_OBJECTIVE_EMB)={len(FILES_OBJECTIVE_EMB)}\")\n",
    "    print(f\"len(FILES_CLIP_EMB)={len(FILES_CLIP_EMB)}\")"
   ]
  },
  {
   "cell_type": "markdown",
   "id": "99b80698",
   "metadata": {
    "papermill": {
     "duration": 0.030524,
     "end_time": "2023-05-15T01:33:03.772250",
     "exception": false,
     "start_time": "2023-05-15T01:33:03.741726",
     "status": "completed"
    },
    "tags": []
   },
   "source": [
    "#### <a id=\"top\"></a>\n",
    "# <div style=\"box-shadow: rgb(60, 121, 245) 0px 0px 0px 3px inset, rgb(255, 255, 255) 10px -10px 0px -3px, rgb(31, 193, 27) 10px -10px, rgb(255, 255, 255) 20px -20px 0px -3px, rgb(255, 217, 19) 20px -20px, rgb(255, 255, 255) 30px -30px 0px -3px, rgb(255, 156, 85) 30px -30px, rgb(255, 255, 255) 40px -40px 0px -3px, rgb(255, 85, 85) 40px -40px; padding:20px; margin-right: 40px; font-size:30px; font-family: consolas; text-align:center; display:fill; border-radius:15px; color:rgb(60, 121, 245);\"><b> k-NN Regression (CUDA) </b></div>\n"
   ]
  },
  {
   "cell_type": "code",
   "execution_count": 40,
   "id": "eadac2f8",
   "metadata": {
    "execution": {
     "iopub.execute_input": "2023-05-15T01:33:03.834010Z",
     "iopub.status.busy": "2023-05-15T01:33:03.833639Z",
     "iopub.status.idle": "2023-05-15T01:33:42.669920Z",
     "shell.execute_reply": "2023-05-15T01:33:42.668823Z"
    },
    "papermill": {
     "duration": 38.870714,
     "end_time": "2023-05-15T01:33:42.672698",
     "exception": false,
     "start_time": "2023-05-15T01:33:03.801984",
     "status": "completed"
    },
    "tags": []
   },
   "outputs": [
    {
     "data": {
      "application/vnd.jupyter.widget-view+json": {
       "model_id": "5590471d76e64e7f9a351cf5f735c5ca",
       "version_major": 2,
       "version_minor": 0
      },
      "text/plain": [
       "  0%|          | 0/5 [00:00<?, ?it/s]"
      ]
     },
     "metadata": {},
     "output_type": "display_data"
    }
   ],
   "source": [
    "def predict_local_knn(\n",
    "    ref_x_embeddings, test_x_embeddings, \n",
    "    n_neighbors=CFG.knn_topk,\n",
    "    interval=CFG.knn_interval,\n",
    "    distance_dim=CFG.knn_dim,\n",
    "    coef=1.0, # a coef to prevent from overflow\n",
    "):\n",
    "    # convert to tensor and move to GPU\n",
    "    ref_x_embeddings = torch.from_numpy(ref_x_embeddings).half().to('cuda')\n",
    "    ref_x_embeddings /= ref_x_embeddings.norm(dim=-1, keepdim=True)\n",
    "    \n",
    "    n_iter = (test_x_embeddings.shape[0] + interval - 1) // interval\n",
    "    \n",
    "    dist_topk_store = []\n",
    "    idxs_topk_store = []\n",
    "    weights_store = []\n",
    "    delta = 0.0001\n",
    "    for i in range(n_iter):\n",
    "        with torch.no_grad():\n",
    "            batch_test_embeddings = torch.from_numpy(\n",
    "                test_x_embeddings[i*interval:(i+1)*interval, :].copy()\n",
    "            ).half().to('cuda')\n",
    "            batch_test_embeddings /= batch_test_embeddings.norm(dim=-1, keepdim=True)\n",
    "            \n",
    "            # calc distance matrix\n",
    "            dists = 1 - torch.mm(batch_test_embeddings, ref_x_embeddings.T) # dists.shape=[N_test, N_ref]\n",
    "            \n",
    "            # get topk indecies and distance\n",
    "            dist_topk, idxs_topk = torch.topk(dists, n_neighbors, largest=False, dim=-1)\n",
    "            dist_topk = dist_topk.double()\n",
    "            \n",
    "            # calc weights from distance\n",
    "            weights = 1/(dist_topk**distance_dim+delta)*coef\n",
    "            weights[ dist_topk < 0 ] = delta\n",
    "            \n",
    "            dist_topk_store.append( dist_topk.cpu().numpy().copy() )\n",
    "            idxs_topk_store.append( idxs_topk.cpu().numpy().copy() )\n",
    "            weights_store.append( weights.cpu().numpy().copy() )\n",
    "            \n",
    "            del dists, weights, dist_topk, idxs_topk, batch_test_embeddings\n",
    "            torch.cuda.empty_cache()\n",
    "\n",
    "    del ref_x_embeddings\n",
    "    torch.cuda.empty_cache()\n",
    "    return np.concatenate(dist_topk_store), np.concatenate(idxs_topk_store), np.concatenate(weights_store)\n",
    "\n",
    "for i_file, file_clip_emb in enumerate(tqdm(FILES_CLIP_EMB)):\n",
    "    # Local k-NN (for each CLIP embeddings file VS CLIP vision embeddings of test images)\n",
    "    ref_clip_embeddings = np.load(file_clip_emb).astype(np.float16)\n",
    "    local_dists, local_emb_indecies, local_weights = predict_local_knn(\n",
    "        ref_clip_embeddings, test_vision_embeddings,\n",
    "        n_neighbors=CFG.knn_topk, interval=CFG.knn_interval, distance_dim=CFG.knn_dim,\n",
    "        coef=0.001\n",
    "    )\n",
    "    local_files = np.zeros(local_dists.shape, dtype=np.int32) + i_file\n",
    "    \n",
    "    # merge local k-NN into global k-NN\n",
    "    if i_file == 0:\n",
    "        global_files = local_files\n",
    "        global_dists = local_dists\n",
    "        global_emb_indecies = local_emb_indecies\n",
    "        global_weights = local_weights\n",
    "    else:\n",
    "        global_files = np.concatenate([global_files, local_files], axis=-1)\n",
    "        global_dists = np.concatenate([global_dists, local_dists], axis=-1)\n",
    "        global_emb_indecies = np.concatenate([global_emb_indecies, local_emb_indecies], axis=-1)\n",
    "        global_weights = np.concatenate([global_weights, local_weights], axis=-1)\n",
    "\n",
    "        unsorted_min_indices = np.argpartition(global_dists, CFG.knn_topk, axis=1)[:, :CFG.knn_topk]\n",
    "\n",
    "        global_files = np.vstack( [ global_files[i, unsorted_min_indices[i,:]] for i in range(unsorted_min_indices.shape[0]) ])\n",
    "        global_dists = np.vstack( [ global_dists[i, unsorted_min_indices[i,:]] for i in range(unsorted_min_indices.shape[0]) ])\n",
    "        global_emb_indecies = np.vstack( [ global_emb_indecies[i, unsorted_min_indices[i,:]] for i in range(unsorted_min_indices.shape[0]) ])\n",
    "        global_weights = np.vstack( [ global_weights[i, unsorted_min_indices[i,:]] for i in range(unsorted_min_indices.shape[0]) ])\n",
    "    \n",
    "    gc.collect()"
   ]
  },
  {
   "cell_type": "code",
   "execution_count": 41,
   "id": "dbc6a78d",
   "metadata": {
    "execution": {
     "iopub.execute_input": "2023-05-15T01:33:42.736450Z",
     "iopub.status.busy": "2023-05-15T01:33:42.735287Z",
     "iopub.status.idle": "2023-05-15T01:33:42.741943Z",
     "shell.execute_reply": "2023-05-15T01:33:42.740766Z"
    },
    "papermill": {
     "duration": 0.040805,
     "end_time": "2023-05-15T01:33:42.744280",
     "exception": false,
     "start_time": "2023-05-15T01:33:42.703475",
     "status": "completed"
    },
    "tags": []
   },
   "outputs": [],
   "source": [
    "# for i_file, file_clip_emb in enumerate(tqdm(FILES_CLIP_EMB)):\n",
    "#     # Local k-NN (for each CLIP embeddings file VS CLIP vision embeddings of test images)\n",
    "#     ref_clip_embeddings = np.load(file_clip_emb).astype(np.float16)\n",
    "#     with torch.no_grad():\n",
    "#         local_dists, local_emb_indecies, local_weights = predict_local_knn(\n",
    "#             ref_clip_embeddings, test_vision_embeddings,\n",
    "#             n_neighbors=CFG.knn_topk, interval=CFG.knn_interval, distance_dim=CFG.knn_dim,\n",
    "#             coef=0.001\n",
    "#         )\n",
    "#     local_files = np.zeros(local_dists.shape, dtype=np.int32) + i_file\n",
    "    \n",
    "#     # merge local k-NN into global k-NN\n",
    "#     if i_file == 0:\n",
    "#         global_files = local_files\n",
    "#         global_dists = local_dists\n",
    "#         global_emb_indecies = local_emb_indecies\n",
    "#         global_weights = local_weights\n",
    "#     else:\n",
    "#         global_files = np.concatenate([global_files, local_files], axis=-1)\n",
    "#         global_dists = np.concatenate([global_dists, local_dists], axis=-1)\n",
    "#         global_emb_indecies = np.concatenate([global_emb_indecies, local_emb_indecies], axis=-1)\n",
    "#         global_weights = np.concatenate([global_weights, local_weights], axis=-1)\n",
    "\n",
    "#         unsorted_min_indices = np.argpartition(global_dists, CFG.knn_topk, axis=1)[:, :CFG.knn_topk]\n",
    "\n",
    "#         global_files = np.vstack( [ global_files[i, unsorted_min_indices[i,:]] for i in range(unsorted_min_indices.shape[0]) ])\n",
    "#         global_dists = np.vstack( [ global_dists[i, unsorted_min_indices[i,:]] for i in range(unsorted_min_indices.shape[0]) ])\n",
    "#         global_emb_indecies = np.vstack( [ global_emb_indecies[i, unsorted_min_indices[i,:]] for i in range(unsorted_min_indices.shape[0]) ])\n",
    "#         global_weights = np.vstack( [ global_weights[i, unsorted_min_indices[i,:]] for i in range(unsorted_min_indices.shape[0]) ])\n",
    "    \n",
    "#     gc.collect()"
   ]
  },
  {
   "cell_type": "code",
   "execution_count": 42,
   "id": "f88cc938",
   "metadata": {
    "execution": {
     "iopub.execute_input": "2023-05-15T01:33:42.806964Z",
     "iopub.status.busy": "2023-05-15T01:33:42.806606Z",
     "iopub.status.idle": "2023-05-15T01:33:42.851812Z",
     "shell.execute_reply": "2023-05-15T01:33:42.850490Z"
    },
    "papermill": {
     "duration": 0.079911,
     "end_time": "2023-05-15T01:33:42.854772",
     "exception": false,
     "start_time": "2023-05-15T01:33:42.774861",
     "status": "completed"
    },
    "tags": []
   },
   "outputs": [
    {
     "data": {
      "text/html": [
       "<div>\n",
       "<style scoped>\n",
       "    .dataframe tbody tr th:only-of-type {\n",
       "        vertical-align: middle;\n",
       "    }\n",
       "\n",
       "    .dataframe tbody tr th {\n",
       "        vertical-align: top;\n",
       "    }\n",
       "\n",
       "    .dataframe thead th {\n",
       "        text-align: right;\n",
       "    }\n",
       "</style>\n",
       "<table border=\"1\" class=\"dataframe\">\n",
       "  <thead>\n",
       "    <tr style=\"text-align: right;\">\n",
       "      <th></th>\n",
       "      <th>file</th>\n",
       "      <th>dist</th>\n",
       "      <th>emb_index</th>\n",
       "      <th>test_index</th>\n",
       "      <th>weight</th>\n",
       "    </tr>\n",
       "  </thead>\n",
       "  <tbody>\n",
       "    <tr>\n",
       "      <th>0</th>\n",
       "      <td>/kaggle/input/pub-dffusion2m-prompt-15m/all-Mi...</td>\n",
       "      <td>0.727539</td>\n",
       "      <td>16638</td>\n",
       "      <td>0</td>\n",
       "      <td>0.006739</td>\n",
       "    </tr>\n",
       "    <tr>\n",
       "      <th>1</th>\n",
       "      <td>/kaggle/input/pub-dffusion2m-prompt-15m/all-Mi...</td>\n",
       "      <td>0.750977</td>\n",
       "      <td>63326</td>\n",
       "      <td>0</td>\n",
       "      <td>0.005572</td>\n",
       "    </tr>\n",
       "    <tr>\n",
       "      <th>2</th>\n",
       "      <td>/kaggle/input/pub-dffusion2m-prompt-15m/all-Mi...</td>\n",
       "      <td>0.725586</td>\n",
       "      <td>53214</td>\n",
       "      <td>0</td>\n",
       "      <td>0.006848</td>\n",
       "    </tr>\n",
       "    <tr>\n",
       "      <th>3</th>\n",
       "      <td>/kaggle/input/pub-dffusion2m-prompt-15m/all-Mi...</td>\n",
       "      <td>0.728516</td>\n",
       "      <td>87680</td>\n",
       "      <td>0</td>\n",
       "      <td>0.006685</td>\n",
       "    </tr>\n",
       "    <tr>\n",
       "      <th>4</th>\n",
       "      <td>/kaggle/input/pub-dffusion2m-prompt-15m/all-Mi...</td>\n",
       "      <td>0.740234</td>\n",
       "      <td>91462</td>\n",
       "      <td>0</td>\n",
       "      <td>0.006075</td>\n",
       "    </tr>\n",
       "    <tr>\n",
       "      <th>...</th>\n",
       "      <td>...</td>\n",
       "      <td>...</td>\n",
       "      <td>...</td>\n",
       "      <td>...</td>\n",
       "      <td>...</td>\n",
       "    </tr>\n",
       "    <tr>\n",
       "      <th>695</th>\n",
       "      <td>/kaggle/input/pub-dffusion2m-prompt-15m/all-Mi...</td>\n",
       "      <td>0.696289</td>\n",
       "      <td>75445</td>\n",
       "      <td>6</td>\n",
       "      <td>0.008768</td>\n",
       "    </tr>\n",
       "    <tr>\n",
       "      <th>696</th>\n",
       "      <td>/kaggle/input/pub-dffusion2m-prompt-15m/all-Mi...</td>\n",
       "      <td>0.696289</td>\n",
       "      <td>20565</td>\n",
       "      <td>6</td>\n",
       "      <td>0.008768</td>\n",
       "    </tr>\n",
       "    <tr>\n",
       "      <th>697</th>\n",
       "      <td>/kaggle/input/pub-dffusion2m-prompt-15m/all-Mi...</td>\n",
       "      <td>0.696289</td>\n",
       "      <td>13350</td>\n",
       "      <td>6</td>\n",
       "      <td>0.008768</td>\n",
       "    </tr>\n",
       "    <tr>\n",
       "      <th>698</th>\n",
       "      <td>/kaggle/input/pub-dffusion2m-prompt-15m/all-Mi...</td>\n",
       "      <td>0.697266</td>\n",
       "      <td>19061</td>\n",
       "      <td>6</td>\n",
       "      <td>0.008694</td>\n",
       "    </tr>\n",
       "    <tr>\n",
       "      <th>699</th>\n",
       "      <td>/kaggle/input/pub-dffusion2m-prompt-15m/all-Mi...</td>\n",
       "      <td>0.696777</td>\n",
       "      <td>78420</td>\n",
       "      <td>6</td>\n",
       "      <td>0.008731</td>\n",
       "    </tr>\n",
       "  </tbody>\n",
       "</table>\n",
       "<p>700 rows × 5 columns</p>\n",
       "</div>"
      ],
      "text/plain": [
       "                                                  file      dist  emb_index  \\\n",
       "0    /kaggle/input/pub-dffusion2m-prompt-15m/all-Mi...  0.727539      16638   \n",
       "1    /kaggle/input/pub-dffusion2m-prompt-15m/all-Mi...  0.750977      63326   \n",
       "2    /kaggle/input/pub-dffusion2m-prompt-15m/all-Mi...  0.725586      53214   \n",
       "3    /kaggle/input/pub-dffusion2m-prompt-15m/all-Mi...  0.728516      87680   \n",
       "4    /kaggle/input/pub-dffusion2m-prompt-15m/all-Mi...  0.740234      91462   \n",
       "..                                                 ...       ...        ...   \n",
       "695  /kaggle/input/pub-dffusion2m-prompt-15m/all-Mi...  0.696289      75445   \n",
       "696  /kaggle/input/pub-dffusion2m-prompt-15m/all-Mi...  0.696289      20565   \n",
       "697  /kaggle/input/pub-dffusion2m-prompt-15m/all-Mi...  0.696289      13350   \n",
       "698  /kaggle/input/pub-dffusion2m-prompt-15m/all-Mi...  0.697266      19061   \n",
       "699  /kaggle/input/pub-dffusion2m-prompt-15m/all-Mi...  0.696777      78420   \n",
       "\n",
       "     test_index    weight  \n",
       "0             0  0.006739  \n",
       "1             0  0.005572  \n",
       "2             0  0.006848  \n",
       "3             0  0.006685  \n",
       "4             0  0.006075  \n",
       "..          ...       ...  \n",
       "695           6  0.008768  \n",
       "696           6  0.008768  \n",
       "697           6  0.008768  \n",
       "698           6  0.008694  \n",
       "699           6  0.008731  \n",
       "\n",
       "[700 rows x 5 columns]"
      ]
     },
     "execution_count": 42,
     "metadata": {},
     "output_type": "execute_result"
    }
   ],
   "source": [
    "df_knn = pd.DataFrame()\n",
    "df_knn[\"file\"] = global_files.flatten()\n",
    "df_knn[\"file\"] = df_knn['file'].apply(lambda x: FILES_OBJECTIVE_EMB[x])\n",
    "df_knn[\"dist\"] = global_dists.flatten()\n",
    "df_knn[\"emb_index\"] = global_emb_indecies.flatten()\n",
    "df_knn[\"test_index\"] = np.array([ [val]*CFG.knn_topk for val in range(test_vision_embeddings.shape[0])]).flatten()\n",
    "df_knn[\"weight\"] = global_weights.flatten()\n",
    "df_knn"
   ]
  },
  {
   "cell_type": "code",
   "execution_count": 43,
   "id": "9ac89c8f",
   "metadata": {
    "execution": {
     "iopub.execute_input": "2023-05-15T01:33:42.917949Z",
     "iopub.status.busy": "2023-05-15T01:33:42.917595Z",
     "iopub.status.idle": "2023-05-15T01:33:43.158794Z",
     "shell.execute_reply": "2023-05-15T01:33:43.157817Z"
    },
    "papermill": {
     "duration": 0.275634,
     "end_time": "2023-05-15T01:33:43.161491",
     "exception": false,
     "start_time": "2023-05-15T01:33:42.885857",
     "status": "completed"
    },
    "tags": []
   },
   "outputs": [
    {
     "data": {
      "text/plain": [
       "39"
      ]
     },
     "execution_count": 43,
     "metadata": {},
     "output_type": "execute_result"
    }
   ],
   "source": [
    "gc.collect()"
   ]
  },
  {
   "cell_type": "code",
   "execution_count": 44,
   "id": "b9037907",
   "metadata": {
    "execution": {
     "iopub.execute_input": "2023-05-15T01:33:43.225854Z",
     "iopub.status.busy": "2023-05-15T01:33:43.224820Z",
     "iopub.status.idle": "2023-05-15T01:33:54.330536Z",
     "shell.execute_reply": "2023-05-15T01:33:54.329227Z"
    },
    "papermill": {
     "duration": 11.140581,
     "end_time": "2023-05-15T01:33:54.333380",
     "exception": false,
     "start_time": "2023-05-15T01:33:43.192799",
     "status": "completed"
    },
    "tags": []
   },
   "outputs": [
    {
     "name": "stdout",
     "output_type": "stream",
     "text": [
      "[########################################] | 100% Completed |  9.5s\n"
     ]
    }
   ],
   "source": [
    "import dask.dataframe as dd\n",
    "from dask.diagnostics import ProgressBar\n",
    "\n",
    "# Convert the pandas DataFrame to a Dask DataFrame\n",
    "ddf = dd.from_pandas(df_knn, npartitions=10)\n",
    "\n",
    "# k-NN regression\n",
    "test_prompt_embeddings = np.zeros((test_vision_embeddings.shape[0], 384))\n",
    "\n",
    "def add_weighted_embeddings(group):\n",
    "    objective_emb_file = group.name\n",
    "    ref_objective_embeddings = np.load(objective_emb_file).astype(np.float16)\n",
    "    for i, r in group.iterrows():\n",
    "        test_prompt_embeddings[int(r.test_index), :] += r.weight * ref_objective_embeddings[int(r.emb_index), :]\n",
    "    return group\n",
    "\n",
    "with ProgressBar():\n",
    "    result = ddf.groupby(\"file\").apply(add_weighted_embeddings, meta=ddf).compute(scheduler='threads')"
   ]
  },
  {
   "cell_type": "code",
   "execution_count": 45,
   "id": "3a3a5fa1",
   "metadata": {
    "execution": {
     "iopub.execute_input": "2023-05-15T01:33:54.413083Z",
     "iopub.status.busy": "2023-05-15T01:33:54.412510Z",
     "iopub.status.idle": "2023-05-15T01:33:54.417505Z",
     "shell.execute_reply": "2023-05-15T01:33:54.416439Z"
    },
    "papermill": {
     "duration": 0.046658,
     "end_time": "2023-05-15T01:33:54.419797",
     "exception": false,
     "start_time": "2023-05-15T01:33:54.373139",
     "status": "completed"
    },
    "tags": []
   },
   "outputs": [],
   "source": [
    "# # k-NN regression\n",
    "# test_prompt_embeddings = np.zeros( (test_vision_embeddings.shape[0], 384))\n",
    "# for (objective_emb_file, gdf) in tqdm(df_knn.groupby(\"file\")):\n",
    "#     ref_objective_embeddings = np.load(objective_emb_file).astype(np.float16) \n",
    "#     for _, r in gdf.iterrows():\n",
    "#         test_prompt_embeddings[int(r.test_index), :] += r.weight * ref_objective_embeddings[int(r.emb_index), :]"
   ]
  },
  {
   "cell_type": "code",
   "execution_count": 46,
   "id": "a955aba3",
   "metadata": {
    "execution": {
     "iopub.execute_input": "2023-05-15T01:33:54.498433Z",
     "iopub.status.busy": "2023-05-15T01:33:54.498101Z",
     "iopub.status.idle": "2023-05-15T01:33:54.823687Z",
     "shell.execute_reply": "2023-05-15T01:33:54.822596Z"
    },
    "papermill": {
     "duration": 0.367797,
     "end_time": "2023-05-15T01:33:54.826072",
     "exception": false,
     "start_time": "2023-05-15T01:33:54.458275",
     "status": "completed"
    },
    "tags": []
   },
   "outputs": [
    {
     "data": {
      "text/plain": [
       "289"
      ]
     },
     "execution_count": 46,
     "metadata": {},
     "output_type": "execute_result"
    }
   ],
   "source": [
    "# L2 norm\n",
    "BS=1000\n",
    "num = test_prompt_embeddings.shape[0] // BS\n",
    "if test_prompt_embeddings.shape[0] % BS != 0:\n",
    "    num+=1\n",
    "for i in range(num):\n",
    "    embeddings = test_prompt_embeddings[i*BS:(i+1)*BS, :]\n",
    "    embeddings = embeddings / ( np.abs(embeddings).max(axis=-1, keepdims=True) + 0.0000001)\n",
    "    embeddings = normalize( embeddings )\n",
    "    test_prompt_embeddings[i*BS:(i+1)*BS, :] = embeddings\n",
    "gc.collect()"
   ]
  },
  {
   "cell_type": "code",
   "execution_count": 47,
   "id": "feaeba90",
   "metadata": {
    "execution": {
     "iopub.execute_input": "2023-05-15T01:33:54.904507Z",
     "iopub.status.busy": "2023-05-15T01:33:54.904172Z",
     "iopub.status.idle": "2023-05-15T01:33:54.908934Z",
     "shell.execute_reply": "2023-05-15T01:33:54.907897Z"
    },
    "papermill": {
     "duration": 0.046498,
     "end_time": "2023-05-15T01:33:54.911183",
     "exception": false,
     "start_time": "2023-05-15T01:33:54.864685",
     "status": "completed"
    },
    "tags": []
   },
   "outputs": [],
   "source": [
    "test_prompt_embeddings_g_14 = test_prompt_embeddings.flatten()"
   ]
  },
  {
   "cell_type": "code",
   "execution_count": null,
   "id": "256cc0bb",
   "metadata": {
    "papermill": {
     "duration": 0.038214,
     "end_time": "2023-05-15T01:33:54.987728",
     "exception": false,
     "start_time": "2023-05-15T01:33:54.949514",
     "status": "completed"
    },
    "tags": []
   },
   "outputs": [],
   "source": []
  },
  {
   "cell_type": "markdown",
   "id": "1e22dad6",
   "metadata": {
    "papermill": {
     "duration": 0.038134,
     "end_time": "2023-05-15T01:33:55.063854",
     "exception": false,
     "start_time": "2023-05-15T01:33:55.025720",
     "status": "completed"
    },
    "tags": []
   },
   "source": [
    "# Config (ViT-h-14)"
   ]
  },
  {
   "cell_type": "code",
   "execution_count": 48,
   "id": "ec532885",
   "metadata": {
    "execution": {
     "iopub.execute_input": "2023-05-15T01:33:55.141885Z",
     "iopub.status.busy": "2023-05-15T01:33:55.141128Z",
     "iopub.status.idle": "2023-05-15T01:33:55.146805Z",
     "shell.execute_reply": "2023-05-15T01:33:55.145771Z"
    },
    "papermill": {
     "duration": 0.047375,
     "end_time": "2023-05-15T01:33:55.149318",
     "exception": false,
     "start_time": "2023-05-15T01:33:55.101943",
     "status": "completed"
    },
    "tags": []
   },
   "outputs": [],
   "source": [
    "class CFG:\n",
    "    clip_model_path = \"/kaggle/input/laion-vit-h-14-model/ViT-H-14_laion2b_s32b_b79k.pt\"\n",
    "    clip_preproc_pkl = \"/kaggle/input/laion-vit-h-14-model/preprocess.pkl\"\n",
    "    input_size = 224\n",
    "    batch_size = 64\n",
    "    seed = 42\n",
    "    knn_topk = 100\n",
    "    knn_interval = 2500\n",
    "    knn_dim = 6"
   ]
  },
  {
   "cell_type": "code",
   "execution_count": 49,
   "id": "089caddf",
   "metadata": {
    "execution": {
     "iopub.execute_input": "2023-05-15T01:33:55.227422Z",
     "iopub.status.busy": "2023-05-15T01:33:55.227093Z",
     "iopub.status.idle": "2023-05-15T01:33:55.364645Z",
     "shell.execute_reply": "2023-05-15T01:33:55.363646Z"
    },
    "papermill": {
     "duration": 0.179048,
     "end_time": "2023-05-15T01:33:55.366971",
     "exception": false,
     "start_time": "2023-05-15T01:33:55.187923",
     "status": "completed"
    },
    "tags": []
   },
   "outputs": [],
   "source": [
    "def seed_everything(seed):\n",
    "    os.environ['PYTHONHASHSEED'] = str(seed)\n",
    "    random.seed(seed)\n",
    "    np.random.seed(seed)\n",
    "    torch.manual_seed(seed)\n",
    "    \n",
    "    if torch.cuda.is_available(): \n",
    "        torch.cuda.manual_seed(seed)\n",
    "        torch.backends.cudnn.deterministic = True\n",
    "\n",
    "seed_everything(CFG.seed)"
   ]
  },
  {
   "cell_type": "code",
   "execution_count": 50,
   "id": "261c8f7f",
   "metadata": {
    "execution": {
     "iopub.execute_input": "2023-05-15T01:33:55.446324Z",
     "iopub.status.busy": "2023-05-15T01:33:55.445415Z",
     "iopub.status.idle": "2023-05-15T01:33:55.450822Z",
     "shell.execute_reply": "2023-05-15T01:33:55.449866Z"
    },
    "papermill": {
     "duration": 0.047363,
     "end_time": "2023-05-15T01:33:55.453392",
     "exception": false,
     "start_time": "2023-05-15T01:33:55.406029",
     "status": "completed"
    },
    "tags": []
   },
   "outputs": [],
   "source": [
    "device = torch.device('cuda' if torch.cuda.is_available() else 'cpu')"
   ]
  },
  {
   "cell_type": "markdown",
   "id": "62def949",
   "metadata": {
    "papermill": {
     "duration": 0.038165,
     "end_time": "2023-05-15T01:33:55.530117",
     "exception": false,
     "start_time": "2023-05-15T01:33:55.491952",
     "status": "completed"
    },
    "tags": []
   },
   "source": [
    "#### <a id=\"top\"></a>\n",
    "# <div style=\"box-shadow: rgb(60, 121, 245) 0px 0px 0px 3px inset, rgb(255, 255, 255) 10px -10px 0px -3px, rgb(31, 193, 27) 10px -10px, rgb(255, 255, 255) 20px -20px 0px -3px, rgb(255, 217, 19) 20px -20px, rgb(255, 255, 255) 30px -30px 0px -3px, rgb(255, 156, 85) 30px -30px, rgb(255, 255, 255) 40px -40px 0px -3px, rgb(255, 85, 85) 40px -40px; padding:20px; margin-right: 40px; font-size:30px; font-family: consolas; text-align:center; display:fill; border-radius:15px; color:rgb(60, 121, 245);\"><b> ref_embeddings </b></div>\n"
   ]
  },
  {
   "cell_type": "code",
   "execution_count": 51,
   "id": "7cda5985",
   "metadata": {
    "execution": {
     "iopub.execute_input": "2023-05-15T01:33:55.612070Z",
     "iopub.status.busy": "2023-05-15T01:33:55.610871Z",
     "iopub.status.idle": "2023-05-15T01:33:55.616479Z",
     "shell.execute_reply": "2023-05-15T01:33:55.615503Z"
    },
    "papermill": {
     "duration": 0.049027,
     "end_time": "2023-05-15T01:33:55.618883",
     "exception": false,
     "start_time": "2023-05-15T01:33:55.569856",
     "status": "completed"
    },
    "tags": []
   },
   "outputs": [],
   "source": [
    "FILES_OBJECTIVE_EMB = []\n",
    "FILES_CLIP_EMB = []"
   ]
  },
  {
   "cell_type": "code",
   "execution_count": 52,
   "id": "82e57e89",
   "metadata": {
    "execution": {
     "iopub.execute_input": "2023-05-15T01:33:55.698349Z",
     "iopub.status.busy": "2023-05-15T01:33:55.698020Z",
     "iopub.status.idle": "2023-05-15T01:33:55.754890Z",
     "shell.execute_reply": "2023-05-15T01:33:55.753644Z"
    },
    "papermill": {
     "duration": 0.098976,
     "end_time": "2023-05-15T01:33:55.757185",
     "exception": false,
     "start_time": "2023-05-15T01:33:55.658209",
     "status": "completed"
    },
    "tags": []
   },
   "outputs": [
    {
     "name": "stdout",
     "output_type": "stream",
     "text": [
      "140 140\n"
     ]
    }
   ],
   "source": [
    "### DiffusionDB-14M (https://huggingface.co/datasets/poloclub/diffusiondb)\n",
    "# Objective embeddings\n",
    "FILES_OBJECTIVE_EMB += sorted(glob.glob(\"/kaggle/input/pub-embeddings-diffusiondb-14m-part1/all_minilm_l6_v2/*.npy\"))\n",
    "FILES_OBJECTIVE_EMB += sorted(glob.glob(\"/kaggle/input/pub-embeddings-diffusiondb-14m-part2/all_minilm_l6_v2/*.npy\"))\n",
    "FILES_OBJECTIVE_EMB += sorted(glob.glob(\"/kaggle/input/pub-embeddings-diffusiondb-14m-part3/all_minilm_l6_v2/*.npy\"))\n",
    "\n",
    "# CLIP text tembeddings\n",
    "FILES_CLIP_EMB += sorted(glob.glob(\"/kaggle/input/pub-embeddings-diffusiondb-14m-part1/vith14/*.npy\"))\n",
    "FILES_CLIP_EMB += sorted(glob.glob(\"/kaggle/input/pub-embeddings-diffusiondb-14m-part2/vith14/*.npy\"))\n",
    "FILES_CLIP_EMB += sorted(glob.glob(\"/kaggle/input/pub-embeddings-diffusiondb-14m-part3/vith14/*.npy\"))\n",
    "print(len(FILES_OBJECTIVE_EMB), len(FILES_CLIP_EMB))"
   ]
  },
  {
   "cell_type": "code",
   "execution_count": 53,
   "id": "e979159a",
   "metadata": {
    "execution": {
     "iopub.execute_input": "2023-05-15T01:33:55.838598Z",
     "iopub.status.busy": "2023-05-15T01:33:55.838246Z",
     "iopub.status.idle": "2023-05-15T01:33:55.850318Z",
     "shell.execute_reply": "2023-05-15T01:33:55.849082Z"
    },
    "papermill": {
     "duration": 0.056321,
     "end_time": "2023-05-15T01:33:55.852913",
     "exception": false,
     "start_time": "2023-05-15T01:33:55.796592",
     "status": "completed"
    },
    "tags": []
   },
   "outputs": [
    {
     "name": "stdout",
     "output_type": "stream",
     "text": [
      "146 146\n"
     ]
    }
   ],
   "source": [
    "# MSCOCO 2017(train data) (https://cocodataset.org/#download)\n",
    "# Objective embeddings\n",
    "FILES_OBJECTIVE_EMB += sorted(glob.glob(\"/kaggle/input/pub-embeddings-mscoco/all_minilm_l6_v2/*.npy\"))\n",
    "\n",
    "# CLIP text tembeddings\n",
    "FILES_CLIP_EMB += sorted(glob.glob(\"/kaggle/input/pub-embeddings-mscoco/vith14/*.npy\"))\n",
    "print(len(FILES_OBJECTIVE_EMB), len(FILES_CLIP_EMB))"
   ]
  },
  {
   "cell_type": "code",
   "execution_count": 54,
   "id": "a65346d1",
   "metadata": {
    "execution": {
     "iopub.execute_input": "2023-05-15T01:33:55.933688Z",
     "iopub.status.busy": "2023-05-15T01:33:55.933357Z",
     "iopub.status.idle": "2023-05-15T01:33:55.939389Z",
     "shell.execute_reply": "2023-05-15T01:33:55.938313Z"
    },
    "papermill": {
     "duration": 0.049443,
     "end_time": "2023-05-15T01:33:55.941860",
     "exception": false,
     "start_time": "2023-05-15T01:33:55.892417",
     "status": "completed"
    },
    "tags": []
   },
   "outputs": [
    {
     "name": "stdout",
     "output_type": "stream",
     "text": [
      "147 147\n"
     ]
    }
   ],
   "source": [
    "# dataset80k (https://www.kaggle.com/competitions/stable-diffusion-image-to-prompts/discussion/390674)\n",
    "# Objective embeddings\n",
    "FILES_OBJECTIVE_EMB.append(\"/kaggle/input/pub-embeddings-dataset80k/all_minilm_l6_v2/prompt_embeddings_allminilm_001.npy\")\n",
    "\n",
    "# CLIP text tembeddings\n",
    "FILES_CLIP_EMB.append(\"/kaggle/input/pub-embeddings-dataset80k/vith14/prompt_embedding_vith14_001.npy\")\n",
    "print(len(FILES_OBJECTIVE_EMB), len(FILES_CLIP_EMB))"
   ]
  },
  {
   "cell_type": "code",
   "execution_count": 55,
   "id": "c9954599",
   "metadata": {
    "execution": {
     "iopub.execute_input": "2023-05-15T01:33:56.021748Z",
     "iopub.status.busy": "2023-05-15T01:33:56.020786Z",
     "iopub.status.idle": "2023-05-15T01:33:56.034725Z",
     "shell.execute_reply": "2023-05-15T01:33:56.030060Z"
    },
    "papermill": {
     "duration": 0.058622,
     "end_time": "2023-05-15T01:33:56.039492",
     "exception": false,
     "start_time": "2023-05-15T01:33:55.980870",
     "status": "completed"
    },
    "tags": []
   },
   "outputs": [
    {
     "name": "stdout",
     "output_type": "stream",
     "text": [
      "148 148\n"
     ]
    }
   ],
   "source": [
    "# Dataset30k (https://www.kaggle.com/competitions/stable-diffusion-image-to-prompts/discussion/391500)\n",
    "# Objective embeddings\n",
    "FILES_OBJECTIVE_EMB.append(\"/kaggle/input/pub-embeddings-dataset30k/all_minilm_l6_v2/prompt_embeddings_allminilm_001.npy\")\n",
    "\n",
    "# CLIP text tembeddings\n",
    "FILES_CLIP_EMB.append(\"/kaggle/input/pub-embeddings-dataset30k/vith14/prompt_embedding_vith14_001.npy\")\n",
    "print(len(FILES_OBJECTIVE_EMB), len(FILES_CLIP_EMB))"
   ]
  },
  {
   "cell_type": "code",
   "execution_count": 56,
   "id": "f9a06186",
   "metadata": {
    "execution": {
     "iopub.execute_input": "2023-05-15T01:33:56.165943Z",
     "iopub.status.busy": "2023-05-15T01:33:56.165344Z",
     "iopub.status.idle": "2023-05-15T01:33:56.184889Z",
     "shell.execute_reply": "2023-05-15T01:33:56.183879Z"
    },
    "papermill": {
     "duration": 0.081067,
     "end_time": "2023-05-15T01:33:56.189047",
     "exception": false,
     "start_time": "2023-05-15T01:33:56.107980",
     "status": "completed"
    },
    "tags": []
   },
   "outputs": [
    {
     "name": "stdout",
     "output_type": "stream",
     "text": [
      "158 158\n"
     ]
    }
   ],
   "source": [
    "# Dataset900k (https://www.kaggle.com/competitions/stable-diffusion-image-to-prompts/discussion/399699)\n",
    "# Objective embeddings\n",
    "FILES_OBJECTIVE_EMB += sorted(glob.glob(\"/kaggle/input/pub-embeddings-dataset900k/all_minilm_l6_v2/*.npy\"))\n",
    "\n",
    "# CLIP text tembeddings\n",
    "FILES_CLIP_EMB += sorted(glob.glob(\"/kaggle/input/pub-embeddings-dataset900k/vith14/*.npy\"))\n",
    "print(len(FILES_OBJECTIVE_EMB), len(FILES_CLIP_EMB))"
   ]
  },
  {
   "cell_type": "code",
   "execution_count": 57,
   "id": "a015484e",
   "metadata": {
    "execution": {
     "iopub.execute_input": "2023-05-15T01:33:56.301403Z",
     "iopub.status.busy": "2023-05-15T01:33:56.300937Z",
     "iopub.status.idle": "2023-05-15T01:33:56.316634Z",
     "shell.execute_reply": "2023-05-15T01:33:56.315644Z"
    },
    "papermill": {
     "duration": 0.076777,
     "end_time": "2023-05-15T01:33:56.320656",
     "exception": false,
     "start_time": "2023-05-15T01:33:56.243879",
     "status": "completed"
    },
    "tags": []
   },
   "outputs": [
    {
     "name": "stdout",
     "output_type": "stream",
     "text": [
      "192 192\n"
     ]
    }
   ],
   "source": [
    "# Conceptual Captions\n",
    "# Objective embeddings\n",
    "FILES_OBJECTIVE_EMB += sorted(glob.glob(\"/kaggle/input/pub-embeddings-conceptual-captions/all_minilm_l6_v2/*.npy\"))\n",
    "\n",
    "# CLIP text tembeddings\n",
    "FILES_CLIP_EMB += sorted(glob.glob(\"/kaggle/input/pub-embeddings-conceptual-captions/vith14/*.npy\"))\n",
    "print(len(FILES_OBJECTIVE_EMB), len(FILES_CLIP_EMB))"
   ]
  },
  {
   "cell_type": "code",
   "execution_count": 58,
   "id": "826a7ac9",
   "metadata": {
    "execution": {
     "iopub.execute_input": "2023-05-15T01:33:56.432212Z",
     "iopub.status.busy": "2023-05-15T01:33:56.431732Z",
     "iopub.status.idle": "2023-05-15T01:33:56.450433Z",
     "shell.execute_reply": "2023-05-15T01:33:56.449444Z"
    },
    "papermill": {
     "duration": 0.079376,
     "end_time": "2023-05-15T01:33:56.454717",
     "exception": false,
     "start_time": "2023-05-15T01:33:56.375341",
     "status": "completed"
    },
    "tags": []
   },
   "outputs": [
    {
     "name": "stdout",
     "output_type": "stream",
     "text": [
      "193 193\n"
     ]
    }
   ],
   "source": [
    "# SD2GPT2 (https://www.kaggle.com/datasets/xiaozhouwang/sd2gpt2)\n",
    "# Objective embeddings\n",
    "FILES_OBJECTIVE_EMB += sorted(glob.glob(\"/kaggle/input/pub-embeddings-sd2gpt2/all_minilm_l6_v2/*.npy\"))\n",
    "\n",
    "# CLIP text tembeddings\n",
    "FILES_CLIP_EMB += sorted(glob.glob(\"/kaggle/input/pub-embeddings-sd2gpt2/vith14/*.npy\"))\n",
    "print(len(FILES_OBJECTIVE_EMB), len(FILES_CLIP_EMB))"
   ]
  },
  {
   "cell_type": "code",
   "execution_count": 59,
   "id": "096014db",
   "metadata": {
    "execution": {
     "iopub.execute_input": "2023-05-15T01:33:56.567359Z",
     "iopub.status.busy": "2023-05-15T01:33:56.566944Z",
     "iopub.status.idle": "2023-05-15T01:33:56.578774Z",
     "shell.execute_reply": "2023-05-15T01:33:56.577817Z"
    },
    "papermill": {
     "duration": 0.072919,
     "end_time": "2023-05-15T01:33:56.582986",
     "exception": false,
     "start_time": "2023-05-15T01:33:56.510067",
     "status": "completed"
    },
    "tags": []
   },
   "outputs": [
    {
     "name": "stdout",
     "output_type": "stream",
     "text": [
      "194 194\n"
     ]
    }
   ],
   "source": [
    "# SD2Hardcode (https://www.kaggle.com/datasets/xiaozhouwang/sd2hardcode)\n",
    "# Objective embeddings\n",
    "FILES_OBJECTIVE_EMB += sorted(glob.glob(\"/kaggle/input/pub-embeddings-sd2hardcode/all_minilm_l6_v2/*.npy\"))\n",
    "\n",
    "# CLIP text tembeddings\n",
    "FILES_CLIP_EMB += sorted(glob.glob(\"/kaggle/input/pub-embeddings-sd2hardcode/vith14/*.npy\"))\n",
    "print(len(FILES_OBJECTIVE_EMB), len(FILES_CLIP_EMB))"
   ]
  },
  {
   "cell_type": "code",
   "execution_count": 60,
   "id": "8f5353aa",
   "metadata": {
    "execution": {
     "iopub.execute_input": "2023-05-15T01:33:56.696473Z",
     "iopub.status.busy": "2023-05-15T01:33:56.696058Z",
     "iopub.status.idle": "2023-05-15T01:33:56.707725Z",
     "shell.execute_reply": "2023-05-15T01:33:56.706743Z"
    },
    "papermill": {
     "duration": 0.070909,
     "end_time": "2023-05-15T01:33:56.711052",
     "exception": false,
     "start_time": "2023-05-15T01:33:56.640143",
     "status": "completed"
    },
    "tags": []
   },
   "outputs": [
    {
     "name": "stdout",
     "output_type": "stream",
     "text": [
      "195 195\n"
     ]
    }
   ],
   "source": [
    "# ChatGPT (https://www.kaggle.com/competitions/stable-diffusion-image-to-prompts/discussion/402146)\n",
    "# Objective embeddings\n",
    "FILES_OBJECTIVE_EMB += sorted(glob.glob(\"/kaggle/input/pub-embeddings-chatgpt/all_minilm_l6_v2/*.npy\"))\n",
    "\n",
    "# CLIP text tembeddings\n",
    "FILES_CLIP_EMB += sorted(glob.glob(\"/kaggle/input/pub-embeddings-chatgpt/vith14/*.npy\"))\n",
    "print(len(FILES_OBJECTIVE_EMB), len(FILES_CLIP_EMB))\n"
   ]
  },
  {
   "cell_type": "code",
   "execution_count": 61,
   "id": "4e7f76d4",
   "metadata": {
    "execution": {
     "iopub.execute_input": "2023-05-15T01:33:56.821217Z",
     "iopub.status.busy": "2023-05-15T01:33:56.820775Z",
     "iopub.status.idle": "2023-05-15T01:33:56.968487Z",
     "shell.execute_reply": "2023-05-15T01:33:56.967465Z"
    },
    "papermill": {
     "duration": 0.208294,
     "end_time": "2023-05-15T01:33:56.971627",
     "exception": false,
     "start_time": "2023-05-15T01:33:56.763333",
     "status": "completed"
    },
    "tags": []
   },
   "outputs": [
    {
     "name": "stdout",
     "output_type": "stream",
     "text": [
      "665 665\n"
     ]
    }
   ],
   "source": [
    "# Laion2B-en (https://huggingface.co/datasets/laion/laion2B-en)\n",
    "# (part0000-part0050 of 2000)\n",
    "\n",
    "# Objective embeddings\n",
    "FILES_OBJECTIVE_EMB += sorted(glob.glob(f\"/kaggle/input/pub-embeddings-laion2b-part0000-0004/all_minilm_l6_v2/*.npy\"))\n",
    "FILES_OBJECTIVE_EMB += sorted(glob.glob(f\"/kaggle/input/pub-embeddings-laion2b-part0005-0009/all_minilm_l6_v2/*.npy\"))\n",
    "FILES_OBJECTIVE_EMB += sorted(glob.glob(f\"/kaggle/input/pub-embeddings-laion2b-part0010-0014/all_minilm_l6_v2/*.npy\"))\n",
    "FILES_OBJECTIVE_EMB += sorted(glob.glob(f\"/kaggle/input/pub-embeddings-laion2b-part0015-0019/all_minilm_l6_v2/*.npy\"))\n",
    "FILES_OBJECTIVE_EMB += sorted(glob.glob(f\"/kaggle/input/pub-embeddings-laion2b-part0020-0024/all_minilm_l6_v2/*.npy\"))\n",
    "FILES_OBJECTIVE_EMB += sorted(glob.glob(f\"/kaggle/input/pub-embeddings-laion2b-part0025-0029/all_minilm_l6_v2/*.npy\"))\n",
    "FILES_OBJECTIVE_EMB += sorted(glob.glob(f\"/kaggle/input/pub-embeddings-laion2b-part0030-0034/all_minilm_l6_v2/*.npy\"))\n",
    "FILES_OBJECTIVE_EMB += sorted(glob.glob(f\"/kaggle/input/pub-embeddings-laion2b-part0035-0039/all_minilm_l6_v2/*.npy\"))\n",
    "FILES_OBJECTIVE_EMB += sorted(glob.glob(f\"/kaggle/input/pub-embeddings-laion2b-part0040-0044/all_minilm_l6_v2/*.npy\"))\n",
    "FILES_OBJECTIVE_EMB += sorted(glob.glob(f\"/kaggle/input/pub-embeddings-laion2b-part0045-0049/all_minilm_l6_v2/*.npy\"))\n",
    "\n",
    "# CLIP text tembeddings\n",
    "FILES_CLIP_EMB += sorted(glob.glob(f\"/kaggle/input/pub-embeddings-laion2b-part0000-0004/vith14/*.npy\"))\n",
    "FILES_CLIP_EMB += sorted(glob.glob(f\"/kaggle/input/pub-embeddings-laion2b-part0005-0009/vith14/*.npy\"))\n",
    "FILES_CLIP_EMB += sorted(glob.glob(f\"/kaggle/input/pub-embeddings-laion2b-part0010-0014/vith14/*.npy\"))\n",
    "FILES_CLIP_EMB += sorted(glob.glob(f\"/kaggle/input/pub-embeddings-laion2b-part0015-0019/vith14/*.npy\"))\n",
    "FILES_CLIP_EMB += sorted(glob.glob(f\"/kaggle/input/pub-embeddings-laion2b-part0020-0024/vith14/*.npy\"))\n",
    "FILES_CLIP_EMB += sorted(glob.glob(f\"/kaggle/input/pub-embeddings-laion2b-part0025-0029/vith14/*.npy\"))\n",
    "FILES_CLIP_EMB += sorted(glob.glob(f\"/kaggle/input/pub-embeddings-laion2b-part0030-0034/vith14/*.npy\"))\n",
    "FILES_CLIP_EMB += sorted(glob.glob(f\"/kaggle/input/pub-embeddings-laion2b-part0035-0039/vith14/*.npy\"))\n",
    "FILES_CLIP_EMB += sorted(glob.glob(f\"/kaggle/input/pub-embeddings-laion2b-part0040-0044/vith14/*.npy\"))\n",
    "FILES_CLIP_EMB += sorted(glob.glob(f\"/kaggle/input/pub-embeddings-laion2b-part0045-0049/vith14/*.npy\"))\n",
    "print(len(FILES_OBJECTIVE_EMB), len(FILES_CLIP_EMB))"
   ]
  },
  {
   "cell_type": "markdown",
   "id": "291d897f",
   "metadata": {
    "papermill": {
     "duration": 0.055786,
     "end_time": "2023-05-15T01:33:57.084176",
     "exception": false,
     "start_time": "2023-05-15T01:33:57.028390",
     "status": "completed"
    },
    "tags": []
   },
   "source": [
    "#### <a id=\"top\"></a>\n",
    "# <div style=\"box-shadow: rgb(60, 121, 245) 0px 0px 0px 3px inset, rgb(255, 255, 255) 10px -10px 0px -3px, rgb(31, 193, 27) 10px -10px, rgb(255, 255, 255) 20px -20px 0px -3px, rgb(255, 217, 19) 20px -20px, rgb(255, 255, 255) 30px -30px 0px -3px, rgb(255, 156, 85) 30px -30px, rgb(255, 255, 255) 40px -40px 0px -3px, rgb(255, 85, 85) 40px -40px; padding:20px; margin-right: 40px; font-size:30px; font-family: consolas; text-align:center; display:fill; border-radius:15px; color:rgb(60, 121, 245);\"><b> Generate CLIP vision embeddings </b></div>"
   ]
  },
  {
   "cell_type": "code",
   "execution_count": 62,
   "id": "8b182f5a",
   "metadata": {
    "execution": {
     "iopub.execute_input": "2023-05-15T01:33:57.198509Z",
     "iopub.status.busy": "2023-05-15T01:33:57.198078Z",
     "iopub.status.idle": "2023-05-15T01:33:57.205216Z",
     "shell.execute_reply": "2023-05-15T01:33:57.204205Z"
    },
    "papermill": {
     "duration": 0.07124,
     "end_time": "2023-05-15T01:33:57.211208",
     "exception": false,
     "start_time": "2023-05-15T01:33:57.139968",
     "status": "completed"
    },
    "tags": []
   },
   "outputs": [
    {
     "name": "stdout",
     "output_type": "stream",
     "text": [
      "7\n"
     ]
    }
   ],
   "source": [
    "test_images = list(Path('/kaggle/input/stable-diffusion-image-to-prompts/images').glob('*.png'))\n",
    "print(len(test_images))"
   ]
  },
  {
   "cell_type": "code",
   "execution_count": 63,
   "id": "863f8247",
   "metadata": {
    "execution": {
     "iopub.execute_input": "2023-05-15T01:33:57.324187Z",
     "iopub.status.busy": "2023-05-15T01:33:57.323730Z",
     "iopub.status.idle": "2023-05-15T01:34:19.288569Z",
     "shell.execute_reply": "2023-05-15T01:34:19.287485Z"
    },
    "papermill": {
     "duration": 22.024448,
     "end_time": "2023-05-15T01:34:19.291439",
     "exception": false,
     "start_time": "2023-05-15T01:33:57.266991",
     "status": "completed"
    },
    "tags": []
   },
   "outputs": [],
   "source": [
    "# load CLIP vision model (Laion/ViTH14)\n",
    "clip_model = torch.jit.load(CFG.clip_model_path).cuda()\n",
    "clip_model = clip_model.cuda().eval().half();"
   ]
  },
  {
   "cell_type": "code",
   "execution_count": 64,
   "id": "19cd53b6",
   "metadata": {
    "execution": {
     "iopub.execute_input": "2023-05-15T01:34:19.373175Z",
     "iopub.status.busy": "2023-05-15T01:34:19.372792Z",
     "iopub.status.idle": "2023-05-15T01:34:19.383038Z",
     "shell.execute_reply": "2023-05-15T01:34:19.381893Z"
    },
    "papermill": {
     "duration": 0.054048,
     "end_time": "2023-05-15T01:34:19.385810",
     "exception": false,
     "start_time": "2023-05-15T01:34:19.331762",
     "status": "completed"
    },
    "tags": []
   },
   "outputs": [
    {
     "data": {
      "text/plain": [
       "Compose(\n",
       "    Resize(size=224, interpolation=bicubic, max_size=None, antialias=None)\n",
       "    CenterCrop(size=(224, 224))\n",
       "    <function _convert_to_rgb at 0x781b0c64e0e0>\n",
       "    ToTensor()\n",
       "    Normalize(mean=(0.48145466, 0.4578275, 0.40821073), std=(0.26862954, 0.26130258, 0.27577711))\n",
       ")"
      ]
     },
     "execution_count": 64,
     "metadata": {},
     "output_type": "execute_result"
    }
   ],
   "source": [
    "# load transforms from pickele\n",
    "with open(CFG.clip_preproc_pkl, \"rb\") as fp:\n",
    "    saved_preprocess = pickle.load(fp)\n",
    "saved_preprocess"
   ]
  },
  {
   "cell_type": "code",
   "execution_count": 65,
   "id": "d1a7ea05",
   "metadata": {
    "execution": {
     "iopub.execute_input": "2023-05-15T01:34:19.470035Z",
     "iopub.status.busy": "2023-05-15T01:34:19.469607Z",
     "iopub.status.idle": "2023-05-15T01:34:23.861948Z",
     "shell.execute_reply": "2023-05-15T01:34:23.860701Z"
    },
    "papermill": {
     "duration": 4.441474,
     "end_time": "2023-05-15T01:34:23.867521",
     "exception": false,
     "start_time": "2023-05-15T01:34:19.426047",
     "status": "completed"
    },
    "tags": []
   },
   "outputs": [
    {
     "data": {
      "application/vnd.jupyter.widget-view+json": {
       "model_id": "3b5e28addea64ee5a7d6164c5f10dcc3",
       "version_major": 2,
       "version_minor": 0
      },
      "text/plain": [
       "  0%|          | 0/7 [00:00<?, ?it/s]"
      ]
     },
     "metadata": {},
     "output_type": "display_data"
    },
    {
     "name": "stdout",
     "output_type": "stream",
     "text": [
      "(7, 1024)\n"
     ]
    }
   ],
   "source": [
    "# Inference with CLIP vision encoder\n",
    "test_vision_embeddings = []\n",
    "for test_image in tqdm(test_images):\n",
    "    image = Image.open( test_image )\n",
    "    prep = saved_preprocess(image).unsqueeze(0).to(device)\n",
    "    embedding = clip_model(prep.half())\n",
    "    test_vision_embeddings.append( embedding.detach().cpu().numpy() )\n",
    "test_vision_embeddings = np.concatenate(test_vision_embeddings).astype(np.float16)\n",
    "print(test_vision_embeddings.shape)"
   ]
  },
  {
   "cell_type": "code",
   "execution_count": 66,
   "id": "1022b0a9",
   "metadata": {
    "execution": {
     "iopub.execute_input": "2023-05-15T01:34:23.951142Z",
     "iopub.status.busy": "2023-05-15T01:34:23.950774Z",
     "iopub.status.idle": "2023-05-15T01:34:24.495439Z",
     "shell.execute_reply": "2023-05-15T01:34:24.494132Z"
    },
    "papermill": {
     "duration": 0.589494,
     "end_time": "2023-05-15T01:34:24.498458",
     "exception": false,
     "start_time": "2023-05-15T01:34:23.908964",
     "status": "completed"
    },
    "tags": []
   },
   "outputs": [
    {
     "data": {
      "text/plain": [
       "135"
      ]
     },
     "execution_count": 66,
     "metadata": {},
     "output_type": "execute_result"
    }
   ],
   "source": [
    "del clip_model, prep, image, embedding\n",
    "gc.collect()"
   ]
  },
  {
   "cell_type": "code",
   "execution_count": 67,
   "id": "2bd8eb66",
   "metadata": {
    "execution": {
     "iopub.execute_input": "2023-05-15T01:34:24.583035Z",
     "iopub.status.busy": "2023-05-15T01:34:24.582659Z",
     "iopub.status.idle": "2023-05-15T01:34:24.589562Z",
     "shell.execute_reply": "2023-05-15T01:34:24.588392Z"
    },
    "papermill": {
     "duration": 0.053682,
     "end_time": "2023-05-15T01:34:24.593814",
     "exception": false,
     "start_time": "2023-05-15T01:34:24.540132",
     "status": "completed"
    },
    "tags": []
   },
   "outputs": [
    {
     "name": "stdout",
     "output_type": "stream",
     "text": [
      "!!! Debug mode !!!\n",
      "len(FILES_OBJECTIVE_EMB)=5\n",
      "len(FILES_CLIP_EMB)=5\n"
     ]
    }
   ],
   "source": [
    "# Reduce the number of files as debugging.\n",
    "if test_vision_embeddings.shape[0] == 7:   # 7 public test images\n",
    "    FILES_OBJECTIVE_EMB = FILES_OBJECTIVE_EMB[:5]\n",
    "    FILES_CLIP_EMB = FILES_CLIP_EMB[:5]\n",
    "    print(f\"!!! Debug mode !!!\")\n",
    "    print(f\"len(FILES_OBJECTIVE_EMB)={len(FILES_OBJECTIVE_EMB)}\")\n",
    "    print(f\"len(FILES_CLIP_EMB)={len(FILES_CLIP_EMB)}\")"
   ]
  },
  {
   "cell_type": "markdown",
   "id": "3e144ab0",
   "metadata": {
    "papermill": {
     "duration": 0.040606,
     "end_time": "2023-05-15T01:34:24.675413",
     "exception": false,
     "start_time": "2023-05-15T01:34:24.634807",
     "status": "completed"
    },
    "tags": []
   },
   "source": [
    "#### <a id=\"top\"></a>\n",
    "# <div style=\"box-shadow: rgb(60, 121, 245) 0px 0px 0px 3px inset, rgb(255, 255, 255) 10px -10px 0px -3px, rgb(31, 193, 27) 10px -10px, rgb(255, 255, 255) 20px -20px 0px -3px, rgb(255, 217, 19) 20px -20px, rgb(255, 255, 255) 30px -30px 0px -3px, rgb(255, 156, 85) 30px -30px, rgb(255, 255, 255) 40px -40px 0px -3px, rgb(255, 85, 85) 40px -40px; padding:20px; margin-right: 40px; font-size:30px; font-family: consolas; text-align:center; display:fill; border-radius:15px; color:rgb(60, 121, 245);\"><b> k-NN Regression (CUDA) </b></div>\n"
   ]
  },
  {
   "cell_type": "code",
   "execution_count": 68,
   "id": "a96fbb5a",
   "metadata": {
    "execution": {
     "iopub.execute_input": "2023-05-15T01:34:24.759595Z",
     "iopub.status.busy": "2023-05-15T01:34:24.759234Z",
     "iopub.status.idle": "2023-05-15T01:34:47.618242Z",
     "shell.execute_reply": "2023-05-15T01:34:47.617128Z"
    },
    "papermill": {
     "duration": 22.904999,
     "end_time": "2023-05-15T01:34:47.621261",
     "exception": false,
     "start_time": "2023-05-15T01:34:24.716262",
     "status": "completed"
    },
    "tags": []
   },
   "outputs": [
    {
     "data": {
      "application/vnd.jupyter.widget-view+json": {
       "model_id": "d4ccae84984b4c8397eb6a4361f27686",
       "version_major": 2,
       "version_minor": 0
      },
      "text/plain": [
       "  0%|          | 0/5 [00:00<?, ?it/s]"
      ]
     },
     "metadata": {},
     "output_type": "display_data"
    }
   ],
   "source": [
    "def predict_local_knn(\n",
    "    ref_x_embeddings, test_x_embeddings, \n",
    "    n_neighbors=CFG.knn_topk,\n",
    "    interval=CFG.knn_interval,\n",
    "    distance_dim=CFG.knn_dim,\n",
    "    coef=1.0, # a coef to prevent from overflow\n",
    "):\n",
    "    # convert to tensor and move to GPU\n",
    "    ref_x_embeddings = torch.from_numpy(ref_x_embeddings).half().to('cuda')\n",
    "    ref_x_embeddings /= ref_x_embeddings.norm(dim=-1, keepdim=True)\n",
    "    \n",
    "    n_iter = (test_x_embeddings.shape[0] + interval - 1) // interval\n",
    "    \n",
    "    dist_topk_store = []\n",
    "    idxs_topk_store = []\n",
    "    weights_store = []\n",
    "    delta = 0.0001\n",
    "    for i in range(n_iter):\n",
    "        with torch.no_grad():\n",
    "            batch_test_embeddings = torch.from_numpy(\n",
    "                test_x_embeddings[i*interval:(i+1)*interval, :].copy()\n",
    "            ).half().to('cuda')\n",
    "            batch_test_embeddings /= batch_test_embeddings.norm(dim=-1, keepdim=True)\n",
    "            \n",
    "            # calc distance matrix\n",
    "            dists = 1 - torch.mm(batch_test_embeddings, ref_x_embeddings.T) # dists.shape=[N_test, N_ref]\n",
    "            \n",
    "            # get topk indecies and distance\n",
    "            dist_topk, idxs_topk = torch.topk(dists, n_neighbors, largest=False, dim=-1)\n",
    "            dist_topk = dist_topk.double()\n",
    "            \n",
    "            # calc weights from distance\n",
    "            weights = 1/(dist_topk**distance_dim+delta)*coef\n",
    "            weights[ dist_topk < 0 ] = delta\n",
    "            \n",
    "            dist_topk_store.append( dist_topk.cpu().numpy().copy() )\n",
    "            idxs_topk_store.append( idxs_topk.cpu().numpy().copy() )\n",
    "            weights_store.append( weights.cpu().numpy().copy() )\n",
    "            \n",
    "            del dists, weights, dist_topk, idxs_topk, batch_test_embeddings\n",
    "            torch.cuda.empty_cache()\n",
    "\n",
    "    del ref_x_embeddings\n",
    "    torch.cuda.empty_cache()\n",
    "    return np.concatenate(dist_topk_store), np.concatenate(idxs_topk_store), np.concatenate(weights_store)\n",
    "\n",
    "for i_file, file_clip_emb in enumerate(tqdm(FILES_CLIP_EMB)):\n",
    "    # Local k-NN (for each CLIP embeddings file VS CLIP vision embeddings of test images)\n",
    "    ref_clip_embeddings = np.load(file_clip_emb).astype(np.float16)\n",
    "    local_dists, local_emb_indecies, local_weights = predict_local_knn(\n",
    "        ref_clip_embeddings, test_vision_embeddings,\n",
    "        n_neighbors=CFG.knn_topk, interval=CFG.knn_interval, distance_dim=CFG.knn_dim,\n",
    "        coef=0.001\n",
    "    )\n",
    "    local_files = np.zeros(local_dists.shape, dtype=np.int32) + i_file\n",
    "    \n",
    "    # merge local k-NN into global k-NN\n",
    "    if i_file == 0:\n",
    "        global_files = local_files\n",
    "        global_dists = local_dists\n",
    "        global_emb_indecies = local_emb_indecies\n",
    "        global_weights = local_weights\n",
    "    else:\n",
    "        global_files = np.concatenate([global_files, local_files], axis=-1)\n",
    "        global_dists = np.concatenate([global_dists, local_dists], axis=-1)\n",
    "        global_emb_indecies = np.concatenate([global_emb_indecies, local_emb_indecies], axis=-1)\n",
    "        global_weights = np.concatenate([global_weights, local_weights], axis=-1)\n",
    "\n",
    "        unsorted_min_indices = np.argpartition(global_dists, CFG.knn_topk, axis=1)[:, :CFG.knn_topk]\n",
    "\n",
    "        global_files = np.vstack( [ global_files[i, unsorted_min_indices[i,:]] for i in range(unsorted_min_indices.shape[0]) ])\n",
    "        global_dists = np.vstack( [ global_dists[i, unsorted_min_indices[i,:]] for i in range(unsorted_min_indices.shape[0]) ])\n",
    "        global_emb_indecies = np.vstack( [ global_emb_indecies[i, unsorted_min_indices[i,:]] for i in range(unsorted_min_indices.shape[0]) ])\n",
    "        global_weights = np.vstack( [ global_weights[i, unsorted_min_indices[i,:]] for i in range(unsorted_min_indices.shape[0]) ])\n",
    "    \n",
    "    gc.collect()"
   ]
  },
  {
   "cell_type": "code",
   "execution_count": 69,
   "id": "21459219",
   "metadata": {
    "execution": {
     "iopub.execute_input": "2023-05-15T01:34:47.705462Z",
     "iopub.status.busy": "2023-05-15T01:34:47.705107Z",
     "iopub.status.idle": "2023-05-15T01:34:47.711276Z",
     "shell.execute_reply": "2023-05-15T01:34:47.710179Z"
    },
    "papermill": {
     "duration": 0.050823,
     "end_time": "2023-05-15T01:34:47.713639",
     "exception": false,
     "start_time": "2023-05-15T01:34:47.662816",
     "status": "completed"
    },
    "tags": []
   },
   "outputs": [],
   "source": [
    "# for i_file, file_clip_emb in enumerate(tqdm(FILES_CLIP_EMB)):\n",
    "#     # Local k-NN (for each CLIP embeddings file VS CLIP vision embeddings of test images)\n",
    "#     ref_clip_embeddings = np.load(file_clip_emb).astype(np.float16)\n",
    "#     with torch.no_grad():\n",
    "#         local_dists, local_emb_indecies, local_weights = predict_local_knn(\n",
    "#             ref_clip_embeddings, test_vision_embeddings,\n",
    "#             n_neighbors=CFG.knn_topk, interval=CFG.knn_interval, distance_dim=CFG.knn_dim,\n",
    "#             coef=0.001\n",
    "#         )\n",
    "#     local_files = np.zeros(local_dists.shape, dtype=np.int32) + i_file\n",
    "    \n",
    "#     # merge local k-NN into global k-NN\n",
    "#     if i_file == 0:\n",
    "#         global_files = local_files\n",
    "#         global_dists = local_dists\n",
    "#         global_emb_indecies = local_emb_indecies\n",
    "#         global_weights = local_weights\n",
    "#     else:\n",
    "#         global_files = np.concatenate([global_files, local_files], axis=-1)\n",
    "#         global_dists = np.concatenate([global_dists, local_dists], axis=-1)\n",
    "#         global_emb_indecies = np.concatenate([global_emb_indecies, local_emb_indecies], axis=-1)\n",
    "#         global_weights = np.concatenate([global_weights, local_weights], axis=-1)\n",
    "\n",
    "#         unsorted_min_indices = np.argpartition(global_dists, CFG.knn_topk, axis=1)[:, :CFG.knn_topk]\n",
    "\n",
    "#         global_files = np.vstack( [ global_files[i, unsorted_min_indices[i,:]] for i in range(unsorted_min_indices.shape[0]) ])\n",
    "#         global_dists = np.vstack( [ global_dists[i, unsorted_min_indices[i,:]] for i in range(unsorted_min_indices.shape[0]) ])\n",
    "#         global_emb_indecies = np.vstack( [ global_emb_indecies[i, unsorted_min_indices[i,:]] for i in range(unsorted_min_indices.shape[0]) ])\n",
    "#         global_weights = np.vstack( [ global_weights[i, unsorted_min_indices[i,:]] for i in range(unsorted_min_indices.shape[0]) ])\n",
    "    \n",
    "#     gc.collect()"
   ]
  },
  {
   "cell_type": "code",
   "execution_count": 70,
   "id": "c56f6696",
   "metadata": {
    "execution": {
     "iopub.execute_input": "2023-05-15T01:34:47.798001Z",
     "iopub.status.busy": "2023-05-15T01:34:47.797628Z",
     "iopub.status.idle": "2023-05-15T01:34:47.823110Z",
     "shell.execute_reply": "2023-05-15T01:34:47.822067Z"
    },
    "papermill": {
     "duration": 0.070814,
     "end_time": "2023-05-15T01:34:47.825635",
     "exception": false,
     "start_time": "2023-05-15T01:34:47.754821",
     "status": "completed"
    },
    "tags": []
   },
   "outputs": [
    {
     "data": {
      "text/html": [
       "<div>\n",
       "<style scoped>\n",
       "    .dataframe tbody tr th:only-of-type {\n",
       "        vertical-align: middle;\n",
       "    }\n",
       "\n",
       "    .dataframe tbody tr th {\n",
       "        vertical-align: top;\n",
       "    }\n",
       "\n",
       "    .dataframe thead th {\n",
       "        text-align: right;\n",
       "    }\n",
       "</style>\n",
       "<table border=\"1\" class=\"dataframe\">\n",
       "  <thead>\n",
       "    <tr style=\"text-align: right;\">\n",
       "      <th></th>\n",
       "      <th>file</th>\n",
       "      <th>dist</th>\n",
       "      <th>emb_index</th>\n",
       "      <th>test_index</th>\n",
       "      <th>weight</th>\n",
       "    </tr>\n",
       "  </thead>\n",
       "  <tbody>\n",
       "    <tr>\n",
       "      <th>0</th>\n",
       "      <td>/kaggle/input/pub-embeddings-diffusiondb-14m-p...</td>\n",
       "      <td>0.716797</td>\n",
       "      <td>35943</td>\n",
       "      <td>0</td>\n",
       "      <td>0.007367</td>\n",
       "    </tr>\n",
       "    <tr>\n",
       "      <th>1</th>\n",
       "      <td>/kaggle/input/pub-embeddings-diffusiondb-14m-p...</td>\n",
       "      <td>0.726562</td>\n",
       "      <td>60517</td>\n",
       "      <td>0</td>\n",
       "      <td>0.006793</td>\n",
       "    </tr>\n",
       "    <tr>\n",
       "      <th>2</th>\n",
       "      <td>/kaggle/input/pub-embeddings-diffusiondb-14m-p...</td>\n",
       "      <td>0.709961</td>\n",
       "      <td>98421</td>\n",
       "      <td>0</td>\n",
       "      <td>0.007803</td>\n",
       "    </tr>\n",
       "    <tr>\n",
       "      <th>3</th>\n",
       "      <td>/kaggle/input/pub-embeddings-diffusiondb-14m-p...</td>\n",
       "      <td>0.709961</td>\n",
       "      <td>98420</td>\n",
       "      <td>0</td>\n",
       "      <td>0.007803</td>\n",
       "    </tr>\n",
       "    <tr>\n",
       "      <th>4</th>\n",
       "      <td>/kaggle/input/pub-embeddings-diffusiondb-14m-p...</td>\n",
       "      <td>0.709961</td>\n",
       "      <td>98419</td>\n",
       "      <td>0</td>\n",
       "      <td>0.007803</td>\n",
       "    </tr>\n",
       "    <tr>\n",
       "      <th>...</th>\n",
       "      <td>...</td>\n",
       "      <td>...</td>\n",
       "      <td>...</td>\n",
       "      <td>...</td>\n",
       "      <td>...</td>\n",
       "    </tr>\n",
       "    <tr>\n",
       "      <th>695</th>\n",
       "      <td>/kaggle/input/pub-embeddings-diffusiondb-14m-p...</td>\n",
       "      <td>0.644531</td>\n",
       "      <td>22745</td>\n",
       "      <td>6</td>\n",
       "      <td>0.013929</td>\n",
       "    </tr>\n",
       "    <tr>\n",
       "      <th>696</th>\n",
       "      <td>/kaggle/input/pub-embeddings-diffusiondb-14m-p...</td>\n",
       "      <td>0.670898</td>\n",
       "      <td>23578</td>\n",
       "      <td>6</td>\n",
       "      <td>0.010954</td>\n",
       "    </tr>\n",
       "    <tr>\n",
       "      <th>697</th>\n",
       "      <td>/kaggle/input/pub-embeddings-diffusiondb-14m-p...</td>\n",
       "      <td>0.670898</td>\n",
       "      <td>23582</td>\n",
       "      <td>6</td>\n",
       "      <td>0.010954</td>\n",
       "    </tr>\n",
       "    <tr>\n",
       "      <th>698</th>\n",
       "      <td>/kaggle/input/pub-embeddings-diffusiondb-14m-p...</td>\n",
       "      <td>0.670898</td>\n",
       "      <td>23575</td>\n",
       "      <td>6</td>\n",
       "      <td>0.010954</td>\n",
       "    </tr>\n",
       "    <tr>\n",
       "      <th>699</th>\n",
       "      <td>/kaggle/input/pub-embeddings-diffusiondb-14m-p...</td>\n",
       "      <td>0.670898</td>\n",
       "      <td>23577</td>\n",
       "      <td>6</td>\n",
       "      <td>0.010954</td>\n",
       "    </tr>\n",
       "  </tbody>\n",
       "</table>\n",
       "<p>700 rows × 5 columns</p>\n",
       "</div>"
      ],
      "text/plain": [
       "                                                  file      dist  emb_index  \\\n",
       "0    /kaggle/input/pub-embeddings-diffusiondb-14m-p...  0.716797      35943   \n",
       "1    /kaggle/input/pub-embeddings-diffusiondb-14m-p...  0.726562      60517   \n",
       "2    /kaggle/input/pub-embeddings-diffusiondb-14m-p...  0.709961      98421   \n",
       "3    /kaggle/input/pub-embeddings-diffusiondb-14m-p...  0.709961      98420   \n",
       "4    /kaggle/input/pub-embeddings-diffusiondb-14m-p...  0.709961      98419   \n",
       "..                                                 ...       ...        ...   \n",
       "695  /kaggle/input/pub-embeddings-diffusiondb-14m-p...  0.644531      22745   \n",
       "696  /kaggle/input/pub-embeddings-diffusiondb-14m-p...  0.670898      23578   \n",
       "697  /kaggle/input/pub-embeddings-diffusiondb-14m-p...  0.670898      23582   \n",
       "698  /kaggle/input/pub-embeddings-diffusiondb-14m-p...  0.670898      23575   \n",
       "699  /kaggle/input/pub-embeddings-diffusiondb-14m-p...  0.670898      23577   \n",
       "\n",
       "     test_index    weight  \n",
       "0             0  0.007367  \n",
       "1             0  0.006793  \n",
       "2             0  0.007803  \n",
       "3             0  0.007803  \n",
       "4             0  0.007803  \n",
       "..          ...       ...  \n",
       "695           6  0.013929  \n",
       "696           6  0.010954  \n",
       "697           6  0.010954  \n",
       "698           6  0.010954  \n",
       "699           6  0.010954  \n",
       "\n",
       "[700 rows x 5 columns]"
      ]
     },
     "execution_count": 70,
     "metadata": {},
     "output_type": "execute_result"
    }
   ],
   "source": [
    "df_knn = pd.DataFrame()\n",
    "df_knn[\"file\"] = global_files.flatten()\n",
    "df_knn[\"file\"] = df_knn['file'].apply(lambda x: FILES_OBJECTIVE_EMB[x])\n",
    "df_knn[\"dist\"] = global_dists.flatten()\n",
    "df_knn[\"emb_index\"] = global_emb_indecies.flatten()\n",
    "df_knn[\"test_index\"] = np.array([ [val]*CFG.knn_topk for val in range(test_vision_embeddings.shape[0])]).flatten()\n",
    "df_knn[\"weight\"] = global_weights.flatten()\n",
    "df_knn"
   ]
  },
  {
   "cell_type": "code",
   "execution_count": 71,
   "id": "8dac1806",
   "metadata": {
    "execution": {
     "iopub.execute_input": "2023-05-15T01:34:47.913382Z",
     "iopub.status.busy": "2023-05-15T01:34:47.913015Z",
     "iopub.status.idle": "2023-05-15T01:34:48.171138Z",
     "shell.execute_reply": "2023-05-15T01:34:48.170032Z"
    },
    "papermill": {
     "duration": 0.303777,
     "end_time": "2023-05-15T01:34:48.173543",
     "exception": false,
     "start_time": "2023-05-15T01:34:47.869766",
     "status": "completed"
    },
    "tags": []
   },
   "outputs": [
    {
     "data": {
      "text/plain": [
       "39"
      ]
     },
     "execution_count": 71,
     "metadata": {},
     "output_type": "execute_result"
    }
   ],
   "source": [
    "gc.collect()"
   ]
  },
  {
   "cell_type": "code",
   "execution_count": 72,
   "id": "c05d6fc3",
   "metadata": {
    "execution": {
     "iopub.execute_input": "2023-05-15T01:34:48.258787Z",
     "iopub.status.busy": "2023-05-15T01:34:48.258441Z",
     "iopub.status.idle": "2023-05-15T01:34:51.053208Z",
     "shell.execute_reply": "2023-05-15T01:34:51.052128Z"
    },
    "papermill": {
     "duration": 2.840023,
     "end_time": "2023-05-15T01:34:51.055588",
     "exception": false,
     "start_time": "2023-05-15T01:34:48.215565",
     "status": "completed"
    },
    "tags": []
   },
   "outputs": [
    {
     "name": "stdout",
     "output_type": "stream",
     "text": [
      "[########################################] | 100% Completed |  2.8s\n"
     ]
    }
   ],
   "source": [
    "import dask.dataframe as dd\n",
    "from dask.diagnostics import ProgressBar\n",
    "\n",
    "# Convert the pandas DataFrame to a Dask DataFrame\n",
    "ddf = dd.from_pandas(df_knn, npartitions=10)\n",
    "\n",
    "# k-NN regression\n",
    "test_prompt_embeddings = np.zeros((test_vision_embeddings.shape[0], 384))\n",
    "\n",
    "def add_weighted_embeddings(group):\n",
    "    objective_emb_file = group.name\n",
    "    ref_objective_embeddings = np.load(objective_emb_file).astype(np.float16)\n",
    "    for i, r in group.iterrows():\n",
    "        test_prompt_embeddings[int(r.test_index), :] += r.weight * ref_objective_embeddings[int(r.emb_index), :]\n",
    "    return group\n",
    "\n",
    "with ProgressBar():\n",
    "    result = ddf.groupby(\"file\").apply(add_weighted_embeddings, meta=ddf).compute(scheduler='threads')"
   ]
  },
  {
   "cell_type": "code",
   "execution_count": 73,
   "id": "9ff3189a",
   "metadata": {
    "execution": {
     "iopub.execute_input": "2023-05-15T01:34:51.146617Z",
     "iopub.status.busy": "2023-05-15T01:34:51.145575Z",
     "iopub.status.idle": "2023-05-15T01:34:51.150861Z",
     "shell.execute_reply": "2023-05-15T01:34:51.149889Z"
    },
    "papermill": {
     "duration": 0.052462,
     "end_time": "2023-05-15T01:34:51.153166",
     "exception": false,
     "start_time": "2023-05-15T01:34:51.100704",
     "status": "completed"
    },
    "tags": []
   },
   "outputs": [],
   "source": [
    "# # k-NN regression\n",
    "# test_prompt_embeddings = np.zeros( (test_vision_embeddings.shape[0], 384))\n",
    "# for (objective_emb_file, gdf) in tqdm(df_knn.groupby(\"file\")):\n",
    "#     ref_objective_embeddings = np.load(objective_emb_file).astype(np.float16) \n",
    "#     for _, r in gdf.iterrows():\n",
    "#         test_prompt_embeddings[int(r.test_index), :] += r.weight * ref_objective_embeddings[int(r.emb_index), :]"
   ]
  },
  {
   "cell_type": "code",
   "execution_count": 74,
   "id": "746bbdbf",
   "metadata": {
    "execution": {
     "iopub.execute_input": "2023-05-15T01:34:51.243921Z",
     "iopub.status.busy": "2023-05-15T01:34:51.243533Z",
     "iopub.status.idle": "2023-05-15T01:34:51.509852Z",
     "shell.execute_reply": "2023-05-15T01:34:51.508863Z"
    },
    "papermill": {
     "duration": 0.31435,
     "end_time": "2023-05-15T01:34:51.512138",
     "exception": false,
     "start_time": "2023-05-15T01:34:51.197788",
     "status": "completed"
    },
    "tags": []
   },
   "outputs": [
    {
     "data": {
      "text/plain": [
       "314"
      ]
     },
     "execution_count": 74,
     "metadata": {},
     "output_type": "execute_result"
    }
   ],
   "source": [
    "# L2 norm\n",
    "BS=1000\n",
    "num = test_prompt_embeddings.shape[0] // BS\n",
    "if test_prompt_embeddings.shape[0] % BS != 0:\n",
    "    num+=1\n",
    "for i in range(num):\n",
    "    embeddings = test_prompt_embeddings[i*BS:(i+1)*BS, :]\n",
    "    embeddings = embeddings / ( np.abs(embeddings).max(axis=-1, keepdims=True) + 0.0000001)\n",
    "    embeddings = normalize( embeddings )\n",
    "    test_prompt_embeddings[i*BS:(i+1)*BS, :] = embeddings\n",
    "    \n",
    "gc.collect()"
   ]
  },
  {
   "cell_type": "code",
   "execution_count": 75,
   "id": "64c7241d",
   "metadata": {
    "execution": {
     "iopub.execute_input": "2023-05-15T01:34:51.603143Z",
     "iopub.status.busy": "2023-05-15T01:34:51.602773Z",
     "iopub.status.idle": "2023-05-15T01:34:51.607712Z",
     "shell.execute_reply": "2023-05-15T01:34:51.606463Z"
    },
    "papermill": {
     "duration": 0.052477,
     "end_time": "2023-05-15T01:34:51.609980",
     "exception": false,
     "start_time": "2023-05-15T01:34:51.557503",
     "status": "completed"
    },
    "tags": []
   },
   "outputs": [],
   "source": [
    "# KNN Regression Result\n",
    "test_prompt_embeddings = test_prompt_embeddings.flatten()"
   ]
  },
  {
   "cell_type": "markdown",
   "id": "8fb42dea",
   "metadata": {
    "papermill": {
     "duration": 0.044265,
     "end_time": "2023-05-15T01:34:51.698128",
     "exception": false,
     "start_time": "2023-05-15T01:34:51.653863",
     "status": "completed"
    },
    "tags": []
   },
   "source": [
    "# CLIP + blip? (CLIP inter)"
   ]
  },
  {
   "cell_type": "code",
   "execution_count": 76,
   "id": "a5c88484",
   "metadata": {
    "execution": {
     "iopub.execute_input": "2023-05-15T01:34:51.790008Z",
     "iopub.status.busy": "2023-05-15T01:34:51.788984Z",
     "iopub.status.idle": "2023-05-15T01:34:51.794903Z",
     "shell.execute_reply": "2023-05-15T01:34:51.793886Z"
    },
    "papermill": {
     "duration": 0.054631,
     "end_time": "2023-05-15T01:34:51.797351",
     "exception": false,
     "start_time": "2023-05-15T01:34:51.742720",
     "status": "completed"
    },
    "tags": []
   },
   "outputs": [],
   "source": [
    "wheels_path = \"/kaggle/input/clip-interrogator-wheels-x\"\n",
    "clip_interrogator_whl_path = f\"{wheels_path}/clip_interrogator-0.4.3-py3-none-any.whl\""
   ]
  },
  {
   "cell_type": "code",
   "execution_count": 77,
   "id": "de752c3a",
   "metadata": {
    "execution": {
     "iopub.execute_input": "2023-05-15T01:34:51.890600Z",
     "iopub.status.busy": "2023-05-15T01:34:51.890251Z",
     "iopub.status.idle": "2023-05-15T01:35:04.424319Z",
     "shell.execute_reply": "2023-05-15T01:35:04.423014Z"
    },
    "papermill": {
     "duration": 12.584654,
     "end_time": "2023-05-15T01:35:04.427109",
     "exception": false,
     "start_time": "2023-05-15T01:34:51.842455",
     "status": "completed"
    },
    "tags": []
   },
   "outputs": [
    {
     "name": "stdout",
     "output_type": "stream",
     "text": [
      "\u001b[33mWARNING: Running pip as the 'root' user can result in broken permissions and conflicting behaviour with the system package manager. It is recommended to use a virtual environment instead: https://pip.pypa.io/warnings/venv\u001b[0m\u001b[33m\r\n",
      "\u001b[0m"
     ]
    }
   ],
   "source": [
    "!pip install --no-index --find-links $wheels_path $clip_interrogator_whl_path -q"
   ]
  },
  {
   "cell_type": "code",
   "execution_count": 78,
   "id": "eacb42d8",
   "metadata": {
    "execution": {
     "iopub.execute_input": "2023-05-15T01:35:04.519697Z",
     "iopub.status.busy": "2023-05-15T01:35:04.519308Z",
     "iopub.status.idle": "2023-05-15T01:35:04.605015Z",
     "shell.execute_reply": "2023-05-15T01:35:04.603989Z"
    },
    "papermill": {
     "duration": 0.135075,
     "end_time": "2023-05-15T01:35:04.607574",
     "exception": false,
     "start_time": "2023-05-15T01:35:04.472499",
     "status": "completed"
    },
    "tags": []
   },
   "outputs": [],
   "source": [
    "import inspect\n",
    "import importlib\n",
    "\n",
    "from blip.models import blip\n",
    "from clip_interrogator import clip_interrogator"
   ]
  },
  {
   "cell_type": "code",
   "execution_count": 79,
   "id": "d922fd17",
   "metadata": {
    "execution": {
     "iopub.execute_input": "2023-05-15T01:35:04.701288Z",
     "iopub.status.busy": "2023-05-15T01:35:04.698831Z",
     "iopub.status.idle": "2023-05-15T01:35:04.714183Z",
     "shell.execute_reply": "2023-05-15T01:35:04.713039Z"
    },
    "papermill": {
     "duration": 0.063954,
     "end_time": "2023-05-15T01:35:04.716514",
     "exception": false,
     "start_time": "2023-05-15T01:35:04.652560",
     "status": "completed"
    },
    "tags": []
   },
   "outputs": [
    {
     "data": {
      "text/plain": [
       "<module 'blip.models.blip' from '/opt/conda/lib/python3.7/site-packages/blip/models/blip.py'>"
      ]
     },
     "execution_count": 79,
     "metadata": {},
     "output_type": "execute_result"
    }
   ],
   "source": [
    "# replace tokenizer path to prevent downloading\n",
    "blip_path = inspect.getfile(blip)\n",
    "\n",
    "fin = open(blip_path, \"rt\")\n",
    "data = fin.read()\n",
    "data = data.replace(\n",
    "    \"BertTokenizer.from_pretrained('bert-base-uncased')\", \n",
    "    \"BertTokenizer.from_pretrained('/kaggle/input/clip-interrogator-models-x/bert-base-uncased')\"\n",
    ")\n",
    "fin.close()\n",
    "\n",
    "fin = open(blip_path, \"wt\")\n",
    "fin.write(data)\n",
    "fin.close()\n",
    "\n",
    "# reload module\n",
    "importlib.reload(blip)"
   ]
  },
  {
   "cell_type": "code",
   "execution_count": 80,
   "id": "fc54f66e",
   "metadata": {
    "execution": {
     "iopub.execute_input": "2023-05-15T01:35:04.808852Z",
     "iopub.status.busy": "2023-05-15T01:35:04.808440Z",
     "iopub.status.idle": "2023-05-15T01:35:04.825475Z",
     "shell.execute_reply": "2023-05-15T01:35:04.824340Z"
    },
    "papermill": {
     "duration": 0.0659,
     "end_time": "2023-05-15T01:35:04.827803",
     "exception": false,
     "start_time": "2023-05-15T01:35:04.761903",
     "status": "completed"
    },
    "tags": []
   },
   "outputs": [
    {
     "data": {
      "text/plain": [
       "<module 'clip_interrogator.clip_interrogator' from '/opt/conda/lib/python3.7/site-packages/clip_interrogator/clip_interrogator.py'>"
      ]
     },
     "execution_count": 80,
     "metadata": {},
     "output_type": "execute_result"
    }
   ],
   "source": [
    "# fix clip_interrogator bug\n",
    "clip_interrogator_path = inspect.getfile(clip_interrogator.Interrogator)\n",
    "\n",
    "fin = open(clip_interrogator_path, \"rt\")\n",
    "data = fin.read()\n",
    "data = data.replace(\n",
    "    'open_clip.get_tokenizer(clip_model_name)', \n",
    "    'open_clip.get_tokenizer(config.clip_model_name.split(\"/\", 2)[0])'\n",
    ")\n",
    "fin.close()\n",
    "\n",
    "fin = open(clip_interrogator_path, \"wt\")\n",
    "fin.write(data)\n",
    "fin.close()\n",
    "\n",
    "# reload module\n",
    "importlib.reload(clip_interrogator)"
   ]
  },
  {
   "cell_type": "code",
   "execution_count": 81,
   "id": "ca94098d",
   "metadata": {
    "execution": {
     "iopub.execute_input": "2023-05-15T01:35:04.921841Z",
     "iopub.status.busy": "2023-05-15T01:35:04.920846Z",
     "iopub.status.idle": "2023-05-15T01:35:05.673995Z",
     "shell.execute_reply": "2023-05-15T01:35:05.672802Z"
    },
    "papermill": {
     "duration": 0.803442,
     "end_time": "2023-05-15T01:35:05.676721",
     "exception": false,
     "start_time": "2023-05-15T01:35:04.873279",
     "status": "completed"
    },
    "tags": []
   },
   "outputs": [],
   "source": [
    "import os\n",
    "import sys\n",
    "from PIL import Image\n",
    "from pathlib import Path\n",
    "import matplotlib.pyplot as plt \n",
    "\n",
    "import numpy as np\n",
    "import pandas as pd\n",
    "import torch\n",
    "import open_clip\n",
    "\n",
    "sys.path.append('../input/sentence-transformers-222/sentence-transformers')\n",
    "from sentence_transformers import SentenceTransformer, models\n",
    "\n",
    "comp_path = Path('/kaggle/input/stable-diffusion-image-to-prompts/')"
   ]
  },
  {
   "cell_type": "code",
   "execution_count": 82,
   "id": "dfc7fdb0",
   "metadata": {
    "execution": {
     "iopub.execute_input": "2023-05-15T01:35:05.827974Z",
     "iopub.status.busy": "2023-05-15T01:35:05.826808Z",
     "iopub.status.idle": "2023-05-15T01:35:05.840059Z",
     "shell.execute_reply": "2023-05-15T01:35:05.838891Z"
    },
    "papermill": {
     "duration": 0.119139,
     "end_time": "2023-05-15T01:35:05.842421",
     "exception": false,
     "start_time": "2023-05-15T01:35:05.723282",
     "status": "completed"
    },
    "tags": []
   },
   "outputs": [],
   "source": [
    "# CLIP + BLIP (clip-interrogator)\n",
    "class CFG:\n",
    "    device = \"cuda\"\n",
    "    seed = 42\n",
    "    embedding_length = 384\n",
    "    sentence_model_path = \"/kaggle/input/sentence-transformers-222/all-MiniLM-L6-v2\"\n",
    "    blip_model_path = \"/kaggle/input/clip-interrogator-models-x/model_large_caption.pth\"\n",
    "    ci_clip_model_name = \"ViT-H-14/laion2b_s32b_b79k\"\n",
    "    clip_model_name = \"ViT-H-14\"\n",
    "    clip_model_path = \"/kaggle/input/clip-interrogator-models-x/CLIP-ViT-H-14-laion2B-s32B-b79K/open_clip_pytorch_model.bin\"\n",
    "    cache_path = \"/kaggle/input/clip-interrogator-models-x\""
   ]
  },
  {
   "cell_type": "code",
   "execution_count": 83,
   "id": "6eec4e73",
   "metadata": {
    "execution": {
     "iopub.execute_input": "2023-05-15T01:35:05.934819Z",
     "iopub.status.busy": "2023-05-15T01:35:05.934479Z",
     "iopub.status.idle": "2023-05-15T01:35:05.959911Z",
     "shell.execute_reply": "2023-05-15T01:35:05.958897Z"
    },
    "papermill": {
     "duration": 0.075172,
     "end_time": "2023-05-15T01:35:05.962554",
     "exception": false,
     "start_time": "2023-05-15T01:35:05.887382",
     "status": "completed"
    },
    "tags": []
   },
   "outputs": [
    {
     "data": {
      "text/html": [
       "<div>\n",
       "<style scoped>\n",
       "    .dataframe tbody tr th:only-of-type {\n",
       "        vertical-align: middle;\n",
       "    }\n",
       "\n",
       "    .dataframe tbody tr th {\n",
       "        vertical-align: top;\n",
       "    }\n",
       "\n",
       "    .dataframe thead th {\n",
       "        text-align: right;\n",
       "    }\n",
       "</style>\n",
       "<table border=\"1\" class=\"dataframe\">\n",
       "  <thead>\n",
       "    <tr style=\"text-align: right;\">\n",
       "      <th></th>\n",
       "      <th>val</th>\n",
       "    </tr>\n",
       "    <tr>\n",
       "      <th>imgId_eId</th>\n",
       "      <th></th>\n",
       "    </tr>\n",
       "  </thead>\n",
       "  <tbody>\n",
       "    <tr>\n",
       "      <th>20057f34d_0</th>\n",
       "      <td>0.018848</td>\n",
       "    </tr>\n",
       "    <tr>\n",
       "      <th>20057f34d_1</th>\n",
       "      <td>0.030190</td>\n",
       "    </tr>\n",
       "    <tr>\n",
       "      <th>20057f34d_2</th>\n",
       "      <td>0.072792</td>\n",
       "    </tr>\n",
       "    <tr>\n",
       "      <th>20057f34d_3</th>\n",
       "      <td>-0.000673</td>\n",
       "    </tr>\n",
       "    <tr>\n",
       "      <th>20057f34d_4</th>\n",
       "      <td>0.016774</td>\n",
       "    </tr>\n",
       "  </tbody>\n",
       "</table>\n",
       "</div>"
      ],
      "text/plain": [
       "                  val\n",
       "imgId_eId            \n",
       "20057f34d_0  0.018848\n",
       "20057f34d_1  0.030190\n",
       "20057f34d_2  0.072792\n",
       "20057f34d_3 -0.000673\n",
       "20057f34d_4  0.016774"
      ]
     },
     "execution_count": 83,
     "metadata": {},
     "output_type": "execute_result"
    }
   ],
   "source": [
    "df_submission = pd.read_csv(comp_path / 'sample_submission.csv', index_col='imgId_eId')\n",
    "df_submission.head()"
   ]
  },
  {
   "cell_type": "code",
   "execution_count": 84,
   "id": "dd21498e",
   "metadata": {
    "execution": {
     "iopub.execute_input": "2023-05-15T01:35:06.055298Z",
     "iopub.status.busy": "2023-05-15T01:35:06.054745Z",
     "iopub.status.idle": "2023-05-15T01:35:06.069809Z",
     "shell.execute_reply": "2023-05-15T01:35:06.068869Z"
    },
    "papermill": {
     "duration": 0.063714,
     "end_time": "2023-05-15T01:35:06.072030",
     "exception": false,
     "start_time": "2023-05-15T01:35:06.008316",
     "status": "completed"
    },
    "tags": []
   },
   "outputs": [],
   "source": [
    "images = os.listdir(comp_path / 'images')\n",
    "imgIds = [i.split('.')[0] for i in images]\n",
    "\n",
    "eIds = list(range(CFG.embedding_length))\n",
    "\n",
    "imgId_eId = [\n",
    "    '_'.join(map(str, i)) for i in zip(\n",
    "        np.repeat(imgIds, CFG.embedding_length),\n",
    "        np.tile(range(CFG.embedding_length), len(imgIds))\n",
    "    )\n",
    "]\n",
    "\n",
    "assert sorted(imgId_eId) == sorted(df_submission.index)"
   ]
  },
  {
   "cell_type": "code",
   "execution_count": 85,
   "id": "e1d63d7c",
   "metadata": {
    "execution": {
     "iopub.execute_input": "2023-05-15T01:35:06.164375Z",
     "iopub.status.busy": "2023-05-15T01:35:06.164018Z",
     "iopub.status.idle": "2023-05-15T01:35:07.620480Z",
     "shell.execute_reply": "2023-05-15T01:35:07.619404Z"
    },
    "papermill": {
     "duration": 1.506062,
     "end_time": "2023-05-15T01:35:07.623369",
     "exception": false,
     "start_time": "2023-05-15T01:35:06.117307",
     "status": "completed"
    },
    "tags": []
   },
   "outputs": [],
   "source": [
    "st_model = SentenceTransformer(CFG.sentence_model_path)"
   ]
  },
  {
   "cell_type": "code",
   "execution_count": 86,
   "id": "722ad0f9",
   "metadata": {
    "execution": {
     "iopub.execute_input": "2023-05-15T01:35:07.716439Z",
     "iopub.status.busy": "2023-05-15T01:35:07.716071Z",
     "iopub.status.idle": "2023-05-15T01:35:07.721198Z",
     "shell.execute_reply": "2023-05-15T01:35:07.720149Z"
    },
    "papermill": {
     "duration": 0.054006,
     "end_time": "2023-05-15T01:35:07.723362",
     "exception": false,
     "start_time": "2023-05-15T01:35:07.669356",
     "status": "completed"
    },
    "tags": []
   },
   "outputs": [],
   "source": [
    "model_config = clip_interrogator.Config(clip_model_name=CFG.ci_clip_model_name)\n",
    "model_config.cache_path = CFG.cache_path"
   ]
  },
  {
   "cell_type": "code",
   "execution_count": 87,
   "id": "e2cf214b",
   "metadata": {
    "execution": {
     "iopub.execute_input": "2023-05-15T01:35:07.817107Z",
     "iopub.status.busy": "2023-05-15T01:35:07.816013Z",
     "iopub.status.idle": "2023-05-15T01:35:36.536164Z",
     "shell.execute_reply": "2023-05-15T01:35:36.535043Z"
    },
    "papermill": {
     "duration": 28.769735,
     "end_time": "2023-05-15T01:35:36.538942",
     "exception": false,
     "start_time": "2023-05-15T01:35:07.769207",
     "status": "completed"
    },
    "tags": []
   },
   "outputs": [
    {
     "name": "stdout",
     "output_type": "stream",
     "text": [
      "load checkpoint from /kaggle/input/clip-interrogator-models-x/model_large_caption.pth\n"
     ]
    }
   ],
   "source": [
    "configs_path = os.path.join(os.path.dirname(os.path.dirname(blip_path)), 'configs')\n",
    "med_config = os.path.join(configs_path, 'med_config.json')\n",
    "blip_model = blip.blip_decoder(\n",
    "    pretrained=CFG.blip_model_path,\n",
    "    image_size=model_config.blip_image_eval_size, \n",
    "    vit=model_config.blip_model_type, \n",
    "    med_config=med_config\n",
    ")\n",
    "blip_model.eval()\n",
    "blip_model = blip_model.to(model_config.device)\n",
    "model_config.blip_model = blip_model"
   ]
  },
  {
   "cell_type": "code",
   "execution_count": 88,
   "id": "dacc92e2",
   "metadata": {
    "execution": {
     "iopub.execute_input": "2023-05-15T01:35:36.633155Z",
     "iopub.status.busy": "2023-05-15T01:35:36.632767Z",
     "iopub.status.idle": "2023-05-15T01:36:27.042281Z",
     "shell.execute_reply": "2023-05-15T01:36:27.039902Z"
    },
    "papermill": {
     "duration": 50.462095,
     "end_time": "2023-05-15T01:36:27.047683",
     "exception": false,
     "start_time": "2023-05-15T01:35:36.585588",
     "status": "completed"
    },
    "tags": []
   },
   "outputs": [],
   "source": [
    "clip_model = open_clip.create_model(CFG.clip_model_name, precision='fp16' if model_config.device == 'cuda' else 'fp32')\n",
    "open_clip.load_checkpoint(clip_model, CFG.clip_model_path)\n",
    "clip_model.to(model_config.device).eval()\n",
    "model_config.clip_model = clip_model"
   ]
  },
  {
   "cell_type": "code",
   "execution_count": 89,
   "id": "3565c5bc",
   "metadata": {
    "execution": {
     "iopub.execute_input": "2023-05-15T01:36:27.177594Z",
     "iopub.status.busy": "2023-05-15T01:36:27.177200Z",
     "iopub.status.idle": "2023-05-15T01:36:27.183889Z",
     "shell.execute_reply": "2023-05-15T01:36:27.182712Z"
    },
    "papermill": {
     "duration": 0.05649,
     "end_time": "2023-05-15T01:36:27.186503",
     "exception": false,
     "start_time": "2023-05-15T01:36:27.130013",
     "status": "completed"
    },
    "tags": []
   },
   "outputs": [],
   "source": [
    "clip_preprocess = open_clip.image_transform(\n",
    "    clip_model.visual.image_size,\n",
    "    is_train = False,\n",
    "    mean = getattr(clip_model.visual, 'image_mean', None),\n",
    "    std = getattr(clip_model.visual, 'image_std', None),\n",
    ")\n",
    "model_config.clip_preprocess = clip_preprocess"
   ]
  },
  {
   "cell_type": "code",
   "execution_count": 90,
   "id": "73ffeaa6",
   "metadata": {
    "execution": {
     "iopub.execute_input": "2023-05-15T01:36:27.281136Z",
     "iopub.status.busy": "2023-05-15T01:36:27.280109Z",
     "iopub.status.idle": "2023-05-15T01:36:29.625267Z",
     "shell.execute_reply": "2023-05-15T01:36:29.624093Z"
    },
    "papermill": {
     "duration": 2.395605,
     "end_time": "2023-05-15T01:36:29.628171",
     "exception": false,
     "start_time": "2023-05-15T01:36:27.232566",
     "status": "completed"
    },
    "tags": []
   },
   "outputs": [
    {
     "name": "stdout",
     "output_type": "stream",
     "text": [
      "Loaded CLIP model and data in 2.34 seconds.\n"
     ]
    }
   ],
   "source": [
    "ci = clip_interrogator.Interrogator(model_config)"
   ]
  },
  {
   "cell_type": "code",
   "execution_count": 91,
   "id": "c8423937",
   "metadata": {
    "execution": {
     "iopub.execute_input": "2023-05-15T01:36:29.721707Z",
     "iopub.status.busy": "2023-05-15T01:36:29.721349Z",
     "iopub.status.idle": "2023-05-15T01:36:30.154279Z",
     "shell.execute_reply": "2023-05-15T01:36:30.153170Z"
    },
    "papermill": {
     "duration": 0.482852,
     "end_time": "2023-05-15T01:36:30.157275",
     "exception": false,
     "start_time": "2023-05-15T01:36:29.674423",
     "status": "completed"
    },
    "tags": []
   },
   "outputs": [],
   "source": [
    "cos = torch.nn.CosineSimilarity(dim=1)\n",
    "\n",
    "mediums_features_array = torch.stack([torch.from_numpy(t) for t in ci.mediums.embeds]).to(ci.device)\n",
    "movements_features_array = torch.stack([torch.from_numpy(t) for t in ci.movements.embeds]).to(ci.device)\n",
    "flavors_features_array = torch.stack([torch.from_numpy(t) for t in ci.flavors.embeds]).to(ci.device)"
   ]
  },
  {
   "cell_type": "code",
   "execution_count": 92,
   "id": "ae3a6961",
   "metadata": {
    "execution": {
     "iopub.execute_input": "2023-05-15T01:36:30.251817Z",
     "iopub.status.busy": "2023-05-15T01:36:30.250768Z",
     "iopub.status.idle": "2023-05-15T01:36:30.260146Z",
     "shell.execute_reply": "2023-05-15T01:36:30.259142Z"
    },
    "papermill": {
     "duration": 0.058883,
     "end_time": "2023-05-15T01:36:30.262526",
     "exception": false,
     "start_time": "2023-05-15T01:36:30.203643",
     "status": "completed"
    },
    "tags": []
   },
   "outputs": [],
   "source": [
    "def interrogate(image: Image) -> str:\n",
    "    caption = ci.generate_caption(image)\n",
    "    image_features = ci.image_to_features(image)\n",
    "    \n",
    "    medium = [ci.mediums.labels[i] for i in cos(image_features, mediums_features_array).topk(1).indices][0]\n",
    "    movement = [ci.movements.labels[i] for i in cos(image_features, movements_features_array).topk(1).indices][0]\n",
    "    flaves = \", \".join([ci.flavors.labels[i] for i in cos(image_features, flavors_features_array).topk(3).indices])\n",
    "\n",
    "    if caption.startswith(medium):\n",
    "        prompt = f\"{caption}, {movement},  {flaves}\"\n",
    "    else:\n",
    "        prompt = f\"{caption}, {medium}, {movement}, {flaves}\"\n",
    "\n",
    "    return clip_interrogator._truncate_to_fit(prompt, ci.tokenize)"
   ]
  },
  {
   "cell_type": "code",
   "execution_count": 93,
   "id": "dcf66447",
   "metadata": {
    "execution": {
     "iopub.execute_input": "2023-05-15T01:36:30.355704Z",
     "iopub.status.busy": "2023-05-15T01:36:30.355336Z",
     "iopub.status.idle": "2023-05-15T01:36:35.349610Z",
     "shell.execute_reply": "2023-05-15T01:36:35.348568Z"
    },
    "papermill": {
     "duration": 5.043728,
     "end_time": "2023-05-15T01:36:35.352345",
     "exception": false,
     "start_time": "2023-05-15T01:36:30.308617",
     "status": "completed"
    },
    "tags": []
   },
   "outputs": [],
   "source": [
    "prompts = []\n",
    "\n",
    "images_path = \"../input/stable-diffusion-image-to-prompts/images/\"\n",
    "for image_name in images:\n",
    "    img = Image.open(images_path + image_name).convert(\"RGB\")\n",
    "\n",
    "    generated = interrogate(img)\n",
    "    \n",
    "    prompts.append(generated)"
   ]
  },
  {
   "cell_type": "code",
   "execution_count": 94,
   "id": "132680b9",
   "metadata": {
    "execution": {
     "iopub.execute_input": "2023-05-15T01:36:35.447245Z",
     "iopub.status.busy": "2023-05-15T01:36:35.446145Z",
     "iopub.status.idle": "2023-05-15T01:36:35.454911Z",
     "shell.execute_reply": "2023-05-15T01:36:35.453953Z"
    },
    "papermill": {
     "duration": 0.058331,
     "end_time": "2023-05-15T01:36:35.457278",
     "exception": false,
     "start_time": "2023-05-15T01:36:35.398947",
     "status": "completed"
    },
    "tags": []
   },
   "outputs": [],
   "source": [
    "def add_text_limiters(text: str) -> str:\n",
    "    return \" \".join([\n",
    "        word + \"\\n\" if i % 15 == 0 else word \n",
    "        for i, word in enumerate(text.split(\" \"), start=1)\n",
    "    ])\n",
    "\n",
    "def plot_image(image: np.ndarray, original_prompt: str, generated_prompt: str) -> None:\n",
    "    plt.figure(figsize=(10, 10))\n",
    "    plt.imshow(image)\n",
    "    plt.annotate(\n",
    "        \"Original prompt:\\n\" + add_text_limiters(original_prompt) + \"\\n\\nGenerated prompt:\\n\" + add_text_limiters(generated_prompt), \n",
    "        xy=(1.05, 0.5), xycoords='axes fraction', ha='left', va='center', \n",
    "        fontsize=16, rotation=0, color=\"#104a6e\"\n",
    "    )"
   ]
  },
  {
   "cell_type": "code",
   "execution_count": 95,
   "id": "8faea0eb",
   "metadata": {
    "execution": {
     "iopub.execute_input": "2023-05-15T01:36:35.554021Z",
     "iopub.status.busy": "2023-05-15T01:36:35.552875Z",
     "iopub.status.idle": "2023-05-15T01:36:35.622986Z",
     "shell.execute_reply": "2023-05-15T01:36:35.621815Z"
    },
    "papermill": {
     "duration": 0.123346,
     "end_time": "2023-05-15T01:36:35.626640",
     "exception": false,
     "start_time": "2023-05-15T01:36:35.503294",
     "status": "completed"
    },
    "tags": []
   },
   "outputs": [
    {
     "data": {
      "application/vnd.jupyter.widget-view+json": {
       "model_id": "69af616fd6694065a2ec714d4ec50bdc",
       "version_major": 2,
       "version_minor": 0
      },
      "text/plain": [
       "Batches:   0%|          | 0/1 [00:00<?, ?it/s]"
      ]
     },
     "metadata": {},
     "output_type": "display_data"
    }
   ],
   "source": [
    "# clip-interrogator\n",
    "prompt_embeddings = st_model.encode(prompts).flatten()"
   ]
  },
  {
   "cell_type": "markdown",
   "id": "a9d1593c",
   "metadata": {
    "papermill": {
     "duration": 0.048047,
     "end_time": "2023-05-15T01:36:35.721343",
     "exception": false,
     "start_time": "2023-05-15T01:36:35.673296",
     "status": "completed"
    },
    "tags": []
   },
   "source": [
    "# ViT"
   ]
  },
  {
   "cell_type": "code",
   "execution_count": 96,
   "id": "6699d537",
   "metadata": {
    "execution": {
     "iopub.execute_input": "2023-05-15T01:36:35.818041Z",
     "iopub.status.busy": "2023-05-15T01:36:35.817142Z",
     "iopub.status.idle": "2023-05-15T01:36:35.823460Z",
     "shell.execute_reply": "2023-05-15T01:36:35.822407Z"
    },
    "papermill": {
     "duration": 0.057766,
     "end_time": "2023-05-15T01:36:35.825816",
     "exception": false,
     "start_time": "2023-05-15T01:36:35.768050",
     "status": "completed"
    },
    "tags": []
   },
   "outputs": [],
   "source": [
    "import numpy as np\n",
    "import pandas as pd\n",
    "from pathlib import Path\n",
    "from PIL import Image\n",
    "from tqdm.notebook import tqdm\n",
    "import torch\n",
    "from torch.utils.data import Dataset, DataLoader\n",
    "from torchvision import transforms\n",
    "import timm\n",
    "from sklearn.preprocessing import normalize\n",
    "import torch.nn.functional as F"
   ]
  },
  {
   "cell_type": "code",
   "execution_count": 97,
   "id": "d71cc800",
   "metadata": {
    "execution": {
     "iopub.execute_input": "2023-05-15T01:36:35.920491Z",
     "iopub.status.busy": "2023-05-15T01:36:35.919556Z",
     "iopub.status.idle": "2023-05-15T01:36:35.925040Z",
     "shell.execute_reply": "2023-05-15T01:36:35.924057Z"
    },
    "papermill": {
     "duration": 0.055246,
     "end_time": "2023-05-15T01:36:35.927422",
     "exception": false,
     "start_time": "2023-05-15T01:36:35.872176",
     "status": "completed"
    },
    "tags": []
   },
   "outputs": [],
   "source": [
    "class CFG:\n",
    "    model_path = '/kaggle/input/0506-cv-large-384-06687/vit_large_patch16_384_0.7348_0.6687_epoch4.pth' #  LB 0.52823\n",
    "    model_name = 'vit_large_patch16_384'\n",
    "    input_size = 384\n",
    "    batch_size = 64"
   ]
  },
  {
   "cell_type": "code",
   "execution_count": 98,
   "id": "cbef676b",
   "metadata": {
    "execution": {
     "iopub.execute_input": "2023-05-15T01:36:36.022981Z",
     "iopub.status.busy": "2023-05-15T01:36:36.021273Z",
     "iopub.status.idle": "2023-05-15T01:36:36.028743Z",
     "shell.execute_reply": "2023-05-15T01:36:36.027791Z"
    },
    "papermill": {
     "duration": 0.057311,
     "end_time": "2023-05-15T01:36:36.031092",
     "exception": false,
     "start_time": "2023-05-15T01:36:35.973781",
     "status": "completed"
    },
    "tags": []
   },
   "outputs": [],
   "source": [
    "class DiffusionTestDataset(Dataset):\n",
    "    def __init__(self, images, transform):\n",
    "        self.images = images\n",
    "        self.transform = transform\n",
    "    \n",
    "    def __len__(self):\n",
    "        return len(self.images)\n",
    "\n",
    "    def __getitem__(self, idx):\n",
    "        image = Image.open(self.images[idx])\n",
    "        image = self.transform(image)\n",
    "        return image"
   ]
  },
  {
   "cell_type": "code",
   "execution_count": 99,
   "id": "df9553f7",
   "metadata": {
    "execution": {
     "iopub.execute_input": "2023-05-15T01:36:36.125285Z",
     "iopub.status.busy": "2023-05-15T01:36:36.124637Z",
     "iopub.status.idle": "2023-05-15T01:36:36.137426Z",
     "shell.execute_reply": "2023-05-15T01:36:36.136400Z"
    },
    "papermill": {
     "duration": 0.062474,
     "end_time": "2023-05-15T01:36:36.139695",
     "exception": false,
     "start_time": "2023-05-15T01:36:36.077221",
     "status": "completed"
    },
    "tags": []
   },
   "outputs": [],
   "source": [
    "def predict(\n",
    "    images,\n",
    "    model_path,\n",
    "    model_name,\n",
    "    input_size,\n",
    "    batch_size\n",
    "):\n",
    "    device = torch.device('cuda' if torch.cuda.is_available() else 'cpu')\n",
    "    transform = transforms.Compose([\n",
    "        transforms.Resize(input_size),\n",
    "        transforms.RandomHorizontalFlip(p=0.5),\n",
    "        #transforms.RandomRotation(degrees=10),\n",
    "\n",
    "        #transforms.RandomVerticalFlip(p=0.5),\n",
    "        transforms.ToTensor(),\n",
    "        transforms.Normalize([0.485, 0.456, 0.406], [0.229, 0.224, 0.225]),\n",
    "    ])\n",
    "    dataset = DiffusionTestDataset(images, transform)\n",
    "    dataloader = DataLoader(\n",
    "        dataset=dataset,\n",
    "        shuffle=False,\n",
    "        batch_size=batch_size,\n",
    "        pin_memory=True,\n",
    "        num_workers=2,\n",
    "        drop_last=False\n",
    "    )\n",
    "\n",
    "    model = timm.create_model(\n",
    "        model_name,\n",
    "        pretrained=False,\n",
    "        num_classes=384\n",
    "    )\n",
    "    state_dict = torch.load(model_path)\n",
    "    model.load_state_dict(state_dict)\n",
    "    model.to(device)\n",
    "    model.eval()\n",
    "    \n",
    "    tta_preds = None\n",
    "    for _ in range(3):\n",
    "        preds = []\n",
    "        for X in tqdm(dataloader, leave=False):\n",
    "            X = X.to(device)\n",
    "\n",
    "            with torch.no_grad():\n",
    "                X_out = model(X)\n",
    "                X_out = F.normalize(X_out, p=2, dim=1)  # Normalize X_out\n",
    "                \n",
    "                preds.append(X_out.cpu().numpy())\n",
    "                \n",
    "        if tta_preds is None:\n",
    "            tta_preds = np.vstack(preds).flatten()\n",
    "        else:\n",
    "            tta_preds += np.vstack(preds).flatten()\n",
    "    \n",
    "    return tta_preds / 3"
   ]
  },
  {
   "cell_type": "code",
   "execution_count": 100,
   "id": "0a2b70fc",
   "metadata": {
    "execution": {
     "iopub.execute_input": "2023-05-15T01:36:36.234897Z",
     "iopub.status.busy": "2023-05-15T01:36:36.233961Z",
     "iopub.status.idle": "2023-05-15T01:36:56.489123Z",
     "shell.execute_reply": "2023-05-15T01:36:56.487835Z"
    },
    "papermill": {
     "duration": 20.305354,
     "end_time": "2023-05-15T01:36:56.491784",
     "exception": false,
     "start_time": "2023-05-15T01:36:36.186430",
     "status": "completed"
    },
    "tags": []
   },
   "outputs": [
    {
     "data": {
      "application/vnd.jupyter.widget-view+json": {
       "model_id": "b386c13200a641f1a9b7eb73bf577579",
       "version_major": 2,
       "version_minor": 0
      },
      "text/plain": [
       "  0%|          | 0/1 [00:00<?, ?it/s]"
      ]
     },
     "metadata": {},
     "output_type": "display_data"
    },
    {
     "data": {
      "application/vnd.jupyter.widget-view+json": {
       "model_id": "0e572061f28d4f24bc2afd83eee8cd5c",
       "version_major": 2,
       "version_minor": 0
      },
      "text/plain": [
       "  0%|          | 0/1 [00:00<?, ?it/s]"
      ]
     },
     "metadata": {},
     "output_type": "display_data"
    },
    {
     "data": {
      "application/vnd.jupyter.widget-view+json": {
       "model_id": "26de485ad2134e7695546e3fb6600053",
       "version_major": 2,
       "version_minor": 0
      },
      "text/plain": [
       "  0%|          | 0/1 [00:00<?, ?it/s]"
      ]
     },
     "metadata": {},
     "output_type": "display_data"
    }
   ],
   "source": [
    "images = list(Path('/kaggle/input/stable-diffusion-image-to-prompts/images').glob('*.png'))\n",
    "embeddings3 = predict(images, CFG.model_path, CFG.model_name, CFG.input_size, CFG.batch_size)"
   ]
  },
  {
   "cell_type": "markdown",
   "id": "9c94fc7c",
   "metadata": {
    "papermill": {
     "duration": 0.04702,
     "end_time": "2023-05-15T01:36:56.588194",
     "exception": false,
     "start_time": "2023-05-15T01:36:56.541174",
     "status": "completed"
    },
    "tags": []
   },
   "source": [
    "# Ensemble"
   ]
  },
  {
   "cell_type": "code",
   "execution_count": 101,
   "id": "213e96fa",
   "metadata": {
    "execution": {
     "iopub.execute_input": "2023-05-15T01:36:56.685193Z",
     "iopub.status.busy": "2023-05-15T01:36:56.684123Z",
     "iopub.status.idle": "2023-05-15T01:36:56.691395Z",
     "shell.execute_reply": "2023-05-15T01:36:56.690322Z"
    },
    "papermill": {
     "duration": 0.058233,
     "end_time": "2023-05-15T01:36:56.693611",
     "exception": false,
     "start_time": "2023-05-15T01:36:56.635378",
     "status": "completed"
    },
    "tags": []
   },
   "outputs": [],
   "source": [
    "import torch.nn.functional as F\n",
    "\n",
    "def normalize(embeds):\n",
    "    embeds = embeds.reshape(-1, 384)\n",
    "    return (embeds / np.linalg.norm(embeds, ord=2, axis=1, keepdims=True)).reshape(-1)"
   ]
  },
  {
   "cell_type": "code",
   "execution_count": 102,
   "id": "ca39671f",
   "metadata": {
    "execution": {
     "iopub.execute_input": "2023-05-15T01:36:56.789672Z",
     "iopub.status.busy": "2023-05-15T01:36:56.788855Z",
     "iopub.status.idle": "2023-05-15T01:36:56.795872Z",
     "shell.execute_reply": "2023-05-15T01:36:56.794863Z"
    },
    "papermill": {
     "duration": 0.057752,
     "end_time": "2023-05-15T01:36:56.798518",
     "exception": false,
     "start_time": "2023-05-15T01:36:56.740766",
     "status": "completed"
    },
    "tags": []
   },
   "outputs": [],
   "source": [
    "test_prompt_embeddings_preds = (CLIP_KNN_g_ratio * test_prompt_embeddings_g_14) + (CLIP_KNN_ratio * test_prompt_embeddings) + (ratio_ViT_384 * embeddings3) + (ratio_ViT_224 * embeddings4)+ (ratio_interrogator *prompt_embeddings)"
   ]
  },
  {
   "cell_type": "code",
   "execution_count": 103,
   "id": "86647158",
   "metadata": {
    "execution": {
     "iopub.execute_input": "2023-05-15T01:36:56.897029Z",
     "iopub.status.busy": "2023-05-15T01:36:56.896672Z",
     "iopub.status.idle": "2023-05-15T01:36:56.902738Z",
     "shell.execute_reply": "2023-05-15T01:36:56.901494Z"
    },
    "papermill": {
     "duration": 0.057473,
     "end_time": "2023-05-15T01:36:56.905870",
     "exception": false,
     "start_time": "2023-05-15T01:36:56.848397",
     "status": "completed"
    },
    "tags": []
   },
   "outputs": [],
   "source": [
    "# normalize\n",
    "test_prompt_embeddings_preds = normalize(test_prompt_embeddings_preds)"
   ]
  },
  {
   "cell_type": "code",
   "execution_count": 104,
   "id": "3447d2a7",
   "metadata": {
    "execution": {
     "iopub.execute_input": "2023-05-15T01:36:57.004316Z",
     "iopub.status.busy": "2023-05-15T01:36:57.003986Z",
     "iopub.status.idle": "2023-05-15T01:36:57.031147Z",
     "shell.execute_reply": "2023-05-15T01:36:57.030191Z"
    },
    "papermill": {
     "duration": 0.078873,
     "end_time": "2023-05-15T01:36:57.033477",
     "exception": false,
     "start_time": "2023-05-15T01:36:56.954604",
     "status": "completed"
    },
    "tags": []
   },
   "outputs": [],
   "source": [
    "imgIds = [i.stem for i in test_images]\n",
    "EMBEDDING_LENGTH = 384\n",
    "imgId_eId = [\n",
    "    '_'.join(map(str, i)) for i in zip(\n",
    "        np.repeat(imgIds, EMBEDDING_LENGTH),\n",
    "        np.tile(range(EMBEDDING_LENGTH), len(imgIds)))]\n",
    "\n",
    "submission = pd.DataFrame(\n",
    "    index=imgId_eId,\n",
    "    data=test_prompt_embeddings_preds,\n",
    "    columns=['val']\n",
    ").rename_axis('imgId_eId')\n",
    "submission.to_csv('submission.csv')"
   ]
  },
  {
   "cell_type": "code",
   "execution_count": 105,
   "id": "7210182d",
   "metadata": {
    "execution": {
     "iopub.execute_input": "2023-05-15T01:36:57.129637Z",
     "iopub.status.busy": "2023-05-15T01:36:57.129317Z",
     "iopub.status.idle": "2023-05-15T01:36:57.144571Z",
     "shell.execute_reply": "2023-05-15T01:36:57.143502Z"
    },
    "papermill": {
     "duration": 0.065967,
     "end_time": "2023-05-15T01:36:57.146849",
     "exception": false,
     "start_time": "2023-05-15T01:36:57.080882",
     "status": "completed"
    },
    "tags": []
   },
   "outputs": [
    {
     "data": {
      "text/html": [
       "<div>\n",
       "<style scoped>\n",
       "    .dataframe tbody tr th:only-of-type {\n",
       "        vertical-align: middle;\n",
       "    }\n",
       "\n",
       "    .dataframe tbody tr th {\n",
       "        vertical-align: top;\n",
       "    }\n",
       "\n",
       "    .dataframe thead th {\n",
       "        text-align: right;\n",
       "    }\n",
       "</style>\n",
       "<table border=\"1\" class=\"dataframe\">\n",
       "  <thead>\n",
       "    <tr style=\"text-align: right;\">\n",
       "      <th></th>\n",
       "      <th>val</th>\n",
       "    </tr>\n",
       "    <tr>\n",
       "      <th>imgId_eId</th>\n",
       "      <th></th>\n",
       "    </tr>\n",
       "  </thead>\n",
       "  <tbody>\n",
       "    <tr>\n",
       "      <th>f27825b2c_0</th>\n",
       "      <td>-0.056371</td>\n",
       "    </tr>\n",
       "    <tr>\n",
       "      <th>f27825b2c_1</th>\n",
       "      <td>0.071624</td>\n",
       "    </tr>\n",
       "    <tr>\n",
       "      <th>f27825b2c_2</th>\n",
       "      <td>0.011509</td>\n",
       "    </tr>\n",
       "    <tr>\n",
       "      <th>f27825b2c_3</th>\n",
       "      <td>-0.030538</td>\n",
       "    </tr>\n",
       "    <tr>\n",
       "      <th>f27825b2c_4</th>\n",
       "      <td>-0.068708</td>\n",
       "    </tr>\n",
       "    <tr>\n",
       "      <th>...</th>\n",
       "      <td>...</td>\n",
       "    </tr>\n",
       "    <tr>\n",
       "      <th>c98f79f71_379</th>\n",
       "      <td>-0.008605</td>\n",
       "    </tr>\n",
       "    <tr>\n",
       "      <th>c98f79f71_380</th>\n",
       "      <td>0.077290</td>\n",
       "    </tr>\n",
       "    <tr>\n",
       "      <th>c98f79f71_381</th>\n",
       "      <td>0.034607</td>\n",
       "    </tr>\n",
       "    <tr>\n",
       "      <th>c98f79f71_382</th>\n",
       "      <td>-0.028248</td>\n",
       "    </tr>\n",
       "    <tr>\n",
       "      <th>c98f79f71_383</th>\n",
       "      <td>0.015312</td>\n",
       "    </tr>\n",
       "  </tbody>\n",
       "</table>\n",
       "<p>2688 rows × 1 columns</p>\n",
       "</div>"
      ],
      "text/plain": [
       "                    val\n",
       "imgId_eId              \n",
       "f27825b2c_0   -0.056371\n",
       "f27825b2c_1    0.071624\n",
       "f27825b2c_2    0.011509\n",
       "f27825b2c_3   -0.030538\n",
       "f27825b2c_4   -0.068708\n",
       "...                 ...\n",
       "c98f79f71_379 -0.008605\n",
       "c98f79f71_380  0.077290\n",
       "c98f79f71_381  0.034607\n",
       "c98f79f71_382 -0.028248\n",
       "c98f79f71_383  0.015312\n",
       "\n",
       "[2688 rows x 1 columns]"
      ]
     },
     "execution_count": 105,
     "metadata": {},
     "output_type": "execute_result"
    }
   ],
   "source": [
    "submission"
   ]
  },
  {
   "cell_type": "code",
   "execution_count": null,
   "id": "ed4eae88",
   "metadata": {
    "papermill": {
     "duration": 0.047437,
     "end_time": "2023-05-15T01:36:57.242433",
     "exception": false,
     "start_time": "2023-05-15T01:36:57.194996",
     "status": "completed"
    },
    "tags": []
   },
   "outputs": [],
   "source": []
  }
 ],
 "metadata": {
  "kernelspec": {
   "display_name": "Python 3",
   "language": "python",
   "name": "python3"
  },
  "language_info": {
   "codemirror_mode": {
    "name": "ipython",
    "version": 3
   },
   "file_extension": ".py",
   "mimetype": "text/x-python",
   "name": "python",
   "nbconvert_exporter": "python",
   "pygments_lexer": "ipython3",
   "version": "3.7.12"
  },
  "papermill": {
   "default_parameters": {},
   "duration": 367.349509,
   "end_time": "2023-05-15T01:37:01.001531",
   "environment_variables": {},
   "exception": null,
   "input_path": "__notebook__.ipynb",
   "output_path": "__notebook__.ipynb",
   "parameters": {},
   "start_time": "2023-05-15T01:30:53.652022",
   "version": "2.4.0"
  },
  "widgets": {
   "application/vnd.jupyter.widget-state+json": {
    "state": {
     "0010c440cef84f3da37ca4978ec93aca": {
      "model_module": "@jupyter-widgets/controls",
      "model_module_version": "1.5.0",
      "model_name": "DescriptionStyleModel",
      "state": {
       "_model_module": "@jupyter-widgets/controls",
       "_model_module_version": "1.5.0",
       "_model_name": "DescriptionStyleModel",
       "_view_count": null,
       "_view_module": "@jupyter-widgets/base",
       "_view_module_version": "1.2.0",
       "_view_name": "StyleView",
       "description_width": ""
      }
     },
     "00ab88dea31d4c4e86bad5f8cef65d97": {
      "model_module": "@jupyter-widgets/controls",
      "model_module_version": "1.5.0",
      "model_name": "ProgressStyleModel",
      "state": {
       "_model_module": "@jupyter-widgets/controls",
       "_model_module_version": "1.5.0",
       "_model_name": "ProgressStyleModel",
       "_view_count": null,
       "_view_module": "@jupyter-widgets/base",
       "_view_module_version": "1.2.0",
       "_view_name": "StyleView",
       "bar_color": null,
       "description_width": ""
      }
     },
     "03a80efe241b409289272fc051de9401": {
      "model_module": "@jupyter-widgets/controls",
      "model_module_version": "1.5.0",
      "model_name": "HTMLModel",
      "state": {
       "_dom_classes": [],
       "_model_module": "@jupyter-widgets/controls",
       "_model_module_version": "1.5.0",
       "_model_name": "HTMLModel",
       "_view_count": null,
       "_view_module": "@jupyter-widgets/controls",
       "_view_module_version": "1.5.0",
       "_view_name": "HTMLView",
       "description": "",
       "description_tooltip": null,
       "layout": "IPY_MODEL_7cd53889db2a4342ae6cf09b2211330d",
       "placeholder": "​",
       "style": "IPY_MODEL_2c38b07f2053421180644f43984f383e",
       "value": " 1/1 [00:00&lt;00:00,  1.29it/s]"
      }
     },
     "065f237802954cc0801e7989ca1988c6": {
      "model_module": "@jupyter-widgets/base",
      "model_module_version": "1.2.0",
      "model_name": "LayoutModel",
      "state": {
       "_model_module": "@jupyter-widgets/base",
       "_model_module_version": "1.2.0",
       "_model_name": "LayoutModel",
       "_view_count": null,
       "_view_module": "@jupyter-widgets/base",
       "_view_module_version": "1.2.0",
       "_view_name": "LayoutView",
       "align_content": null,
       "align_items": null,
       "align_self": null,
       "border": null,
       "bottom": null,
       "display": null,
       "flex": null,
       "flex_flow": null,
       "grid_area": null,
       "grid_auto_columns": null,
       "grid_auto_flow": null,
       "grid_auto_rows": null,
       "grid_column": null,
       "grid_gap": null,
       "grid_row": null,
       "grid_template_areas": null,
       "grid_template_columns": null,
       "grid_template_rows": null,
       "height": null,
       "justify_content": null,
       "justify_items": null,
       "left": null,
       "margin": null,
       "max_height": null,
       "max_width": null,
       "min_height": null,
       "min_width": null,
       "object_fit": null,
       "object_position": null,
       "order": null,
       "overflow": null,
       "overflow_x": null,
       "overflow_y": null,
       "padding": null,
       "right": null,
       "top": null,
       "visibility": null,
       "width": null
      }
     },
     "0ab9e5337bee4e838b167ada4cb1b42b": {
      "model_module": "@jupyter-widgets/base",
      "model_module_version": "1.2.0",
      "model_name": "LayoutModel",
      "state": {
       "_model_module": "@jupyter-widgets/base",
       "_model_module_version": "1.2.0",
       "_model_name": "LayoutModel",
       "_view_count": null,
       "_view_module": "@jupyter-widgets/base",
       "_view_module_version": "1.2.0",
       "_view_name": "LayoutView",
       "align_content": null,
       "align_items": null,
       "align_self": null,
       "border": null,
       "bottom": null,
       "display": null,
       "flex": null,
       "flex_flow": null,
       "grid_area": null,
       "grid_auto_columns": null,
       "grid_auto_flow": null,
       "grid_auto_rows": null,
       "grid_column": null,
       "grid_gap": null,
       "grid_row": null,
       "grid_template_areas": null,
       "grid_template_columns": null,
       "grid_template_rows": null,
       "height": null,
       "justify_content": null,
       "justify_items": null,
       "left": null,
       "margin": null,
       "max_height": null,
       "max_width": null,
       "min_height": null,
       "min_width": null,
       "object_fit": null,
       "object_position": null,
       "order": null,
       "overflow": null,
       "overflow_x": null,
       "overflow_y": null,
       "padding": null,
       "right": null,
       "top": null,
       "visibility": null,
       "width": null
      }
     },
     "0bd9faf801c145048329d470a6e51790": {
      "model_module": "@jupyter-widgets/controls",
      "model_module_version": "1.5.0",
      "model_name": "ProgressStyleModel",
      "state": {
       "_model_module": "@jupyter-widgets/controls",
       "_model_module_version": "1.5.0",
       "_model_name": "ProgressStyleModel",
       "_view_count": null,
       "_view_module": "@jupyter-widgets/base",
       "_view_module_version": "1.2.0",
       "_view_name": "StyleView",
       "bar_color": null,
       "description_width": ""
      }
     },
     "0e572061f28d4f24bc2afd83eee8cd5c": {
      "model_module": "@jupyter-widgets/controls",
      "model_module_version": "1.5.0",
      "model_name": "HBoxModel",
      "state": {
       "_dom_classes": [],
       "_model_module": "@jupyter-widgets/controls",
       "_model_module_version": "1.5.0",
       "_model_name": "HBoxModel",
       "_view_count": null,
       "_view_module": "@jupyter-widgets/controls",
       "_view_module_version": "1.5.0",
       "_view_name": "HBoxView",
       "box_style": "",
       "children": [
        "IPY_MODEL_312c9814cd0645e6aef6804af4727174",
        "IPY_MODEL_1815d0bab55e44b8ae643d0d4a1efb47",
        "IPY_MODEL_03a80efe241b409289272fc051de9401"
       ],
       "layout": "IPY_MODEL_77f86af2a85c409493acca27984aaf5f"
      }
     },
     "11733ab81f684423867a58dcfb8df683": {
      "model_module": "@jupyter-widgets/base",
      "model_module_version": "1.2.0",
      "model_name": "LayoutModel",
      "state": {
       "_model_module": "@jupyter-widgets/base",
       "_model_module_version": "1.2.0",
       "_model_name": "LayoutModel",
       "_view_count": null,
       "_view_module": "@jupyter-widgets/base",
       "_view_module_version": "1.2.0",
       "_view_name": "LayoutView",
       "align_content": null,
       "align_items": null,
       "align_self": null,
       "border": null,
       "bottom": null,
       "display": null,
       "flex": null,
       "flex_flow": null,
       "grid_area": null,
       "grid_auto_columns": null,
       "grid_auto_flow": null,
       "grid_auto_rows": null,
       "grid_column": null,
       "grid_gap": null,
       "grid_row": null,
       "grid_template_areas": null,
       "grid_template_columns": null,
       "grid_template_rows": null,
       "height": null,
       "justify_content": null,
       "justify_items": null,
       "left": null,
       "margin": null,
       "max_height": null,
       "max_width": null,
       "min_height": null,
       "min_width": null,
       "object_fit": null,
       "object_position": null,
       "order": null,
       "overflow": null,
       "overflow_x": null,
       "overflow_y": null,
       "padding": null,
       "right": null,
       "top": null,
       "visibility": null,
       "width": null
      }
     },
     "12d4be94558b47fb9f2f40b696c6f8d9": {
      "model_module": "@jupyter-widgets/base",
      "model_module_version": "1.2.0",
      "model_name": "LayoutModel",
      "state": {
       "_model_module": "@jupyter-widgets/base",
       "_model_module_version": "1.2.0",
       "_model_name": "LayoutModel",
       "_view_count": null,
       "_view_module": "@jupyter-widgets/base",
       "_view_module_version": "1.2.0",
       "_view_name": "LayoutView",
       "align_content": null,
       "align_items": null,
       "align_self": null,
       "border": null,
       "bottom": null,
       "display": null,
       "flex": null,
       "flex_flow": null,
       "grid_area": null,
       "grid_auto_columns": null,
       "grid_auto_flow": null,
       "grid_auto_rows": null,
       "grid_column": null,
       "grid_gap": null,
       "grid_row": null,
       "grid_template_areas": null,
       "grid_template_columns": null,
       "grid_template_rows": null,
       "height": null,
       "justify_content": null,
       "justify_items": null,
       "left": null,
       "margin": null,
       "max_height": null,
       "max_width": null,
       "min_height": null,
       "min_width": null,
       "object_fit": null,
       "object_position": null,
       "order": null,
       "overflow": null,
       "overflow_x": null,
       "overflow_y": null,
       "padding": null,
       "right": null,
       "top": null,
       "visibility": null,
       "width": null
      }
     },
     "12f2348dfb6d452ca479a36ca0761236": {
      "model_module": "@jupyter-widgets/controls",
      "model_module_version": "1.5.0",
      "model_name": "HTMLModel",
      "state": {
       "_dom_classes": [],
       "_model_module": "@jupyter-widgets/controls",
       "_model_module_version": "1.5.0",
       "_model_name": "HTMLModel",
       "_view_count": null,
       "_view_module": "@jupyter-widgets/controls",
       "_view_module_version": "1.5.0",
       "_view_name": "HTMLView",
       "description": "",
       "description_tooltip": null,
       "layout": "IPY_MODEL_33b530def8984267b2f2f0732de5060d",
       "placeholder": "​",
       "style": "IPY_MODEL_422818014e104252b7f6295b7498ac08",
       "value": "100%"
      }
     },
     "13c267fcc2c743eeab1931363f975731": {
      "model_module": "@jupyter-widgets/base",
      "model_module_version": "1.2.0",
      "model_name": "LayoutModel",
      "state": {
       "_model_module": "@jupyter-widgets/base",
       "_model_module_version": "1.2.0",
       "_model_name": "LayoutModel",
       "_view_count": null,
       "_view_module": "@jupyter-widgets/base",
       "_view_module_version": "1.2.0",
       "_view_name": "LayoutView",
       "align_content": null,
       "align_items": null,
       "align_self": null,
       "border": null,
       "bottom": null,
       "display": null,
       "flex": null,
       "flex_flow": null,
       "grid_area": null,
       "grid_auto_columns": null,
       "grid_auto_flow": null,
       "grid_auto_rows": null,
       "grid_column": null,
       "grid_gap": null,
       "grid_row": null,
       "grid_template_areas": null,
       "grid_template_columns": null,
       "grid_template_rows": null,
       "height": null,
       "justify_content": null,
       "justify_items": null,
       "left": null,
       "margin": null,
       "max_height": null,
       "max_width": null,
       "min_height": null,
       "min_width": null,
       "object_fit": null,
       "object_position": null,
       "order": null,
       "overflow": null,
       "overflow_x": null,
       "overflow_y": null,
       "padding": null,
       "right": null,
       "top": null,
       "visibility": null,
       "width": null
      }
     },
     "16105367fb8747fc9466c5bb3e1c7086": {
      "model_module": "@jupyter-widgets/base",
      "model_module_version": "1.2.0",
      "model_name": "LayoutModel",
      "state": {
       "_model_module": "@jupyter-widgets/base",
       "_model_module_version": "1.2.0",
       "_model_name": "LayoutModel",
       "_view_count": null,
       "_view_module": "@jupyter-widgets/base",
       "_view_module_version": "1.2.0",
       "_view_name": "LayoutView",
       "align_content": null,
       "align_items": null,
       "align_self": null,
       "border": null,
       "bottom": null,
       "display": null,
       "flex": null,
       "flex_flow": null,
       "grid_area": null,
       "grid_auto_columns": null,
       "grid_auto_flow": null,
       "grid_auto_rows": null,
       "grid_column": null,
       "grid_gap": null,
       "grid_row": null,
       "grid_template_areas": null,
       "grid_template_columns": null,
       "grid_template_rows": null,
       "height": null,
       "justify_content": null,
       "justify_items": null,
       "left": null,
       "margin": null,
       "max_height": null,
       "max_width": null,
       "min_height": null,
       "min_width": null,
       "object_fit": null,
       "object_position": null,
       "order": null,
       "overflow": null,
       "overflow_x": null,
       "overflow_y": null,
       "padding": null,
       "right": null,
       "top": null,
       "visibility": null,
       "width": null
      }
     },
     "171c6e085f33449bba1e25f8a7c6e0ce": {
      "model_module": "@jupyter-widgets/base",
      "model_module_version": "1.2.0",
      "model_name": "LayoutModel",
      "state": {
       "_model_module": "@jupyter-widgets/base",
       "_model_module_version": "1.2.0",
       "_model_name": "LayoutModel",
       "_view_count": null,
       "_view_module": "@jupyter-widgets/base",
       "_view_module_version": "1.2.0",
       "_view_name": "LayoutView",
       "align_content": null,
       "align_items": null,
       "align_self": null,
       "border": null,
       "bottom": null,
       "display": null,
       "flex": null,
       "flex_flow": null,
       "grid_area": null,
       "grid_auto_columns": null,
       "grid_auto_flow": null,
       "grid_auto_rows": null,
       "grid_column": null,
       "grid_gap": null,
       "grid_row": null,
       "grid_template_areas": null,
       "grid_template_columns": null,
       "grid_template_rows": null,
       "height": null,
       "justify_content": null,
       "justify_items": null,
       "left": null,
       "margin": null,
       "max_height": null,
       "max_width": null,
       "min_height": null,
       "min_width": null,
       "object_fit": null,
       "object_position": null,
       "order": null,
       "overflow": null,
       "overflow_x": null,
       "overflow_y": null,
       "padding": null,
       "right": null,
       "top": null,
       "visibility": null,
       "width": null
      }
     },
     "178b1f6ad401482f805102bb1ae19fcb": {
      "model_module": "@jupyter-widgets/controls",
      "model_module_version": "1.5.0",
      "model_name": "HTMLModel",
      "state": {
       "_dom_classes": [],
       "_model_module": "@jupyter-widgets/controls",
       "_model_module_version": "1.5.0",
       "_model_name": "HTMLModel",
       "_view_count": null,
       "_view_module": "@jupyter-widgets/controls",
       "_view_module_version": "1.5.0",
       "_view_name": "HTMLView",
       "description": "",
       "description_tooltip": null,
       "layout": "IPY_MODEL_065f237802954cc0801e7989ca1988c6",
       "placeholder": "​",
       "style": "IPY_MODEL_bb04c64fe5704577900a5c0ad8141ffd",
       "value": "100%"
      }
     },
     "1815d0bab55e44b8ae643d0d4a1efb47": {
      "model_module": "@jupyter-widgets/controls",
      "model_module_version": "1.5.0",
      "model_name": "FloatProgressModel",
      "state": {
       "_dom_classes": [],
       "_model_module": "@jupyter-widgets/controls",
       "_model_module_version": "1.5.0",
       "_model_name": "FloatProgressModel",
       "_view_count": null,
       "_view_module": "@jupyter-widgets/controls",
       "_view_module_version": "1.5.0",
       "_view_name": "ProgressView",
       "bar_style": "",
       "description": "",
       "description_tooltip": null,
       "layout": "IPY_MODEL_97cd3d5579504a27a76be0da235e7f82",
       "max": 1.0,
       "min": 0.0,
       "orientation": "horizontal",
       "style": "IPY_MODEL_9084901e5a8c49c491af7eee920f5c8e",
       "value": 1.0
      }
     },
     "1b980b555c6d4be7b594d6e06a708344": {
      "model_module": "@jupyter-widgets/controls",
      "model_module_version": "1.5.0",
      "model_name": "FloatProgressModel",
      "state": {
       "_dom_classes": [],
       "_model_module": "@jupyter-widgets/controls",
       "_model_module_version": "1.5.0",
       "_model_name": "FloatProgressModel",
       "_view_count": null,
       "_view_module": "@jupyter-widgets/controls",
       "_view_module_version": "1.5.0",
       "_view_name": "ProgressView",
       "bar_style": "success",
       "description": "",
       "description_tooltip": null,
       "layout": "IPY_MODEL_23da882c860645209b051bc45e24ff7b",
       "max": 1.0,
       "min": 0.0,
       "orientation": "horizontal",
       "style": "IPY_MODEL_915cd6c558184ab09a07c96a63b69ab8",
       "value": 1.0
      }
     },
     "1cb4130708144c1c9c664361d159f64d": {
      "model_module": "@jupyter-widgets/base",
      "model_module_version": "1.2.0",
      "model_name": "LayoutModel",
      "state": {
       "_model_module": "@jupyter-widgets/base",
       "_model_module_version": "1.2.0",
       "_model_name": "LayoutModel",
       "_view_count": null,
       "_view_module": "@jupyter-widgets/base",
       "_view_module_version": "1.2.0",
       "_view_name": "LayoutView",
       "align_content": null,
       "align_items": null,
       "align_self": null,
       "border": null,
       "bottom": null,
       "display": null,
       "flex": null,
       "flex_flow": null,
       "grid_area": null,
       "grid_auto_columns": null,
       "grid_auto_flow": null,
       "grid_auto_rows": null,
       "grid_column": null,
       "grid_gap": null,
       "grid_row": null,
       "grid_template_areas": null,
       "grid_template_columns": null,
       "grid_template_rows": null,
       "height": null,
       "justify_content": null,
       "justify_items": null,
       "left": null,
       "margin": null,
       "max_height": null,
       "max_width": null,
       "min_height": null,
       "min_width": null,
       "object_fit": null,
       "object_position": null,
       "order": null,
       "overflow": null,
       "overflow_x": null,
       "overflow_y": null,
       "padding": null,
       "right": null,
       "top": null,
       "visibility": null,
       "width": null
      }
     },
     "1d16f068e671496580c44b60ec8005fc": {
      "model_module": "@jupyter-widgets/controls",
      "model_module_version": "1.5.0",
      "model_name": "HBoxModel",
      "state": {
       "_dom_classes": [],
       "_model_module": "@jupyter-widgets/controls",
       "_model_module_version": "1.5.0",
       "_model_name": "HBoxModel",
       "_view_count": null,
       "_view_module": "@jupyter-widgets/controls",
       "_view_module_version": "1.5.0",
       "_view_name": "HBoxView",
       "box_style": "",
       "children": [
        "IPY_MODEL_363228d5383944bfbd4589d23c31bcb3",
        "IPY_MODEL_4146adc9b8274575a9e71d57cbc96b04",
        "IPY_MODEL_7c5af3c91b5a42b0b268a5dc32c2a8d1"
       ],
       "layout": "IPY_MODEL_af96940edb1a4f8faa43fef95b435637"
      }
     },
     "1d7657e86bb94fabbdf826e757fec9b6": {
      "model_module": "@jupyter-widgets/controls",
      "model_module_version": "1.5.0",
      "model_name": "HTMLModel",
      "state": {
       "_dom_classes": [],
       "_model_module": "@jupyter-widgets/controls",
       "_model_module_version": "1.5.0",
       "_model_name": "HTMLModel",
       "_view_count": null,
       "_view_module": "@jupyter-widgets/controls",
       "_view_module_version": "1.5.0",
       "_view_name": "HTMLView",
       "description": "",
       "description_tooltip": null,
       "layout": "IPY_MODEL_a02d9bb7639f4ab48346f83f7d965a15",
       "placeholder": "​",
       "style": "IPY_MODEL_aedf915572d54a609e7a91683f1ae26c",
       "value": " 5/5 [00:38&lt;00:00,  7.54s/it]"
      }
     },
     "1da715c478744f838c49f6e481b320c4": {
      "model_module": "@jupyter-widgets/base",
      "model_module_version": "1.2.0",
      "model_name": "LayoutModel",
      "state": {
       "_model_module": "@jupyter-widgets/base",
       "_model_module_version": "1.2.0",
       "_model_name": "LayoutModel",
       "_view_count": null,
       "_view_module": "@jupyter-widgets/base",
       "_view_module_version": "1.2.0",
       "_view_name": "LayoutView",
       "align_content": null,
       "align_items": null,
       "align_self": null,
       "border": null,
       "bottom": null,
       "display": null,
       "flex": null,
       "flex_flow": null,
       "grid_area": null,
       "grid_auto_columns": null,
       "grid_auto_flow": null,
       "grid_auto_rows": null,
       "grid_column": null,
       "grid_gap": null,
       "grid_row": null,
       "grid_template_areas": null,
       "grid_template_columns": null,
       "grid_template_rows": null,
       "height": null,
       "justify_content": null,
       "justify_items": null,
       "left": null,
       "margin": null,
       "max_height": null,
       "max_width": null,
       "min_height": null,
       "min_width": null,
       "object_fit": null,
       "object_position": null,
       "order": null,
       "overflow": null,
       "overflow_x": null,
       "overflow_y": null,
       "padding": null,
       "right": null,
       "top": null,
       "visibility": null,
       "width": null
      }
     },
     "1dbca8428a804182894cda665dd3e6d1": {
      "model_module": "@jupyter-widgets/base",
      "model_module_version": "1.2.0",
      "model_name": "LayoutModel",
      "state": {
       "_model_module": "@jupyter-widgets/base",
       "_model_module_version": "1.2.0",
       "_model_name": "LayoutModel",
       "_view_count": null,
       "_view_module": "@jupyter-widgets/base",
       "_view_module_version": "1.2.0",
       "_view_name": "LayoutView",
       "align_content": null,
       "align_items": null,
       "align_self": null,
       "border": null,
       "bottom": null,
       "display": null,
       "flex": null,
       "flex_flow": null,
       "grid_area": null,
       "grid_auto_columns": null,
       "grid_auto_flow": null,
       "grid_auto_rows": null,
       "grid_column": null,
       "grid_gap": null,
       "grid_row": null,
       "grid_template_areas": null,
       "grid_template_columns": null,
       "grid_template_rows": null,
       "height": null,
       "justify_content": null,
       "justify_items": null,
       "left": null,
       "margin": null,
       "max_height": null,
       "max_width": null,
       "min_height": null,
       "min_width": null,
       "object_fit": null,
       "object_position": null,
       "order": null,
       "overflow": null,
       "overflow_x": null,
       "overflow_y": null,
       "padding": null,
       "right": null,
       "top": null,
       "visibility": null,
       "width": null
      }
     },
     "21165cadecce4fbfb899974dea9d06eb": {
      "model_module": "@jupyter-widgets/base",
      "model_module_version": "1.2.0",
      "model_name": "LayoutModel",
      "state": {
       "_model_module": "@jupyter-widgets/base",
       "_model_module_version": "1.2.0",
       "_model_name": "LayoutModel",
       "_view_count": null,
       "_view_module": "@jupyter-widgets/base",
       "_view_module_version": "1.2.0",
       "_view_name": "LayoutView",
       "align_content": null,
       "align_items": null,
       "align_self": null,
       "border": null,
       "bottom": null,
       "display": null,
       "flex": null,
       "flex_flow": null,
       "grid_area": null,
       "grid_auto_columns": null,
       "grid_auto_flow": null,
       "grid_auto_rows": null,
       "grid_column": null,
       "grid_gap": null,
       "grid_row": null,
       "grid_template_areas": null,
       "grid_template_columns": null,
       "grid_template_rows": null,
       "height": null,
       "justify_content": null,
       "justify_items": null,
       "left": null,
       "margin": null,
       "max_height": null,
       "max_width": null,
       "min_height": null,
       "min_width": null,
       "object_fit": null,
       "object_position": null,
       "order": null,
       "overflow": null,
       "overflow_x": null,
       "overflow_y": null,
       "padding": null,
       "right": null,
       "top": null,
       "visibility": null,
       "width": null
      }
     },
     "23da882c860645209b051bc45e24ff7b": {
      "model_module": "@jupyter-widgets/base",
      "model_module_version": "1.2.0",
      "model_name": "LayoutModel",
      "state": {
       "_model_module": "@jupyter-widgets/base",
       "_model_module_version": "1.2.0",
       "_model_name": "LayoutModel",
       "_view_count": null,
       "_view_module": "@jupyter-widgets/base",
       "_view_module_version": "1.2.0",
       "_view_name": "LayoutView",
       "align_content": null,
       "align_items": null,
       "align_self": null,
       "border": null,
       "bottom": null,
       "display": null,
       "flex": null,
       "flex_flow": null,
       "grid_area": null,
       "grid_auto_columns": null,
       "grid_auto_flow": null,
       "grid_auto_rows": null,
       "grid_column": null,
       "grid_gap": null,
       "grid_row": null,
       "grid_template_areas": null,
       "grid_template_columns": null,
       "grid_template_rows": null,
       "height": null,
       "justify_content": null,
       "justify_items": null,
       "left": null,
       "margin": null,
       "max_height": null,
       "max_width": null,
       "min_height": null,
       "min_width": null,
       "object_fit": null,
       "object_position": null,
       "order": null,
       "overflow": null,
       "overflow_x": null,
       "overflow_y": null,
       "padding": null,
       "right": null,
       "top": null,
       "visibility": null,
       "width": null
      }
     },
     "2606a2ff0d77458198fa545b83b2a152": {
      "model_module": "@jupyter-widgets/base",
      "model_module_version": "1.2.0",
      "model_name": "LayoutModel",
      "state": {
       "_model_module": "@jupyter-widgets/base",
       "_model_module_version": "1.2.0",
       "_model_name": "LayoutModel",
       "_view_count": null,
       "_view_module": "@jupyter-widgets/base",
       "_view_module_version": "1.2.0",
       "_view_name": "LayoutView",
       "align_content": null,
       "align_items": null,
       "align_self": null,
       "border": null,
       "bottom": null,
       "display": null,
       "flex": null,
       "flex_flow": null,
       "grid_area": null,
       "grid_auto_columns": null,
       "grid_auto_flow": null,
       "grid_auto_rows": null,
       "grid_column": null,
       "grid_gap": null,
       "grid_row": null,
       "grid_template_areas": null,
       "grid_template_columns": null,
       "grid_template_rows": null,
       "height": null,
       "justify_content": null,
       "justify_items": null,
       "left": null,
       "margin": null,
       "max_height": null,
       "max_width": null,
       "min_height": null,
       "min_width": null,
       "object_fit": null,
       "object_position": null,
       "order": null,
       "overflow": null,
       "overflow_x": null,
       "overflow_y": null,
       "padding": null,
       "right": null,
       "top": null,
       "visibility": null,
       "width": null
      }
     },
     "26de485ad2134e7695546e3fb6600053": {
      "model_module": "@jupyter-widgets/controls",
      "model_module_version": "1.5.0",
      "model_name": "HBoxModel",
      "state": {
       "_dom_classes": [],
       "_model_module": "@jupyter-widgets/controls",
       "_model_module_version": "1.5.0",
       "_model_name": "HBoxModel",
       "_view_count": null,
       "_view_module": "@jupyter-widgets/controls",
       "_view_module_version": "1.5.0",
       "_view_name": "HBoxView",
       "box_style": "",
       "children": [
        "IPY_MODEL_178b1f6ad401482f805102bb1ae19fcb",
        "IPY_MODEL_ada447bf34cc41ef85bc38684a9b7593",
        "IPY_MODEL_a85c14a638d944a2a1093d83e24a2736"
       ],
       "layout": "IPY_MODEL_3e460c650422443e86aa708d3465dec0"
      }
     },
     "2b44a31d58524ef6869e95877ac998cb": {
      "model_module": "@jupyter-widgets/controls",
      "model_module_version": "1.5.0",
      "model_name": "HTMLModel",
      "state": {
       "_dom_classes": [],
       "_model_module": "@jupyter-widgets/controls",
       "_model_module_version": "1.5.0",
       "_model_name": "HTMLModel",
       "_view_count": null,
       "_view_module": "@jupyter-widgets/controls",
       "_view_module_version": "1.5.0",
       "_view_name": "HTMLView",
       "description": "",
       "description_tooltip": null,
       "layout": "IPY_MODEL_11733ab81f684423867a58dcfb8df683",
       "placeholder": "​",
       "style": "IPY_MODEL_5155688a9d5541408490d2b0d6279392",
       "value": "Batches: 100%"
      }
     },
     "2ba3d83839a845dc97c95180d0cf0989": {
      "model_module": "@jupyter-widgets/controls",
      "model_module_version": "1.5.0",
      "model_name": "DescriptionStyleModel",
      "state": {
       "_model_module": "@jupyter-widgets/controls",
       "_model_module_version": "1.5.0",
       "_model_name": "DescriptionStyleModel",
       "_view_count": null,
       "_view_module": "@jupyter-widgets/base",
       "_view_module_version": "1.2.0",
       "_view_name": "StyleView",
       "description_width": ""
      }
     },
     "2c38b07f2053421180644f43984f383e": {
      "model_module": "@jupyter-widgets/controls",
      "model_module_version": "1.5.0",
      "model_name": "DescriptionStyleModel",
      "state": {
       "_model_module": "@jupyter-widgets/controls",
       "_model_module_version": "1.5.0",
       "_model_name": "DescriptionStyleModel",
       "_view_count": null,
       "_view_module": "@jupyter-widgets/base",
       "_view_module_version": "1.2.0",
       "_view_name": "StyleView",
       "description_width": ""
      }
     },
     "312c9814cd0645e6aef6804af4727174": {
      "model_module": "@jupyter-widgets/controls",
      "model_module_version": "1.5.0",
      "model_name": "HTMLModel",
      "state": {
       "_dom_classes": [],
       "_model_module": "@jupyter-widgets/controls",
       "_model_module_version": "1.5.0",
       "_model_name": "HTMLModel",
       "_view_count": null,
       "_view_module": "@jupyter-widgets/controls",
       "_view_module_version": "1.5.0",
       "_view_name": "HTMLView",
       "description": "",
       "description_tooltip": null,
       "layout": "IPY_MODEL_74a03d7e2264420bac27d8bf8f580364",
       "placeholder": "​",
       "style": "IPY_MODEL_d451b18aa2dc44afafdcbe76fc0de642",
       "value": "100%"
      }
     },
     "32f5718cb1f946d6a2f2f39f2a8bff5b": {
      "model_module": "@jupyter-widgets/controls",
      "model_module_version": "1.5.0",
      "model_name": "DescriptionStyleModel",
      "state": {
       "_model_module": "@jupyter-widgets/controls",
       "_model_module_version": "1.5.0",
       "_model_name": "DescriptionStyleModel",
       "_view_count": null,
       "_view_module": "@jupyter-widgets/base",
       "_view_module_version": "1.2.0",
       "_view_name": "StyleView",
       "description_width": ""
      }
     },
     "33827761a5d7463bbc3c9d3b99027f17": {
      "model_module": "@jupyter-widgets/controls",
      "model_module_version": "1.5.0",
      "model_name": "DescriptionStyleModel",
      "state": {
       "_model_module": "@jupyter-widgets/controls",
       "_model_module_version": "1.5.0",
       "_model_name": "DescriptionStyleModel",
       "_view_count": null,
       "_view_module": "@jupyter-widgets/base",
       "_view_module_version": "1.2.0",
       "_view_name": "StyleView",
       "description_width": ""
      }
     },
     "33b530def8984267b2f2f0732de5060d": {
      "model_module": "@jupyter-widgets/base",
      "model_module_version": "1.2.0",
      "model_name": "LayoutModel",
      "state": {
       "_model_module": "@jupyter-widgets/base",
       "_model_module_version": "1.2.0",
       "_model_name": "LayoutModel",
       "_view_count": null,
       "_view_module": "@jupyter-widgets/base",
       "_view_module_version": "1.2.0",
       "_view_name": "LayoutView",
       "align_content": null,
       "align_items": null,
       "align_self": null,
       "border": null,
       "bottom": null,
       "display": null,
       "flex": null,
       "flex_flow": null,
       "grid_area": null,
       "grid_auto_columns": null,
       "grid_auto_flow": null,
       "grid_auto_rows": null,
       "grid_column": null,
       "grid_gap": null,
       "grid_row": null,
       "grid_template_areas": null,
       "grid_template_columns": null,
       "grid_template_rows": null,
       "height": null,
       "justify_content": null,
       "justify_items": null,
       "left": null,
       "margin": null,
       "max_height": null,
       "max_width": null,
       "min_height": null,
       "min_width": null,
       "object_fit": null,
       "object_position": null,
       "order": null,
       "overflow": null,
       "overflow_x": null,
       "overflow_y": null,
       "padding": null,
       "right": null,
       "top": null,
       "visibility": null,
       "width": null
      }
     },
     "363228d5383944bfbd4589d23c31bcb3": {
      "model_module": "@jupyter-widgets/controls",
      "model_module_version": "1.5.0",
      "model_name": "HTMLModel",
      "state": {
       "_dom_classes": [],
       "_model_module": "@jupyter-widgets/controls",
       "_model_module_version": "1.5.0",
       "_model_name": "HTMLModel",
       "_view_count": null,
       "_view_module": "@jupyter-widgets/controls",
       "_view_module_version": "1.5.0",
       "_view_name": "HTMLView",
       "description": "",
       "description_tooltip": null,
       "layout": "IPY_MODEL_0ab9e5337bee4e838b167ada4cb1b42b",
       "placeholder": "​",
       "style": "IPY_MODEL_e55cff7e02be4eb5a8a9b9716e81f7d4",
       "value": "100%"
      }
     },
     "3b5e28addea64ee5a7d6164c5f10dcc3": {
      "model_module": "@jupyter-widgets/controls",
      "model_module_version": "1.5.0",
      "model_name": "HBoxModel",
      "state": {
       "_dom_classes": [],
       "_model_module": "@jupyter-widgets/controls",
       "_model_module_version": "1.5.0",
       "_model_name": "HBoxModel",
       "_view_count": null,
       "_view_module": "@jupyter-widgets/controls",
       "_view_module_version": "1.5.0",
       "_view_name": "HBoxView",
       "box_style": "",
       "children": [
        "IPY_MODEL_12f2348dfb6d452ca479a36ca0761236",
        "IPY_MODEL_c1b69a401311426b852c6b9d5f4765ad",
        "IPY_MODEL_57497369dd534a29836fb935b39c8a75"
       ],
       "layout": "IPY_MODEL_1cb4130708144c1c9c664361d159f64d"
      }
     },
     "3e460c650422443e86aa708d3465dec0": {
      "model_module": "@jupyter-widgets/base",
      "model_module_version": "1.2.0",
      "model_name": "LayoutModel",
      "state": {
       "_model_module": "@jupyter-widgets/base",
       "_model_module_version": "1.2.0",
       "_model_name": "LayoutModel",
       "_view_count": null,
       "_view_module": "@jupyter-widgets/base",
       "_view_module_version": "1.2.0",
       "_view_name": "LayoutView",
       "align_content": null,
       "align_items": null,
       "align_self": null,
       "border": null,
       "bottom": null,
       "display": null,
       "flex": null,
       "flex_flow": null,
       "grid_area": null,
       "grid_auto_columns": null,
       "grid_auto_flow": null,
       "grid_auto_rows": null,
       "grid_column": null,
       "grid_gap": null,
       "grid_row": null,
       "grid_template_areas": null,
       "grid_template_columns": null,
       "grid_template_rows": null,
       "height": null,
       "justify_content": null,
       "justify_items": null,
       "left": null,
       "margin": null,
       "max_height": null,
       "max_width": null,
       "min_height": null,
       "min_width": null,
       "object_fit": null,
       "object_position": null,
       "order": null,
       "overflow": null,
       "overflow_x": null,
       "overflow_y": null,
       "padding": null,
       "right": null,
       "top": null,
       "visibility": "hidden",
       "width": null
      }
     },
     "4007fc9a34b6464cb9b142f94141e12f": {
      "model_module": "@jupyter-widgets/base",
      "model_module_version": "1.2.0",
      "model_name": "LayoutModel",
      "state": {
       "_model_module": "@jupyter-widgets/base",
       "_model_module_version": "1.2.0",
       "_model_name": "LayoutModel",
       "_view_count": null,
       "_view_module": "@jupyter-widgets/base",
       "_view_module_version": "1.2.0",
       "_view_name": "LayoutView",
       "align_content": null,
       "align_items": null,
       "align_self": null,
       "border": null,
       "bottom": null,
       "display": null,
       "flex": null,
       "flex_flow": null,
       "grid_area": null,
       "grid_auto_columns": null,
       "grid_auto_flow": null,
       "grid_auto_rows": null,
       "grid_column": null,
       "grid_gap": null,
       "grid_row": null,
       "grid_template_areas": null,
       "grid_template_columns": null,
       "grid_template_rows": null,
       "height": null,
       "justify_content": null,
       "justify_items": null,
       "left": null,
       "margin": null,
       "max_height": null,
       "max_width": null,
       "min_height": null,
       "min_width": null,
       "object_fit": null,
       "object_position": null,
       "order": null,
       "overflow": null,
       "overflow_x": null,
       "overflow_y": null,
       "padding": null,
       "right": null,
       "top": null,
       "visibility": "hidden",
       "width": null
      }
     },
     "4146adc9b8274575a9e71d57cbc96b04": {
      "model_module": "@jupyter-widgets/controls",
      "model_module_version": "1.5.0",
      "model_name": "FloatProgressModel",
      "state": {
       "_dom_classes": [],
       "_model_module": "@jupyter-widgets/controls",
       "_model_module_version": "1.5.0",
       "_model_name": "FloatProgressModel",
       "_view_count": null,
       "_view_module": "@jupyter-widgets/controls",
       "_view_module_version": "1.5.0",
       "_view_name": "ProgressView",
       "bar_style": "success",
       "description": "",
       "description_tooltip": null,
       "layout": "IPY_MODEL_5f4d7847be2f4a4a97bd3a06e84eff8b",
       "max": 7.0,
       "min": 0.0,
       "orientation": "horizontal",
       "style": "IPY_MODEL_915f18bcf43d4f829de1be06fa19292e",
       "value": 7.0
      }
     },
     "422818014e104252b7f6295b7498ac08": {
      "model_module": "@jupyter-widgets/controls",
      "model_module_version": "1.5.0",
      "model_name": "DescriptionStyleModel",
      "state": {
       "_model_module": "@jupyter-widgets/controls",
       "_model_module_version": "1.5.0",
       "_model_name": "DescriptionStyleModel",
       "_view_count": null,
       "_view_module": "@jupyter-widgets/base",
       "_view_module_version": "1.2.0",
       "_view_name": "StyleView",
       "description_width": ""
      }
     },
     "44092de2ddf8466d8d7f20f307a3549c": {
      "model_module": "@jupyter-widgets/controls",
      "model_module_version": "1.5.0",
      "model_name": "ProgressStyleModel",
      "state": {
       "_model_module": "@jupyter-widgets/controls",
       "_model_module_version": "1.5.0",
       "_model_name": "ProgressStyleModel",
       "_view_count": null,
       "_view_module": "@jupyter-widgets/base",
       "_view_module_version": "1.2.0",
       "_view_name": "StyleView",
       "bar_color": null,
       "description_width": ""
      }
     },
     "441812b8598d4bccbeb575e592d8da42": {
      "model_module": "@jupyter-widgets/controls",
      "model_module_version": "1.5.0",
      "model_name": "HTMLModel",
      "state": {
       "_dom_classes": [],
       "_model_module": "@jupyter-widgets/controls",
       "_model_module_version": "1.5.0",
       "_model_name": "HTMLModel",
       "_view_count": null,
       "_view_module": "@jupyter-widgets/controls",
       "_view_module_version": "1.5.0",
       "_view_name": "HTMLView",
       "description": "",
       "description_tooltip": null,
       "layout": "IPY_MODEL_1dbca8428a804182894cda665dd3e6d1",
       "placeholder": "​",
       "style": "IPY_MODEL_33827761a5d7463bbc3c9d3b99027f17",
       "value": "100%"
      }
     },
     "49cfd0b68674424c9eff8b1c1939660f": {
      "model_module": "@jupyter-widgets/base",
      "model_module_version": "1.2.0",
      "model_name": "LayoutModel",
      "state": {
       "_model_module": "@jupyter-widgets/base",
       "_model_module_version": "1.2.0",
       "_model_name": "LayoutModel",
       "_view_count": null,
       "_view_module": "@jupyter-widgets/base",
       "_view_module_version": "1.2.0",
       "_view_name": "LayoutView",
       "align_content": null,
       "align_items": null,
       "align_self": null,
       "border": null,
       "bottom": null,
       "display": null,
       "flex": null,
       "flex_flow": null,
       "grid_area": null,
       "grid_auto_columns": null,
       "grid_auto_flow": null,
       "grid_auto_rows": null,
       "grid_column": null,
       "grid_gap": null,
       "grid_row": null,
       "grid_template_areas": null,
       "grid_template_columns": null,
       "grid_template_rows": null,
       "height": null,
       "justify_content": null,
       "justify_items": null,
       "left": null,
       "margin": null,
       "max_height": null,
       "max_width": null,
       "min_height": null,
       "min_width": null,
       "object_fit": null,
       "object_position": null,
       "order": null,
       "overflow": null,
       "overflow_x": null,
       "overflow_y": null,
       "padding": null,
       "right": null,
       "top": null,
       "visibility": null,
       "width": null
      }
     },
     "5155688a9d5541408490d2b0d6279392": {
      "model_module": "@jupyter-widgets/controls",
      "model_module_version": "1.5.0",
      "model_name": "DescriptionStyleModel",
      "state": {
       "_model_module": "@jupyter-widgets/controls",
       "_model_module_version": "1.5.0",
       "_model_name": "DescriptionStyleModel",
       "_view_count": null,
       "_view_module": "@jupyter-widgets/base",
       "_view_module_version": "1.2.0",
       "_view_name": "StyleView",
       "description_width": ""
      }
     },
     "5590471d76e64e7f9a351cf5f735c5ca": {
      "model_module": "@jupyter-widgets/controls",
      "model_module_version": "1.5.0",
      "model_name": "HBoxModel",
      "state": {
       "_dom_classes": [],
       "_model_module": "@jupyter-widgets/controls",
       "_model_module_version": "1.5.0",
       "_model_name": "HBoxModel",
       "_view_count": null,
       "_view_module": "@jupyter-widgets/controls",
       "_view_module_version": "1.5.0",
       "_view_name": "HBoxView",
       "box_style": "",
       "children": [
        "IPY_MODEL_ddf878395ae145d3b33e88d0c18a8daa",
        "IPY_MODEL_604e91250f2840d881d149815122130d",
        "IPY_MODEL_1d7657e86bb94fabbdf826e757fec9b6"
       ],
       "layout": "IPY_MODEL_b3c83c4b185244c7823bc281fe75d412"
      }
     },
     "57497369dd534a29836fb935b39c8a75": {
      "model_module": "@jupyter-widgets/controls",
      "model_module_version": "1.5.0",
      "model_name": "HTMLModel",
      "state": {
       "_dom_classes": [],
       "_model_module": "@jupyter-widgets/controls",
       "_model_module_version": "1.5.0",
       "_model_name": "HTMLModel",
       "_view_count": null,
       "_view_module": "@jupyter-widgets/controls",
       "_view_module_version": "1.5.0",
       "_view_name": "HTMLView",
       "description": "",
       "description_tooltip": null,
       "layout": "IPY_MODEL_90e37a7615cf46b09990455d742bae6f",
       "placeholder": "​",
       "style": "IPY_MODEL_933c0b775aeb4ba2b8641c8edc8008fd",
       "value": " 7/7 [00:04&lt;00:00,  2.96it/s]"
      }
     },
     "5f4d7847be2f4a4a97bd3a06e84eff8b": {
      "model_module": "@jupyter-widgets/base",
      "model_module_version": "1.2.0",
      "model_name": "LayoutModel",
      "state": {
       "_model_module": "@jupyter-widgets/base",
       "_model_module_version": "1.2.0",
       "_model_name": "LayoutModel",
       "_view_count": null,
       "_view_module": "@jupyter-widgets/base",
       "_view_module_version": "1.2.0",
       "_view_name": "LayoutView",
       "align_content": null,
       "align_items": null,
       "align_self": null,
       "border": null,
       "bottom": null,
       "display": null,
       "flex": null,
       "flex_flow": null,
       "grid_area": null,
       "grid_auto_columns": null,
       "grid_auto_flow": null,
       "grid_auto_rows": null,
       "grid_column": null,
       "grid_gap": null,
       "grid_row": null,
       "grid_template_areas": null,
       "grid_template_columns": null,
       "grid_template_rows": null,
       "height": null,
       "justify_content": null,
       "justify_items": null,
       "left": null,
       "margin": null,
       "max_height": null,
       "max_width": null,
       "min_height": null,
       "min_width": null,
       "object_fit": null,
       "object_position": null,
       "order": null,
       "overflow": null,
       "overflow_x": null,
       "overflow_y": null,
       "padding": null,
       "right": null,
       "top": null,
       "visibility": null,
       "width": null
      }
     },
     "604e91250f2840d881d149815122130d": {
      "model_module": "@jupyter-widgets/controls",
      "model_module_version": "1.5.0",
      "model_name": "FloatProgressModel",
      "state": {
       "_dom_classes": [],
       "_model_module": "@jupyter-widgets/controls",
       "_model_module_version": "1.5.0",
       "_model_name": "FloatProgressModel",
       "_view_count": null,
       "_view_module": "@jupyter-widgets/controls",
       "_view_module_version": "1.5.0",
       "_view_name": "ProgressView",
       "bar_style": "success",
       "description": "",
       "description_tooltip": null,
       "layout": "IPY_MODEL_98676eadee3647b5a2b9dc9a45c9345e",
       "max": 5.0,
       "min": 0.0,
       "orientation": "horizontal",
       "style": "IPY_MODEL_44092de2ddf8466d8d7f20f307a3549c",
       "value": 5.0
      }
     },
     "66b3e8df360f4ce3b953a71b6ae02561": {
      "model_module": "@jupyter-widgets/base",
      "model_module_version": "1.2.0",
      "model_name": "LayoutModel",
      "state": {
       "_model_module": "@jupyter-widgets/base",
       "_model_module_version": "1.2.0",
       "_model_name": "LayoutModel",
       "_view_count": null,
       "_view_module": "@jupyter-widgets/base",
       "_view_module_version": "1.2.0",
       "_view_name": "LayoutView",
       "align_content": null,
       "align_items": null,
       "align_self": null,
       "border": null,
       "bottom": null,
       "display": null,
       "flex": null,
       "flex_flow": null,
       "grid_area": null,
       "grid_auto_columns": null,
       "grid_auto_flow": null,
       "grid_auto_rows": null,
       "grid_column": null,
       "grid_gap": null,
       "grid_row": null,
       "grid_template_areas": null,
       "grid_template_columns": null,
       "grid_template_rows": null,
       "height": null,
       "justify_content": null,
       "justify_items": null,
       "left": null,
       "margin": null,
       "max_height": null,
       "max_width": null,
       "min_height": null,
       "min_width": null,
       "object_fit": null,
       "object_position": null,
       "order": null,
       "overflow": null,
       "overflow_x": null,
       "overflow_y": null,
       "padding": null,
       "right": null,
       "top": null,
       "visibility": null,
       "width": null
      }
     },
     "69af616fd6694065a2ec714d4ec50bdc": {
      "model_module": "@jupyter-widgets/controls",
      "model_module_version": "1.5.0",
      "model_name": "HBoxModel",
      "state": {
       "_dom_classes": [],
       "_model_module": "@jupyter-widgets/controls",
       "_model_module_version": "1.5.0",
       "_model_name": "HBoxModel",
       "_view_count": null,
       "_view_module": "@jupyter-widgets/controls",
       "_view_module_version": "1.5.0",
       "_view_name": "HBoxView",
       "box_style": "",
       "children": [
        "IPY_MODEL_2b44a31d58524ef6869e95877ac998cb",
        "IPY_MODEL_1b980b555c6d4be7b594d6e06a708344",
        "IPY_MODEL_b84f014d9273472d8c7203148aeee5bd"
       ],
       "layout": "IPY_MODEL_16105367fb8747fc9466c5bb3e1c7086"
      }
     },
     "74a03d7e2264420bac27d8bf8f580364": {
      "model_module": "@jupyter-widgets/base",
      "model_module_version": "1.2.0",
      "model_name": "LayoutModel",
      "state": {
       "_model_module": "@jupyter-widgets/base",
       "_model_module_version": "1.2.0",
       "_model_name": "LayoutModel",
       "_view_count": null,
       "_view_module": "@jupyter-widgets/base",
       "_view_module_version": "1.2.0",
       "_view_name": "LayoutView",
       "align_content": null,
       "align_items": null,
       "align_self": null,
       "border": null,
       "bottom": null,
       "display": null,
       "flex": null,
       "flex_flow": null,
       "grid_area": null,
       "grid_auto_columns": null,
       "grid_auto_flow": null,
       "grid_auto_rows": null,
       "grid_column": null,
       "grid_gap": null,
       "grid_row": null,
       "grid_template_areas": null,
       "grid_template_columns": null,
       "grid_template_rows": null,
       "height": null,
       "justify_content": null,
       "justify_items": null,
       "left": null,
       "margin": null,
       "max_height": null,
       "max_width": null,
       "min_height": null,
       "min_width": null,
       "object_fit": null,
       "object_position": null,
       "order": null,
       "overflow": null,
       "overflow_x": null,
       "overflow_y": null,
       "padding": null,
       "right": null,
       "top": null,
       "visibility": null,
       "width": null
      }
     },
     "77f86af2a85c409493acca27984aaf5f": {
      "model_module": "@jupyter-widgets/base",
      "model_module_version": "1.2.0",
      "model_name": "LayoutModel",
      "state": {
       "_model_module": "@jupyter-widgets/base",
       "_model_module_version": "1.2.0",
       "_model_name": "LayoutModel",
       "_view_count": null,
       "_view_module": "@jupyter-widgets/base",
       "_view_module_version": "1.2.0",
       "_view_name": "LayoutView",
       "align_content": null,
       "align_items": null,
       "align_self": null,
       "border": null,
       "bottom": null,
       "display": null,
       "flex": null,
       "flex_flow": null,
       "grid_area": null,
       "grid_auto_columns": null,
       "grid_auto_flow": null,
       "grid_auto_rows": null,
       "grid_column": null,
       "grid_gap": null,
       "grid_row": null,
       "grid_template_areas": null,
       "grid_template_columns": null,
       "grid_template_rows": null,
       "height": null,
       "justify_content": null,
       "justify_items": null,
       "left": null,
       "margin": null,
       "max_height": null,
       "max_width": null,
       "min_height": null,
       "min_width": null,
       "object_fit": null,
       "object_position": null,
       "order": null,
       "overflow": null,
       "overflow_x": null,
       "overflow_y": null,
       "padding": null,
       "right": null,
       "top": null,
       "visibility": "hidden",
       "width": null
      }
     },
     "7c5af3c91b5a42b0b268a5dc32c2a8d1": {
      "model_module": "@jupyter-widgets/controls",
      "model_module_version": "1.5.0",
      "model_name": "HTMLModel",
      "state": {
       "_dom_classes": [],
       "_model_module": "@jupyter-widgets/controls",
       "_model_module_version": "1.5.0",
       "_model_name": "HTMLModel",
       "_view_count": null,
       "_view_module": "@jupyter-widgets/controls",
       "_view_module_version": "1.5.0",
       "_view_name": "HTMLView",
       "description": "",
       "description_tooltip": null,
       "layout": "IPY_MODEL_1da715c478744f838c49f6e481b320c4",
       "placeholder": "​",
       "style": "IPY_MODEL_c63b60a5e8164e8b876e1d007c476a32",
       "value": " 7/7 [00:05&lt;00:00,  2.98it/s]"
      }
     },
     "7cd53889db2a4342ae6cf09b2211330d": {
      "model_module": "@jupyter-widgets/base",
      "model_module_version": "1.2.0",
      "model_name": "LayoutModel",
      "state": {
       "_model_module": "@jupyter-widgets/base",
       "_model_module_version": "1.2.0",
       "_model_name": "LayoutModel",
       "_view_count": null,
       "_view_module": "@jupyter-widgets/base",
       "_view_module_version": "1.2.0",
       "_view_name": "LayoutView",
       "align_content": null,
       "align_items": null,
       "align_self": null,
       "border": null,
       "bottom": null,
       "display": null,
       "flex": null,
       "flex_flow": null,
       "grid_area": null,
       "grid_auto_columns": null,
       "grid_auto_flow": null,
       "grid_auto_rows": null,
       "grid_column": null,
       "grid_gap": null,
       "grid_row": null,
       "grid_template_areas": null,
       "grid_template_columns": null,
       "grid_template_rows": null,
       "height": null,
       "justify_content": null,
       "justify_items": null,
       "left": null,
       "margin": null,
       "max_height": null,
       "max_width": null,
       "min_height": null,
       "min_width": null,
       "object_fit": null,
       "object_position": null,
       "order": null,
       "overflow": null,
       "overflow_x": null,
       "overflow_y": null,
       "padding": null,
       "right": null,
       "top": null,
       "visibility": null,
       "width": null
      }
     },
     "8ddd9a4ea3954860b70c5120934df916": {
      "model_module": "@jupyter-widgets/controls",
      "model_module_version": "1.5.0",
      "model_name": "DescriptionStyleModel",
      "state": {
       "_model_module": "@jupyter-widgets/controls",
       "_model_module_version": "1.5.0",
       "_model_name": "DescriptionStyleModel",
       "_view_count": null,
       "_view_module": "@jupyter-widgets/base",
       "_view_module_version": "1.2.0",
       "_view_name": "StyleView",
       "description_width": ""
      }
     },
     "9084901e5a8c49c491af7eee920f5c8e": {
      "model_module": "@jupyter-widgets/controls",
      "model_module_version": "1.5.0",
      "model_name": "ProgressStyleModel",
      "state": {
       "_model_module": "@jupyter-widgets/controls",
       "_model_module_version": "1.5.0",
       "_model_name": "ProgressStyleModel",
       "_view_count": null,
       "_view_module": "@jupyter-widgets/base",
       "_view_module_version": "1.2.0",
       "_view_name": "StyleView",
       "bar_color": null,
       "description_width": ""
      }
     },
     "909f74adc7b74c8b90568cdd1e492210": {
      "model_module": "@jupyter-widgets/base",
      "model_module_version": "1.2.0",
      "model_name": "LayoutModel",
      "state": {
       "_model_module": "@jupyter-widgets/base",
       "_model_module_version": "1.2.0",
       "_model_name": "LayoutModel",
       "_view_count": null,
       "_view_module": "@jupyter-widgets/base",
       "_view_module_version": "1.2.0",
       "_view_name": "LayoutView",
       "align_content": null,
       "align_items": null,
       "align_self": null,
       "border": null,
       "bottom": null,
       "display": null,
       "flex": null,
       "flex_flow": null,
       "grid_area": null,
       "grid_auto_columns": null,
       "grid_auto_flow": null,
       "grid_auto_rows": null,
       "grid_column": null,
       "grid_gap": null,
       "grid_row": null,
       "grid_template_areas": null,
       "grid_template_columns": null,
       "grid_template_rows": null,
       "height": null,
       "justify_content": null,
       "justify_items": null,
       "left": null,
       "margin": null,
       "max_height": null,
       "max_width": null,
       "min_height": null,
       "min_width": null,
       "object_fit": null,
       "object_position": null,
       "order": null,
       "overflow": null,
       "overflow_x": null,
       "overflow_y": null,
       "padding": null,
       "right": null,
       "top": null,
       "visibility": null,
       "width": null
      }
     },
     "90e37a7615cf46b09990455d742bae6f": {
      "model_module": "@jupyter-widgets/base",
      "model_module_version": "1.2.0",
      "model_name": "LayoutModel",
      "state": {
       "_model_module": "@jupyter-widgets/base",
       "_model_module_version": "1.2.0",
       "_model_name": "LayoutModel",
       "_view_count": null,
       "_view_module": "@jupyter-widgets/base",
       "_view_module_version": "1.2.0",
       "_view_name": "LayoutView",
       "align_content": null,
       "align_items": null,
       "align_self": null,
       "border": null,
       "bottom": null,
       "display": null,
       "flex": null,
       "flex_flow": null,
       "grid_area": null,
       "grid_auto_columns": null,
       "grid_auto_flow": null,
       "grid_auto_rows": null,
       "grid_column": null,
       "grid_gap": null,
       "grid_row": null,
       "grid_template_areas": null,
       "grid_template_columns": null,
       "grid_template_rows": null,
       "height": null,
       "justify_content": null,
       "justify_items": null,
       "left": null,
       "margin": null,
       "max_height": null,
       "max_width": null,
       "min_height": null,
       "min_width": null,
       "object_fit": null,
       "object_position": null,
       "order": null,
       "overflow": null,
       "overflow_x": null,
       "overflow_y": null,
       "padding": null,
       "right": null,
       "top": null,
       "visibility": null,
       "width": null
      }
     },
     "915cd6c558184ab09a07c96a63b69ab8": {
      "model_module": "@jupyter-widgets/controls",
      "model_module_version": "1.5.0",
      "model_name": "ProgressStyleModel",
      "state": {
       "_model_module": "@jupyter-widgets/controls",
       "_model_module_version": "1.5.0",
       "_model_name": "ProgressStyleModel",
       "_view_count": null,
       "_view_module": "@jupyter-widgets/base",
       "_view_module_version": "1.2.0",
       "_view_name": "StyleView",
       "bar_color": null,
       "description_width": ""
      }
     },
     "915f18bcf43d4f829de1be06fa19292e": {
      "model_module": "@jupyter-widgets/controls",
      "model_module_version": "1.5.0",
      "model_name": "ProgressStyleModel",
      "state": {
       "_model_module": "@jupyter-widgets/controls",
       "_model_module_version": "1.5.0",
       "_model_name": "ProgressStyleModel",
       "_view_count": null,
       "_view_module": "@jupyter-widgets/base",
       "_view_module_version": "1.2.0",
       "_view_name": "StyleView",
       "bar_color": null,
       "description_width": ""
      }
     },
     "933c0b775aeb4ba2b8641c8edc8008fd": {
      "model_module": "@jupyter-widgets/controls",
      "model_module_version": "1.5.0",
      "model_name": "DescriptionStyleModel",
      "state": {
       "_model_module": "@jupyter-widgets/controls",
       "_model_module_version": "1.5.0",
       "_model_name": "DescriptionStyleModel",
       "_view_count": null,
       "_view_module": "@jupyter-widgets/base",
       "_view_module_version": "1.2.0",
       "_view_name": "StyleView",
       "description_width": ""
      }
     },
     "97cd3d5579504a27a76be0da235e7f82": {
      "model_module": "@jupyter-widgets/base",
      "model_module_version": "1.2.0",
      "model_name": "LayoutModel",
      "state": {
       "_model_module": "@jupyter-widgets/base",
       "_model_module_version": "1.2.0",
       "_model_name": "LayoutModel",
       "_view_count": null,
       "_view_module": "@jupyter-widgets/base",
       "_view_module_version": "1.2.0",
       "_view_name": "LayoutView",
       "align_content": null,
       "align_items": null,
       "align_self": null,
       "border": null,
       "bottom": null,
       "display": null,
       "flex": null,
       "flex_flow": null,
       "grid_area": null,
       "grid_auto_columns": null,
       "grid_auto_flow": null,
       "grid_auto_rows": null,
       "grid_column": null,
       "grid_gap": null,
       "grid_row": null,
       "grid_template_areas": null,
       "grid_template_columns": null,
       "grid_template_rows": null,
       "height": null,
       "justify_content": null,
       "justify_items": null,
       "left": null,
       "margin": null,
       "max_height": null,
       "max_width": null,
       "min_height": null,
       "min_width": null,
       "object_fit": null,
       "object_position": null,
       "order": null,
       "overflow": null,
       "overflow_x": null,
       "overflow_y": null,
       "padding": null,
       "right": null,
       "top": null,
       "visibility": null,
       "width": null
      }
     },
     "98676eadee3647b5a2b9dc9a45c9345e": {
      "model_module": "@jupyter-widgets/base",
      "model_module_version": "1.2.0",
      "model_name": "LayoutModel",
      "state": {
       "_model_module": "@jupyter-widgets/base",
       "_model_module_version": "1.2.0",
       "_model_name": "LayoutModel",
       "_view_count": null,
       "_view_module": "@jupyter-widgets/base",
       "_view_module_version": "1.2.0",
       "_view_name": "LayoutView",
       "align_content": null,
       "align_items": null,
       "align_self": null,
       "border": null,
       "bottom": null,
       "display": null,
       "flex": null,
       "flex_flow": null,
       "grid_area": null,
       "grid_auto_columns": null,
       "grid_auto_flow": null,
       "grid_auto_rows": null,
       "grid_column": null,
       "grid_gap": null,
       "grid_row": null,
       "grid_template_areas": null,
       "grid_template_columns": null,
       "grid_template_rows": null,
       "height": null,
       "justify_content": null,
       "justify_items": null,
       "left": null,
       "margin": null,
       "max_height": null,
       "max_width": null,
       "min_height": null,
       "min_width": null,
       "object_fit": null,
       "object_position": null,
       "order": null,
       "overflow": null,
       "overflow_x": null,
       "overflow_y": null,
       "padding": null,
       "right": null,
       "top": null,
       "visibility": null,
       "width": null
      }
     },
     "9bd0e64dcf6343eba15b61f14d80301f": {
      "model_module": "@jupyter-widgets/base",
      "model_module_version": "1.2.0",
      "model_name": "LayoutModel",
      "state": {
       "_model_module": "@jupyter-widgets/base",
       "_model_module_version": "1.2.0",
       "_model_name": "LayoutModel",
       "_view_count": null,
       "_view_module": "@jupyter-widgets/base",
       "_view_module_version": "1.2.0",
       "_view_name": "LayoutView",
       "align_content": null,
       "align_items": null,
       "align_self": null,
       "border": null,
       "bottom": null,
       "display": null,
       "flex": null,
       "flex_flow": null,
       "grid_area": null,
       "grid_auto_columns": null,
       "grid_auto_flow": null,
       "grid_auto_rows": null,
       "grid_column": null,
       "grid_gap": null,
       "grid_row": null,
       "grid_template_areas": null,
       "grid_template_columns": null,
       "grid_template_rows": null,
       "height": null,
       "justify_content": null,
       "justify_items": null,
       "left": null,
       "margin": null,
       "max_height": null,
       "max_width": null,
       "min_height": null,
       "min_width": null,
       "object_fit": null,
       "object_position": null,
       "order": null,
       "overflow": null,
       "overflow_x": null,
       "overflow_y": null,
       "padding": null,
       "right": null,
       "top": null,
       "visibility": null,
       "width": null
      }
     },
     "9c6404a373664c4d82ec5bd15a77fe9f": {
      "model_module": "@jupyter-widgets/base",
      "model_module_version": "1.2.0",
      "model_name": "LayoutModel",
      "state": {
       "_model_module": "@jupyter-widgets/base",
       "_model_module_version": "1.2.0",
       "_model_name": "LayoutModel",
       "_view_count": null,
       "_view_module": "@jupyter-widgets/base",
       "_view_module_version": "1.2.0",
       "_view_name": "LayoutView",
       "align_content": null,
       "align_items": null,
       "align_self": null,
       "border": null,
       "bottom": null,
       "display": null,
       "flex": null,
       "flex_flow": null,
       "grid_area": null,
       "grid_auto_columns": null,
       "grid_auto_flow": null,
       "grid_auto_rows": null,
       "grid_column": null,
       "grid_gap": null,
       "grid_row": null,
       "grid_template_areas": null,
       "grid_template_columns": null,
       "grid_template_rows": null,
       "height": null,
       "justify_content": null,
       "justify_items": null,
       "left": null,
       "margin": null,
       "max_height": null,
       "max_width": null,
       "min_height": null,
       "min_width": null,
       "object_fit": null,
       "object_position": null,
       "order": null,
       "overflow": null,
       "overflow_x": null,
       "overflow_y": null,
       "padding": null,
       "right": null,
       "top": null,
       "visibility": null,
       "width": null
      }
     },
     "9f6373ac621c4755a27c47a1326ad8b0": {
      "model_module": "@jupyter-widgets/controls",
      "model_module_version": "1.5.0",
      "model_name": "ProgressStyleModel",
      "state": {
       "_model_module": "@jupyter-widgets/controls",
       "_model_module_version": "1.5.0",
       "_model_name": "ProgressStyleModel",
       "_view_count": null,
       "_view_module": "@jupyter-widgets/base",
       "_view_module_version": "1.2.0",
       "_view_name": "StyleView",
       "bar_color": null,
       "description_width": ""
      }
     },
     "a02d9bb7639f4ab48346f83f7d965a15": {
      "model_module": "@jupyter-widgets/base",
      "model_module_version": "1.2.0",
      "model_name": "LayoutModel",
      "state": {
       "_model_module": "@jupyter-widgets/base",
       "_model_module_version": "1.2.0",
       "_model_name": "LayoutModel",
       "_view_count": null,
       "_view_module": "@jupyter-widgets/base",
       "_view_module_version": "1.2.0",
       "_view_name": "LayoutView",
       "align_content": null,
       "align_items": null,
       "align_self": null,
       "border": null,
       "bottom": null,
       "display": null,
       "flex": null,
       "flex_flow": null,
       "grid_area": null,
       "grid_auto_columns": null,
       "grid_auto_flow": null,
       "grid_auto_rows": null,
       "grid_column": null,
       "grid_gap": null,
       "grid_row": null,
       "grid_template_areas": null,
       "grid_template_columns": null,
       "grid_template_rows": null,
       "height": null,
       "justify_content": null,
       "justify_items": null,
       "left": null,
       "margin": null,
       "max_height": null,
       "max_width": null,
       "min_height": null,
       "min_width": null,
       "object_fit": null,
       "object_position": null,
       "order": null,
       "overflow": null,
       "overflow_x": null,
       "overflow_y": null,
       "padding": null,
       "right": null,
       "top": null,
       "visibility": null,
       "width": null
      }
     },
     "a767c9d41a0f454aa2e64b726b889138": {
      "model_module": "@jupyter-widgets/base",
      "model_module_version": "1.2.0",
      "model_name": "LayoutModel",
      "state": {
       "_model_module": "@jupyter-widgets/base",
       "_model_module_version": "1.2.0",
       "_model_name": "LayoutModel",
       "_view_count": null,
       "_view_module": "@jupyter-widgets/base",
       "_view_module_version": "1.2.0",
       "_view_name": "LayoutView",
       "align_content": null,
       "align_items": null,
       "align_self": null,
       "border": null,
       "bottom": null,
       "display": null,
       "flex": null,
       "flex_flow": null,
       "grid_area": null,
       "grid_auto_columns": null,
       "grid_auto_flow": null,
       "grid_auto_rows": null,
       "grid_column": null,
       "grid_gap": null,
       "grid_row": null,
       "grid_template_areas": null,
       "grid_template_columns": null,
       "grid_template_rows": null,
       "height": null,
       "justify_content": null,
       "justify_items": null,
       "left": null,
       "margin": null,
       "max_height": null,
       "max_width": null,
       "min_height": null,
       "min_width": null,
       "object_fit": null,
       "object_position": null,
       "order": null,
       "overflow": null,
       "overflow_x": null,
       "overflow_y": null,
       "padding": null,
       "right": null,
       "top": null,
       "visibility": null,
       "width": null
      }
     },
     "a85c14a638d944a2a1093d83e24a2736": {
      "model_module": "@jupyter-widgets/controls",
      "model_module_version": "1.5.0",
      "model_name": "HTMLModel",
      "state": {
       "_dom_classes": [],
       "_model_module": "@jupyter-widgets/controls",
       "_model_module_version": "1.5.0",
       "_model_name": "HTMLModel",
       "_view_count": null,
       "_view_module": "@jupyter-widgets/controls",
       "_view_module_version": "1.5.0",
       "_view_name": "HTMLView",
       "description": "",
       "description_tooltip": null,
       "layout": "IPY_MODEL_66b3e8df360f4ce3b953a71b6ae02561",
       "placeholder": "​",
       "style": "IPY_MODEL_32f5718cb1f946d6a2f2f39f2a8bff5b",
       "value": " 1/1 [00:00&lt;00:00,  1.27it/s]"
      }
     },
     "a93a0daea24d4903bf66b09781d66a72": {
      "model_module": "@jupyter-widgets/controls",
      "model_module_version": "1.5.0",
      "model_name": "HTMLModel",
      "state": {
       "_dom_classes": [],
       "_model_module": "@jupyter-widgets/controls",
       "_model_module_version": "1.5.0",
       "_model_name": "HTMLModel",
       "_view_count": null,
       "_view_module": "@jupyter-widgets/controls",
       "_view_module_version": "1.5.0",
       "_view_name": "HTMLView",
       "description": "",
       "description_tooltip": null,
       "layout": "IPY_MODEL_2606a2ff0d77458198fa545b83b2a152",
       "placeholder": "​",
       "style": "IPY_MODEL_a9bd3208202a4fb8ade07e64b52dd677",
       "value": "100%"
      }
     },
     "a9bd3208202a4fb8ade07e64b52dd677": {
      "model_module": "@jupyter-widgets/controls",
      "model_module_version": "1.5.0",
      "model_name": "DescriptionStyleModel",
      "state": {
       "_model_module": "@jupyter-widgets/controls",
       "_model_module_version": "1.5.0",
       "_model_name": "DescriptionStyleModel",
       "_view_count": null,
       "_view_module": "@jupyter-widgets/base",
       "_view_module_version": "1.2.0",
       "_view_name": "StyleView",
       "description_width": ""
      }
     },
     "ada447bf34cc41ef85bc38684a9b7593": {
      "model_module": "@jupyter-widgets/controls",
      "model_module_version": "1.5.0",
      "model_name": "FloatProgressModel",
      "state": {
       "_dom_classes": [],
       "_model_module": "@jupyter-widgets/controls",
       "_model_module_version": "1.5.0",
       "_model_name": "FloatProgressModel",
       "_view_count": null,
       "_view_module": "@jupyter-widgets/controls",
       "_view_module_version": "1.5.0",
       "_view_name": "ProgressView",
       "bar_style": "",
       "description": "",
       "description_tooltip": null,
       "layout": "IPY_MODEL_21165cadecce4fbfb899974dea9d06eb",
       "max": 1.0,
       "min": 0.0,
       "orientation": "horizontal",
       "style": "IPY_MODEL_9f6373ac621c4755a27c47a1326ad8b0",
       "value": 1.0
      }
     },
     "aedf915572d54a609e7a91683f1ae26c": {
      "model_module": "@jupyter-widgets/controls",
      "model_module_version": "1.5.0",
      "model_name": "DescriptionStyleModel",
      "state": {
       "_model_module": "@jupyter-widgets/controls",
       "_model_module_version": "1.5.0",
       "_model_name": "DescriptionStyleModel",
       "_view_count": null,
       "_view_module": "@jupyter-widgets/base",
       "_view_module_version": "1.2.0",
       "_view_name": "StyleView",
       "description_width": ""
      }
     },
     "af96940edb1a4f8faa43fef95b435637": {
      "model_module": "@jupyter-widgets/base",
      "model_module_version": "1.2.0",
      "model_name": "LayoutModel",
      "state": {
       "_model_module": "@jupyter-widgets/base",
       "_model_module_version": "1.2.0",
       "_model_name": "LayoutModel",
       "_view_count": null,
       "_view_module": "@jupyter-widgets/base",
       "_view_module_version": "1.2.0",
       "_view_name": "LayoutView",
       "align_content": null,
       "align_items": null,
       "align_self": null,
       "border": null,
       "bottom": null,
       "display": null,
       "flex": null,
       "flex_flow": null,
       "grid_area": null,
       "grid_auto_columns": null,
       "grid_auto_flow": null,
       "grid_auto_rows": null,
       "grid_column": null,
       "grid_gap": null,
       "grid_row": null,
       "grid_template_areas": null,
       "grid_template_columns": null,
       "grid_template_rows": null,
       "height": null,
       "justify_content": null,
       "justify_items": null,
       "left": null,
       "margin": null,
       "max_height": null,
       "max_width": null,
       "min_height": null,
       "min_width": null,
       "object_fit": null,
       "object_position": null,
       "order": null,
       "overflow": null,
       "overflow_x": null,
       "overflow_y": null,
       "padding": null,
       "right": null,
       "top": null,
       "visibility": null,
       "width": null
      }
     },
     "b386c13200a641f1a9b7eb73bf577579": {
      "model_module": "@jupyter-widgets/controls",
      "model_module_version": "1.5.0",
      "model_name": "HBoxModel",
      "state": {
       "_dom_classes": [],
       "_model_module": "@jupyter-widgets/controls",
       "_model_module_version": "1.5.0",
       "_model_name": "HBoxModel",
       "_view_count": null,
       "_view_module": "@jupyter-widgets/controls",
       "_view_module_version": "1.5.0",
       "_view_name": "HBoxView",
       "box_style": "",
       "children": [
        "IPY_MODEL_a93a0daea24d4903bf66b09781d66a72",
        "IPY_MODEL_eb28ce75649943a2932ffe3cb9104c96",
        "IPY_MODEL_b7bcb2b28eed4e55976e362ea89bcbcd"
       ],
       "layout": "IPY_MODEL_4007fc9a34b6464cb9b142f94141e12f"
      }
     },
     "b3c83c4b185244c7823bc281fe75d412": {
      "model_module": "@jupyter-widgets/base",
      "model_module_version": "1.2.0",
      "model_name": "LayoutModel",
      "state": {
       "_model_module": "@jupyter-widgets/base",
       "_model_module_version": "1.2.0",
       "_model_name": "LayoutModel",
       "_view_count": null,
       "_view_module": "@jupyter-widgets/base",
       "_view_module_version": "1.2.0",
       "_view_name": "LayoutView",
       "align_content": null,
       "align_items": null,
       "align_self": null,
       "border": null,
       "bottom": null,
       "display": null,
       "flex": null,
       "flex_flow": null,
       "grid_area": null,
       "grid_auto_columns": null,
       "grid_auto_flow": null,
       "grid_auto_rows": null,
       "grid_column": null,
       "grid_gap": null,
       "grid_row": null,
       "grid_template_areas": null,
       "grid_template_columns": null,
       "grid_template_rows": null,
       "height": null,
       "justify_content": null,
       "justify_items": null,
       "left": null,
       "margin": null,
       "max_height": null,
       "max_width": null,
       "min_height": null,
       "min_width": null,
       "object_fit": null,
       "object_position": null,
       "order": null,
       "overflow": null,
       "overflow_x": null,
       "overflow_y": null,
       "padding": null,
       "right": null,
       "top": null,
       "visibility": null,
       "width": null
      }
     },
     "b7bcb2b28eed4e55976e362ea89bcbcd": {
      "model_module": "@jupyter-widgets/controls",
      "model_module_version": "1.5.0",
      "model_name": "HTMLModel",
      "state": {
       "_dom_classes": [],
       "_model_module": "@jupyter-widgets/controls",
       "_model_module_version": "1.5.0",
       "_model_name": "HTMLModel",
       "_view_count": null,
       "_view_module": "@jupyter-widgets/controls",
       "_view_module_version": "1.5.0",
       "_view_name": "HTMLView",
       "description": "",
       "description_tooltip": null,
       "layout": "IPY_MODEL_9c6404a373664c4d82ec5bd15a77fe9f",
       "placeholder": "​",
       "style": "IPY_MODEL_0010c440cef84f3da37ca4978ec93aca",
       "value": " 1/1 [00:00&lt;00:00,  1.18it/s]"
      }
     },
     "b84f014d9273472d8c7203148aeee5bd": {
      "model_module": "@jupyter-widgets/controls",
      "model_module_version": "1.5.0",
      "model_name": "HTMLModel",
      "state": {
       "_dom_classes": [],
       "_model_module": "@jupyter-widgets/controls",
       "_model_module_version": "1.5.0",
       "_model_name": "HTMLModel",
       "_view_count": null,
       "_view_module": "@jupyter-widgets/controls",
       "_view_module_version": "1.5.0",
       "_view_name": "HTMLView",
       "description": "",
       "description_tooltip": null,
       "layout": "IPY_MODEL_13c267fcc2c743eeab1931363f975731",
       "placeholder": "​",
       "style": "IPY_MODEL_2ba3d83839a845dc97c95180d0cf0989",
       "value": " 1/1 [00:00&lt;00:00, 30.04it/s]"
      }
     },
     "bb04c64fe5704577900a5c0ad8141ffd": {
      "model_module": "@jupyter-widgets/controls",
      "model_module_version": "1.5.0",
      "model_name": "DescriptionStyleModel",
      "state": {
       "_model_module": "@jupyter-widgets/controls",
       "_model_module_version": "1.5.0",
       "_model_name": "DescriptionStyleModel",
       "_view_count": null,
       "_view_module": "@jupyter-widgets/base",
       "_view_module_version": "1.2.0",
       "_view_name": "StyleView",
       "description_width": ""
      }
     },
     "c1b69a401311426b852c6b9d5f4765ad": {
      "model_module": "@jupyter-widgets/controls",
      "model_module_version": "1.5.0",
      "model_name": "FloatProgressModel",
      "state": {
       "_dom_classes": [],
       "_model_module": "@jupyter-widgets/controls",
       "_model_module_version": "1.5.0",
       "_model_name": "FloatProgressModel",
       "_view_count": null,
       "_view_module": "@jupyter-widgets/controls",
       "_view_module_version": "1.5.0",
       "_view_name": "ProgressView",
       "bar_style": "success",
       "description": "",
       "description_tooltip": null,
       "layout": "IPY_MODEL_171c6e085f33449bba1e25f8a7c6e0ce",
       "max": 7.0,
       "min": 0.0,
       "orientation": "horizontal",
       "style": "IPY_MODEL_0bd9faf801c145048329d470a6e51790",
       "value": 7.0
      }
     },
     "c31882e6cc56487d8991a6613a62419e": {
      "model_module": "@jupyter-widgets/controls",
      "model_module_version": "1.5.0",
      "model_name": "DescriptionStyleModel",
      "state": {
       "_model_module": "@jupyter-widgets/controls",
       "_model_module_version": "1.5.0",
       "_model_name": "DescriptionStyleModel",
       "_view_count": null,
       "_view_module": "@jupyter-widgets/base",
       "_view_module_version": "1.2.0",
       "_view_name": "StyleView",
       "description_width": ""
      }
     },
     "c63b60a5e8164e8b876e1d007c476a32": {
      "model_module": "@jupyter-widgets/controls",
      "model_module_version": "1.5.0",
      "model_name": "DescriptionStyleModel",
      "state": {
       "_model_module": "@jupyter-widgets/controls",
       "_model_module_version": "1.5.0",
       "_model_name": "DescriptionStyleModel",
       "_view_count": null,
       "_view_module": "@jupyter-widgets/base",
       "_view_module_version": "1.2.0",
       "_view_name": "StyleView",
       "description_width": ""
      }
     },
     "c8aaa27a48814dc5a17f2b9291b85f2c": {
      "model_module": "@jupyter-widgets/controls",
      "model_module_version": "1.5.0",
      "model_name": "ProgressStyleModel",
      "state": {
       "_model_module": "@jupyter-widgets/controls",
       "_model_module_version": "1.5.0",
       "_model_name": "ProgressStyleModel",
       "_view_count": null,
       "_view_module": "@jupyter-widgets/base",
       "_view_module_version": "1.2.0",
       "_view_name": "StyleView",
       "bar_color": null,
       "description_width": ""
      }
     },
     "d1d7aded934a473fb21b2612fefa9983": {
      "model_module": "@jupyter-widgets/controls",
      "model_module_version": "1.5.0",
      "model_name": "HTMLModel",
      "state": {
       "_dom_classes": [],
       "_model_module": "@jupyter-widgets/controls",
       "_model_module_version": "1.5.0",
       "_model_name": "HTMLModel",
       "_view_count": null,
       "_view_module": "@jupyter-widgets/controls",
       "_view_module_version": "1.5.0",
       "_view_name": "HTMLView",
       "description": "",
       "description_tooltip": null,
       "layout": "IPY_MODEL_49cfd0b68674424c9eff8b1c1939660f",
       "placeholder": "​",
       "style": "IPY_MODEL_c31882e6cc56487d8991a6613a62419e",
       "value": " 5/5 [00:22&lt;00:00,  4.41s/it]"
      }
     },
     "d451b18aa2dc44afafdcbe76fc0de642": {
      "model_module": "@jupyter-widgets/controls",
      "model_module_version": "1.5.0",
      "model_name": "DescriptionStyleModel",
      "state": {
       "_model_module": "@jupyter-widgets/controls",
       "_model_module_version": "1.5.0",
       "_model_name": "DescriptionStyleModel",
       "_view_count": null,
       "_view_module": "@jupyter-widgets/base",
       "_view_module_version": "1.2.0",
       "_view_name": "StyleView",
       "description_width": ""
      }
     },
     "d4ccae84984b4c8397eb6a4361f27686": {
      "model_module": "@jupyter-widgets/controls",
      "model_module_version": "1.5.0",
      "model_name": "HBoxModel",
      "state": {
       "_dom_classes": [],
       "_model_module": "@jupyter-widgets/controls",
       "_model_module_version": "1.5.0",
       "_model_name": "HBoxModel",
       "_view_count": null,
       "_view_module": "@jupyter-widgets/controls",
       "_view_module_version": "1.5.0",
       "_view_name": "HBoxView",
       "box_style": "",
       "children": [
        "IPY_MODEL_441812b8598d4bccbeb575e592d8da42",
        "IPY_MODEL_f3e07ea8d702402f87aa1eb8a5aa4d40",
        "IPY_MODEL_d1d7aded934a473fb21b2612fefa9983"
       ],
       "layout": "IPY_MODEL_909f74adc7b74c8b90568cdd1e492210"
      }
     },
     "ddf878395ae145d3b33e88d0c18a8daa": {
      "model_module": "@jupyter-widgets/controls",
      "model_module_version": "1.5.0",
      "model_name": "HTMLModel",
      "state": {
       "_dom_classes": [],
       "_model_module": "@jupyter-widgets/controls",
       "_model_module_version": "1.5.0",
       "_model_name": "HTMLModel",
       "_view_count": null,
       "_view_module": "@jupyter-widgets/controls",
       "_view_module_version": "1.5.0",
       "_view_name": "HTMLView",
       "description": "",
       "description_tooltip": null,
       "layout": "IPY_MODEL_9bd0e64dcf6343eba15b61f14d80301f",
       "placeholder": "​",
       "style": "IPY_MODEL_8ddd9a4ea3954860b70c5120934df916",
       "value": "100%"
      }
     },
     "e55cff7e02be4eb5a8a9b9716e81f7d4": {
      "model_module": "@jupyter-widgets/controls",
      "model_module_version": "1.5.0",
      "model_name": "DescriptionStyleModel",
      "state": {
       "_model_module": "@jupyter-widgets/controls",
       "_model_module_version": "1.5.0",
       "_model_name": "DescriptionStyleModel",
       "_view_count": null,
       "_view_module": "@jupyter-widgets/base",
       "_view_module_version": "1.2.0",
       "_view_name": "StyleView",
       "description_width": ""
      }
     },
     "eb28ce75649943a2932ffe3cb9104c96": {
      "model_module": "@jupyter-widgets/controls",
      "model_module_version": "1.5.0",
      "model_name": "FloatProgressModel",
      "state": {
       "_dom_classes": [],
       "_model_module": "@jupyter-widgets/controls",
       "_model_module_version": "1.5.0",
       "_model_name": "FloatProgressModel",
       "_view_count": null,
       "_view_module": "@jupyter-widgets/controls",
       "_view_module_version": "1.5.0",
       "_view_name": "ProgressView",
       "bar_style": "",
       "description": "",
       "description_tooltip": null,
       "layout": "IPY_MODEL_12d4be94558b47fb9f2f40b696c6f8d9",
       "max": 1.0,
       "min": 0.0,
       "orientation": "horizontal",
       "style": "IPY_MODEL_00ab88dea31d4c4e86bad5f8cef65d97",
       "value": 1.0
      }
     },
     "f3e07ea8d702402f87aa1eb8a5aa4d40": {
      "model_module": "@jupyter-widgets/controls",
      "model_module_version": "1.5.0",
      "model_name": "FloatProgressModel",
      "state": {
       "_dom_classes": [],
       "_model_module": "@jupyter-widgets/controls",
       "_model_module_version": "1.5.0",
       "_model_name": "FloatProgressModel",
       "_view_count": null,
       "_view_module": "@jupyter-widgets/controls",
       "_view_module_version": "1.5.0",
       "_view_name": "ProgressView",
       "bar_style": "success",
       "description": "",
       "description_tooltip": null,
       "layout": "IPY_MODEL_a767c9d41a0f454aa2e64b726b889138",
       "max": 5.0,
       "min": 0.0,
       "orientation": "horizontal",
       "style": "IPY_MODEL_c8aaa27a48814dc5a17f2b9291b85f2c",
       "value": 5.0
      }
     }
    },
    "version_major": 2,
    "version_minor": 0
   }
  }
 },
 "nbformat": 4,
 "nbformat_minor": 5
}
