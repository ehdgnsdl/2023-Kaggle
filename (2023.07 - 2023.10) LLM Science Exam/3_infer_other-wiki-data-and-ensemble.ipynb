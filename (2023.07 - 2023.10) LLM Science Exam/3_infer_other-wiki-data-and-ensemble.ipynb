{
 "cells": [
  {
   "cell_type": "markdown",
   "id": "f04b8410",
   "metadata": {
    "papermill": {
     "duration": 0.012377,
     "end_time": "2023-10-09T03:37:41.697274",
     "exception": false,
     "start_time": "2023-10-09T03:37:41.684897",
     "status": "completed"
    },
    "tags": []
   },
   "source": [
    "I previously shared a [notebook](url) (see the discussion [here](https://www.kaggle.com/competitions/kaggle-llm-science-exam/discussion/441128)) that found a cluster of relevant Wikipedia STEM articles, resulting in around 270K STEM articles for which the resulting dataset is released [here.](https://www.kaggle.com/datasets/mbanaei/stem-wiki-cohere-no-emb)\n",
    "\n",
    "However, due to issues with WikiExtractor, there're cases in which some numbers or even paragraphs are missing from the final Wiki parsing. Therefore,  for the same set of  articles, I used Wiki API to gather the articles' contexts (see discussion [here](https://www.kaggle.com/competitions/kaggle-llm-science-exam/discussion/442483)), for which the resulting dataset is released [here](https://www.kaggle.com/datasets/mbanaei/all-paraphs-parsed-expanded).\n",
    "\n",
    "In order to show that the found articles cover not only the train dataset articles but also a majority of LB gold articles, I release this notebook that uses a simple retrieval model (without any prior indexing) together with a model that is trained only on the RACE dataset. (not fine-tuned on any competition-similar dataset).\n",
    "\n",
    "The main design choices for the notebook are:\n",
    "- Using a simple TF-IDF to retrieve contexts from both datasets for every given question.\n",
    "- Although the majority of high-performing public models use DeBERTa-V3 to do the inference in their pipeline, I used a LongFormer Large model, which enables us to have a much longer prefix context given limited GPU memory. More specifically, as opposed to many public notebooks, there's no splitting to sentence level, and the whole paragraph is retrieved and passed to the classifier as a context (the main reason that we don't get OOM and also have relatively fast inference is that in LongFormer full attention is not computed as opposed to standard models like BERT).\n",
    "- I use a fall-back model (based on a public notebook that uses an openbook approach and performs 81.5 on LB) that is used for prediction when there's low confidence in the main model's output for the top choice.\n",
    "\n",
    "P.S: Although the model's performance is relatively good compared to other public notebooks, many design choices can be revised to improve both inference time and performance. (e.g., currently, context retrieval seems to be the inference bottleneck as no prior indexing is used)."
   ]
  },
  {
   "cell_type": "code",
   "execution_count": 1,
   "id": "55dba919",
   "metadata": {
    "execution": {
     "iopub.execute_input": "2023-10-09T03:37:41.722422Z",
     "iopub.status.busy": "2023-10-09T03:37:41.721649Z",
     "iopub.status.idle": "2023-10-09T03:38:17.806873Z",
     "shell.execute_reply": "2023-10-09T03:38:17.805324Z"
    },
    "papermill": {
     "duration": 36.100789,
     "end_time": "2023-10-09T03:38:17.809759",
     "exception": false,
     "start_time": "2023-10-09T03:37:41.708970",
     "status": "completed"
    },
    "tags": []
   },
   "outputs": [
    {
     "name": "stdout",
     "output_type": "stream",
     "text": [
      "Processing ./datasets-2.14.4-py3-none-any.whl\r\n",
      "Requirement already satisfied: numpy>=1.17 in /opt/conda/lib/python3.10/site-packages (from datasets==2.14.4) (1.23.5)\r\n",
      "Requirement already satisfied: pyarrow>=8.0.0 in /opt/conda/lib/python3.10/site-packages (from datasets==2.14.4) (11.0.0)\r\n",
      "Requirement already satisfied: dill<0.3.8,>=0.3.0 in /opt/conda/lib/python3.10/site-packages (from datasets==2.14.4) (0.3.6)\r\n",
      "Requirement already satisfied: pandas in /opt/conda/lib/python3.10/site-packages (from datasets==2.14.4) (1.5.3)\r\n",
      "Requirement already satisfied: requests>=2.19.0 in /opt/conda/lib/python3.10/site-packages (from datasets==2.14.4) (2.31.0)\r\n",
      "Requirement already satisfied: tqdm>=4.62.1 in /opt/conda/lib/python3.10/site-packages (from datasets==2.14.4) (4.65.0)\r\n",
      "Requirement already satisfied: xxhash in /opt/conda/lib/python3.10/site-packages (from datasets==2.14.4) (3.2.0)\r\n",
      "Requirement already satisfied: multiprocess in /opt/conda/lib/python3.10/site-packages (from datasets==2.14.4) (0.70.14)\r\n",
      "Requirement already satisfied: fsspec[http]>=2021.11.1 in /opt/conda/lib/python3.10/site-packages (from datasets==2.14.4) (2023.6.0)\r\n",
      "Requirement already satisfied: aiohttp in /opt/conda/lib/python3.10/site-packages (from datasets==2.14.4) (3.8.4)\r\n",
      "Requirement already satisfied: huggingface-hub<1.0.0,>=0.14.0 in /opt/conda/lib/python3.10/site-packages (from datasets==2.14.4) (0.16.4)\r\n",
      "Requirement already satisfied: packaging in /opt/conda/lib/python3.10/site-packages (from datasets==2.14.4) (21.3)\r\n",
      "Requirement already satisfied: pyyaml>=5.1 in /opt/conda/lib/python3.10/site-packages (from datasets==2.14.4) (6.0)\r\n",
      "Requirement already satisfied: attrs>=17.3.0 in /opt/conda/lib/python3.10/site-packages (from aiohttp->datasets==2.14.4) (23.1.0)\r\n",
      "Requirement already satisfied: charset-normalizer<4.0,>=2.0 in /opt/conda/lib/python3.10/site-packages (from aiohttp->datasets==2.14.4) (3.1.0)\r\n",
      "Requirement already satisfied: multidict<7.0,>=4.5 in /opt/conda/lib/python3.10/site-packages (from aiohttp->datasets==2.14.4) (6.0.4)\r\n",
      "Requirement already satisfied: async-timeout<5.0,>=4.0.0a3 in /opt/conda/lib/python3.10/site-packages (from aiohttp->datasets==2.14.4) (4.0.2)\r\n",
      "Requirement already satisfied: yarl<2.0,>=1.0 in /opt/conda/lib/python3.10/site-packages (from aiohttp->datasets==2.14.4) (1.9.2)\r\n",
      "Requirement already satisfied: frozenlist>=1.1.1 in /opt/conda/lib/python3.10/site-packages (from aiohttp->datasets==2.14.4) (1.3.3)\r\n",
      "Requirement already satisfied: aiosignal>=1.1.2 in /opt/conda/lib/python3.10/site-packages (from aiohttp->datasets==2.14.4) (1.3.1)\r\n",
      "Requirement already satisfied: filelock in /opt/conda/lib/python3.10/site-packages (from huggingface-hub<1.0.0,>=0.14.0->datasets==2.14.4) (3.12.2)\r\n",
      "Requirement already satisfied: typing-extensions>=3.7.4.3 in /opt/conda/lib/python3.10/site-packages (from huggingface-hub<1.0.0,>=0.14.0->datasets==2.14.4) (4.6.3)\r\n",
      "Requirement already satisfied: pyparsing!=3.0.5,>=2.0.2 in /opt/conda/lib/python3.10/site-packages (from packaging->datasets==2.14.4) (3.0.9)\r\n",
      "Requirement already satisfied: idna<4,>=2.5 in /opt/conda/lib/python3.10/site-packages (from requests>=2.19.0->datasets==2.14.4) (3.4)\r\n",
      "Requirement already satisfied: urllib3<3,>=1.21.1 in /opt/conda/lib/python3.10/site-packages (from requests>=2.19.0->datasets==2.14.4) (1.26.15)\r\n",
      "Requirement already satisfied: certifi>=2017.4.17 in /opt/conda/lib/python3.10/site-packages (from requests>=2.19.0->datasets==2.14.4) (2023.5.7)\r\n",
      "Requirement already satisfied: python-dateutil>=2.8.1 in /opt/conda/lib/python3.10/site-packages (from pandas->datasets==2.14.4) (2.8.2)\r\n",
      "Requirement already satisfied: pytz>=2020.1 in /opt/conda/lib/python3.10/site-packages (from pandas->datasets==2.14.4) (2023.3)\r\n",
      "Requirement already satisfied: six>=1.5 in /opt/conda/lib/python3.10/site-packages (from python-dateutil>=2.8.1->pandas->datasets==2.14.4) (1.16.0)\r\n",
      "Installing collected packages: datasets\r\n",
      "  Attempting uninstall: datasets\r\n",
      "    Found existing installation: datasets 2.1.0\r\n",
      "    Uninstalling datasets-2.1.0:\r\n",
      "      Successfully uninstalled datasets-2.1.0\r\n",
      "Successfully installed datasets-2.14.4\r\n"
     ]
    }
   ],
   "source": [
    "!cp /kaggle/input/datasets-wheel/datasets-2.14.4-py3-none-any.whl /kaggle/working\n",
    "!pip install  /kaggle/working/datasets-2.14.4-py3-none-any.whl\n",
    "!cp /kaggle/input/backup-806/util_openbook.py ."
   ]
  },
  {
   "cell_type": "code",
   "execution_count": 2,
   "id": "efd8d954",
   "metadata": {
    "execution": {
     "iopub.execute_input": "2023-10-09T03:38:17.860411Z",
     "iopub.status.busy": "2023-10-09T03:38:17.860006Z",
     "iopub.status.idle": "2023-10-09T03:40:35.258551Z",
     "shell.execute_reply": "2023-10-09T03:40:35.257374Z"
    },
    "papermill": {
     "duration": 137.424834,
     "end_time": "2023-10-09T03:40:35.260786",
     "exception": false,
     "start_time": "2023-10-09T03:38:17.835952",
     "status": "completed"
    },
    "tags": []
   },
   "outputs": [
    {
     "name": "stdout",
     "output_type": "stream",
     "text": [
      "Processing /kaggle/input/faiss-gpu-173-python310/faiss_gpu-1.7.2-cp310-cp310-manylinux_2_17_x86_64.manylinux2014_x86_64.whl\r\n",
      "Installing collected packages: faiss-gpu\r\n",
      "Successfully installed faiss-gpu-1.7.2\r\n",
      "Processing ./sentence-transformers\r\n",
      "  Preparing metadata (setup.py) ... \u001b[?25l-\b \b\\\b \bdone\r\n",
      "\u001b[?25hRequirement already satisfied: transformers<5.0.0,>=4.6.0 in /opt/conda/lib/python3.10/site-packages (from sentence-transformers==2.2.2) (4.30.2)\r\n",
      "Requirement already satisfied: tqdm in /opt/conda/lib/python3.10/site-packages (from sentence-transformers==2.2.2) (4.65.0)\r\n",
      "Requirement already satisfied: torch>=1.6.0 in /opt/conda/lib/python3.10/site-packages (from sentence-transformers==2.2.2) (2.0.0)\r\n",
      "Requirement already satisfied: torchvision in /opt/conda/lib/python3.10/site-packages (from sentence-transformers==2.2.2) (0.15.1)\r\n",
      "Requirement already satisfied: numpy in /opt/conda/lib/python3.10/site-packages (from sentence-transformers==2.2.2) (1.23.5)\r\n",
      "Requirement already satisfied: scikit-learn in /opt/conda/lib/python3.10/site-packages (from sentence-transformers==2.2.2) (1.2.2)\r\n",
      "Requirement already satisfied: scipy in /opt/conda/lib/python3.10/site-packages (from sentence-transformers==2.2.2) (1.11.1)\r\n",
      "Requirement already satisfied: nltk in /opt/conda/lib/python3.10/site-packages (from sentence-transformers==2.2.2) (3.2.4)\r\n",
      "Requirement already satisfied: sentencepiece in /opt/conda/lib/python3.10/site-packages (from sentence-transformers==2.2.2) (0.1.99)\r\n",
      "Requirement already satisfied: huggingface-hub>=0.4.0 in /opt/conda/lib/python3.10/site-packages (from sentence-transformers==2.2.2) (0.16.4)\r\n",
      "Requirement already satisfied: filelock in /opt/conda/lib/python3.10/site-packages (from huggingface-hub>=0.4.0->sentence-transformers==2.2.2) (3.12.2)\r\n",
      "Requirement already satisfied: fsspec in /opt/conda/lib/python3.10/site-packages (from huggingface-hub>=0.4.0->sentence-transformers==2.2.2) (2023.6.0)\r\n",
      "Requirement already satisfied: requests in /opt/conda/lib/python3.10/site-packages (from huggingface-hub>=0.4.0->sentence-transformers==2.2.2) (2.31.0)\r\n",
      "Requirement already satisfied: pyyaml>=5.1 in /opt/conda/lib/python3.10/site-packages (from huggingface-hub>=0.4.0->sentence-transformers==2.2.2) (6.0)\r\n",
      "Requirement already satisfied: typing-extensions>=3.7.4.3 in /opt/conda/lib/python3.10/site-packages (from huggingface-hub>=0.4.0->sentence-transformers==2.2.2) (4.6.3)\r\n",
      "Requirement already satisfied: packaging>=20.9 in /opt/conda/lib/python3.10/site-packages (from huggingface-hub>=0.4.0->sentence-transformers==2.2.2) (21.3)\r\n",
      "Requirement already satisfied: sympy in /opt/conda/lib/python3.10/site-packages (from torch>=1.6.0->sentence-transformers==2.2.2) (1.12)\r\n",
      "Requirement already satisfied: networkx in /opt/conda/lib/python3.10/site-packages (from torch>=1.6.0->sentence-transformers==2.2.2) (3.1)\r\n",
      "Requirement already satisfied: jinja2 in /opt/conda/lib/python3.10/site-packages (from torch>=1.6.0->sentence-transformers==2.2.2) (3.1.2)\r\n",
      "Requirement already satisfied: regex!=2019.12.17 in /opt/conda/lib/python3.10/site-packages (from transformers<5.0.0,>=4.6.0->sentence-transformers==2.2.2) (2023.6.3)\r\n",
      "Requirement already satisfied: tokenizers!=0.11.3,<0.14,>=0.11.1 in /opt/conda/lib/python3.10/site-packages (from transformers<5.0.0,>=4.6.0->sentence-transformers==2.2.2) (0.13.3)\r\n",
      "Requirement already satisfied: safetensors>=0.3.1 in /opt/conda/lib/python3.10/site-packages (from transformers<5.0.0,>=4.6.0->sentence-transformers==2.2.2) (0.3.1)\r\n",
      "Requirement already satisfied: six in /opt/conda/lib/python3.10/site-packages (from nltk->sentence-transformers==2.2.2) (1.16.0)\r\n",
      "Requirement already satisfied: joblib>=1.1.1 in /opt/conda/lib/python3.10/site-packages (from scikit-learn->sentence-transformers==2.2.2) (1.2.0)\r\n",
      "Requirement already satisfied: threadpoolctl>=2.0.0 in /opt/conda/lib/python3.10/site-packages (from scikit-learn->sentence-transformers==2.2.2) (3.1.0)\r\n",
      "Requirement already satisfied: pillow!=8.3.*,>=5.3.0 in /opt/conda/lib/python3.10/site-packages (from torchvision->sentence-transformers==2.2.2) (9.5.0)\r\n",
      "Requirement already satisfied: pyparsing!=3.0.5,>=2.0.2 in /opt/conda/lib/python3.10/site-packages (from packaging>=20.9->huggingface-hub>=0.4.0->sentence-transformers==2.2.2) (3.0.9)\r\n",
      "Requirement already satisfied: MarkupSafe>=2.0 in /opt/conda/lib/python3.10/site-packages (from jinja2->torch>=1.6.0->sentence-transformers==2.2.2) (2.1.3)\r\n",
      "Requirement already satisfied: charset-normalizer<4,>=2 in /opt/conda/lib/python3.10/site-packages (from requests->huggingface-hub>=0.4.0->sentence-transformers==2.2.2) (3.1.0)\r\n",
      "Requirement already satisfied: idna<4,>=2.5 in /opt/conda/lib/python3.10/site-packages (from requests->huggingface-hub>=0.4.0->sentence-transformers==2.2.2) (3.4)\r\n",
      "Requirement already satisfied: urllib3<3,>=1.21.1 in /opt/conda/lib/python3.10/site-packages (from requests->huggingface-hub>=0.4.0->sentence-transformers==2.2.2) (1.26.15)\r\n",
      "Requirement already satisfied: certifi>=2017.4.17 in /opt/conda/lib/python3.10/site-packages (from requests->huggingface-hub>=0.4.0->sentence-transformers==2.2.2) (2023.5.7)\r\n",
      "Requirement already satisfied: mpmath>=0.19 in /opt/conda/lib/python3.10/site-packages (from sympy->torch>=1.6.0->sentence-transformers==2.2.2) (1.3.0)\r\n",
      "Building wheels for collected packages: sentence-transformers\r\n",
      "  Building wheel for sentence-transformers (setup.py) ... \u001b[?25l-\b \b\\\b \b|\b \bdone\r\n",
      "\u001b[?25h  Created wheel for sentence-transformers: filename=sentence_transformers-2.2.2-py3-none-any.whl size=126134 sha256=429095dc5e2cb2f4491d09535c1d91d5bc4c8c99d2ea69c1eea61ad7f6052262\r\n",
      "  Stored in directory: /root/.cache/pip/wheels/6c/ea/76/d9a930b223b1d3d5d6aff69458725316b0fe205b854faf1812\r\n",
      "Successfully built sentence-transformers\r\n",
      "Installing collected packages: sentence-transformers\r\n",
      "Successfully installed sentence-transformers-2.2.2\r\n",
      "Processing /kaggle/input/blingfire-018/blingfire-0.1.8-py3-none-any.whl\r\n",
      "Installing collected packages: blingfire\r\n",
      "Successfully installed blingfire-0.1.8\r\n",
      "Processing /kaggle/input/llm-whls/transformers-4.31.0-py3-none-any.whl\r\n",
      "Installing collected packages: transformers\r\n",
      "  Attempting uninstall: transformers\r\n",
      "    Found existing installation: transformers 4.30.2\r\n",
      "    Uninstalling transformers-4.30.2:\r\n",
      "      Successfully uninstalled transformers-4.30.2\r\n",
      "Successfully installed transformers-4.31.0\r\n",
      "Processing /kaggle/input/llm-whls/peft-0.4.0-py3-none-any.whl\r\n",
      "Installing collected packages: peft\r\n",
      "Successfully installed peft-0.4.0\r\n",
      "Processing /kaggle/input/llm-whls/trl-0.5.0-py3-none-any.whl\r\n",
      "Installing collected packages: trl\r\n",
      "Successfully installed trl-0.5.0\r\n"
     ]
    }
   ],
   "source": [
    "# installing offline dependencies\n",
    "!pip install -U /kaggle/input/faiss-gpu-173-python310/faiss_gpu-1.7.2-cp310-cp310-manylinux_2_17_x86_64.manylinux2014_x86_64.whl\n",
    "!cp -rf /kaggle/input/sentence-transformers-222/sentence-transformers /kaggle/working/sentence-transformers\n",
    "!pip install -U /kaggle/working/sentence-transformers\n",
    "!pip install -U /kaggle/input/blingfire-018/blingfire-0.1.8-py3-none-any.whl\n",
    "\n",
    "!pip install --no-index --no-deps /kaggle/input/llm-whls/transformers-4.31.0-py3-none-any.whl\n",
    "!pip install --no-index --no-deps /kaggle/input/llm-whls/peft-0.4.0-py3-none-any.whl\n",
    "!pip install --no-index --no-deps /kaggle/input/llm-whls/trl-0.5.0-py3-none-any.whl"
   ]
  },
  {
   "cell_type": "code",
   "execution_count": 3,
   "id": "51f1a572",
   "metadata": {
    "execution": {
     "iopub.execute_input": "2023-10-09T03:40:35.290458Z",
     "iopub.status.busy": "2023-10-09T03:40:35.290070Z",
     "iopub.status.idle": "2023-10-09T03:40:38.521363Z",
     "shell.execute_reply": "2023-10-09T03:40:38.520514Z"
    },
    "papermill": {
     "duration": 3.24882,
     "end_time": "2023-10-09T03:40:38.523468",
     "exception": false,
     "start_time": "2023-10-09T03:40:35.274648",
     "status": "completed"
    },
    "tags": []
   },
   "outputs": [],
   "source": [
    "# from util_openbook import get_contexts, generate_openbook_output\n",
    "import pickle\n",
    "\n",
    "# get_contexts()\n",
    "# generate_openbook_output()\n",
    "\n",
    "import gc\n",
    "import ctypes\n",
    "import torch\n",
    "\n",
    "def clean_memory():\n",
    "    gc.collect()\n",
    "    ctypes.CDLL(\"libc.so.6\").malloc_trim(0)\n",
    "    torch.cuda.empty_cache()\n",
    "    "
   ]
  },
  {
   "cell_type": "code",
   "execution_count": 4,
   "id": "f1a83f5e",
   "metadata": {
    "execution": {
     "iopub.execute_input": "2023-10-09T03:40:38.552075Z",
     "iopub.status.busy": "2023-10-09T03:40:38.550955Z",
     "iopub.status.idle": "2023-10-09T03:40:38.689608Z",
     "shell.execute_reply": "2023-10-09T03:40:38.688731Z"
    },
    "papermill": {
     "duration": 0.154697,
     "end_time": "2023-10-09T03:40:38.691695",
     "exception": false,
     "start_time": "2023-10-09T03:40:38.536998",
     "status": "completed"
    },
    "tags": []
   },
   "outputs": [],
   "source": [
    "clean_memory()"
   ]
  },
  {
   "cell_type": "code",
   "execution_count": 5,
   "id": "1e483e44",
   "metadata": {
    "execution": {
     "iopub.execute_input": "2023-10-09T03:40:38.719555Z",
     "iopub.status.busy": "2023-10-09T03:40:38.718814Z",
     "iopub.status.idle": "2023-10-09T03:40:38.723111Z",
     "shell.execute_reply": "2023-10-09T03:40:38.722359Z"
    },
    "papermill": {
     "duration": 0.019709,
     "end_time": "2023-10-09T03:40:38.724698",
     "exception": false,
     "start_time": "2023-10-09T03:40:38.704989",
     "status": "completed"
    },
    "tags": []
   },
   "outputs": [],
   "source": [
    "import pandas as pd\n",
    "# backup_model_predictions = pd.read_csv(\"submission_backup.csv\")"
   ]
  },
  {
   "cell_type": "code",
   "execution_count": 6,
   "id": "049c8c6a",
   "metadata": {
    "_cell_guid": "b1076dfc-b9ad-4769-8c92-a6c4dae69d19",
    "_uuid": "8f2839f25d086af736a60e9eeb907d3b93b6e0e5",
    "execution": {
     "iopub.execute_input": "2023-10-09T03:40:38.751653Z",
     "iopub.status.busy": "2023-10-09T03:40:38.750988Z",
     "iopub.status.idle": "2023-10-09T03:40:47.996555Z",
     "shell.execute_reply": "2023-10-09T03:40:47.995679Z"
    },
    "papermill": {
     "duration": 9.261263,
     "end_time": "2023-10-09T03:40:47.998589",
     "exception": false,
     "start_time": "2023-10-09T03:40:38.737326",
     "status": "completed"
    },
    "tags": []
   },
   "outputs": [
    {
     "name": "stderr",
     "output_type": "stream",
     "text": [
      "/opt/conda/lib/python3.10/site-packages/scipy/__init__.py:146: UserWarning: A NumPy version >=1.16.5 and <1.23.0 is required for this version of SciPy (detected version 1.23.5\n",
      "  warnings.warn(f\"A NumPy version >={np_minversion} and <{np_maxversion}\"\n",
      "/opt/conda/lib/python3.10/site-packages/tensorflow_io/python/ops/__init__.py:98: UserWarning: unable to load libtensorflow_io_plugins.so: unable to open file: libtensorflow_io_plugins.so, from paths: ['/opt/conda/lib/python3.10/site-packages/tensorflow_io/python/ops/libtensorflow_io_plugins.so']\n",
      "caused by: ['/opt/conda/lib/python3.10/site-packages/tensorflow_io/python/ops/libtensorflow_io_plugins.so: undefined symbol: _ZN3tsl6StatusC1EN10tensorflow5error4CodeESt17basic_string_viewIcSt11char_traitsIcEENS_14SourceLocationE']\n",
      "  warnings.warn(f\"unable to load libtensorflow_io_plugins.so: {e}\")\n",
      "/opt/conda/lib/python3.10/site-packages/tensorflow_io/python/ops/__init__.py:104: UserWarning: file system plugins are not loaded: unable to open file: libtensorflow_io.so, from paths: ['/opt/conda/lib/python3.10/site-packages/tensorflow_io/python/ops/libtensorflow_io.so']\n",
      "caused by: ['/opt/conda/lib/python3.10/site-packages/tensorflow_io/python/ops/libtensorflow_io.so: undefined symbol: _ZTVN10tensorflow13GcsFileSystemE']\n",
      "  warnings.warn(f\"file system plugins are not loaded: {e}\")\n"
     ]
    }
   ],
   "source": [
    "import numpy as np\n",
    "import pandas as pd \n",
    "from datasets import load_dataset, load_from_disk\n",
    "from sklearn.feature_extraction.text import TfidfVectorizer\n",
    "import torch\n",
    "from transformers import LongformerTokenizer, LongformerForMultipleChoice\n",
    "import transformers\n",
    "import pandas as pd\n",
    "import pickle\n",
    "import numpy as np\n",
    "import matplotlib.pyplot as plt\n",
    "from tqdm import tqdm\n",
    "import unicodedata\n",
    "from transformers import AutoTokenizer\n",
    "from transformers import AutoModelForMultipleChoice, TrainingArguments, Trainer\n",
    "import os"
   ]
  },
  {
   "cell_type": "code",
   "execution_count": 7,
   "id": "10933ba2",
   "metadata": {
    "execution": {
     "iopub.execute_input": "2023-10-09T03:40:48.026828Z",
     "iopub.status.busy": "2023-10-09T03:40:48.026265Z",
     "iopub.status.idle": "2023-10-09T03:41:40.256193Z",
     "shell.execute_reply": "2023-10-09T03:41:40.254914Z"
    },
    "papermill": {
     "duration": 52.246488,
     "end_time": "2023-10-09T03:41:40.258406",
     "exception": false,
     "start_time": "2023-10-09T03:40:48.011918",
     "status": "completed"
    },
    "tags": []
   },
   "outputs": [],
   "source": [
    "!cp -r /kaggle/input/stem-wiki-cohere-no-emb /kaggle/working\n",
    "!cp -r /kaggle/input/1006-wikitfidfv1 /kaggle/working/"
   ]
  },
  {
   "cell_type": "code",
   "execution_count": 8,
   "id": "0c3d55dd",
   "metadata": {
    "execution": {
     "iopub.execute_input": "2023-10-09T03:41:40.287384Z",
     "iopub.status.busy": "2023-10-09T03:41:40.287068Z",
     "iopub.status.idle": "2023-10-09T03:41:40.305261Z",
     "shell.execute_reply": "2023-10-09T03:41:40.304430Z"
    },
    "papermill": {
     "duration": 0.034699,
     "end_time": "2023-10-09T03:41:40.306950",
     "exception": false,
     "start_time": "2023-10-09T03:41:40.272251",
     "status": "completed"
    },
    "tags": []
   },
   "outputs": [],
   "source": [
    "def SplitList(mylist, chunk_size):\n",
    "    return [mylist[offs:offs+chunk_size] for offs in range(0, len(mylist), chunk_size)]\n",
    "\n",
    "\n",
    "\n",
    "def get_relevant_documents(df_valid):\n",
    "    df_chunk_size=800\n",
    "    \n",
    "    cohere_dataset_filtered = load_from_disk(\"/kaggle/working/stem-wiki-cohere-no-emb\")\n",
    "    modified_texts = cohere_dataset_filtered.map(lambda example:\n",
    "                                             {'temp_text':\n",
    "                                              unicodedata.normalize(\"NFKD\", f\"{example['title']} {example['text']}\").replace('\"',\"\")},\n",
    "                                             num_proc=2)[\"temp_text\"]\n",
    "    \n",
    "    all_articles_indices = []\n",
    "    all_articles_values = []\n",
    "    for idx in tqdm(range(0, df_valid.shape[0], df_chunk_size)):\n",
    "        df_valid_ = df_valid.iloc[idx: idx+df_chunk_size]\n",
    "    \n",
    "        articles_indices, merged_top_scores = retrieval(df_valid_, modified_texts)\n",
    "        all_articles_indices.append(articles_indices)\n",
    "        all_articles_values.append(merged_top_scores)\n",
    "        \n",
    "    article_indices_array =  np.concatenate(all_articles_indices, axis=0)\n",
    "    articles_values_array = np.concatenate(all_articles_values, axis=0).reshape(-1)\n",
    "    \n",
    "    top_per_query = article_indices_array.shape[1]\n",
    "    articles_flatten = [(\n",
    "                         articles_values_array[index],\n",
    "                         cohere_dataset_filtered[idx.item()][\"title\"],\n",
    "                         unicodedata.normalize(\"NFKD\", cohere_dataset_filtered[idx.item()][\"text\"]),\n",
    "                        )\n",
    "                        for index,idx in enumerate(article_indices_array.reshape(-1))]\n",
    "    retrieved_articles = SplitList(articles_flatten, top_per_query)\n",
    "    return retrieved_articles\n",
    "\n",
    "\n",
    "def get_relevant_tfidf_parse1(df_valid):\n",
    "    df_chunk_size=600\n",
    "    paraphs_parsed_dataset = load_from_disk(\"/kaggle/working/1006-wikitfidfv1\")\n",
    "    modified_texts = paraphs_parsed_dataset.map(lambda example:\n",
    "                                             {'temp_text':\n",
    "                                              f\"{example['title']} {example['section']} {example['text']}\".replace('\\n',\" \").replace(\"'\",\"\")},\n",
    "                                             num_proc=2)[\"temp_text\"]\n",
    "    \n",
    "    all_articles_indices = []\n",
    "    all_articles_values = []\n",
    "    for idx in tqdm(range(0, df_valid.shape[0], df_chunk_size)):\n",
    "        df_valid_ = df_valid.iloc[idx: idx+df_chunk_size]\n",
    "    \n",
    "        articles_indices, merged_top_scores = retrieval(df_valid_, modified_texts)\n",
    "        all_articles_indices.append(articles_indices)\n",
    "        all_articles_values.append(merged_top_scores)\n",
    "        \n",
    "    article_indices_array =  np.concatenate(all_articles_indices, axis=0)\n",
    "    articles_values_array = np.concatenate(all_articles_values, axis=0).reshape(-1)\n",
    "    \n",
    "    top_per_query = article_indices_array.shape[1]\n",
    "    articles_flatten = [(\n",
    "                         articles_values_array[index],\n",
    "                         paraphs_parsed_dataset[idx.item()][\"title\"],\n",
    "                         paraphs_parsed_dataset[idx.item()][\"text\"],\n",
    "                        )\n",
    "                        for index,idx in enumerate(article_indices_array.reshape(-1))]\n",
    "    retrieved_articles = SplitList(articles_flatten, top_per_query)\n",
    "    return retrieved_articles\n",
    "\n",
    "\n",
    "\n",
    "def retrieval(df_valid, modified_texts):\n",
    "    \n",
    "    corpus_df_valid = df_valid.apply(lambda row:\n",
    "                                     f'{row[\"prompt\"]}\\n{row[\"prompt\"]}\\n{row[\"prompt\"]}\\n{row[\"prompt\"]}\\n{row[\"A\"]}\\n{row[\"B\"]}\\n{row[\"C\"]}\\n{row[\"D\"]}\\n{row[\"E\"]}',\n",
    "                                     axis=1).values\n",
    "    vectorizer1 = TfidfVectorizer(ngram_range=(1,2),\n",
    "                                 token_pattern=r\"(?u)\\b[\\w/.-]+\\b|!|/|\\?|\\\"|\\'\",\n",
    "                                 stop_words=stop_words)\n",
    "    vectorizer1.fit(corpus_df_valid)\n",
    "    vocab_df_valid = vectorizer1.get_feature_names_out()\n",
    "    vectorizer = TfidfVectorizer(ngram_range=(1,2),\n",
    "                                 token_pattern=r\"(?u)\\b[\\w/.-]+\\b|!|/|\\?|\\\"|\\'\",\n",
    "                                 stop_words=stop_words,\n",
    "                                 vocabulary=vocab_df_valid)\n",
    "    vectorizer.fit(modified_texts[:500000])\n",
    "    corpus_tf_idf = vectorizer.transform(corpus_df_valid)\n",
    "    \n",
    "    print(f\"length of vectorizer vocab is {len(vectorizer.get_feature_names_out())}\")\n",
    "\n",
    "    chunk_size = 100000\n",
    "    top_per_chunk = 10\n",
    "    top_per_query = 10\n",
    "\n",
    "    all_chunk_top_indices = []\n",
    "    all_chunk_top_values = []\n",
    "\n",
    "    for idx in tqdm(range(0, len(modified_texts), chunk_size)):\n",
    "        wiki_vectors = vectorizer.transform(modified_texts[idx: idx+chunk_size])\n",
    "        temp_scores = (corpus_tf_idf * wiki_vectors.T).toarray()\n",
    "        chunk_top_indices = temp_scores.argpartition(-top_per_chunk, axis=1)[:, -top_per_chunk:]\n",
    "        chunk_top_values = temp_scores[np.arange(temp_scores.shape[0])[:, np.newaxis], chunk_top_indices]\n",
    "\n",
    "        all_chunk_top_indices.append(chunk_top_indices + idx)\n",
    "        all_chunk_top_values.append(chunk_top_values)\n",
    "\n",
    "    top_indices_array = np.concatenate(all_chunk_top_indices, axis=1)\n",
    "    top_values_array = np.concatenate(all_chunk_top_values, axis=1)\n",
    "    \n",
    "    merged_top_scores = np.sort(top_values_array, axis=1)[:,-top_per_query:]\n",
    "    merged_top_indices = top_values_array.argsort(axis=1)[:,-top_per_query:]\n",
    "    articles_indices = top_indices_array[np.arange(top_indices_array.shape[0])[:, np.newaxis], merged_top_indices]\n",
    "    \n",
    "    return articles_indices, merged_top_scores\n",
    "\n",
    "\n",
    "def prepare_answering_input(\n",
    "        tokenizer, \n",
    "        question,  \n",
    "        options,   \n",
    "        context,   \n",
    "        max_seq_length=4096,\n",
    "    ):\n",
    "    c_plus_q   = context + ' ' + tokenizer.bos_token + ' ' + question\n",
    "    c_plus_q_4 = [c_plus_q] * len(options)\n",
    "    tokenized_examples = tokenizer(\n",
    "        c_plus_q_4, options,\n",
    "        max_length=max_seq_length,\n",
    "        padding=\"longest\",\n",
    "        truncation=False,\n",
    "        return_tensors=\"pt\",\n",
    "    )\n",
    "    input_ids = tokenized_examples['input_ids'].unsqueeze(0)\n",
    "    attention_mask = tokenized_examples['attention_mask'].unsqueeze(0)\n",
    "    example_encoded = {\n",
    "        \"input_ids\": input_ids.to(model.device.index),\n",
    "        \"attention_mask\": attention_mask.to(model.device.index),\n",
    "    }\n",
    "    return example_encoded\n"
   ]
  },
  {
   "cell_type": "code",
   "execution_count": 9,
   "id": "bf882092",
   "metadata": {
    "execution": {
     "iopub.execute_input": "2023-10-09T03:41:40.334138Z",
     "iopub.status.busy": "2023-10-09T03:41:40.333629Z",
     "iopub.status.idle": "2023-10-09T03:41:40.339914Z",
     "shell.execute_reply": "2023-10-09T03:41:40.339023Z"
    },
    "papermill": {
     "duration": 0.021757,
     "end_time": "2023-10-09T03:41:40.341580",
     "exception": false,
     "start_time": "2023-10-09T03:41:40.319823",
     "status": "completed"
    },
    "tags": []
   },
   "outputs": [],
   "source": [
    "stop_words = ['each', 'you', 'the', 'use', 'used',\n",
    "                  'where', 'themselves', 'nor', \"it's\", 'how', \"don't\", 'just', 'your',\n",
    "                  'about', 'himself', 'with', \"weren't\", 'hers', \"wouldn't\", 'more', 'its', 'were',\n",
    "                  'his', 'their', 'then', 'been', 'myself', 're', 'not',\n",
    "                  'ours', 'will', 'needn', 'which', 'here', 'hadn', 'it', 'our', 'there', 'than',\n",
    "                  'most', \"couldn't\", 'both', 'some', 'for', 'up', 'couldn', \"that'll\",\n",
    "                  \"she's\", 'over', 'this', 'now', 'until', 'these', 'few', 'haven',\n",
    "                  'of', 'wouldn', 'into', 'too', 'to', 'very', 'shan', 'before', 'the', 'they',\n",
    "                  'between', \"doesn't\", 'are', 'was', 'out', 'we', 'me',\n",
    "                  'after', 'has', \"isn't\", 'have', 'such', 'should', 'yourselves', 'or', 'during', 'herself',\n",
    "                  'doing', 'in', \"shouldn't\", \"won't\", 'when', 'do', 'through', 'she',\n",
    "                  'having', 'him', \"haven't\", 'against', 'itself', 'that',\n",
    "                  'did', 'theirs', 'can', 'those',\n",
    "                  'own', 'so', 'and', 'who', \"you've\", 'yourself', 'her', 'he', 'only',\n",
    "                  'what', 'ourselves', 'again', 'had', \"you'd\", 'is', 'other',\n",
    "                  'why', 'while', 'from', 'them', 'if', 'above', 'does', 'whom',\n",
    "                  'yours', 'but', 'being', \"wasn't\", 'be']"
   ]
  },
  {
   "cell_type": "code",
   "execution_count": 10,
   "id": "ed9dedb7",
   "metadata": {
    "execution": {
     "iopub.execute_input": "2023-10-09T03:41:40.369303Z",
     "iopub.status.busy": "2023-10-09T03:41:40.369067Z",
     "iopub.status.idle": "2023-10-09T03:41:40.394896Z",
     "shell.execute_reply": "2023-10-09T03:41:40.394103Z"
    },
    "papermill": {
     "duration": 0.041816,
     "end_time": "2023-10-09T03:41:40.396774",
     "exception": false,
     "start_time": "2023-10-09T03:41:40.354958",
     "status": "completed"
    },
    "tags": []
   },
   "outputs": [],
   "source": [
    "df_valid = pd.read_csv(\"/kaggle/input/kaggle-llm-science-exam/test.csv\")"
   ]
  },
  {
   "cell_type": "code",
   "execution_count": 11,
   "id": "85c9ca9a",
   "metadata": {
    "execution": {
     "iopub.execute_input": "2023-10-09T03:41:40.424590Z",
     "iopub.status.busy": "2023-10-09T03:41:40.423808Z",
     "iopub.status.idle": "2023-10-09T03:50:23.688979Z",
     "shell.execute_reply": "2023-10-09T03:50:23.688036Z"
    },
    "papermill": {
     "duration": 523.281231,
     "end_time": "2023-10-09T03:50:23.690997",
     "exception": false,
     "start_time": "2023-10-09T03:41:40.409766",
     "status": "completed"
    },
    "tags": []
   },
   "outputs": [
    {
     "data": {
      "application/vnd.jupyter.widget-view+json": {
       "model_id": "52cfffd1233548b2943820c68eafacd7",
       "version_major": 2,
       "version_minor": 0
      },
      "text/plain": [
       "Map (num_proc=2):   0%|          | 0/2781652 [00:00<?, ? examples/s]"
      ]
     },
     "metadata": {},
     "output_type": "display_data"
    },
    {
     "name": "stderr",
     "output_type": "stream",
     "text": [
      "  0%|          | 0/1 [00:00<?, ?it/s]/opt/conda/lib/python3.10/site-packages/sklearn/feature_extraction/text.py:409: UserWarning: Your stop_words may be inconsistent with your preprocessing. Tokenizing the stop words generated tokens [\"'\", 'd', 'doesn', 'don', 'isn', 'll', 's', 'shouldn', 't', 've', 'wasn', 'weren', 'won'] not in stop_words.\n",
      "  warnings.warn(\n"
     ]
    },
    {
     "name": "stdout",
     "output_type": "stream",
     "text": [
      "length of vectorizer vocab is 11222\n"
     ]
    },
    {
     "name": "stderr",
     "output_type": "stream",
     "text": [
      "\n",
      "  0%|          | 0/28 [00:00<?, ?it/s]\u001b[A\n",
      "  4%|▎         | 1/28 [00:09<04:28,  9.95s/it]\u001b[A\n",
      "  7%|▋         | 2/28 [00:18<04:01,  9.30s/it]\u001b[A\n",
      " 11%|█         | 3/28 [00:27<03:44,  8.96s/it]\u001b[A\n",
      " 14%|█▍        | 4/28 [00:35<03:31,  8.81s/it]\u001b[A\n",
      " 18%|█▊        | 5/28 [00:45<03:26,  8.96s/it]\u001b[A\n",
      " 21%|██▏       | 6/28 [00:53<03:11,  8.72s/it]\u001b[A\n",
      " 25%|██▌       | 7/28 [01:01<03:00,  8.61s/it]\u001b[A\n",
      " 29%|██▊       | 8/28 [01:09<02:49,  8.47s/it]\u001b[A\n",
      " 32%|███▏      | 9/28 [01:19<02:44,  8.67s/it]\u001b[A\n",
      " 36%|███▌      | 10/28 [01:27<02:33,  8.50s/it]\u001b[A\n",
      " 39%|███▉      | 11/28 [01:35<02:22,  8.38s/it]\u001b[A\n",
      " 43%|████▎     | 12/28 [01:43<02:13,  8.32s/it]\u001b[A\n",
      " 46%|████▋     | 13/28 [01:51<02:05,  8.36s/it]\u001b[A\n",
      " 50%|█████     | 14/28 [01:59<01:55,  8.26s/it]\u001b[A\n",
      " 54%|█████▎    | 15/28 [02:07<01:45,  8.15s/it]\u001b[A\n",
      " 57%|█████▋    | 16/28 [02:15<01:37,  8.13s/it]\u001b[A\n",
      " 61%|██████    | 17/28 [02:23<01:28,  8.05s/it]\u001b[A\n",
      " 64%|██████▍   | 18/28 [02:31<01:19,  7.94s/it]\u001b[A\n",
      " 68%|██████▊   | 19/28 [02:39<01:10,  7.84s/it]\u001b[A\n",
      " 71%|███████▏  | 20/28 [02:46<01:02,  7.80s/it]\u001b[A\n",
      " 75%|███████▌  | 21/28 [02:55<00:55,  7.92s/it]\u001b[A\n",
      " 79%|███████▊  | 22/28 [03:02<00:46,  7.79s/it]\u001b[A\n",
      " 82%|████████▏ | 23/28 [03:09<00:38,  7.70s/it]\u001b[A\n",
      " 86%|████████▌ | 24/28 [03:17<00:30,  7.63s/it]\u001b[A\n",
      " 89%|████████▉ | 25/28 [03:25<00:23,  7.78s/it]\u001b[A\n",
      " 93%|█████████▎| 26/28 [03:32<00:15,  7.58s/it]\u001b[A\n",
      " 96%|█████████▋| 27/28 [03:39<00:07,  7.40s/it]\u001b[A\n",
      "100%|██████████| 28/28 [03:45<00:00,  8.04s/it]\n",
      "100%|██████████| 1/1 [04:25<00:00, 265.29s/it]\n"
     ]
    },
    {
     "data": {
      "text/plain": [
       "18"
      ]
     },
     "execution_count": 11,
     "metadata": {},
     "output_type": "execute_result"
    }
   ],
   "source": [
    "retrieved_articles = get_relevant_documents(df_valid)\n",
    "gc.collect()"
   ]
  },
  {
   "cell_type": "code",
   "execution_count": 12,
   "id": "1b4e2cf8",
   "metadata": {
    "execution": {
     "iopub.execute_input": "2023-10-09T03:50:23.726790Z",
     "iopub.status.busy": "2023-10-09T03:50:23.726409Z",
     "iopub.status.idle": "2023-10-09T04:08:17.564655Z",
     "shell.execute_reply": "2023-10-09T04:08:17.563573Z"
    },
    "papermill": {
     "duration": 1073.859183,
     "end_time": "2023-10-09T04:08:17.567839",
     "exception": false,
     "start_time": "2023-10-09T03:50:23.708656",
     "status": "completed"
    },
    "tags": []
   },
   "outputs": [
    {
     "data": {
      "application/vnd.jupyter.widget-view+json": {
       "model_id": "ce2c05907c8e41f986f420dfbe2783d0",
       "version_major": 2,
       "version_minor": 0
      },
      "text/plain": [
       "Map (num_proc=2):   0%|          | 0/4520652 [00:00<?, ? examples/s]"
      ]
     },
     "metadata": {},
     "output_type": "display_data"
    },
    {
     "name": "stderr",
     "output_type": "stream",
     "text": [
      "  0%|          | 0/1 [00:00<?, ?it/s]/opt/conda/lib/python3.10/site-packages/sklearn/feature_extraction/text.py:409: UserWarning: Your stop_words may be inconsistent with your preprocessing. Tokenizing the stop words generated tokens [\"'\", 'd', 'doesn', 'don', 'isn', 'll', 's', 'shouldn', 't', 've', 'wasn', 'weren', 'won'] not in stop_words.\n",
      "  warnings.warn(\n"
     ]
    },
    {
     "name": "stdout",
     "output_type": "stream",
     "text": [
      "length of vectorizer vocab is 11222\n"
     ]
    },
    {
     "name": "stderr",
     "output_type": "stream",
     "text": [
      "\n",
      "  0%|          | 0/46 [00:00<?, ?it/s]\u001b[A\n",
      "  2%|▏         | 1/46 [00:12<09:37, 12.84s/it]\u001b[A\n",
      "  4%|▍         | 2/46 [00:26<09:43, 13.26s/it]\u001b[A\n",
      "  7%|▋         | 3/46 [00:39<09:22, 13.08s/it]\u001b[A\n",
      "  9%|▊         | 4/46 [00:51<09:00, 12.88s/it]\u001b[A\n",
      " 11%|█         | 5/46 [01:05<08:54, 13.05s/it]\u001b[A\n",
      " 13%|█▎        | 6/46 [01:17<08:37, 12.94s/it]\u001b[A\n",
      " 15%|█▌        | 7/46 [01:31<08:29, 13.07s/it]\u001b[A\n",
      " 17%|█▋        | 8/46 [01:43<08:11, 12.92s/it]\u001b[A\n",
      " 20%|█▉        | 9/46 [01:56<07:54, 12.84s/it]\u001b[A\n",
      " 22%|██▏       | 10/46 [02:09<07:47, 12.99s/it]\u001b[A\n",
      " 24%|██▍       | 11/46 [02:22<07:28, 12.82s/it]\u001b[A\n",
      " 26%|██▌       | 12/46 [02:35<07:20, 12.97s/it]\u001b[A\n",
      " 28%|██▊       | 13/46 [02:48<07:03, 12.83s/it]\u001b[A\n",
      " 30%|███       | 14/46 [03:00<06:48, 12.75s/it]\u001b[A\n",
      " 33%|███▎      | 15/46 [03:14<06:40, 12.94s/it]\u001b[A\n",
      " 35%|███▍      | 16/46 [03:26<06:23, 12.80s/it]\u001b[A\n",
      " 37%|███▋      | 17/46 [03:39<06:15, 12.96s/it]\u001b[A\n",
      " 39%|███▉      | 18/46 [03:52<05:59, 12.84s/it]\u001b[A\n",
      " 41%|████▏     | 19/46 [04:04<05:43, 12.71s/it]\u001b[A\n",
      " 43%|████▎     | 20/46 [04:18<05:35, 12.90s/it]\u001b[A\n",
      " 46%|████▌     | 21/46 [04:30<05:19, 12.78s/it]\u001b[A\n",
      " 48%|████▊     | 22/46 [04:48<05:43, 14.30s/it]\u001b[A\n",
      " 50%|█████     | 23/46 [05:04<05:40, 14.79s/it]\u001b[A\n",
      " 52%|█████▏    | 24/46 [05:21<05:42, 15.57s/it]\u001b[A\n",
      " 54%|█████▍    | 25/46 [05:37<05:28, 15.66s/it]\u001b[A\n",
      " 57%|█████▋    | 26/46 [05:54<05:22, 16.15s/it]\u001b[A\n",
      " 59%|█████▊    | 27/46 [06:10<05:05, 16.10s/it]\u001b[A\n",
      " 61%|██████    | 28/46 [06:28<04:57, 16.52s/it]\u001b[A\n",
      " 63%|██████▎   | 29/46 [06:44<04:40, 16.50s/it]\u001b[A\n",
      " 65%|██████▌   | 30/46 [07:02<04:29, 16.82s/it]\u001b[A\n",
      " 67%|██████▋   | 31/46 [07:20<04:17, 17.17s/it]\u001b[A\n",
      " 70%|██████▉   | 32/46 [07:38<04:04, 17.43s/it]\u001b[A\n",
      " 72%|███████▏  | 33/46 [07:54<03:42, 17.13s/it]\u001b[A\n",
      " 74%|███████▍  | 34/46 [08:09<03:16, 16.39s/it]\u001b[A\n",
      " 76%|███████▌  | 35/46 [08:25<02:57, 16.16s/it]\u001b[A\n",
      " 78%|███████▊  | 36/46 [08:39<02:35, 15.56s/it]\u001b[A\n",
      " 80%|████████  | 37/46 [08:52<02:12, 14.73s/it]\u001b[A\n",
      " 83%|████████▎ | 38/46 [09:05<01:54, 14.37s/it]\u001b[A\n",
      " 85%|████████▍ | 39/46 [09:18<01:37, 13.86s/it]\u001b[A\n",
      " 87%|████████▋ | 40/46 [09:31<01:22, 13.75s/it]\u001b[A\n",
      " 89%|████████▉ | 41/46 [09:44<01:07, 13.49s/it]\u001b[A\n",
      " 91%|█████████▏| 42/46 [09:57<00:53, 13.37s/it]\u001b[A\n",
      " 93%|█████████▎| 43/46 [10:10<00:39, 13.20s/it]\u001b[A\n",
      " 96%|█████████▌| 44/46 [10:23<00:26, 13.09s/it]\u001b[A\n",
      " 98%|█████████▊| 45/46 [10:36<00:13, 13.21s/it]\u001b[A\n",
      "100%|██████████| 46/46 [10:39<00:00, 13.90s/it]\n",
      "100%|██████████| 1/1 [11:41<00:00, 701.46s/it]\n"
     ]
    },
    {
     "data": {
      "text/plain": [
       "18"
      ]
     },
     "execution_count": 12,
     "metadata": {},
     "output_type": "execute_result"
    }
   ],
   "source": [
    "retrieved_get_relevant_tfidf_parse1 = get_relevant_tfidf_parse1(df_valid)\n",
    "gc.collect()"
   ]
  },
  {
   "cell_type": "code",
   "execution_count": 13,
   "id": "a87dc0ae",
   "metadata": {
    "execution": {
     "iopub.execute_input": "2023-10-09T04:08:17.618030Z",
     "iopub.status.busy": "2023-10-09T04:08:17.617224Z",
     "iopub.status.idle": "2023-10-09T04:08:43.122653Z",
     "shell.execute_reply": "2023-10-09T04:08:43.121697Z"
    },
    "papermill": {
     "duration": 25.532346,
     "end_time": "2023-10-09T04:08:43.125003",
     "exception": false,
     "start_time": "2023-10-09T04:08:17.592657",
     "status": "completed"
    },
    "tags": []
   },
   "outputs": [],
   "source": [
    "tokenizer = LongformerTokenizer.from_pretrained(\"/kaggle/input/longformer-race-model/longformer_qa_model\")\n",
    "model = LongformerForMultipleChoice.from_pretrained(\"/kaggle/input/longformer-race-model/longformer_qa_model\").cuda()"
   ]
  },
  {
   "cell_type": "code",
   "execution_count": 14,
   "id": "a0895e64",
   "metadata": {
    "execution": {
     "iopub.execute_input": "2023-10-09T04:08:43.224809Z",
     "iopub.status.busy": "2023-10-09T04:08:43.224486Z",
     "iopub.status.idle": "2023-10-09T04:08:43.233904Z",
     "shell.execute_reply": "2023-10-09T04:08:43.232891Z"
    },
    "papermill": {
     "duration": 0.035614,
     "end_time": "2023-10-09T04:08:43.235574",
     "exception": false,
     "start_time": "2023-10-09T04:08:43.199960",
     "status": "completed"
    },
    "tags": []
   },
   "outputs": [],
   "source": [
    "df_valid['context'] = 'A'"
   ]
  },
  {
   "cell_type": "code",
   "execution_count": 15,
   "id": "3e8560d7",
   "metadata": {
    "execution": {
     "iopub.execute_input": "2023-10-09T04:08:43.287452Z",
     "iopub.status.busy": "2023-10-09T04:08:43.287018Z",
     "iopub.status.idle": "2023-10-09T04:12:57.433983Z",
     "shell.execute_reply": "2023-10-09T04:12:57.433011Z"
    },
    "papermill": {
     "duration": 254.174227,
     "end_time": "2023-10-09T04:12:57.436181",
     "exception": false,
     "start_time": "2023-10-09T04:08:43.261954",
     "status": "completed"
    },
    "tags": []
   },
   "outputs": [
    {
     "name": "stderr",
     "output_type": "stream",
     "text": [
      "100%|██████████| 200/200 [04:13<00:00,  1.27s/it]\n",
      "/tmp/ipykernel_24/3508891825.py:46: FutureWarning: The input object of type 'Tensor' is an array-like implementing one of the corresponding protocols (`__array__`, `__array_interface__` or `__array_struct__`); but not a sequence (or 0-D). In the future, this object will be coerced as if it was first converted using `np.array(obj)`. To retain the old behaviour, you have to either modify the type 'Tensor', or assign to an empty array created with `np.empty(correct_shape, dtype=object)`.\n",
      "  articles_predictions  = np.array(articles_predictions)\n",
      "/tmp/ipykernel_24/3508891825.py:46: VisibleDeprecationWarning: Creating an ndarray from ragged nested sequences (which is a list-or-tuple of lists-or-tuples-or ndarrays with different lengths or shapes) is deprecated. If you meant to do this, you must specify 'dtype=object' when creating the ndarray.\n",
      "  articles_predictions  = np.array(articles_predictions)\n"
     ]
    }
   ],
   "source": [
    "articles_predictions = []\n",
    "submit_ids = []\n",
    "\n",
    "for index in tqdm(range(df_valid.shape[0])):\n",
    "    columns = df_valid.iloc[index].values\n",
    "    submit_ids.append(columns[0])\n",
    "    question = columns[1]\n",
    "    options = [columns[2], columns[3], columns[4], columns[5], columns[6]]\n",
    "    context1 = f\"{retrieved_articles[index][-1][2]}\\n{retrieved_articles[index][-2][2]}\\n{retrieved_articles[index][-3][2]}\\n{retrieved_articles[index][-4][2]}\"\n",
    "    \n",
    "    context2 = \"\\n\".join([retrieved_get_relevant_tfidf_parse1[index][-i][2] for i in range(1, 3)])\n",
    "    context2 = context2[:2750]\n",
    "    \n",
    "    \n",
    "    inputs1 = prepare_answering_input(\n",
    "        tokenizer=tokenizer, question=question,\n",
    "        options=options, context=context1,\n",
    "        )\n",
    "    inputs2 = prepare_answering_input(\n",
    "        tokenizer=tokenizer, question=question,\n",
    "        options=options, context=context2,\n",
    "        )\n",
    "    \n",
    "    # add context\n",
    "    df_valid.loc[index, 'context'] = context1 + ' ' + context2\n",
    "        \n",
    "    \n",
    "    with torch.no_grad():\n",
    "        outputs1 = model(**inputs1)    \n",
    "        losses1 = -outputs1.logits[0].detach().cpu().numpy()\n",
    "        probability1 = torch.softmax(torch.tensor(-losses1), dim=-1)\n",
    "        \n",
    "    with torch.no_grad():\n",
    "        outputs2 = model(**inputs2)\n",
    "        losses2 = -outputs2.logits[0].detach().cpu().numpy()\n",
    "        probability2 = torch.softmax(torch.tensor(-losses2), dim=-1)\n",
    "        \n",
    "    probability_ = (probability1 + probability2)/2\n",
    "\n",
    "\n",
    "    articles_predictions.append(probability_)\n",
    "\n",
    "del model, tokenizer, inputs1, inputs2\n",
    "clean_memory()\n",
    "\n",
    "articles_predictions  = np.array(articles_predictions)\n",
    "# 각 텐서를 numpy 배열로 변환하고, 이들을 하나의 2차원 배열로 합침\n",
    "articles_predictions = np.stack([tensor.numpy() for tensor in articles_predictions])"
   ]
  },
  {
   "cell_type": "code",
   "execution_count": 16,
   "id": "045b67db",
   "metadata": {
    "execution": {
     "iopub.execute_input": "2023-10-09T04:12:57.502255Z",
     "iopub.status.busy": "2023-10-09T04:12:57.501984Z",
     "iopub.status.idle": "2023-10-09T04:12:57.507738Z",
     "shell.execute_reply": "2023-10-09T04:12:57.506832Z"
    },
    "papermill": {
     "duration": 0.039857,
     "end_time": "2023-10-09T04:12:57.509294",
     "exception": false,
     "start_time": "2023-10-09T04:12:57.469437",
     "status": "completed"
    },
    "tags": []
   },
   "outputs": [
    {
     "data": {
      "text/plain": [
       "(200, 5)"
      ]
     },
     "execution_count": 16,
     "metadata": {},
     "output_type": "execute_result"
    }
   ],
   "source": [
    "articles_predictions.shape"
   ]
  },
  {
   "cell_type": "code",
   "execution_count": 17,
   "id": "24a4f173",
   "metadata": {
    "execution": {
     "iopub.execute_input": "2023-10-09T04:12:57.574333Z",
     "iopub.status.busy": "2023-10-09T04:12:57.573654Z",
     "iopub.status.idle": "2023-10-09T04:12:57.613020Z",
     "shell.execute_reply": "2023-10-09T04:12:57.612148Z"
    },
    "papermill": {
     "duration": 0.07352,
     "end_time": "2023-10-09T04:12:57.614821",
     "exception": false,
     "start_time": "2023-10-09T04:12:57.541301",
     "status": "completed"
    },
    "tags": []
   },
   "outputs": [],
   "source": [
    "df_valid[[\"prompt\", \"context\", \"A\", \"B\", \"C\", \"D\", \"E\"]].to_csv(\"./test_context.csv\", index=False)"
   ]
  },
  {
   "cell_type": "markdown",
   "id": "b1ae013d",
   "metadata": {
    "papermill": {
     "duration": 0.031683,
     "end_time": "2023-10-09T04:12:57.678752",
     "exception": false,
     "start_time": "2023-10-09T04:12:57.647069",
     "status": "completed"
    },
    "tags": []
   },
   "source": [
    "# model_cp11100"
   ]
  },
  {
   "cell_type": "code",
   "execution_count": 18,
   "id": "50c4d752",
   "metadata": {
    "execution": {
     "iopub.execute_input": "2023-10-09T04:12:57.744949Z",
     "iopub.status.busy": "2023-10-09T04:12:57.744066Z",
     "iopub.status.idle": "2023-10-09T04:13:20.299757Z",
     "shell.execute_reply": "2023-10-09T04:13:20.298848Z"
    },
    "papermill": {
     "duration": 22.590938,
     "end_time": "2023-10-09T04:13:20.301735",
     "exception": false,
     "start_time": "2023-10-09T04:12:57.710797",
     "status": "completed"
    },
    "tags": []
   },
   "outputs": [
    {
     "data": {
      "text/plain": [
       "DebertaV2ForMultipleChoice(\n",
       "  (deberta): DebertaV2Model(\n",
       "    (embeddings): DebertaV2Embeddings(\n",
       "      (word_embeddings): Embedding(128100, 1024, padding_idx=0)\n",
       "      (LayerNorm): LayerNorm((1024,), eps=1e-07, elementwise_affine=True)\n",
       "      (dropout): StableDropout()\n",
       "    )\n",
       "    (encoder): DebertaV2Encoder(\n",
       "      (layer): ModuleList(\n",
       "        (0-23): 24 x DebertaV2Layer(\n",
       "          (attention): DebertaV2Attention(\n",
       "            (self): DisentangledSelfAttention(\n",
       "              (query_proj): Linear(in_features=1024, out_features=1024, bias=True)\n",
       "              (key_proj): Linear(in_features=1024, out_features=1024, bias=True)\n",
       "              (value_proj): Linear(in_features=1024, out_features=1024, bias=True)\n",
       "              (pos_dropout): StableDropout()\n",
       "              (dropout): StableDropout()\n",
       "            )\n",
       "            (output): DebertaV2SelfOutput(\n",
       "              (dense): Linear(in_features=1024, out_features=1024, bias=True)\n",
       "              (LayerNorm): LayerNorm((1024,), eps=1e-07, elementwise_affine=True)\n",
       "              (dropout): StableDropout()\n",
       "            )\n",
       "          )\n",
       "          (intermediate): DebertaV2Intermediate(\n",
       "            (dense): Linear(in_features=1024, out_features=4096, bias=True)\n",
       "            (intermediate_act_fn): GELUActivation()\n",
       "          )\n",
       "          (output): DebertaV2Output(\n",
       "            (dense): Linear(in_features=4096, out_features=1024, bias=True)\n",
       "            (LayerNorm): LayerNorm((1024,), eps=1e-07, elementwise_affine=True)\n",
       "            (dropout): StableDropout()\n",
       "          )\n",
       "        )\n",
       "      )\n",
       "      (rel_embeddings): Embedding(512, 1024)\n",
       "      (LayerNorm): LayerNorm((1024,), eps=1e-07, elementwise_affine=True)\n",
       "    )\n",
       "  )\n",
       "  (pooler): ContextPooler(\n",
       "    (dense): Linear(in_features=1024, out_features=1024, bias=True)\n",
       "    (dropout): StableDropout()\n",
       "  )\n",
       "  (classifier): Linear(in_features=1024, out_features=1, bias=True)\n",
       "  (dropout): StableDropout()\n",
       ")"
      ]
     },
     "execution_count": 18,
     "metadata": {},
     "output_type": "execute_result"
    }
   ],
   "source": [
    "model_dir = \"/kaggle/input/0924-v2-lr1e-5-epochs3/checkpoint-11100\"\n",
    "tokenizer = AutoTokenizer.from_pretrained(model_dir)\n",
    "model = AutoModelForMultipleChoice.from_pretrained(model_dir).cuda()\n",
    "model.eval()"
   ]
  },
  {
   "cell_type": "code",
   "execution_count": 19,
   "id": "12b80819",
   "metadata": {
    "execution": {
     "iopub.execute_input": "2023-10-09T04:13:20.366630Z",
     "iopub.status.busy": "2023-10-09T04:13:20.365803Z",
     "iopub.status.idle": "2023-10-09T04:15:25.643276Z",
     "shell.execute_reply": "2023-10-09T04:15:25.641673Z"
    },
    "papermill": {
     "duration": 125.313272,
     "end_time": "2023-10-09T04:15:25.646901",
     "exception": false,
     "start_time": "2023-10-09T04:13:20.333629",
     "status": "completed"
    },
    "tags": []
   },
   "outputs": [
    {
     "name": "stderr",
     "output_type": "stream",
     "text": [
      "100%|██████████| 200/200 [02:04<00:00,  1.61it/s]\n",
      "/tmp/ipykernel_24/447774920.py:43: FutureWarning: The input object of type 'Tensor' is an array-like implementing one of the corresponding protocols (`__array__`, `__array_interface__` or `__array_struct__`); but not a sequence (or 0-D). In the future, this object will be coerced as if it was first converted using `np.array(obj)`. To retain the old behaviour, you have to either modify the type 'Tensor', or assign to an empty array created with `np.empty(correct_shape, dtype=object)`.\n",
      "  v2_epochs3_predictions  = np.array(v2_epochs3_predictions)\n",
      "/tmp/ipykernel_24/447774920.py:43: VisibleDeprecationWarning: Creating an ndarray from ragged nested sequences (which is a list-or-tuple of lists-or-tuples-or ndarrays with different lengths or shapes) is deprecated. If you meant to do this, you must specify 'dtype=object' when creating the ndarray.\n",
      "  v2_epochs3_predictions  = np.array(v2_epochs3_predictions)\n"
     ]
    }
   ],
   "source": [
    "v2_epochs3_predictions  = []\n",
    "submit_ids = []\n",
    "\n",
    "for index in tqdm(range(df_valid.shape[0])):\n",
    "    columns = df_valid.iloc[index].values\n",
    "    submit_ids.append(columns[0])\n",
    "    question = columns[1]\n",
    "    options = [columns[2], columns[3], columns[4], columns[5], columns[6]]\n",
    "    context1 = f\"{retrieved_articles[index][-1][2]}\\n{retrieved_articles[index][-2][2]}\\n{retrieved_articles[index][-3][2]}\\n{retrieved_articles[index][-4][2]}\"\n",
    "    \n",
    "    context2 = \"\\n\".join([retrieved_get_relevant_tfidf_parse1[index][-i][2] for i in range(1, 3)])\n",
    "    context2 = context2[:2750]\n",
    "    \n",
    "    inputs1 = prepare_answering_input(\n",
    "        tokenizer=tokenizer, question=question,\n",
    "        options=options, context=context1,\n",
    "        )\n",
    "    inputs2 = prepare_answering_input(\n",
    "        tokenizer=tokenizer, question=question,\n",
    "        options=options, context=context2,\n",
    "        )\n",
    "    \n",
    "    with torch.no_grad():\n",
    "        outputs1 = model(**inputs1)    \n",
    "        losses1 = -outputs1.logits[0].detach().cpu().numpy()\n",
    "        probability1 = torch.softmax(torch.tensor(-losses1), dim=-1)\n",
    "        \n",
    "    with torch.no_grad():\n",
    "        outputs2 = model(**inputs2)\n",
    "        losses2 = -outputs2.logits[0].detach().cpu().numpy()\n",
    "        probability2 = torch.softmax(torch.tensor(-losses2), dim=-1)\n",
    "        \n",
    "    probability_ = (probability1 + probability2)/2\n",
    "    \n",
    "    v2_epochs3_predictions.append(probability_)\n",
    "    \n",
    "\n",
    "\n",
    "\n",
    "del model, tokenizer, inputs1, inputs2\n",
    "clean_memory()\n",
    "\n",
    "v2_epochs3_predictions  = np.array(v2_epochs3_predictions)\n",
    "# 각 텐서를 numpy 배열로 변환하고, 이들을 하나의 2차원 배열로 합침\n",
    "v2_epochs3_predictions = np.stack([tensor.numpy() for tensor in v2_epochs3_predictions])"
   ]
  },
  {
   "cell_type": "code",
   "execution_count": 20,
   "id": "1546eb8e",
   "metadata": {
    "execution": {
     "iopub.execute_input": "2023-10-09T04:15:25.785104Z",
     "iopub.status.busy": "2023-10-09T04:15:25.784768Z",
     "iopub.status.idle": "2023-10-09T04:15:25.790892Z",
     "shell.execute_reply": "2023-10-09T04:15:25.789955Z"
    },
    "papermill": {
     "duration": 0.049553,
     "end_time": "2023-10-09T04:15:25.792718",
     "exception": false,
     "start_time": "2023-10-09T04:15:25.743165",
     "status": "completed"
    },
    "tags": []
   },
   "outputs": [
    {
     "data": {
      "text/plain": [
       "(200, 5)"
      ]
     },
     "execution_count": 20,
     "metadata": {},
     "output_type": "execute_result"
    }
   ],
   "source": [
    "v2_epochs3_predictions.shape"
   ]
  },
  {
   "cell_type": "code",
   "execution_count": 21,
   "id": "add20dce",
   "metadata": {
    "execution": {
     "iopub.execute_input": "2023-10-09T04:15:25.874276Z",
     "iopub.status.busy": "2023-10-09T04:15:25.874029Z",
     "iopub.status.idle": "2023-10-09T04:15:25.877660Z",
     "shell.execute_reply": "2023-10-09T04:15:25.876837Z"
    },
    "papermill": {
     "duration": 0.046115,
     "end_time": "2023-10-09T04:15:25.879384",
     "exception": false,
     "start_time": "2023-10-09T04:15:25.833269",
     "status": "completed"
    },
    "tags": []
   },
   "outputs": [],
   "source": [
    "# pd.DataFrame({'id':submit_ids,'prediction':predictions}).to_csv('submission.csv', index=False)"
   ]
  },
  {
   "cell_type": "markdown",
   "id": "3c267c03",
   "metadata": {
    "papermill": {
     "duration": 0.039236,
     "end_time": "2023-10-09T04:15:25.958234",
     "exception": false,
     "start_time": "2023-10-09T04:15:25.918998",
     "status": "completed"
    },
    "tags": []
   },
   "source": [
    "# LB 0.865 (Optimise ensemble weight)"
   ]
  },
  {
   "cell_type": "code",
   "execution_count": 22,
   "id": "37c2b16b",
   "metadata": {
    "execution": {
     "iopub.execute_input": "2023-10-09T04:15:26.038116Z",
     "iopub.status.busy": "2023-10-09T04:15:26.037829Z",
     "iopub.status.idle": "2023-10-09T04:15:32.012710Z",
     "shell.execute_reply": "2023-10-09T04:15:32.011773Z"
    },
    "papermill": {
     "duration": 6.017436,
     "end_time": "2023-10-09T04:15:32.015063",
     "exception": false,
     "start_time": "2023-10-09T04:15:25.997627",
     "status": "completed"
    },
    "tags": []
   },
   "outputs": [],
   "source": [
    "import os, time\n",
    "import gc\n",
    "import pandas as pd\n",
    "import numpy as np\n",
    "import re\n",
    "from tqdm.auto import tqdm\n",
    "import blingfire as bf\n",
    "from __future__ import annotations\n",
    "\n",
    "from collections.abc import Iterable\n",
    "\n",
    "import faiss\n",
    "from faiss import write_index, read_index\n",
    "\n",
    "from sentence_transformers import SentenceTransformer\n",
    "\n",
    "import torch\n",
    "import ctypes\n",
    "libc = ctypes.CDLL(\"libc.so.6\")\n",
    "\n",
    "from dataclasses import dataclass\n",
    "from typing import Optional, Union\n",
    "\n",
    "import torch\n",
    "import numpy as np\n",
    "import pandas as pd\n",
    "from datasets import Dataset\n",
    "from transformers import AutoTokenizer\n",
    "from transformers import AutoModelForMultipleChoice, TrainingArguments, Trainer\n",
    "from transformers.tokenization_utils_base import PreTrainedTokenizerBase, PaddingStrategy\n",
    "from torch.utils.data import DataLoader\n",
    "\n",
    "from scipy.special import softmax"
   ]
  },
  {
   "cell_type": "code",
   "execution_count": 23,
   "id": "f2825772",
   "metadata": {
    "execution": {
     "iopub.execute_input": "2023-10-09T04:15:32.105866Z",
     "iopub.status.busy": "2023-10-09T04:15:32.105487Z",
     "iopub.status.idle": "2023-10-09T04:15:32.110634Z",
     "shell.execute_reply": "2023-10-09T04:15:32.109677Z"
    },
    "papermill": {
     "duration": 0.054345,
     "end_time": "2023-10-09T04:15:32.112963",
     "exception": false,
     "start_time": "2023-10-09T04:15:32.058618",
     "status": "completed"
    },
    "tags": []
   },
   "outputs": [],
   "source": [
    "DEBUG = False\n",
    "# DEBUG = False if len(trn)!=200 else True # If you want to save GPU Quota, check off this comment-out. But cannot get accurate weight on saving notebook\n",
    "FILTER_LEN = 1 if DEBUG else 10\n",
    "IND_SEARCH = 1 if DEBUG else 7\n",
    "NUM_SENTENCES_INCLUDE = 1 if DEBUG else 25\n",
    "CONTEXT_LEN = 1000 if DEBUG else 2750\n",
    "VAL_SIZE = 200 if DEBUG else 1500\n"
   ]
  },
  {
   "cell_type": "code",
   "execution_count": 24,
   "id": "e384ce3b",
   "metadata": {
    "execution": {
     "iopub.execute_input": "2023-10-09T04:15:32.206261Z",
     "iopub.status.busy": "2023-10-09T04:15:32.205535Z",
     "iopub.status.idle": "2023-10-09T04:15:32.210933Z",
     "shell.execute_reply": "2023-10-09T04:15:32.208845Z"
    },
    "papermill": {
     "duration": 0.050319,
     "end_time": "2023-10-09T04:15:32.214611",
     "exception": false,
     "start_time": "2023-10-09T04:15:32.164292",
     "status": "completed"
    },
    "tags": []
   },
   "outputs": [],
   "source": [
    "# trn[[\"prompt\", \"context\", \"A\", \"B\", \"C\", \"D\", \"E\"]].to_csv(\"./test_context.csv\", index=False)"
   ]
  },
  {
   "cell_type": "code",
   "execution_count": 25,
   "id": "2dcacf74",
   "metadata": {
    "execution": {
     "iopub.execute_input": "2023-10-09T04:15:32.352943Z",
     "iopub.status.busy": "2023-10-09T04:15:32.352612Z",
     "iopub.status.idle": "2023-10-09T04:15:32.382677Z",
     "shell.execute_reply": "2023-10-09T04:15:32.381860Z"
    },
    "papermill": {
     "duration": 0.073251,
     "end_time": "2023-10-09T04:15:32.384426",
     "exception": false,
     "start_time": "2023-10-09T04:15:32.311175",
     "status": "completed"
    },
    "tags": []
   },
   "outputs": [],
   "source": [
    "test_df = pd.read_csv(\"test_context.csv\")\n",
    "test_df.index = list(range(len(test_df)))\n",
    "test_df['id'] = list(range(len(test_df)))\n",
    "test_df[\"prompt\"] = test_df[\"context\"].apply(lambda x: x[:CONTEXT_LEN]) + \" #### \" +  test_df[\"prompt\"]\n",
    "test_df['answer'] = 'A'"
   ]
  },
  {
   "cell_type": "code",
   "execution_count": 26,
   "id": "1c122b57",
   "metadata": {
    "execution": {
     "iopub.execute_input": "2023-10-09T04:15:32.468702Z",
     "iopub.status.busy": "2023-10-09T04:15:32.468382Z",
     "iopub.status.idle": "2023-10-09T04:15:54.698851Z",
     "shell.execute_reply": "2023-10-09T04:15:54.697909Z"
    },
    "papermill": {
     "duration": 22.276686,
     "end_time": "2023-10-09T04:15:54.701040",
     "exception": false,
     "start_time": "2023-10-09T04:15:32.424354",
     "status": "completed"
    },
    "tags": []
   },
   "outputs": [
    {
     "data": {
      "text/plain": [
       "DebertaV2ForMultipleChoice(\n",
       "  (deberta): DebertaV2Model(\n",
       "    (embeddings): DebertaV2Embeddings(\n",
       "      (word_embeddings): Embedding(128100, 1024, padding_idx=0)\n",
       "      (LayerNorm): LayerNorm((1024,), eps=1e-07, elementwise_affine=True)\n",
       "      (dropout): StableDropout()\n",
       "    )\n",
       "    (encoder): DebertaV2Encoder(\n",
       "      (layer): ModuleList(\n",
       "        (0-23): 24 x DebertaV2Layer(\n",
       "          (attention): DebertaV2Attention(\n",
       "            (self): DisentangledSelfAttention(\n",
       "              (query_proj): Linear(in_features=1024, out_features=1024, bias=True)\n",
       "              (key_proj): Linear(in_features=1024, out_features=1024, bias=True)\n",
       "              (value_proj): Linear(in_features=1024, out_features=1024, bias=True)\n",
       "              (pos_dropout): StableDropout()\n",
       "              (dropout): StableDropout()\n",
       "            )\n",
       "            (output): DebertaV2SelfOutput(\n",
       "              (dense): Linear(in_features=1024, out_features=1024, bias=True)\n",
       "              (LayerNorm): LayerNorm((1024,), eps=1e-07, elementwise_affine=True)\n",
       "              (dropout): StableDropout()\n",
       "            )\n",
       "          )\n",
       "          (intermediate): DebertaV2Intermediate(\n",
       "            (dense): Linear(in_features=1024, out_features=4096, bias=True)\n",
       "            (intermediate_act_fn): GELUActivation()\n",
       "          )\n",
       "          (output): DebertaV2Output(\n",
       "            (dense): Linear(in_features=4096, out_features=1024, bias=True)\n",
       "            (LayerNorm): LayerNorm((1024,), eps=1e-07, elementwise_affine=True)\n",
       "            (dropout): StableDropout()\n",
       "          )\n",
       "        )\n",
       "      )\n",
       "      (rel_embeddings): Embedding(512, 1024)\n",
       "      (LayerNorm): LayerNorm((1024,), eps=1e-07, elementwise_affine=True)\n",
       "    )\n",
       "  )\n",
       "  (pooler): ContextPooler(\n",
       "    (dense): Linear(in_features=1024, out_features=1024, bias=True)\n",
       "    (dropout): StableDropout()\n",
       "  )\n",
       "  (classifier): Linear(in_features=1024, out_features=1, bias=True)\n",
       "  (dropout): StableDropout()\n",
       ")"
      ]
     },
     "execution_count": 26,
     "metadata": {},
     "output_type": "execute_result"
    }
   ],
   "source": [
    "model_dir = \"/kaggle/input/llm-science-run-context-2\"\n",
    "tokenizer = AutoTokenizer.from_pretrained(model_dir)\n",
    "model = AutoModelForMultipleChoice.from_pretrained(model_dir).cuda()\n",
    "model.eval()"
   ]
  },
  {
   "cell_type": "code",
   "execution_count": 27,
   "id": "215ec8d9",
   "metadata": {
    "execution": {
     "iopub.execute_input": "2023-10-09T04:15:54.865764Z",
     "iopub.status.busy": "2023-10-09T04:15:54.865170Z",
     "iopub.status.idle": "2023-10-09T04:15:54.874678Z",
     "shell.execute_reply": "2023-10-09T04:15:54.873886Z"
    },
    "papermill": {
     "duration": 0.092545,
     "end_time": "2023-10-09T04:15:54.876901",
     "exception": false,
     "start_time": "2023-10-09T04:15:54.784356",
     "status": "completed"
    },
    "tags": []
   },
   "outputs": [],
   "source": [
    "options = 'ABCDE'\n",
    "indices = list(range(5))\n",
    "\n",
    "option_to_index = {option: index for option, index in zip(options, indices)}\n",
    "index_to_option = {index: option for option, index in zip(options, indices)}\n",
    "\n",
    "def preprocess(example):\n",
    "  \n",
    "    first_sentence = [example['prompt']] * 5\n",
    "    second_sentence = []\n",
    "    for option in options:\n",
    "        second_sentence.append(example[option])\n",
    "    \n",
    "    tokenized_example = tokenizer(first_sentence, second_sentence, truncation='only_first')\n",
    "    tokenized_example['label'] = option_to_index[example['answer']]\n",
    "    return tokenized_example"
   ]
  },
  {
   "cell_type": "code",
   "execution_count": 28,
   "id": "2596924e",
   "metadata": {
    "execution": {
     "iopub.execute_input": "2023-10-09T04:15:55.037038Z",
     "iopub.status.busy": "2023-10-09T04:15:55.036571Z",
     "iopub.status.idle": "2023-10-09T04:15:55.048746Z",
     "shell.execute_reply": "2023-10-09T04:15:55.047939Z"
    },
    "papermill": {
     "duration": 0.094677,
     "end_time": "2023-10-09T04:15:55.051094",
     "exception": false,
     "start_time": "2023-10-09T04:15:54.956417",
     "status": "completed"
    },
    "tags": []
   },
   "outputs": [],
   "source": [
    "@dataclass\n",
    "class DataCollatorForMultipleChoice:\n",
    "    tokenizer: PreTrainedTokenizerBase\n",
    "    padding: Union[bool, str, PaddingStrategy] = True\n",
    "    max_length: Optional[int] = None\n",
    "    pad_to_multiple_of: Optional[int] = None\n",
    "    \n",
    "    def __call__(self, features):\n",
    "        label_name = \"label\" if 'label' in features[0].keys() else 'labels'\n",
    "        labels = [feature.pop(label_name) for feature in features]\n",
    "        batch_size = len(features)\n",
    "        num_choices = len(features[0]['input_ids'])\n",
    "        flattened_features = [\n",
    "            [{k: v[i] for k, v in feature.items()} for i in range(num_choices)] for feature in features\n",
    "        ]\n",
    "        flattened_features = sum(flattened_features, [])\n",
    "        \n",
    "        batch = self.tokenizer.pad(\n",
    "            flattened_features,\n",
    "            padding=self.padding,\n",
    "            max_length=self.max_length,\n",
    "            pad_to_multiple_of=self.pad_to_multiple_of,\n",
    "            return_tensors='pt',\n",
    "        )\n",
    "        batch = {k: v.view(batch_size, num_choices, -1) for k, v in batch.items()}\n",
    "        batch['labels'] = torch.tensor(labels, dtype=torch.int64)\n",
    "        return batch"
   ]
  },
  {
   "cell_type": "code",
   "execution_count": 29,
   "id": "d249dabb",
   "metadata": {
    "execution": {
     "iopub.execute_input": "2023-10-09T04:15:55.211145Z",
     "iopub.status.busy": "2023-10-09T04:15:55.210789Z",
     "iopub.status.idle": "2023-10-09T04:15:57.314787Z",
     "shell.execute_reply": "2023-10-09T04:15:57.313776Z"
    },
    "papermill": {
     "duration": 2.186166,
     "end_time": "2023-10-09T04:15:57.316627",
     "exception": false,
     "start_time": "2023-10-09T04:15:55.130461",
     "status": "completed"
    },
    "tags": []
   },
   "outputs": [
    {
     "data": {
      "application/vnd.jupyter.widget-view+json": {
       "model_id": "de044d4726434beea26826ef3ada279c",
       "version_major": 2,
       "version_minor": 0
      },
      "text/plain": [
       "Map:   0%|          | 0/200 [00:00<?, ? examples/s]"
      ]
     },
     "metadata": {},
     "output_type": "display_data"
    },
    {
     "name": "stderr",
     "output_type": "stream",
     "text": [
      "Asking to truncate to max_length but no maximum length is provided and the model has no predefined maximum length. Default to no truncation.\n"
     ]
    }
   ],
   "source": [
    "tokenized_test_dataset = Dataset.from_pandas(test_df[['id', 'prompt', 'A', 'B', 'C', 'D', 'E', 'answer']].drop(columns=['id'])).map(preprocess, remove_columns=['prompt', 'A', 'B', 'C', 'D', 'E', 'answer'])\n",
    "tokenized_test_dataset = tokenized_test_dataset.remove_columns([\"__index_level_0__\"])\n",
    "data_collator = DataCollatorForMultipleChoice(tokenizer=tokenizer)\n",
    "test_dataloader = DataLoader(tokenized_test_dataset, batch_size=1, shuffle=False, collate_fn=data_collator)"
   ]
  },
  {
   "cell_type": "code",
   "execution_count": 30,
   "id": "4447a3aa",
   "metadata": {
    "execution": {
     "iopub.execute_input": "2023-10-09T04:15:57.401452Z",
     "iopub.status.busy": "2023-10-09T04:15:57.401162Z",
     "iopub.status.idle": "2023-10-09T04:17:32.850360Z",
     "shell.execute_reply": "2023-10-09T04:17:32.849347Z"
    },
    "papermill": {
     "duration": 95.494759,
     "end_time": "2023-10-09T04:17:32.852146",
     "exception": false,
     "start_time": "2023-10-09T04:15:57.357387",
     "status": "completed"
    },
    "tags": []
   },
   "outputs": [
    {
     "data": {
      "application/vnd.jupyter.widget-view+json": {
       "model_id": "599624c2052a4e7a9ad4d287c20a9af0",
       "version_major": 2,
       "version_minor": 0
      },
      "text/plain": [
       "  0%|          | 0/200 [00:00<?, ?it/s]"
      ]
     },
     "metadata": {},
     "output_type": "display_data"
    },
    {
     "name": "stderr",
     "output_type": "stream",
     "text": [
      "You're using a DebertaV2TokenizerFast tokenizer. Please note that with a fast tokenizer, using the `__call__` method is faster than using a method to encode the text followed by a call to the `pad` method to get a padded encoding.\n"
     ]
    }
   ],
   "source": [
    "test_predictions = []\n",
    "\n",
    "\n",
    "for batch in tqdm(test_dataloader):\n",
    "    for k in batch.keys():\n",
    "        batch[k] = batch[k].cuda()\n",
    "    with torch.no_grad():\n",
    "        outputs = model(**batch)\n",
    "    test_predictions.append(outputs.logits.cpu().detach())\n",
    "\n",
    "test_predictions = torch.cat(test_predictions)"
   ]
  },
  {
   "cell_type": "code",
   "execution_count": 31,
   "id": "837a8343",
   "metadata": {
    "execution": {
     "iopub.execute_input": "2023-10-09T04:17:32.934728Z",
     "iopub.status.busy": "2023-10-09T04:17:32.934456Z",
     "iopub.status.idle": "2023-10-09T04:17:33.085836Z",
     "shell.execute_reply": "2023-10-09T04:17:33.084784Z"
    },
    "papermill": {
     "duration": 0.193657,
     "end_time": "2023-10-09T04:17:33.087635",
     "exception": false,
     "start_time": "2023-10-09T04:17:32.893978",
     "status": "completed"
    },
    "tags": []
   },
   "outputs": [],
   "source": [
    "test_predictions = softmax(test_predictions, axis=1).numpy()"
   ]
  },
  {
   "cell_type": "code",
   "execution_count": 32,
   "id": "17759dd6",
   "metadata": {
    "execution": {
     "iopub.execute_input": "2023-10-09T04:17:33.170553Z",
     "iopub.status.busy": "2023-10-09T04:17:33.169642Z",
     "iopub.status.idle": "2023-10-09T04:17:33.174344Z",
     "shell.execute_reply": "2023-10-09T04:17:33.173510Z"
    },
    "papermill": {
     "duration": 0.047176,
     "end_time": "2023-10-09T04:17:33.175993",
     "exception": false,
     "start_time": "2023-10-09T04:17:33.128817",
     "status": "completed"
    },
    "tags": []
   },
   "outputs": [],
   "source": [
    "ob_preds = test_predictions\n",
    "\n",
    "del test_predictions"
   ]
  },
  {
   "cell_type": "code",
   "execution_count": 33,
   "id": "b7bf71d2",
   "metadata": {
    "execution": {
     "iopub.execute_input": "2023-10-09T04:17:33.259464Z",
     "iopub.status.busy": "2023-10-09T04:17:33.259104Z",
     "iopub.status.idle": "2023-10-09T04:17:54.795879Z",
     "shell.execute_reply": "2023-10-09T04:17:54.794992Z"
    },
    "papermill": {
     "duration": 21.581167,
     "end_time": "2023-10-09T04:17:54.797754",
     "exception": false,
     "start_time": "2023-10-09T04:17:33.216587",
     "status": "completed"
    },
    "tags": []
   },
   "outputs": [
    {
     "data": {
      "text/plain": [
       "DebertaV2ForMultipleChoice(\n",
       "  (deberta): DebertaV2Model(\n",
       "    (embeddings): DebertaV2Embeddings(\n",
       "      (word_embeddings): Embedding(128100, 1024, padding_idx=0)\n",
       "      (LayerNorm): LayerNorm((1024,), eps=1e-07, elementwise_affine=True)\n",
       "      (dropout): StableDropout()\n",
       "    )\n",
       "    (encoder): DebertaV2Encoder(\n",
       "      (layer): ModuleList(\n",
       "        (0-23): 24 x DebertaV2Layer(\n",
       "          (attention): DebertaV2Attention(\n",
       "            (self): DisentangledSelfAttention(\n",
       "              (query_proj): Linear(in_features=1024, out_features=1024, bias=True)\n",
       "              (key_proj): Linear(in_features=1024, out_features=1024, bias=True)\n",
       "              (value_proj): Linear(in_features=1024, out_features=1024, bias=True)\n",
       "              (pos_dropout): StableDropout()\n",
       "              (dropout): StableDropout()\n",
       "            )\n",
       "            (output): DebertaV2SelfOutput(\n",
       "              (dense): Linear(in_features=1024, out_features=1024, bias=True)\n",
       "              (LayerNorm): LayerNorm((1024,), eps=1e-07, elementwise_affine=True)\n",
       "              (dropout): StableDropout()\n",
       "            )\n",
       "          )\n",
       "          (intermediate): DebertaV2Intermediate(\n",
       "            (dense): Linear(in_features=1024, out_features=4096, bias=True)\n",
       "            (intermediate_act_fn): GELUActivation()\n",
       "          )\n",
       "          (output): DebertaV2Output(\n",
       "            (dense): Linear(in_features=4096, out_features=1024, bias=True)\n",
       "            (LayerNorm): LayerNorm((1024,), eps=1e-07, elementwise_affine=True)\n",
       "            (dropout): StableDropout()\n",
       "          )\n",
       "        )\n",
       "      )\n",
       "      (rel_embeddings): Embedding(512, 1024)\n",
       "      (LayerNorm): LayerNorm((1024,), eps=1e-07, elementwise_affine=True)\n",
       "    )\n",
       "  )\n",
       "  (pooler): ContextPooler(\n",
       "    (dense): Linear(in_features=1024, out_features=1024, bias=True)\n",
       "    (dropout): StableDropout()\n",
       "  )\n",
       "  (classifier): Linear(in_features=1024, out_features=1, bias=True)\n",
       "  (dropout): StableDropout()\n",
       ")"
      ]
     },
     "execution_count": 33,
     "metadata": {},
     "output_type": "execute_result"
    }
   ],
   "source": [
    "# model_dir = \"/kaggle/input/how-to-train-open-book-model-part-1/model_v2\"\n",
    "model_dir = \"/kaggle/input/0903-v2-256-v3-384/model_v3\"\n",
    "tokenizer = AutoTokenizer.from_pretrained(model_dir)\n",
    "model = AutoModelForMultipleChoice.from_pretrained(model_dir).cuda()\n",
    "model.eval()"
   ]
  },
  {
   "cell_type": "code",
   "execution_count": 34,
   "id": "7285b92b",
   "metadata": {
    "execution": {
     "iopub.execute_input": "2023-10-09T04:17:54.881103Z",
     "iopub.status.busy": "2023-10-09T04:17:54.880522Z",
     "iopub.status.idle": "2023-10-09T04:19:30.365473Z",
     "shell.execute_reply": "2023-10-09T04:19:30.364367Z"
    },
    "papermill": {
     "duration": 95.52843,
     "end_time": "2023-10-09T04:19:30.367529",
     "exception": false,
     "start_time": "2023-10-09T04:17:54.839099",
     "status": "completed"
    },
    "tags": []
   },
   "outputs": [
    {
     "data": {
      "application/vnd.jupyter.widget-view+json": {
       "model_id": "5fb5ca713b6b4d029a14e8b6f75c5bf2",
       "version_major": 2,
       "version_minor": 0
      },
      "text/plain": [
       "  0%|          | 0/200 [00:00<?, ?it/s]"
      ]
     },
     "metadata": {},
     "output_type": "display_data"
    }
   ],
   "source": [
    "test_predictionsc = []\n",
    "\n",
    "\n",
    "for batch in tqdm(test_dataloader):\n",
    "    for k in batch.keys():\n",
    "        batch[k] = batch[k].cuda()\n",
    "    with torch.no_grad():\n",
    "        outputs = model(**batch)\n",
    "    test_predictionsc.append(outputs.logits.cpu().detach())\n",
    "    \n",
    "\n",
    "test_predictionsc = torch.cat(test_predictionsc)\n"
   ]
  },
  {
   "cell_type": "code",
   "execution_count": 35,
   "id": "504140ef",
   "metadata": {
    "execution": {
     "iopub.execute_input": "2023-10-09T04:19:30.454637Z",
     "iopub.status.busy": "2023-10-09T04:19:30.453637Z",
     "iopub.status.idle": "2023-10-09T04:19:30.459089Z",
     "shell.execute_reply": "2023-10-09T04:19:30.458281Z"
    },
    "papermill": {
     "duration": 0.050752,
     "end_time": "2023-10-09T04:19:30.460727",
     "exception": false,
     "start_time": "2023-10-09T04:19:30.409975",
     "status": "completed"
    },
    "tags": []
   },
   "outputs": [],
   "source": [
    "test_predictionsc = softmax(test_predictionsc, axis=1).numpy()"
   ]
  },
  {
   "cell_type": "code",
   "execution_count": 36,
   "id": "9530a9e9",
   "metadata": {
    "execution": {
     "iopub.execute_input": "2023-10-09T04:19:30.542627Z",
     "iopub.status.busy": "2023-10-09T04:19:30.542093Z",
     "iopub.status.idle": "2023-10-09T04:19:30.887030Z",
     "shell.execute_reply": "2023-10-09T04:19:30.885957Z"
    },
    "papermill": {
     "duration": 0.387659,
     "end_time": "2023-10-09T04:19:30.888788",
     "exception": false,
     "start_time": "2023-10-09T04:19:30.501129",
     "status": "completed"
    },
    "tags": []
   },
   "outputs": [
    {
     "data": {
      "text/plain": [
       "55"
      ]
     },
     "execution_count": 36,
     "metadata": {},
     "output_type": "execute_result"
    }
   ],
   "source": [
    "gc.collect()"
   ]
  },
  {
   "cell_type": "code",
   "execution_count": 37,
   "id": "6df2ebaf",
   "metadata": {
    "execution": {
     "iopub.execute_input": "2023-10-09T04:19:30.975749Z",
     "iopub.status.busy": "2023-10-09T04:19:30.975079Z",
     "iopub.status.idle": "2023-10-09T04:19:46.392258Z",
     "shell.execute_reply": "2023-10-09T04:19:46.391382Z"
    },
    "papermill": {
     "duration": 15.462685,
     "end_time": "2023-10-09T04:19:46.394268",
     "exception": false,
     "start_time": "2023-10-09T04:19:30.931583",
     "status": "completed"
    },
    "tags": []
   },
   "outputs": [
    {
     "data": {
      "text/plain": [
       "DebertaV2ForMultipleChoice(\n",
       "  (deberta): DebertaV2Model(\n",
       "    (embeddings): DebertaV2Embeddings(\n",
       "      (word_embeddings): Embedding(128100, 1024, padding_idx=0)\n",
       "      (LayerNorm): LayerNorm((1024,), eps=1e-07, elementwise_affine=True)\n",
       "      (dropout): StableDropout()\n",
       "    )\n",
       "    (encoder): DebertaV2Encoder(\n",
       "      (layer): ModuleList(\n",
       "        (0-23): 24 x DebertaV2Layer(\n",
       "          (attention): DebertaV2Attention(\n",
       "            (self): DisentangledSelfAttention(\n",
       "              (query_proj): Linear(in_features=1024, out_features=1024, bias=True)\n",
       "              (key_proj): Linear(in_features=1024, out_features=1024, bias=True)\n",
       "              (value_proj): Linear(in_features=1024, out_features=1024, bias=True)\n",
       "              (pos_dropout): StableDropout()\n",
       "              (dropout): StableDropout()\n",
       "            )\n",
       "            (output): DebertaV2SelfOutput(\n",
       "              (dense): Linear(in_features=1024, out_features=1024, bias=True)\n",
       "              (LayerNorm): LayerNorm((1024,), eps=1e-07, elementwise_affine=True)\n",
       "              (dropout): StableDropout()\n",
       "            )\n",
       "          )\n",
       "          (intermediate): DebertaV2Intermediate(\n",
       "            (dense): Linear(in_features=1024, out_features=4096, bias=True)\n",
       "            (intermediate_act_fn): GELUActivation()\n",
       "          )\n",
       "          (output): DebertaV2Output(\n",
       "            (dense): Linear(in_features=4096, out_features=1024, bias=True)\n",
       "            (LayerNorm): LayerNorm((1024,), eps=1e-07, elementwise_affine=True)\n",
       "            (dropout): StableDropout()\n",
       "          )\n",
       "        )\n",
       "      )\n",
       "      (rel_embeddings): Embedding(512, 1024)\n",
       "      (LayerNorm): LayerNorm((1024,), eps=1e-07, elementwise_affine=True)\n",
       "    )\n",
       "  )\n",
       "  (pooler): ContextPooler(\n",
       "    (dense): Linear(in_features=1024, out_features=1024, bias=True)\n",
       "    (dropout): StableDropout()\n",
       "  )\n",
       "  (classifier): Linear(in_features=1024, out_features=1, bias=True)\n",
       "  (dropout): StableDropout()\n",
       ")"
      ]
     },
     "execution_count": 37,
     "metadata": {},
     "output_type": "execute_result"
    }
   ],
   "source": [
    "model_dir = \"/kaggle/input/using-deepspeed-with-hf-trainer/checkpoints_1\"\n",
    "tokenizer = AutoTokenizer.from_pretrained(model_dir)\n",
    "model = AutoModelForMultipleChoice.from_pretrained(model_dir).cuda()\n",
    "model.eval()"
   ]
  },
  {
   "cell_type": "code",
   "execution_count": 38,
   "id": "4c147428",
   "metadata": {
    "execution": {
     "iopub.execute_input": "2023-10-09T04:19:46.477604Z",
     "iopub.status.busy": "2023-10-09T04:19:46.477271Z",
     "iopub.status.idle": "2023-10-09T04:21:21.972503Z",
     "shell.execute_reply": "2023-10-09T04:21:21.971384Z"
    },
    "papermill": {
     "duration": 95.538122,
     "end_time": "2023-10-09T04:21:21.974290",
     "exception": false,
     "start_time": "2023-10-09T04:19:46.436168",
     "status": "completed"
    },
    "tags": []
   },
   "outputs": [
    {
     "data": {
      "application/vnd.jupyter.widget-view+json": {
       "model_id": "cce0eda18d59491f8691f795f47f914b",
       "version_major": 2,
       "version_minor": 0
      },
      "text/plain": [
       "  0%|          | 0/200 [00:00<?, ?it/s]"
      ]
     },
     "metadata": {},
     "output_type": "display_data"
    }
   ],
   "source": [
    "test_predictionsi = []\n",
    "\n",
    "for batch in tqdm(test_dataloader):\n",
    "    for k in batch.keys():\n",
    "        batch[k] = batch[k].cuda()\n",
    "    with torch.no_grad():\n",
    "        outputs = model(**batch)\n",
    "    test_predictionsi.append(outputs.logits.cpu().detach())\n",
    "    \n",
    "test_predictionsi = torch.cat(test_predictionsi)"
   ]
  },
  {
   "cell_type": "code",
   "execution_count": 39,
   "id": "1062de04",
   "metadata": {
    "execution": {
     "iopub.execute_input": "2023-10-09T04:21:22.057806Z",
     "iopub.status.busy": "2023-10-09T04:21:22.057531Z",
     "iopub.status.idle": "2023-10-09T04:21:22.062503Z",
     "shell.execute_reply": "2023-10-09T04:21:22.061704Z"
    },
    "papermill": {
     "duration": 0.04849,
     "end_time": "2023-10-09T04:21:22.064090",
     "exception": false,
     "start_time": "2023-10-09T04:21:22.015600",
     "status": "completed"
    },
    "tags": []
   },
   "outputs": [],
   "source": [
    "test_predictionsi = softmax(test_predictionsi, axis=1).numpy()"
   ]
  },
  {
   "cell_type": "markdown",
   "id": "200b89e9",
   "metadata": {
    "papermill": {
     "duration": 0.077882,
     "end_time": "2023-10-09T04:21:22.181822",
     "exception": false,
     "start_time": "2023-10-09T04:21:22.103940",
     "status": "completed"
    },
    "tags": []
   },
   "source": [
    "# model by hyc (model_v26)"
   ]
  },
  {
   "cell_type": "code",
   "execution_count": 40,
   "id": "65c8b1f7",
   "metadata": {
    "execution": {
     "iopub.execute_input": "2023-10-09T04:21:22.324152Z",
     "iopub.status.busy": "2023-10-09T04:21:22.323821Z",
     "iopub.status.idle": "2023-10-09T04:21:49.146145Z",
     "shell.execute_reply": "2023-10-09T04:21:49.145252Z"
    },
    "papermill": {
     "duration": 26.907777,
     "end_time": "2023-10-09T04:21:49.148012",
     "exception": false,
     "start_time": "2023-10-09T04:21:22.240235",
     "status": "completed"
    },
    "tags": []
   },
   "outputs": [
    {
     "data": {
      "text/plain": [
       "DebertaV2ForMultipleChoice(\n",
       "  (deberta): DebertaV2Model(\n",
       "    (embeddings): DebertaV2Embeddings(\n",
       "      (word_embeddings): Embedding(128100, 1024, padding_idx=0)\n",
       "      (LayerNorm): LayerNorm((1024,), eps=1e-07, elementwise_affine=True)\n",
       "      (dropout): StableDropout()\n",
       "    )\n",
       "    (encoder): DebertaV2Encoder(\n",
       "      (layer): ModuleList(\n",
       "        (0-23): 24 x DebertaV2Layer(\n",
       "          (attention): DebertaV2Attention(\n",
       "            (self): DisentangledSelfAttention(\n",
       "              (query_proj): Linear(in_features=1024, out_features=1024, bias=True)\n",
       "              (key_proj): Linear(in_features=1024, out_features=1024, bias=True)\n",
       "              (value_proj): Linear(in_features=1024, out_features=1024, bias=True)\n",
       "              (pos_dropout): StableDropout()\n",
       "              (dropout): StableDropout()\n",
       "            )\n",
       "            (output): DebertaV2SelfOutput(\n",
       "              (dense): Linear(in_features=1024, out_features=1024, bias=True)\n",
       "              (LayerNorm): LayerNorm((1024,), eps=1e-07, elementwise_affine=True)\n",
       "              (dropout): StableDropout()\n",
       "            )\n",
       "          )\n",
       "          (intermediate): DebertaV2Intermediate(\n",
       "            (dense): Linear(in_features=1024, out_features=4096, bias=True)\n",
       "            (intermediate_act_fn): GELUActivation()\n",
       "          )\n",
       "          (output): DebertaV2Output(\n",
       "            (dense): Linear(in_features=4096, out_features=1024, bias=True)\n",
       "            (LayerNorm): LayerNorm((1024,), eps=1e-07, elementwise_affine=True)\n",
       "            (dropout): StableDropout()\n",
       "          )\n",
       "        )\n",
       "      )\n",
       "      (rel_embeddings): Embedding(512, 1024)\n",
       "      (LayerNorm): LayerNorm((1024,), eps=1e-07, elementwise_affine=True)\n",
       "    )\n",
       "  )\n",
       "  (pooler): ContextPooler(\n",
       "    (dense): Linear(in_features=1024, out_features=1024, bias=True)\n",
       "    (dropout): StableDropout()\n",
       "  )\n",
       "  (classifier): Linear(in_features=1024, out_features=1, bias=True)\n",
       "  (dropout): StableDropout()\n",
       ")"
      ]
     },
     "execution_count": 40,
     "metadata": {},
     "output_type": "execute_result"
    }
   ],
   "source": [
    "model_dir = '/kaggle/input/0917-model-v26/model_v26'\n",
    "tokenizer = AutoTokenizer.from_pretrained(model_dir)\n",
    "model = AutoModelForMultipleChoice.from_pretrained(model_dir).cuda()\n",
    "model.eval()"
   ]
  },
  {
   "cell_type": "code",
   "execution_count": 41,
   "id": "8bdbf3f9",
   "metadata": {
    "execution": {
     "iopub.execute_input": "2023-10-09T04:21:49.231274Z",
     "iopub.status.busy": "2023-10-09T04:21:49.230622Z",
     "iopub.status.idle": "2023-10-09T04:21:49.241153Z",
     "shell.execute_reply": "2023-10-09T04:21:49.240349Z"
    },
    "papermill": {
     "duration": 0.053662,
     "end_time": "2023-10-09T04:21:49.242848",
     "exception": false,
     "start_time": "2023-10-09T04:21:49.189186",
     "status": "completed"
    },
    "tags": []
   },
   "outputs": [],
   "source": [
    "# We'll create a dictionary to convert option names (A, B, C, D, E) into indices and back again\n",
    "options = 'ABCDE'\n",
    "indices = list(range(5))\n",
    "\n",
    "option_to_index = {option: index for option, index in zip(options, indices)}\n",
    "index_to_option = {index: option for option, index in zip(options, indices)}\n",
    "\n",
    "def preprocess(example):\n",
    "    # The AutoModelForMultipleChoice class expects a set of question/answer pairs\n",
    "    # so we'll copy our question 5 times before tokenizing\n",
    "    first_sentence = [example['prompt']] * 5\n",
    "    second_sentence = []\n",
    "    for option in options:\n",
    "        second_sentence.append(example[option])\n",
    "    # Our tokenizer will turn our text into token IDs BERT can understand\n",
    "    tokenized_example = tokenizer(first_sentence, second_sentence, truncation=True)\n",
    "    tokenized_example['label'] = option_to_index[example['answer']]\n",
    "    return tokenized_example\n",
    "\n",
    "@dataclass\n",
    "class DataCollatorForMultipleChoice:\n",
    "    tokenizer: PreTrainedTokenizerBase\n",
    "    # padding: Union[bool, str, PaddingStrategy] = True\n",
    "    padding: Union[bool, str, PaddingStrategy] = 'max_length'\n",
    "    max_length: Optional[int] = None\n",
    "    pad_to_multiple_of: Optional[int] = None\n",
    "    \n",
    "    def __call__(self, features):\n",
    "        label_name = 'label' if 'label' in features[0].keys() else 'labels'\n",
    "        labels = [feature.pop(label_name) for feature in features]\n",
    "        batch_size = len(features)\n",
    "        num_choices = len(features[0]['input_ids'])\n",
    "    \n",
    "        individual_predictions = []\n",
    "\n",
    "        max_seq_length = max(max(len(feature['input_ids'][i]) for feature in features) for i in range(num_choices))\n",
    "\n",
    "        for i in range(num_choices):\n",
    "            choice_features = [\n",
    "                {k: v[i] for k, v in feature.items()} for feature in features\n",
    "            ]\n",
    "            \n",
    "            batch = self.tokenizer.pad(\n",
    "                choice_features,\n",
    "                padding=self.padding,\n",
    "                max_length=max_seq_length,\n",
    "                pad_to_multiple_of=self.pad_to_multiple_of,\n",
    "                return_tensors='pt',\n",
    "            )\n",
    "    \n",
    "            batch = {k: v.view(batch_size, -1) for k, v in batch.items()}\n",
    "            individual_predictions.append(batch['input_ids'])\n",
    "    \n",
    "        labels = torch.tensor(labels, dtype=torch.int64)\n",
    "    \n",
    "        batch = {'input_ids': torch.stack(individual_predictions, dim=1), 'labels': labels}\n",
    "        return batch"
   ]
  },
  {
   "cell_type": "code",
   "execution_count": 42,
   "id": "d258a2a5",
   "metadata": {
    "execution": {
     "iopub.execute_input": "2023-10-09T04:21:49.323925Z",
     "iopub.status.busy": "2023-10-09T04:21:49.323655Z",
     "iopub.status.idle": "2023-10-09T04:21:51.155246Z",
     "shell.execute_reply": "2023-10-09T04:21:51.154380Z"
    },
    "papermill": {
     "duration": 1.874591,
     "end_time": "2023-10-09T04:21:51.157009",
     "exception": false,
     "start_time": "2023-10-09T04:21:49.282418",
     "status": "completed"
    },
    "tags": []
   },
   "outputs": [
    {
     "data": {
      "application/vnd.jupyter.widget-view+json": {
       "model_id": "7d407755b0f34eef8a2a707770b49ab1",
       "version_major": 2,
       "version_minor": 0
      },
      "text/plain": [
       "Map:   0%|          | 0/200 [00:00<?, ? examples/s]"
      ]
     },
     "metadata": {},
     "output_type": "display_data"
    },
    {
     "name": "stderr",
     "output_type": "stream",
     "text": [
      "Asking to truncate to max_length but no maximum length is provided and the model has no predefined maximum length. Default to no truncation.\n"
     ]
    }
   ],
   "source": [
    "tokenized_test_dataset = Dataset.from_pandas(test_df[['id', 'prompt', 'A', 'B', 'C', 'D', 'E', 'answer']].drop(columns=['id'])).map(preprocess, remove_columns=['prompt', 'A', 'B', 'C', 'D', 'E', 'answer'])\n",
    "tokenized_test_dataset = tokenized_test_dataset.remove_columns([\"__index_level_0__\"])\n",
    "data_collator = DataCollatorForMultipleChoice(tokenizer=tokenizer)\n",
    "test_dataloader = DataLoader(tokenized_test_dataset, batch_size=1, shuffle=False, collate_fn=data_collator)"
   ]
  },
  {
   "cell_type": "code",
   "execution_count": 43,
   "id": "8a87c7cd",
   "metadata": {
    "execution": {
     "iopub.execute_input": "2023-10-09T04:21:51.240238Z",
     "iopub.status.busy": "2023-10-09T04:21:51.239449Z",
     "iopub.status.idle": "2023-10-09T04:23:26.821350Z",
     "shell.execute_reply": "2023-10-09T04:23:26.820385Z"
    },
    "papermill": {
     "duration": 95.624809,
     "end_time": "2023-10-09T04:23:26.823107",
     "exception": false,
     "start_time": "2023-10-09T04:21:51.198298",
     "status": "completed"
    },
    "tags": []
   },
   "outputs": [
    {
     "data": {
      "application/vnd.jupyter.widget-view+json": {
       "model_id": "64a34e7b1f4e491dbefd2e3581180480",
       "version_major": 2,
       "version_minor": 0
      },
      "text/plain": [
       "  0%|          | 0/200 [00:00<?, ?it/s]"
      ]
     },
     "metadata": {},
     "output_type": "display_data"
    },
    {
     "name": "stderr",
     "output_type": "stream",
     "text": [
      "You're using a DebertaV2TokenizerFast tokenizer. Please note that with a fast tokenizer, using the `__call__` method is faster than using a method to encode the text followed by a call to the `pad` method to get a padded encoding.\n"
     ]
    }
   ],
   "source": [
    "\n",
    "\n",
    "preds = []\n",
    "\n",
    "\n",
    "for batch in tqdm(test_dataloader, total=len(test_dataloader)):\n",
    "    for k in batch.keys():\n",
    "        batch[k] = batch[k].cuda()\n",
    "    with torch.no_grad():\n",
    "        outputs = model(**batch)\n",
    "    preds.append(outputs.logits.cpu().detach())\n",
    "    \n",
    "\n",
    "\n",
    "hyc_preds_2 = torch.cat(preds)\n",
    "\n",
    "del model\n",
    "torch.cuda.empty_cache()"
   ]
  },
  {
   "cell_type": "code",
   "execution_count": 44,
   "id": "19b47bc1",
   "metadata": {
    "execution": {
     "iopub.execute_input": "2023-10-09T04:23:26.907228Z",
     "iopub.status.busy": "2023-10-09T04:23:26.906960Z",
     "iopub.status.idle": "2023-10-09T04:23:26.911859Z",
     "shell.execute_reply": "2023-10-09T04:23:26.911013Z"
    },
    "papermill": {
     "duration": 0.04784,
     "end_time": "2023-10-09T04:23:26.913558",
     "exception": false,
     "start_time": "2023-10-09T04:23:26.865718",
     "status": "completed"
    },
    "tags": []
   },
   "outputs": [],
   "source": [
    "hyc_preds_2 = softmax(hyc_preds_2, axis=1).numpy()"
   ]
  },
  {
   "cell_type": "code",
   "execution_count": null,
   "id": "d10c6690",
   "metadata": {
    "papermill": {
     "duration": 0.039744,
     "end_time": "2023-10-09T04:23:26.993723",
     "exception": false,
     "start_time": "2023-10-09T04:23:26.953979",
     "status": "completed"
    },
    "tags": []
   },
   "outputs": [],
   "source": []
  },
  {
   "cell_type": "code",
   "execution_count": null,
   "id": "e41d0d50",
   "metadata": {
    "papermill": {
     "duration": 0.039988,
     "end_time": "2023-10-09T04:23:27.082222",
     "exception": false,
     "start_time": "2023-10-09T04:23:27.042234",
     "status": "completed"
    },
    "tags": []
   },
   "outputs": [],
   "source": []
  },
  {
   "cell_type": "markdown",
   "id": "0daea907",
   "metadata": {
    "papermill": {
     "duration": 0.040997,
     "end_time": "2023-10-09T04:23:27.165382",
     "exception": false,
     "start_time": "2023-10-09T04:23:27.124385",
     "status": "completed"
    },
    "tags": []
   },
   "source": [
    "### In order to increase diversity, we also use some weights that do not use openbook"
   ]
  },
  {
   "cell_type": "code",
   "execution_count": 45,
   "id": "ff88ca48",
   "metadata": {
    "execution": {
     "iopub.execute_input": "2023-10-09T04:23:27.251206Z",
     "iopub.status.busy": "2023-10-09T04:23:27.250913Z",
     "iopub.status.idle": "2023-10-09T04:23:27.256217Z",
     "shell.execute_reply": "2023-10-09T04:23:27.255330Z"
    },
    "papermill": {
     "duration": 0.049732,
     "end_time": "2023-10-09T04:23:27.257843",
     "exception": false,
     "start_time": "2023-10-09T04:23:27.208111",
     "status": "completed"
    },
    "tags": []
   },
   "outputs": [],
   "source": [
    "from typing import Optional, Union\n",
    "import pandas as pd\n",
    "import numpy as np\n",
    "import torch\n",
    "from datasets import Dataset\n",
    "from dataclasses import dataclass\n",
    "from transformers import AutoTokenizer\n",
    "from transformers.tokenization_utils_base import PreTrainedTokenizerBase, PaddingStrategy\n",
    "from transformers import AutoModelForMultipleChoice, TrainingArguments, Trainer, AutoModel\n",
    "from torch.utils.data import DataLoader\n",
    "deberta_v3_large = '/kaggle/input/deberta-v3-large-hf-weights'\n",
    "import os\n",
    "os.environ['TRANSFORMERS_NO_ADVISORY_WARNINGS'] = 'true'\n",
    "os.environ['TOKENIZERS_PARALLELISM'] = 'false'"
   ]
  },
  {
   "cell_type": "code",
   "execution_count": 46,
   "id": "72827744",
   "metadata": {
    "execution": {
     "iopub.execute_input": "2023-10-09T04:23:27.340862Z",
     "iopub.status.busy": "2023-10-09T04:23:27.340105Z",
     "iopub.status.idle": "2023-10-09T04:23:27.349124Z",
     "shell.execute_reply": "2023-10-09T04:23:27.348352Z"
    },
    "papermill": {
     "duration": 0.051583,
     "end_time": "2023-10-09T04:23:27.350728",
     "exception": false,
     "start_time": "2023-10-09T04:23:27.299145",
     "status": "completed"
    },
    "tags": []
   },
   "outputs": [],
   "source": [
    "option_to_index = {option: idx for idx, option in enumerate('ABCDE')}\n",
    "index_to_option = {v: k for k,v in option_to_index.items()}\n",
    "\n",
    "def preprocess(example):\n",
    "    first_sentence = [example['prompt']] * 5\n",
    "    second_sentences = [example[option] for option in 'ABCDE']\n",
    "    tokenized_example = tokenizer(first_sentence, second_sentences, truncation=False)\n",
    "    tokenized_example['label'] = option_to_index[example['answer']]\n",
    "    \n",
    "    return tokenized_example\n",
    "\n",
    "@dataclass\n",
    "class DataCollatorForMultipleChoice:\n",
    "    tokenizer: PreTrainedTokenizerBase\n",
    "    padding: Union[bool, str, PaddingStrategy] = True\n",
    "    max_length: Optional[int] = None\n",
    "    pad_to_multiple_of: Optional[int] = None\n",
    "    \n",
    "    def __call__(self, features):\n",
    "        label_name = 'label' if 'label' in features[0].keys() else 'labels'\n",
    "        labels = [feature.pop(label_name) for feature in features]\n",
    "        batch_size = len(features)\n",
    "        num_choices = len(features[0]['input_ids'])\n",
    "        flattened_features = [\n",
    "            [{k: v[i] for k, v in feature.items()} for i in range(num_choices)] for feature in features\n",
    "        ]\n",
    "        flattened_features = sum(flattened_features, [])\n",
    "        \n",
    "        batch = self.tokenizer.pad(\n",
    "            flattened_features,\n",
    "            padding=self.padding,\n",
    "            max_length=self.max_length,\n",
    "            pad_to_multiple_of=self.pad_to_multiple_of,\n",
    "            return_tensors='pt',\n",
    "        )\n",
    "        batch = {k: v.view(batch_size, num_choices, -1) for k, v in batch.items()}\n",
    "        batch['labels'] = torch.tensor(labels, dtype=torch.int64)\n",
    "        return batch "
   ]
  },
  {
   "cell_type": "code",
   "execution_count": 47,
   "id": "629bf84b",
   "metadata": {
    "execution": {
     "iopub.execute_input": "2023-10-09T04:23:27.433656Z",
     "iopub.status.busy": "2023-10-09T04:23:27.432907Z",
     "iopub.status.idle": "2023-10-09T04:23:30.951617Z",
     "shell.execute_reply": "2023-10-09T04:23:30.950471Z"
    },
    "papermill": {
     "duration": 3.561835,
     "end_time": "2023-10-09T04:23:30.953609",
     "exception": false,
     "start_time": "2023-10-09T04:23:27.391774",
     "status": "completed"
    },
    "tags": []
   },
   "outputs": [
    {
     "name": "stderr",
     "output_type": "stream",
     "text": [
      "/opt/conda/lib/python3.10/site-packages/transformers/convert_slow_tokenizer.py:470: UserWarning: The sentencepiece tokenizer that you are converting to a fast tokenizer uses the byte fallback option which is not implemented in the fast tokenizers. In practice this means that the fast version of the tokenizer can produce unknown tokens whereas the sentencepiece version would have converted these unknown tokens into a sequence of byte tokens matching the original piece of text.\n",
      "  warnings.warn(\n"
     ]
    }
   ],
   "source": [
    "tokenizer = AutoTokenizer.from_pretrained(deberta_v3_large)\n",
    "\n",
    "# test_df = pd.read_csv('/kaggle/input/kaggle-llm-science-exam/test.csv')\n",
    "# test_df['answer'] = 'A' # dummy answer that allows us to preprocess the test datataset using functionality that works for the train set\n",
    "\n",
    "\n",
    "# tokenized_test_dataset = Dataset.from_pandas(test_df.drop(columns=['id'])).map(preprocess, remove_columns=['prompt', 'A', 'B', 'C', 'D', 'E', 'answer'])\n",
    "# data_collator = DataCollatorForMultipleChoice(tokenizer=tokenizer)\n",
    "# test_dataloader = DataLoader(tokenized_test_dataset, 1, shuffle=False, collate_fn=data_collator, num_workers=0, pin_memory=True,)"
   ]
  },
  {
   "cell_type": "code",
   "execution_count": 48,
   "id": "5d4f0e66",
   "metadata": {
    "execution": {
     "iopub.execute_input": "2023-10-09T04:23:31.037846Z",
     "iopub.status.busy": "2023-10-09T04:23:31.037568Z",
     "iopub.status.idle": "2023-10-09T04:25:28.796285Z",
     "shell.execute_reply": "2023-10-09T04:25:28.795376Z"
    },
    "papermill": {
     "duration": 117.802507,
     "end_time": "2023-10-09T04:25:28.798308",
     "exception": false,
     "start_time": "2023-10-09T04:23:30.995801",
     "status": "completed"
    },
    "tags": []
   },
   "outputs": [
    {
     "data": {
      "application/vnd.jupyter.widget-view+json": {
       "model_id": "f265eda8f53d478ea91fd76e74cd9375",
       "version_major": 2,
       "version_minor": 0
      },
      "text/plain": [
       "  0%|          | 0/200 [00:00<?, ?it/s]"
      ]
     },
     "metadata": {},
     "output_type": "display_data"
    }
   ],
   "source": [
    "model = AutoModelForMultipleChoice.from_pretrained(f'/kaggle/input/0907-v13-cv08967/model_v13').cuda()\n",
    "model.eval()\n",
    "\n",
    "preds = []\n",
    "preds_v = []\n",
    "\n",
    "for batch in tqdm(test_dataloader, total=len(test_dataloader)):\n",
    "    for k in batch.keys():\n",
    "        batch[k] = batch[k].cuda()\n",
    "    with torch.no_grad():\n",
    "        outputs = model(**batch)\n",
    "    preds.append(outputs.logits.cpu().detach())\n",
    "    \n",
    "\n",
    "hyc_preds = torch.cat(preds)\n",
    "\n",
    "del model\n",
    "torch.cuda.empty_cache()"
   ]
  },
  {
   "cell_type": "code",
   "execution_count": 49,
   "id": "68e10bbd",
   "metadata": {
    "execution": {
     "iopub.execute_input": "2023-10-09T04:25:28.883223Z",
     "iopub.status.busy": "2023-10-09T04:25:28.882391Z",
     "iopub.status.idle": "2023-10-09T04:25:28.888038Z",
     "shell.execute_reply": "2023-10-09T04:25:28.887267Z"
    },
    "papermill": {
     "duration": 0.049385,
     "end_time": "2023-10-09T04:25:28.889811",
     "exception": false,
     "start_time": "2023-10-09T04:25:28.840426",
     "status": "completed"
    },
    "tags": []
   },
   "outputs": [],
   "source": [
    "hyc_preds = softmax(hyc_preds, axis=1).numpy()"
   ]
  },
  {
   "cell_type": "code",
   "execution_count": 50,
   "id": "60f09da2",
   "metadata": {
    "execution": {
     "iopub.execute_input": "2023-10-09T04:25:29.030675Z",
     "iopub.status.busy": "2023-10-09T04:25:29.030041Z",
     "iopub.status.idle": "2023-10-09T04:25:29.600498Z",
     "shell.execute_reply": "2023-10-09T04:25:29.599533Z"
    },
    "papermill": {
     "duration": 0.660476,
     "end_time": "2023-10-09T04:25:29.602272",
     "exception": false,
     "start_time": "2023-10-09T04:25:28.941796",
     "status": "completed"
    },
    "tags": []
   },
   "outputs": [
    {
     "data": {
      "text/plain": [
       "116"
      ]
     },
     "execution_count": 50,
     "metadata": {},
     "output_type": "execute_result"
    }
   ],
   "source": [
    "gc.collect()"
   ]
  },
  {
   "cell_type": "code",
   "execution_count": 51,
   "id": "371a6db2",
   "metadata": {
    "execution": {
     "iopub.execute_input": "2023-10-09T04:25:29.689281Z",
     "iopub.status.busy": "2023-10-09T04:25:29.688623Z",
     "iopub.status.idle": "2023-10-09T04:25:29.693747Z",
     "shell.execute_reply": "2023-10-09T04:25:29.692815Z"
    },
    "papermill": {
     "duration": 0.049907,
     "end_time": "2023-10-09T04:25:29.695382",
     "exception": false,
     "start_time": "2023-10-09T04:25:29.645475",
     "status": "completed"
    },
    "tags": []
   },
   "outputs": [],
   "source": [
    "import os, glob\n",
    "from typing import Optional, Union\n",
    "import pandas as pd\n",
    "import numpy as np\n",
    "from tqdm import tqdm\n",
    "\n",
    "import torch\n",
    "import torch.nn as nn\n",
    "from torch.utils.data import DataLoader\n",
    "\n",
    "from datasets import Dataset\n",
    "from dataclasses import dataclass\n",
    "from transformers import AutoTokenizer, AutoConfig\n",
    "from transformers.tokenization_utils_base import PreTrainedTokenizerBase, PaddingStrategy\n",
    "from transformers import AutoModelForMultipleChoice, TrainingArguments, Trainer, AutoModel"
   ]
  },
  {
   "cell_type": "code",
   "execution_count": 52,
   "id": "6afbd30b",
   "metadata": {
    "execution": {
     "iopub.execute_input": "2023-10-09T04:25:29.778249Z",
     "iopub.status.busy": "2023-10-09T04:25:29.777658Z",
     "iopub.status.idle": "2023-10-09T04:25:29.782228Z",
     "shell.execute_reply": "2023-10-09T04:25:29.781458Z"
    },
    "papermill": {
     "duration": 0.047544,
     "end_time": "2023-10-09T04:25:29.783884",
     "exception": false,
     "start_time": "2023-10-09T04:25:29.736340",
     "status": "completed"
    },
    "tags": []
   },
   "outputs": [],
   "source": [
    "MODEL_DIR = '/kaggle/input/llm-kaggle-awp'\n",
    "CONF_PATH = MODEL_DIR + '/deberta-v3-large_config.pth'\n",
    "MODEL_PATH = MODEL_DIR + '/best_model_public.pt'"
   ]
  },
  {
   "cell_type": "code",
   "execution_count": 53,
   "id": "e07213d8",
   "metadata": {
    "execution": {
     "iopub.execute_input": "2023-10-09T04:25:29.867021Z",
     "iopub.status.busy": "2023-10-09T04:25:29.866780Z",
     "iopub.status.idle": "2023-10-09T04:25:29.873070Z",
     "shell.execute_reply": "2023-10-09T04:25:29.872147Z"
    },
    "papermill": {
     "duration": 0.049783,
     "end_time": "2023-10-09T04:25:29.874746",
     "exception": false,
     "start_time": "2023-10-09T04:25:29.824963",
     "status": "completed"
    },
    "tags": []
   },
   "outputs": [
    {
     "data": {
      "text/plain": [
       "device(type='cuda')"
      ]
     },
     "execution_count": 53,
     "metadata": {},
     "output_type": "execute_result"
    }
   ],
   "source": [
    "device = torch.device('cuda') if torch.cuda.is_available() else torch.device('cpu')\n",
    "device"
   ]
  },
  {
   "cell_type": "code",
   "execution_count": 54,
   "id": "57986703",
   "metadata": {
    "execution": {
     "iopub.execute_input": "2023-10-09T04:25:29.957307Z",
     "iopub.status.busy": "2023-10-09T04:25:29.956635Z",
     "iopub.status.idle": "2023-10-09T04:25:29.977640Z",
     "shell.execute_reply": "2023-10-09T04:25:29.976841Z"
    },
    "papermill": {
     "duration": 0.063929,
     "end_time": "2023-10-09T04:25:29.979183",
     "exception": false,
     "start_time": "2023-10-09T04:25:29.915254",
     "status": "completed"
    },
    "tags": []
   },
   "outputs": [],
   "source": [
    "test_df = pd.read_csv('/kaggle/input/kaggle-llm-science-exam/test.csv')\n",
    "test_df['answer'] = 'A' # dummy answer that allows us to preprocess the test datataset using functionality that works for the train set\n",
    "test_df = test_df.replace(np.NaN, '')"
   ]
  },
  {
   "cell_type": "code",
   "execution_count": 55,
   "id": "a2b99a19",
   "metadata": {
    "execution": {
     "iopub.execute_input": "2023-10-09T04:25:30.062648Z",
     "iopub.status.busy": "2023-10-09T04:25:30.062115Z",
     "iopub.status.idle": "2023-10-09T04:25:30.431723Z",
     "shell.execute_reply": "2023-10-09T04:25:30.430762Z"
    },
    "papermill": {
     "duration": 0.412986,
     "end_time": "2023-10-09T04:25:30.433471",
     "exception": false,
     "start_time": "2023-10-09T04:25:30.020485",
     "status": "completed"
    },
    "tags": []
   },
   "outputs": [
    {
     "data": {
      "text/plain": [
       "DebertaV2TokenizerFast(name_or_path='/kaggle/input/llm-kaggle-awp/tokenizer', vocab_size=128000, model_max_length=1000000000000000019884624838656, is_fast=True, padding_side='right', truncation_side='right', special_tokens={'bos_token': '[CLS]', 'eos_token': '[SEP]', 'unk_token': '[UNK]', 'sep_token': '[SEP]', 'pad_token': '[PAD]', 'cls_token': '[CLS]', 'mask_token': '[MASK]'}, clean_up_tokenization_spaces=True)"
      ]
     },
     "execution_count": 55,
     "metadata": {},
     "output_type": "execute_result"
    }
   ],
   "source": [
    "tokenizer = AutoTokenizer.from_pretrained(MODEL_DIR+'/tokenizer')\n",
    "tokenizer"
   ]
  },
  {
   "cell_type": "code",
   "execution_count": 56,
   "id": "28047894",
   "metadata": {
    "execution": {
     "iopub.execute_input": "2023-10-09T04:25:30.518655Z",
     "iopub.status.busy": "2023-10-09T04:25:30.517767Z",
     "iopub.status.idle": "2023-10-09T04:25:30.526672Z",
     "shell.execute_reply": "2023-10-09T04:25:30.525881Z"
    },
    "papermill": {
     "duration": 0.052963,
     "end_time": "2023-10-09T04:25:30.528239",
     "exception": false,
     "start_time": "2023-10-09T04:25:30.475276",
     "status": "completed"
    },
    "tags": []
   },
   "outputs": [],
   "source": [
    "class LlmseDataset(torch.utils.data.Dataset):\n",
    "    def __init__(self, df):\n",
    "        self.df = df\n",
    "        self.a2i = {alp: idx for idx, alp in enumerate('ABCDE')}\n",
    "        self.i2a = {v: k for k,v in self.a2i.items()}\n",
    "        self.perm_dict = {0: [1,2,3,4],\n",
    "                     1: [2,3,4,0], \n",
    "                     2: [3,4,0,1],\n",
    "                     3: [4,0,1,2],\n",
    "                     4: [0,1,2,3]}\n",
    "  \n",
    "    def __len__(self):\n",
    "        return len(self.df)\n",
    "        \n",
    "    def __getitem__(self, idx):\n",
    "        example = self.df.iloc[idx]\n",
    "        tokenized_example = dict()              \n",
    "\n",
    "        first_sentence = [example['prompt']] * 5\n",
    "        second_sentences = [example[option] for option in 'ABCDE']\n",
    "        other_sentences = [[] for i in range(5)]\n",
    "\n",
    "        for i, p in enumerate(range(5)):\n",
    "            value = self.perm_dict[p] \n",
    "            for v in value:\n",
    "                al = self.i2a[v] \n",
    "                second_sentences[i]+= ' ' + example[al]\n",
    "\n",
    "        tokenized_example = tokenizer(first_sentence, \n",
    "                                      second_sentences,\n",
    "                                      truncation='only_first')\n",
    "        tokenized_example['label'] = option_to_index[example['answer']]\n",
    "        return tokenized_example\n",
    "            \n",
    "test_ds = LlmseDataset(test_df)"
   ]
  },
  {
   "cell_type": "code",
   "execution_count": 57,
   "id": "616ab3c3",
   "metadata": {
    "execution": {
     "iopub.execute_input": "2023-10-09T04:25:30.615290Z",
     "iopub.status.busy": "2023-10-09T04:25:30.614985Z",
     "iopub.status.idle": "2023-10-09T04:25:30.619831Z",
     "shell.execute_reply": "2023-10-09T04:25:30.618793Z"
    },
    "papermill": {
     "duration": 0.049323,
     "end_time": "2023-10-09T04:25:30.621578",
     "exception": false,
     "start_time": "2023-10-09T04:25:30.572255",
     "status": "completed"
    },
    "tags": []
   },
   "outputs": [],
   "source": [
    "data_collator = DataCollatorForMultipleChoice(tokenizer=tokenizer)\n",
    "\n",
    "test_dl = DataLoader(\n",
    "    test_ds, \n",
    "    batch_size=1, \n",
    "    shuffle=False, \n",
    "    collate_fn=data_collator,\n",
    "    num_workers=0,\n",
    "    pin_memory=True,\n",
    "    drop_last=False\n",
    ")"
   ]
  },
  {
   "cell_type": "code",
   "execution_count": 58,
   "id": "1da16d5d",
   "metadata": {
    "execution": {
     "iopub.execute_input": "2023-10-09T04:25:30.707721Z",
     "iopub.status.busy": "2023-10-09T04:25:30.707416Z",
     "iopub.status.idle": "2023-10-09T04:25:30.714614Z",
     "shell.execute_reply": "2023-10-09T04:25:30.713667Z"
    },
    "papermill": {
     "duration": 0.052699,
     "end_time": "2023-10-09T04:25:30.716296",
     "exception": false,
     "start_time": "2023-10-09T04:25:30.663597",
     "status": "completed"
    },
    "tags": []
   },
   "outputs": [],
   "source": [
    "class CustomModel(nn.Module):\n",
    "    def __init__(self, model_conf, *, dropout=0.2, pretrained=True):\n",
    "        super().__init__()\n",
    "\n",
    "        # Transformer\n",
    "        #self.config = AutoConfig.from_pretrained(model_conf)\n",
    "\n",
    "        self.transformer = AutoModelForMultipleChoice.from_config(model_conf)\n",
    "\n",
    "        #self._init_weights(self.fc, self.config)\n",
    "\n",
    "    def _init_weights(self, module, config):\n",
    "        module.weight.data.normal_(mean=0.0, std=config.initializer_range)\n",
    "        if module.bias is not None:\n",
    "            module.bias.data.zero_()\n",
    "\n",
    "    def forward(self, input_ids, attention_mask, token_type_ids=None):\n",
    "        out = self.transformer(input_ids, attention_mask, token_type_ids=token_type_ids)\n",
    "        x = out['logits'] \n",
    "\n",
    "        return x"
   ]
  },
  {
   "cell_type": "code",
   "execution_count": 59,
   "id": "c3501ae6",
   "metadata": {
    "execution": {
     "iopub.execute_input": "2023-10-09T04:25:30.801812Z",
     "iopub.status.busy": "2023-10-09T04:25:30.801149Z",
     "iopub.status.idle": "2023-10-09T04:25:54.947923Z",
     "shell.execute_reply": "2023-10-09T04:25:54.946987Z"
    },
    "papermill": {
     "duration": 24.191417,
     "end_time": "2023-10-09T04:25:54.949890",
     "exception": false,
     "start_time": "2023-10-09T04:25:30.758473",
     "status": "completed"
    },
    "tags": []
   },
   "outputs": [
    {
     "data": {
      "text/plain": [
       "CustomModel(\n",
       "  (transformer): DebertaV2ForMultipleChoice(\n",
       "    (deberta): DebertaV2Model(\n",
       "      (embeddings): DebertaV2Embeddings(\n",
       "        (word_embeddings): Embedding(128100, 1024, padding_idx=0)\n",
       "        (LayerNorm): LayerNorm((1024,), eps=1e-07, elementwise_affine=True)\n",
       "        (dropout): StableDropout()\n",
       "      )\n",
       "      (encoder): DebertaV2Encoder(\n",
       "        (layer): ModuleList(\n",
       "          (0-23): 24 x DebertaV2Layer(\n",
       "            (attention): DebertaV2Attention(\n",
       "              (self): DisentangledSelfAttention(\n",
       "                (query_proj): Linear(in_features=1024, out_features=1024, bias=True)\n",
       "                (key_proj): Linear(in_features=1024, out_features=1024, bias=True)\n",
       "                (value_proj): Linear(in_features=1024, out_features=1024, bias=True)\n",
       "                (pos_dropout): StableDropout()\n",
       "                (dropout): StableDropout()\n",
       "              )\n",
       "              (output): DebertaV2SelfOutput(\n",
       "                (dense): Linear(in_features=1024, out_features=1024, bias=True)\n",
       "                (LayerNorm): LayerNorm((1024,), eps=1e-07, elementwise_affine=True)\n",
       "                (dropout): StableDropout()\n",
       "              )\n",
       "            )\n",
       "            (intermediate): DebertaV2Intermediate(\n",
       "              (dense): Linear(in_features=1024, out_features=4096, bias=True)\n",
       "              (intermediate_act_fn): GELUActivation()\n",
       "            )\n",
       "            (output): DebertaV2Output(\n",
       "              (dense): Linear(in_features=4096, out_features=1024, bias=True)\n",
       "              (LayerNorm): LayerNorm((1024,), eps=1e-07, elementwise_affine=True)\n",
       "              (dropout): StableDropout()\n",
       "            )\n",
       "          )\n",
       "        )\n",
       "        (rel_embeddings): Embedding(512, 1024)\n",
       "        (LayerNorm): LayerNorm((1024,), eps=1e-07, elementwise_affine=True)\n",
       "      )\n",
       "    )\n",
       "    (pooler): ContextPooler(\n",
       "      (dense): Linear(in_features=1024, out_features=1024, bias=True)\n",
       "      (dropout): StableDropout()\n",
       "    )\n",
       "    (classifier): Linear(in_features=1024, out_features=1, bias=True)\n",
       "    (dropout): StableDropout()\n",
       "  )\n",
       ")"
      ]
     },
     "execution_count": 59,
     "metadata": {},
     "output_type": "execute_result"
    }
   ],
   "source": [
    "config = torch.load(CONF_PATH)\n",
    "model = CustomModel(model_conf=config)\n",
    "model.load_state_dict(torch.load(MODEL_PATH))\n",
    "model.to(device)\n",
    "model.eval()"
   ]
  },
  {
   "cell_type": "code",
   "execution_count": 60,
   "id": "fd876b3b",
   "metadata": {
    "execution": {
     "iopub.execute_input": "2023-10-09T04:25:55.036206Z",
     "iopub.status.busy": "2023-10-09T04:25:55.035452Z",
     "iopub.status.idle": "2023-10-09T04:26:22.400304Z",
     "shell.execute_reply": "2023-10-09T04:26:22.399296Z"
    },
    "papermill": {
     "duration": 27.409844,
     "end_time": "2023-10-09T04:26:22.402034",
     "exception": false,
     "start_time": "2023-10-09T04:25:54.992190",
     "status": "completed"
    },
    "tags": []
   },
   "outputs": [
    {
     "name": "stderr",
     "output_type": "stream",
     "text": [
      "  0%|          | 0/200 [00:00<?, ?it/s]Asking to truncate to max_length but no maximum length is provided and the model has no predefined maximum length. Default to no truncation.\n",
      "100%|██████████| 200/200 [00:27<00:00,  7.33it/s]\n"
     ]
    }
   ],
   "source": [
    "y_preds = []\n",
    "\n",
    "\n",
    "with tqdm(test_dl, leave=True) as pbar:\n",
    "    with torch.no_grad():\n",
    "        for idx, batch in enumerate(pbar):\n",
    "            inp_ids = batch['input_ids'].to(device)\n",
    "            att_mask = batch['attention_mask'].to(device)\n",
    "            token_type_ids = batch['token_type_ids'].to(device)\n",
    "\n",
    "            y_pred = model(input_ids=inp_ids, \n",
    "                           attention_mask=att_mask, \n",
    "                           token_type_ids=token_type_ids)\n",
    "\n",
    "            y_pred = y_pred.to(torch.float)\n",
    "\n",
    "            y_preds.append(y_pred.cpu())\n",
    "            \n",
    "\n",
    "            \n",
    "        \n",
    "itk_preds = torch.cat(y_preds)\n",
    "\n",
    "del model, y_preds\n",
    "torch.cuda.empty_cache()"
   ]
  },
  {
   "cell_type": "code",
   "execution_count": 61,
   "id": "3cf2f084",
   "metadata": {
    "execution": {
     "iopub.execute_input": "2023-10-09T04:26:22.503338Z",
     "iopub.status.busy": "2023-10-09T04:26:22.503051Z",
     "iopub.status.idle": "2023-10-09T04:26:22.507958Z",
     "shell.execute_reply": "2023-10-09T04:26:22.507380Z"
    },
    "papermill": {
     "duration": 0.056701,
     "end_time": "2023-10-09T04:26:22.509480",
     "exception": false,
     "start_time": "2023-10-09T04:26:22.452779",
     "status": "completed"
    },
    "tags": []
   },
   "outputs": [],
   "source": [
    "itk_preds = softmax(itk_preds, axis=1).numpy()"
   ]
  },
  {
   "cell_type": "code",
   "execution_count": 62,
   "id": "e8adb8b4",
   "metadata": {
    "execution": {
     "iopub.execute_input": "2023-10-09T04:26:22.606792Z",
     "iopub.status.busy": "2023-10-09T04:26:22.606539Z",
     "iopub.status.idle": "2023-10-09T04:26:22.967222Z",
     "shell.execute_reply": "2023-10-09T04:26:22.966273Z"
    },
    "papermill": {
     "duration": 0.410959,
     "end_time": "2023-10-09T04:26:22.969096",
     "exception": false,
     "start_time": "2023-10-09T04:26:22.558137",
     "status": "completed"
    },
    "tags": []
   },
   "outputs": [
    {
     "data": {
      "text/plain": [
       "9"
      ]
     },
     "execution_count": 62,
     "metadata": {},
     "output_type": "execute_result"
    }
   ],
   "source": [
    "gc.collect()"
   ]
  },
  {
   "cell_type": "markdown",
   "id": "c31dd770",
   "metadata": {
    "papermill": {
     "duration": 0.049599,
     "end_time": "2023-10-09T04:26:23.066581",
     "exception": false,
     "start_time": "2023-10-09T04:26:23.016982",
     "status": "completed"
    },
    "tags": []
   },
   "source": [
    "# Optimise model weights"
   ]
  },
  {
   "cell_type": "code",
   "execution_count": 63,
   "id": "a138e237",
   "metadata": {
    "execution": {
     "iopub.execute_input": "2023-10-09T04:26:23.163142Z",
     "iopub.status.busy": "2023-10-09T04:26:23.162228Z",
     "iopub.status.idle": "2023-10-09T04:26:23.167163Z",
     "shell.execute_reply": "2023-10-09T04:26:23.166355Z"
    },
    "papermill": {
     "duration": 0.055732,
     "end_time": "2023-10-09T04:26:23.168819",
     "exception": false,
     "start_time": "2023-10-09T04:26:23.113087",
     "status": "completed"
    },
    "tags": []
   },
   "outputs": [],
   "source": [
    "# ref: LB 0.865 Weight\n",
    "# ws = [4.71728275e-01, 1.82735672e-17, 2.48815095e-02, 2.35219500e-01, 2.68170715e-01]\n",
    "\n",
    "# LB 0.865\n",
    "ws = [4.29619529e-01, 6.94350755e-26, 3.07758321e-02, 2.10548029e-01, 2.71740013e-01, 5.73165973e-02]"
   ]
  },
  {
   "cell_type": "code",
   "execution_count": 64,
   "id": "1d32388b",
   "metadata": {
    "execution": {
     "iopub.execute_input": "2023-10-09T04:26:23.265660Z",
     "iopub.status.busy": "2023-10-09T04:26:23.265389Z",
     "iopub.status.idle": "2023-10-09T04:26:23.272433Z",
     "shell.execute_reply": "2023-10-09T04:26:23.271550Z"
    },
    "papermill": {
     "duration": 0.057448,
     "end_time": "2023-10-09T04:26:23.274082",
     "exception": false,
     "start_time": "2023-10-09T04:26:23.216634",
     "status": "completed"
    },
    "tags": []
   },
   "outputs": [
    {
     "data": {
      "text/plain": [
       "(200, 5)"
      ]
     },
     "execution_count": 64,
     "metadata": {},
     "output_type": "execute_result"
    }
   ],
   "source": [
    "# LB 0.865\n",
    "predictions_overall = test_predictionsc * ws[0] + ob_preds * ws[1] + test_predictionsi * ws[2] + hyc_preds * ws[3] + itk_preds * ws[4] + hyc_preds_2 * ws[5]\n",
    "predictions_overall.shape\n"
   ]
  },
  {
   "cell_type": "markdown",
   "id": "8a91687c",
   "metadata": {
    "papermill": {
     "duration": 0.049911,
     "end_time": "2023-10-09T04:26:23.373959",
     "exception": false,
     "start_time": "2023-10-09T04:26:23.324048",
     "status": "completed"
    },
    "tags": []
   },
   "source": [
    "# Ensemble\n",
    "* LB 0.836 + LB 0.865"
   ]
  },
  {
   "cell_type": "code",
   "execution_count": 65,
   "id": "6207867d",
   "metadata": {
    "execution": {
     "iopub.execute_input": "2023-10-09T04:26:23.469532Z",
     "iopub.status.busy": "2023-10-09T04:26:23.469258Z",
     "iopub.status.idle": "2023-10-09T04:26:23.473703Z",
     "shell.execute_reply": "2023-10-09T04:26:23.472646Z"
    },
    "papermill": {
     "duration": 0.053756,
     "end_time": "2023-10-09T04:26:23.475439",
     "exception": false,
     "start_time": "2023-10-09T04:26:23.421683",
     "status": "completed"
    },
    "tags": []
   },
   "outputs": [],
   "source": [
    "predictions_overall = (articles_predictions + predictions_overall + v2_epochs3_predictions) / 3"
   ]
  },
  {
   "cell_type": "code",
   "execution_count": 66,
   "id": "f5514a7b",
   "metadata": {
    "execution": {
     "iopub.execute_input": "2023-10-09T04:26:23.573238Z",
     "iopub.status.busy": "2023-10-09T04:26:23.572467Z",
     "iopub.status.idle": "2023-10-09T04:26:23.579041Z",
     "shell.execute_reply": "2023-10-09T04:26:23.578169Z"
    },
    "papermill": {
     "duration": 0.055983,
     "end_time": "2023-10-09T04:26:23.580742",
     "exception": false,
     "start_time": "2023-10-09T04:26:23.524759",
     "status": "completed"
    },
    "tags": []
   },
   "outputs": [
    {
     "data": {
      "text/plain": [
       "array([[3, 0, 2],\n",
       "       [0, 3, 1],\n",
       "       [0, 3, 1],\n",
       "       [2, 0, 1],\n",
       "       [3, 1, 0]])"
      ]
     },
     "execution_count": 66,
     "metadata": {},
     "output_type": "execute_result"
    }
   ],
   "source": [
    "predictions_overall = np.argsort(-predictions_overall)[:,:3]\n",
    "predictions_overall[:5]"
   ]
  },
  {
   "cell_type": "code",
   "execution_count": 67,
   "id": "d74bb236",
   "metadata": {
    "execution": {
     "iopub.execute_input": "2023-10-09T04:26:23.677740Z",
     "iopub.status.busy": "2023-10-09T04:26:23.676969Z",
     "iopub.status.idle": "2023-10-09T04:26:23.683033Z",
     "shell.execute_reply": "2023-10-09T04:26:23.682174Z"
    },
    "papermill": {
     "duration": 0.055189,
     "end_time": "2023-10-09T04:26:23.684652",
     "exception": false,
     "start_time": "2023-10-09T04:26:23.629463",
     "status": "completed"
    },
    "tags": []
   },
   "outputs": [
    {
     "data": {
      "text/plain": [
       "array([['D', 'A', 'C'],\n",
       "       ['A', 'D', 'B'],\n",
       "       ['A', 'D', 'B']], dtype='<U1')"
      ]
     },
     "execution_count": 67,
     "metadata": {},
     "output_type": "execute_result"
    }
   ],
   "source": [
    "predictions_as_answer_letters = np.array(list('ABCDE'))[predictions_overall]\n",
    "predictions_as_answer_letters[:3]"
   ]
  },
  {
   "cell_type": "code",
   "execution_count": 68,
   "id": "6ced8958",
   "metadata": {
    "execution": {
     "iopub.execute_input": "2023-10-09T04:26:23.782818Z",
     "iopub.status.busy": "2023-10-09T04:26:23.782565Z",
     "iopub.status.idle": "2023-10-09T04:26:23.789521Z",
     "shell.execute_reply": "2023-10-09T04:26:23.788641Z"
    },
    "papermill": {
     "duration": 0.058513,
     "end_time": "2023-10-09T04:26:23.791142",
     "exception": false,
     "start_time": "2023-10-09T04:26:23.732629",
     "status": "completed"
    },
    "tags": []
   },
   "outputs": [
    {
     "data": {
      "text/plain": [
       "['D A C', 'A D B', 'A D B']"
      ]
     },
     "execution_count": 68,
     "metadata": {},
     "output_type": "execute_result"
    }
   ],
   "source": [
    "predictions_as_string = test_df['prediction'] = [\n",
    "    ' '.join(row) for row in predictions_as_answer_letters[:, :3]\n",
    "]\n",
    "predictions_as_string[:3]"
   ]
  },
  {
   "cell_type": "code",
   "execution_count": 69,
   "id": "505377cd",
   "metadata": {
    "execution": {
     "iopub.execute_input": "2023-10-09T04:26:23.887712Z",
     "iopub.status.busy": "2023-10-09T04:26:23.886691Z",
     "iopub.status.idle": "2023-10-09T04:26:23.903589Z",
     "shell.execute_reply": "2023-10-09T04:26:23.902706Z"
    },
    "papermill": {
     "duration": 0.067305,
     "end_time": "2023-10-09T04:26:23.905481",
     "exception": false,
     "start_time": "2023-10-09T04:26:23.838176",
     "status": "completed"
    },
    "tags": []
   },
   "outputs": [
    {
     "data": {
      "text/html": [
       "<div>\n",
       "<style scoped>\n",
       "    .dataframe tbody tr th:only-of-type {\n",
       "        vertical-align: middle;\n",
       "    }\n",
       "\n",
       "    .dataframe tbody tr th {\n",
       "        vertical-align: top;\n",
       "    }\n",
       "\n",
       "    .dataframe thead th {\n",
       "        text-align: right;\n",
       "    }\n",
       "</style>\n",
       "<table border=\"1\" class=\"dataframe\">\n",
       "  <thead>\n",
       "    <tr style=\"text-align: right;\">\n",
       "      <th></th>\n",
       "      <th>id</th>\n",
       "      <th>prediction</th>\n",
       "    </tr>\n",
       "  </thead>\n",
       "  <tbody>\n",
       "    <tr>\n",
       "      <th>0</th>\n",
       "      <td>0</td>\n",
       "      <td>D A C</td>\n",
       "    </tr>\n",
       "    <tr>\n",
       "      <th>1</th>\n",
       "      <td>1</td>\n",
       "      <td>A D B</td>\n",
       "    </tr>\n",
       "    <tr>\n",
       "      <th>2</th>\n",
       "      <td>2</td>\n",
       "      <td>A D B</td>\n",
       "    </tr>\n",
       "    <tr>\n",
       "      <th>3</th>\n",
       "      <td>3</td>\n",
       "      <td>C A B</td>\n",
       "    </tr>\n",
       "    <tr>\n",
       "      <th>4</th>\n",
       "      <td>4</td>\n",
       "      <td>D B A</td>\n",
       "    </tr>\n",
       "    <tr>\n",
       "      <th>5</th>\n",
       "      <td>5</td>\n",
       "      <td>B E C</td>\n",
       "    </tr>\n",
       "    <tr>\n",
       "      <th>6</th>\n",
       "      <td>6</td>\n",
       "      <td>A C B</td>\n",
       "    </tr>\n",
       "    <tr>\n",
       "      <th>7</th>\n",
       "      <td>7</td>\n",
       "      <td>D E B</td>\n",
       "    </tr>\n",
       "    <tr>\n",
       "      <th>8</th>\n",
       "      <td>8</td>\n",
       "      <td>C B A</td>\n",
       "    </tr>\n",
       "    <tr>\n",
       "      <th>9</th>\n",
       "      <td>9</td>\n",
       "      <td>A B C</td>\n",
       "    </tr>\n",
       "  </tbody>\n",
       "</table>\n",
       "</div>"
      ],
      "text/plain": [
       "   id prediction\n",
       "0   0      D A C\n",
       "1   1      A D B\n",
       "2   2      A D B\n",
       "3   3      C A B\n",
       "4   4      D B A\n",
       "5   5      B E C\n",
       "6   6      A C B\n",
       "7   7      D E B\n",
       "8   8      C B A\n",
       "9   9      A B C"
      ]
     },
     "execution_count": 69,
     "metadata": {},
     "output_type": "execute_result"
    }
   ],
   "source": [
    "submission = test_df[['id', 'prediction']]\n",
    "submission.to_csv('submission.csv', index=False)\n",
    "\n",
    "pd.read_csv('submission.csv').head(10)"
   ]
  },
  {
   "cell_type": "code",
   "execution_count": 70,
   "id": "cf769358",
   "metadata": {
    "execution": {
     "iopub.execute_input": "2023-10-09T04:26:24.005472Z",
     "iopub.status.busy": "2023-10-09T04:26:24.004961Z",
     "iopub.status.idle": "2023-10-09T04:26:24.013338Z",
     "shell.execute_reply": "2023-10-09T04:26:24.012341Z"
    },
    "papermill": {
     "duration": 0.061233,
     "end_time": "2023-10-09T04:26:24.015233",
     "exception": false,
     "start_time": "2023-10-09T04:26:23.954000",
     "status": "completed"
    },
    "tags": []
   },
   "outputs": [
    {
     "data": {
      "text/html": [
       "<div>\n",
       "<style scoped>\n",
       "    .dataframe tbody tr th:only-of-type {\n",
       "        vertical-align: middle;\n",
       "    }\n",
       "\n",
       "    .dataframe tbody tr th {\n",
       "        vertical-align: top;\n",
       "    }\n",
       "\n",
       "    .dataframe thead th {\n",
       "        text-align: right;\n",
       "    }\n",
       "</style>\n",
       "<table border=\"1\" class=\"dataframe\">\n",
       "  <thead>\n",
       "    <tr style=\"text-align: right;\">\n",
       "      <th></th>\n",
       "      <th>id</th>\n",
       "      <th>prediction</th>\n",
       "    </tr>\n",
       "  </thead>\n",
       "  <tbody>\n",
       "    <tr>\n",
       "      <th>180</th>\n",
       "      <td>180</td>\n",
       "      <td>B A E</td>\n",
       "    </tr>\n",
       "    <tr>\n",
       "      <th>181</th>\n",
       "      <td>181</td>\n",
       "      <td>A E B</td>\n",
       "    </tr>\n",
       "    <tr>\n",
       "      <th>182</th>\n",
       "      <td>182</td>\n",
       "      <td>A D E</td>\n",
       "    </tr>\n",
       "    <tr>\n",
       "      <th>183</th>\n",
       "      <td>183</td>\n",
       "      <td>C A B</td>\n",
       "    </tr>\n",
       "    <tr>\n",
       "      <th>184</th>\n",
       "      <td>184</td>\n",
       "      <td>A B D</td>\n",
       "    </tr>\n",
       "    <tr>\n",
       "      <th>185</th>\n",
       "      <td>185</td>\n",
       "      <td>A D B</td>\n",
       "    </tr>\n",
       "    <tr>\n",
       "      <th>186</th>\n",
       "      <td>186</td>\n",
       "      <td>C E D</td>\n",
       "    </tr>\n",
       "    <tr>\n",
       "      <th>187</th>\n",
       "      <td>187</td>\n",
       "      <td>A E D</td>\n",
       "    </tr>\n",
       "    <tr>\n",
       "      <th>188</th>\n",
       "      <td>188</td>\n",
       "      <td>D C B</td>\n",
       "    </tr>\n",
       "    <tr>\n",
       "      <th>189</th>\n",
       "      <td>189</td>\n",
       "      <td>B A C</td>\n",
       "    </tr>\n",
       "    <tr>\n",
       "      <th>190</th>\n",
       "      <td>190</td>\n",
       "      <td>D E C</td>\n",
       "    </tr>\n",
       "    <tr>\n",
       "      <th>191</th>\n",
       "      <td>191</td>\n",
       "      <td>C B D</td>\n",
       "    </tr>\n",
       "    <tr>\n",
       "      <th>192</th>\n",
       "      <td>192</td>\n",
       "      <td>B D A</td>\n",
       "    </tr>\n",
       "    <tr>\n",
       "      <th>193</th>\n",
       "      <td>193</td>\n",
       "      <td>B D C</td>\n",
       "    </tr>\n",
       "    <tr>\n",
       "      <th>194</th>\n",
       "      <td>194</td>\n",
       "      <td>D E C</td>\n",
       "    </tr>\n",
       "    <tr>\n",
       "      <th>195</th>\n",
       "      <td>195</td>\n",
       "      <td>C B E</td>\n",
       "    </tr>\n",
       "    <tr>\n",
       "      <th>196</th>\n",
       "      <td>196</td>\n",
       "      <td>B C E</td>\n",
       "    </tr>\n",
       "    <tr>\n",
       "      <th>197</th>\n",
       "      <td>197</td>\n",
       "      <td>B A D</td>\n",
       "    </tr>\n",
       "    <tr>\n",
       "      <th>198</th>\n",
       "      <td>198</td>\n",
       "      <td>D C B</td>\n",
       "    </tr>\n",
       "    <tr>\n",
       "      <th>199</th>\n",
       "      <td>199</td>\n",
       "      <td>C A E</td>\n",
       "    </tr>\n",
       "  </tbody>\n",
       "</table>\n",
       "</div>"
      ],
      "text/plain": [
       "      id prediction\n",
       "180  180      B A E\n",
       "181  181      A E B\n",
       "182  182      A D E\n",
       "183  183      C A B\n",
       "184  184      A B D\n",
       "185  185      A D B\n",
       "186  186      C E D\n",
       "187  187      A E D\n",
       "188  188      D C B\n",
       "189  189      B A C\n",
       "190  190      D E C\n",
       "191  191      C B D\n",
       "192  192      B D A\n",
       "193  193      B D C\n",
       "194  194      D E C\n",
       "195  195      C B E\n",
       "196  196      B C E\n",
       "197  197      B A D\n",
       "198  198      D C B\n",
       "199  199      C A E"
      ]
     },
     "execution_count": 70,
     "metadata": {},
     "output_type": "execute_result"
    }
   ],
   "source": [
    "submission.tail(20)"
   ]
  },
  {
   "cell_type": "markdown",
   "id": "287abc5c",
   "metadata": {
    "papermill": {
     "duration": 0.051219,
     "end_time": "2023-10-09T04:26:24.116126",
     "exception": false,
     "start_time": "2023-10-09T04:26:24.064907",
     "status": "completed"
    },
    "tags": []
   },
   "source": [
    "# 폴더 정리"
   ]
  },
  {
   "cell_type": "code",
   "execution_count": 71,
   "id": "135d65c2",
   "metadata": {
    "execution": {
     "iopub.execute_input": "2023-10-09T04:26:24.215170Z",
     "iopub.status.busy": "2023-10-09T04:26:24.214862Z",
     "iopub.status.idle": "2023-10-09T04:26:24.789612Z",
     "shell.execute_reply": "2023-10-09T04:26:24.788551Z"
    },
    "papermill": {
     "duration": 0.627156,
     "end_time": "2023-10-09T04:26:24.791957",
     "exception": false,
     "start_time": "2023-10-09T04:26:24.164801",
     "status": "completed"
    },
    "tags": []
   },
   "outputs": [
    {
     "name": "stdout",
     "output_type": "stream",
     "text": [
      "/kaggle/working/__pycache__ does not exist.\n",
      "/kaggle/working/1006-wikitfidfv1 has been deleted.\n",
      "/kaggle/working/sentence-transformers has been deleted.\n",
      "/kaggle/working/stem-wiki-cohere-no-emb has been deleted.\n"
     ]
    }
   ],
   "source": [
    "import shutil\n",
    "import os\n",
    "\n",
    "# 삭제할 폴더 경로 리스트\n",
    "folders_to_delete = [\n",
    "    \"/kaggle/working/__pycache__\",\n",
    "    \"/kaggle/working/1006-wikitfidfv1\",\n",
    "    \"/kaggle/working/sentence-transformers\",\n",
    "    \"/kaggle/working/stem-wiki-cohere-no-emb\",\n",
    "]\n",
    "\n",
    "# 리스트에 있는 모든 폴더를 삭제\n",
    "for folder in folders_to_delete:\n",
    "    # 폴더가 존재하는지 확인\n",
    "    if os.path.exists(folder):\n",
    "        # 폴더 삭제\n",
    "        shutil.rmtree(folder)\n",
    "        print(f\"{folder} has been deleted.\")\n",
    "    else:\n",
    "        print(f\"{folder} does not exist.\")\n"
   ]
  },
  {
   "cell_type": "markdown",
   "id": "cc7e5edf",
   "metadata": {
    "papermill": {
     "duration": 0.047947,
     "end_time": "2023-10-09T04:26:24.889236",
     "exception": false,
     "start_time": "2023-10-09T04:26:24.841289",
     "status": "completed"
    },
    "tags": []
   },
   "source": []
  }
 ],
 "metadata": {
  "kernelspec": {
   "display_name": "Python 3",
   "language": "python",
   "name": "python3"
  },
  "language_info": {
   "codemirror_mode": {
    "name": "ipython",
    "version": 3
   },
   "file_extension": ".py",
   "mimetype": "text/x-python",
   "name": "python",
   "nbconvert_exporter": "python",
   "pygments_lexer": "ipython3",
   "version": "3.10.12"
  },
  "papermill": {
   "default_parameters": {},
   "duration": 2940.724526,
   "end_time": "2023-10-09T04:26:29.747387",
   "environment_variables": {},
   "exception": null,
   "input_path": "__notebook__.ipynb",
   "output_path": "__notebook__.ipynb",
   "parameters": {},
   "start_time": "2023-10-09T03:37:29.022861",
   "version": "2.4.0"
  },
  "widgets": {
   "application/vnd.jupyter.widget-state+json": {
    "state": {
     "0359df7ed0f645bf805bfdc7ac24a866": {
      "model_module": "@jupyter-widgets/controls",
      "model_module_version": "1.5.0",
      "model_name": "FloatProgressModel",
      "state": {
       "_dom_classes": [],
       "_model_module": "@jupyter-widgets/controls",
       "_model_module_version": "1.5.0",
       "_model_name": "FloatProgressModel",
       "_view_count": null,
       "_view_module": "@jupyter-widgets/controls",
       "_view_module_version": "1.5.0",
       "_view_name": "ProgressView",
       "bar_style": "success",
       "description": "",
       "description_tooltip": null,
       "layout": "IPY_MODEL_607c462c413b409b91070aac76586f99",
       "max": 200.0,
       "min": 0.0,
       "orientation": "horizontal",
       "style": "IPY_MODEL_633dbb46d9284fa095e52b854cc8c762",
       "value": 200.0
      }
     },
     "067af7f2717c43fba50c6cbc22c81153": {
      "model_module": "@jupyter-widgets/base",
      "model_module_version": "1.2.0",
      "model_name": "LayoutModel",
      "state": {
       "_model_module": "@jupyter-widgets/base",
       "_model_module_version": "1.2.0",
       "_model_name": "LayoutModel",
       "_view_count": null,
       "_view_module": "@jupyter-widgets/base",
       "_view_module_version": "1.2.0",
       "_view_name": "LayoutView",
       "align_content": null,
       "align_items": null,
       "align_self": null,
       "border": null,
       "bottom": null,
       "display": null,
       "flex": null,
       "flex_flow": null,
       "grid_area": null,
       "grid_auto_columns": null,
       "grid_auto_flow": null,
       "grid_auto_rows": null,
       "grid_column": null,
       "grid_gap": null,
       "grid_row": null,
       "grid_template_areas": null,
       "grid_template_columns": null,
       "grid_template_rows": null,
       "height": null,
       "justify_content": null,
       "justify_items": null,
       "left": null,
       "margin": null,
       "max_height": null,
       "max_width": null,
       "min_height": null,
       "min_width": null,
       "object_fit": null,
       "object_position": null,
       "order": null,
       "overflow": null,
       "overflow_x": null,
       "overflow_y": null,
       "padding": null,
       "right": null,
       "top": null,
       "visibility": null,
       "width": null
      }
     },
     "0728c2704aa64a8ca5d198caa19a7b0c": {
      "model_module": "@jupyter-widgets/controls",
      "model_module_version": "1.5.0",
      "model_name": "HTMLModel",
      "state": {
       "_dom_classes": [],
       "_model_module": "@jupyter-widgets/controls",
       "_model_module_version": "1.5.0",
       "_model_name": "HTMLModel",
       "_view_count": null,
       "_view_module": "@jupyter-widgets/controls",
       "_view_module_version": "1.5.0",
       "_view_name": "HTMLView",
       "description": "",
       "description_tooltip": null,
       "layout": "IPY_MODEL_6558ca7529aa41e696e7f307857db34b",
       "placeholder": "​",
       "style": "IPY_MODEL_c1a913e9a5574b47abd9019f701990c7",
       "value": " 200/200 [01:35&lt;00:00,  1.94it/s]"
      }
     },
     "079d5b84035d410f9219c0b5820683af": {
      "model_module": "@jupyter-widgets/controls",
      "model_module_version": "1.5.0",
      "model_name": "ProgressStyleModel",
      "state": {
       "_model_module": "@jupyter-widgets/controls",
       "_model_module_version": "1.5.0",
       "_model_name": "ProgressStyleModel",
       "_view_count": null,
       "_view_module": "@jupyter-widgets/base",
       "_view_module_version": "1.2.0",
       "_view_name": "StyleView",
       "bar_color": null,
       "description_width": ""
      }
     },
     "08256aaac4164a9690e3a012a52bcd4b": {
      "model_module": "@jupyter-widgets/base",
      "model_module_version": "1.2.0",
      "model_name": "LayoutModel",
      "state": {
       "_model_module": "@jupyter-widgets/base",
       "_model_module_version": "1.2.0",
       "_model_name": "LayoutModel",
       "_view_count": null,
       "_view_module": "@jupyter-widgets/base",
       "_view_module_version": "1.2.0",
       "_view_name": "LayoutView",
       "align_content": null,
       "align_items": null,
       "align_self": null,
       "border": null,
       "bottom": null,
       "display": null,
       "flex": null,
       "flex_flow": null,
       "grid_area": null,
       "grid_auto_columns": null,
       "grid_auto_flow": null,
       "grid_auto_rows": null,
       "grid_column": null,
       "grid_gap": null,
       "grid_row": null,
       "grid_template_areas": null,
       "grid_template_columns": null,
       "grid_template_rows": null,
       "height": null,
       "justify_content": null,
       "justify_items": null,
       "left": null,
       "margin": null,
       "max_height": null,
       "max_width": null,
       "min_height": null,
       "min_width": null,
       "object_fit": null,
       "object_position": null,
       "order": null,
       "overflow": null,
       "overflow_x": null,
       "overflow_y": null,
       "padding": null,
       "right": null,
       "top": null,
       "visibility": null,
       "width": null
      }
     },
     "086b3d6fcecd45e8aa5311ff79f171c9": {
      "model_module": "@jupyter-widgets/controls",
      "model_module_version": "1.5.0",
      "model_name": "HTMLModel",
      "state": {
       "_dom_classes": [],
       "_model_module": "@jupyter-widgets/controls",
       "_model_module_version": "1.5.0",
       "_model_name": "HTMLModel",
       "_view_count": null,
       "_view_module": "@jupyter-widgets/controls",
       "_view_module_version": "1.5.0",
       "_view_name": "HTMLView",
       "description": "",
       "description_tooltip": null,
       "layout": "IPY_MODEL_451fa8cfbb4e4e35a96bc61a30837702",
       "placeholder": "​",
       "style": "IPY_MODEL_69c65d8a350c484fa3b6630990d1c30a",
       "value": "Map (num_proc=2): 100%"
      }
     },
     "1878f16a9a6d40b492c75e8579611f3c": {
      "model_module": "@jupyter-widgets/base",
      "model_module_version": "1.2.0",
      "model_name": "LayoutModel",
      "state": {
       "_model_module": "@jupyter-widgets/base",
       "_model_module_version": "1.2.0",
       "_model_name": "LayoutModel",
       "_view_count": null,
       "_view_module": "@jupyter-widgets/base",
       "_view_module_version": "1.2.0",
       "_view_name": "LayoutView",
       "align_content": null,
       "align_items": null,
       "align_self": null,
       "border": null,
       "bottom": null,
       "display": null,
       "flex": null,
       "flex_flow": null,
       "grid_area": null,
       "grid_auto_columns": null,
       "grid_auto_flow": null,
       "grid_auto_rows": null,
       "grid_column": null,
       "grid_gap": null,
       "grid_row": null,
       "grid_template_areas": null,
       "grid_template_columns": null,
       "grid_template_rows": null,
       "height": null,
       "justify_content": null,
       "justify_items": null,
       "left": null,
       "margin": null,
       "max_height": null,
       "max_width": null,
       "min_height": null,
       "min_width": null,
       "object_fit": null,
       "object_position": null,
       "order": null,
       "overflow": null,
       "overflow_x": null,
       "overflow_y": null,
       "padding": null,
       "right": null,
       "top": null,
       "visibility": null,
       "width": null
      }
     },
     "1df5ae02bd784461a23243ac41996eb2": {
      "model_module": "@jupyter-widgets/controls",
      "model_module_version": "1.5.0",
      "model_name": "DescriptionStyleModel",
      "state": {
       "_model_module": "@jupyter-widgets/controls",
       "_model_module_version": "1.5.0",
       "_model_name": "DescriptionStyleModel",
       "_view_count": null,
       "_view_module": "@jupyter-widgets/base",
       "_view_module_version": "1.2.0",
       "_view_name": "StyleView",
       "description_width": ""
      }
     },
     "1ed6edeadd7b48b986f7767c144ea685": {
      "model_module": "@jupyter-widgets/base",
      "model_module_version": "1.2.0",
      "model_name": "LayoutModel",
      "state": {
       "_model_module": "@jupyter-widgets/base",
       "_model_module_version": "1.2.0",
       "_model_name": "LayoutModel",
       "_view_count": null,
       "_view_module": "@jupyter-widgets/base",
       "_view_module_version": "1.2.0",
       "_view_name": "LayoutView",
       "align_content": null,
       "align_items": null,
       "align_self": null,
       "border": null,
       "bottom": null,
       "display": null,
       "flex": null,
       "flex_flow": null,
       "grid_area": null,
       "grid_auto_columns": null,
       "grid_auto_flow": null,
       "grid_auto_rows": null,
       "grid_column": null,
       "grid_gap": null,
       "grid_row": null,
       "grid_template_areas": null,
       "grid_template_columns": null,
       "grid_template_rows": null,
       "height": null,
       "justify_content": null,
       "justify_items": null,
       "left": null,
       "margin": null,
       "max_height": null,
       "max_width": null,
       "min_height": null,
       "min_width": null,
       "object_fit": null,
       "object_position": null,
       "order": null,
       "overflow": null,
       "overflow_x": null,
       "overflow_y": null,
       "padding": null,
       "right": null,
       "top": null,
       "visibility": null,
       "width": null
      }
     },
     "21f53be7d0aa4dd4b8cb6a33440af215": {
      "model_module": "@jupyter-widgets/base",
      "model_module_version": "1.2.0",
      "model_name": "LayoutModel",
      "state": {
       "_model_module": "@jupyter-widgets/base",
       "_model_module_version": "1.2.0",
       "_model_name": "LayoutModel",
       "_view_count": null,
       "_view_module": "@jupyter-widgets/base",
       "_view_module_version": "1.2.0",
       "_view_name": "LayoutView",
       "align_content": null,
       "align_items": null,
       "align_self": null,
       "border": null,
       "bottom": null,
       "display": null,
       "flex": null,
       "flex_flow": null,
       "grid_area": null,
       "grid_auto_columns": null,
       "grid_auto_flow": null,
       "grid_auto_rows": null,
       "grid_column": null,
       "grid_gap": null,
       "grid_row": null,
       "grid_template_areas": null,
       "grid_template_columns": null,
       "grid_template_rows": null,
       "height": null,
       "justify_content": null,
       "justify_items": null,
       "left": null,
       "margin": null,
       "max_height": null,
       "max_width": null,
       "min_height": null,
       "min_width": null,
       "object_fit": null,
       "object_position": null,
       "order": null,
       "overflow": null,
       "overflow_x": null,
       "overflow_y": null,
       "padding": null,
       "right": null,
       "top": null,
       "visibility": null,
       "width": null
      }
     },
     "21f6c55f223247adbc316956bbad70ff": {
      "model_module": "@jupyter-widgets/controls",
      "model_module_version": "1.5.0",
      "model_name": "DescriptionStyleModel",
      "state": {
       "_model_module": "@jupyter-widgets/controls",
       "_model_module_version": "1.5.0",
       "_model_name": "DescriptionStyleModel",
       "_view_count": null,
       "_view_module": "@jupyter-widgets/base",
       "_view_module_version": "1.2.0",
       "_view_name": "StyleView",
       "description_width": ""
      }
     },
     "2a176dda05ba41ab9055a239364d46c0": {
      "model_module": "@jupyter-widgets/controls",
      "model_module_version": "1.5.0",
      "model_name": "FloatProgressModel",
      "state": {
       "_dom_classes": [],
       "_model_module": "@jupyter-widgets/controls",
       "_model_module_version": "1.5.0",
       "_model_name": "FloatProgressModel",
       "_view_count": null,
       "_view_module": "@jupyter-widgets/controls",
       "_view_module_version": "1.5.0",
       "_view_name": "ProgressView",
       "bar_style": "success",
       "description": "",
       "description_tooltip": null,
       "layout": "IPY_MODEL_1ed6edeadd7b48b986f7767c144ea685",
       "max": 200.0,
       "min": 0.0,
       "orientation": "horizontal",
       "style": "IPY_MODEL_079d5b84035d410f9219c0b5820683af",
       "value": 200.0
      }
     },
     "2ea23172a7994be9a82d08f436d5f377": {
      "model_module": "@jupyter-widgets/controls",
      "model_module_version": "1.5.0",
      "model_name": "DescriptionStyleModel",
      "state": {
       "_model_module": "@jupyter-widgets/controls",
       "_model_module_version": "1.5.0",
       "_model_name": "DescriptionStyleModel",
       "_view_count": null,
       "_view_module": "@jupyter-widgets/base",
       "_view_module_version": "1.2.0",
       "_view_name": "StyleView",
       "description_width": ""
      }
     },
     "302466788a424c6d804b29db9b1ed835": {
      "model_module": "@jupyter-widgets/base",
      "model_module_version": "1.2.0",
      "model_name": "LayoutModel",
      "state": {
       "_model_module": "@jupyter-widgets/base",
       "_model_module_version": "1.2.0",
       "_model_name": "LayoutModel",
       "_view_count": null,
       "_view_module": "@jupyter-widgets/base",
       "_view_module_version": "1.2.0",
       "_view_name": "LayoutView",
       "align_content": null,
       "align_items": null,
       "align_self": null,
       "border": null,
       "bottom": null,
       "display": null,
       "flex": null,
       "flex_flow": null,
       "grid_area": null,
       "grid_auto_columns": null,
       "grid_auto_flow": null,
       "grid_auto_rows": null,
       "grid_column": null,
       "grid_gap": null,
       "grid_row": null,
       "grid_template_areas": null,
       "grid_template_columns": null,
       "grid_template_rows": null,
       "height": null,
       "justify_content": null,
       "justify_items": null,
       "left": null,
       "margin": null,
       "max_height": null,
       "max_width": null,
       "min_height": null,
       "min_width": null,
       "object_fit": null,
       "object_position": null,
       "order": null,
       "overflow": null,
       "overflow_x": null,
       "overflow_y": null,
       "padding": null,
       "right": null,
       "top": null,
       "visibility": null,
       "width": null
      }
     },
     "348d59fcdd8e43699c0cd8755a3c17cf": {
      "model_module": "@jupyter-widgets/controls",
      "model_module_version": "1.5.0",
      "model_name": "DescriptionStyleModel",
      "state": {
       "_model_module": "@jupyter-widgets/controls",
       "_model_module_version": "1.5.0",
       "_model_name": "DescriptionStyleModel",
       "_view_count": null,
       "_view_module": "@jupyter-widgets/base",
       "_view_module_version": "1.2.0",
       "_view_name": "StyleView",
       "description_width": ""
      }
     },
     "38449516ff0b4c2ea65d5d3ee5fd08dc": {
      "model_module": "@jupyter-widgets/controls",
      "model_module_version": "1.5.0",
      "model_name": "DescriptionStyleModel",
      "state": {
       "_model_module": "@jupyter-widgets/controls",
       "_model_module_version": "1.5.0",
       "_model_name": "DescriptionStyleModel",
       "_view_count": null,
       "_view_module": "@jupyter-widgets/base",
       "_view_module_version": "1.2.0",
       "_view_name": "StyleView",
       "description_width": ""
      }
     },
     "3854f812bec44c79b0cb5c7ca83e35af": {
      "model_module": "@jupyter-widgets/controls",
      "model_module_version": "1.5.0",
      "model_name": "FloatProgressModel",
      "state": {
       "_dom_classes": [],
       "_model_module": "@jupyter-widgets/controls",
       "_model_module_version": "1.5.0",
       "_model_name": "FloatProgressModel",
       "_view_count": null,
       "_view_module": "@jupyter-widgets/controls",
       "_view_module_version": "1.5.0",
       "_view_name": "ProgressView",
       "bar_style": "success",
       "description": "",
       "description_tooltip": null,
       "layout": "IPY_MODEL_9580b441aae144baacc64d54122b2b0c",
       "max": 200.0,
       "min": 0.0,
       "orientation": "horizontal",
       "style": "IPY_MODEL_91d0b59dbced43f7903631c6bd841c9a",
       "value": 200.0
      }
     },
     "3937eb385bd34dabb54829d6b73c6871": {
      "model_module": "@jupyter-widgets/controls",
      "model_module_version": "1.5.0",
      "model_name": "FloatProgressModel",
      "state": {
       "_dom_classes": [],
       "_model_module": "@jupyter-widgets/controls",
       "_model_module_version": "1.5.0",
       "_model_name": "FloatProgressModel",
       "_view_count": null,
       "_view_module": "@jupyter-widgets/controls",
       "_view_module_version": "1.5.0",
       "_view_name": "ProgressView",
       "bar_style": "success",
       "description": "",
       "description_tooltip": null,
       "layout": "IPY_MODEL_bc213ba68a174f10befc8a9733cae912",
       "max": 200.0,
       "min": 0.0,
       "orientation": "horizontal",
       "style": "IPY_MODEL_efbd64a321994e2193e3b3220017a8d5",
       "value": 200.0
      }
     },
     "39c9e7fdb56a4cdb9ec5a6cd080fcac4": {
      "model_module": "@jupyter-widgets/controls",
      "model_module_version": "1.5.0",
      "model_name": "DescriptionStyleModel",
      "state": {
       "_model_module": "@jupyter-widgets/controls",
       "_model_module_version": "1.5.0",
       "_model_name": "DescriptionStyleModel",
       "_view_count": null,
       "_view_module": "@jupyter-widgets/base",
       "_view_module_version": "1.2.0",
       "_view_name": "StyleView",
       "description_width": ""
      }
     },
     "3b7838c850cf4cf8bc7983f72f2c34e3": {
      "model_module": "@jupyter-widgets/controls",
      "model_module_version": "1.5.0",
      "model_name": "HTMLModel",
      "state": {
       "_dom_classes": [],
       "_model_module": "@jupyter-widgets/controls",
       "_model_module_version": "1.5.0",
       "_model_name": "HTMLModel",
       "_view_count": null,
       "_view_module": "@jupyter-widgets/controls",
       "_view_module_version": "1.5.0",
       "_view_name": "HTMLView",
       "description": "",
       "description_tooltip": null,
       "layout": "IPY_MODEL_a3e081b3482445228651d0100e2dbd6b",
       "placeholder": "​",
       "style": "IPY_MODEL_348d59fcdd8e43699c0cd8755a3c17cf",
       "value": " 200/200 [01:35&lt;00:00,  1.94it/s]"
      }
     },
     "3bbe283b1ad04fc1aacc8c873de73e2c": {
      "model_module": "@jupyter-widgets/controls",
      "model_module_version": "1.5.0",
      "model_name": "HTMLModel",
      "state": {
       "_dom_classes": [],
       "_model_module": "@jupyter-widgets/controls",
       "_model_module_version": "1.5.0",
       "_model_name": "HTMLModel",
       "_view_count": null,
       "_view_module": "@jupyter-widgets/controls",
       "_view_module_version": "1.5.0",
       "_view_name": "HTMLView",
       "description": "",
       "description_tooltip": null,
       "layout": "IPY_MODEL_c6a432ffcb2b41db9265bd41d2e17769",
       "placeholder": "​",
       "style": "IPY_MODEL_638beb0f8f28458eae441a0551eee6a0",
       "value": "100%"
      }
     },
     "3c8bce3e295948b981495334b1c87dbd": {
      "model_module": "@jupyter-widgets/controls",
      "model_module_version": "1.5.0",
      "model_name": "FloatProgressModel",
      "state": {
       "_dom_classes": [],
       "_model_module": "@jupyter-widgets/controls",
       "_model_module_version": "1.5.0",
       "_model_name": "FloatProgressModel",
       "_view_count": null,
       "_view_module": "@jupyter-widgets/controls",
       "_view_module_version": "1.5.0",
       "_view_name": "ProgressView",
       "bar_style": "success",
       "description": "",
       "description_tooltip": null,
       "layout": "IPY_MODEL_7a120970710a4975ac135bb3a7d6737b",
       "max": 200.0,
       "min": 0.0,
       "orientation": "horizontal",
       "style": "IPY_MODEL_5348cbaba25844b6807b6de491821f48",
       "value": 200.0
      }
     },
     "402cddaec0c44e64af83cee7b2d5f407": {
      "model_module": "@jupyter-widgets/base",
      "model_module_version": "1.2.0",
      "model_name": "LayoutModel",
      "state": {
       "_model_module": "@jupyter-widgets/base",
       "_model_module_version": "1.2.0",
       "_model_name": "LayoutModel",
       "_view_count": null,
       "_view_module": "@jupyter-widgets/base",
       "_view_module_version": "1.2.0",
       "_view_name": "LayoutView",
       "align_content": null,
       "align_items": null,
       "align_self": null,
       "border": null,
       "bottom": null,
       "display": null,
       "flex": null,
       "flex_flow": null,
       "grid_area": null,
       "grid_auto_columns": null,
       "grid_auto_flow": null,
       "grid_auto_rows": null,
       "grid_column": null,
       "grid_gap": null,
       "grid_row": null,
       "grid_template_areas": null,
       "grid_template_columns": null,
       "grid_template_rows": null,
       "height": null,
       "justify_content": null,
       "justify_items": null,
       "left": null,
       "margin": null,
       "max_height": null,
       "max_width": null,
       "min_height": null,
       "min_width": null,
       "object_fit": null,
       "object_position": null,
       "order": null,
       "overflow": null,
       "overflow_x": null,
       "overflow_y": null,
       "padding": null,
       "right": null,
       "top": null,
       "visibility": null,
       "width": null
      }
     },
     "451fa8cfbb4e4e35a96bc61a30837702": {
      "model_module": "@jupyter-widgets/base",
      "model_module_version": "1.2.0",
      "model_name": "LayoutModel",
      "state": {
       "_model_module": "@jupyter-widgets/base",
       "_model_module_version": "1.2.0",
       "_model_name": "LayoutModel",
       "_view_count": null,
       "_view_module": "@jupyter-widgets/base",
       "_view_module_version": "1.2.0",
       "_view_name": "LayoutView",
       "align_content": null,
       "align_items": null,
       "align_self": null,
       "border": null,
       "bottom": null,
       "display": null,
       "flex": null,
       "flex_flow": null,
       "grid_area": null,
       "grid_auto_columns": null,
       "grid_auto_flow": null,
       "grid_auto_rows": null,
       "grid_column": null,
       "grid_gap": null,
       "grid_row": null,
       "grid_template_areas": null,
       "grid_template_columns": null,
       "grid_template_rows": null,
       "height": null,
       "justify_content": null,
       "justify_items": null,
       "left": null,
       "margin": null,
       "max_height": null,
       "max_width": null,
       "min_height": null,
       "min_width": null,
       "object_fit": null,
       "object_position": null,
       "order": null,
       "overflow": null,
       "overflow_x": null,
       "overflow_y": null,
       "padding": null,
       "right": null,
       "top": null,
       "visibility": null,
       "width": null
      }
     },
     "4b7691b86f9d4b26bb595ffe16ccdf4b": {
      "model_module": "@jupyter-widgets/base",
      "model_module_version": "1.2.0",
      "model_name": "LayoutModel",
      "state": {
       "_model_module": "@jupyter-widgets/base",
       "_model_module_version": "1.2.0",
       "_model_name": "LayoutModel",
       "_view_count": null,
       "_view_module": "@jupyter-widgets/base",
       "_view_module_version": "1.2.0",
       "_view_name": "LayoutView",
       "align_content": null,
       "align_items": null,
       "align_self": null,
       "border": null,
       "bottom": null,
       "display": null,
       "flex": null,
       "flex_flow": null,
       "grid_area": null,
       "grid_auto_columns": null,
       "grid_auto_flow": null,
       "grid_auto_rows": null,
       "grid_column": null,
       "grid_gap": null,
       "grid_row": null,
       "grid_template_areas": null,
       "grid_template_columns": null,
       "grid_template_rows": null,
       "height": null,
       "justify_content": null,
       "justify_items": null,
       "left": null,
       "margin": null,
       "max_height": null,
       "max_width": null,
       "min_height": null,
       "min_width": null,
       "object_fit": null,
       "object_position": null,
       "order": null,
       "overflow": null,
       "overflow_x": null,
       "overflow_y": null,
       "padding": null,
       "right": null,
       "top": null,
       "visibility": null,
       "width": null
      }
     },
     "4cfd937cd9604bdea2a1e2869ca0115b": {
      "model_module": "@jupyter-widgets/controls",
      "model_module_version": "1.5.0",
      "model_name": "HTMLModel",
      "state": {
       "_dom_classes": [],
       "_model_module": "@jupyter-widgets/controls",
       "_model_module_version": "1.5.0",
       "_model_name": "HTMLModel",
       "_view_count": null,
       "_view_module": "@jupyter-widgets/controls",
       "_view_module_version": "1.5.0",
       "_view_name": "HTMLView",
       "description": "",
       "description_tooltip": null,
       "layout": "IPY_MODEL_ed029172cae3482e84dc8d928ef29a2f",
       "placeholder": "​",
       "style": "IPY_MODEL_be18851be8954fdb832a24ea8543c62d",
       "value": " 200/200 [01:35&lt;00:00,  1.94it/s]"
      }
     },
     "4f117a22c2f74ef78e1687b081a40e4e": {
      "model_module": "@jupyter-widgets/controls",
      "model_module_version": "1.5.0",
      "model_name": "HTMLModel",
      "state": {
       "_dom_classes": [],
       "_model_module": "@jupyter-widgets/controls",
       "_model_module_version": "1.5.0",
       "_model_name": "HTMLModel",
       "_view_count": null,
       "_view_module": "@jupyter-widgets/controls",
       "_view_module_version": "1.5.0",
       "_view_name": "HTMLView",
       "description": "",
       "description_tooltip": null,
       "layout": "IPY_MODEL_f28231a2576546e699daf014275a9dba",
       "placeholder": "​",
       "style": "IPY_MODEL_80f361efce9e4720b172f7c04f4da7a0",
       "value": "100%"
      }
     },
     "501435038a0b4ba096a3cfd507b5e5f3": {
      "model_module": "@jupyter-widgets/base",
      "model_module_version": "1.2.0",
      "model_name": "LayoutModel",
      "state": {
       "_model_module": "@jupyter-widgets/base",
       "_model_module_version": "1.2.0",
       "_model_name": "LayoutModel",
       "_view_count": null,
       "_view_module": "@jupyter-widgets/base",
       "_view_module_version": "1.2.0",
       "_view_name": "LayoutView",
       "align_content": null,
       "align_items": null,
       "align_self": null,
       "border": null,
       "bottom": null,
       "display": null,
       "flex": null,
       "flex_flow": null,
       "grid_area": null,
       "grid_auto_columns": null,
       "grid_auto_flow": null,
       "grid_auto_rows": null,
       "grid_column": null,
       "grid_gap": null,
       "grid_row": null,
       "grid_template_areas": null,
       "grid_template_columns": null,
       "grid_template_rows": null,
       "height": null,
       "justify_content": null,
       "justify_items": null,
       "left": null,
       "margin": null,
       "max_height": null,
       "max_width": null,
       "min_height": null,
       "min_width": null,
       "object_fit": null,
       "object_position": null,
       "order": null,
       "overflow": null,
       "overflow_x": null,
       "overflow_y": null,
       "padding": null,
       "right": null,
       "top": null,
       "visibility": null,
       "width": null
      }
     },
     "52a75ccb18544aa495192cb506c6d7fa": {
      "model_module": "@jupyter-widgets/controls",
      "model_module_version": "1.5.0",
      "model_name": "HTMLModel",
      "state": {
       "_dom_classes": [],
       "_model_module": "@jupyter-widgets/controls",
       "_model_module_version": "1.5.0",
       "_model_name": "HTMLModel",
       "_view_count": null,
       "_view_module": "@jupyter-widgets/controls",
       "_view_module_version": "1.5.0",
       "_view_name": "HTMLView",
       "description": "",
       "description_tooltip": null,
       "layout": "IPY_MODEL_586f0ab342854e4d8e3edf0896b67529",
       "placeholder": "​",
       "style": "IPY_MODEL_c53d244a949743cf82e78cbff7017185",
       "value": "Map: 100%"
      }
     },
     "52cfffd1233548b2943820c68eafacd7": {
      "model_module": "@jupyter-widgets/controls",
      "model_module_version": "1.5.0",
      "model_name": "HBoxModel",
      "state": {
       "_dom_classes": [],
       "_model_module": "@jupyter-widgets/controls",
       "_model_module_version": "1.5.0",
       "_model_name": "HBoxModel",
       "_view_count": null,
       "_view_module": "@jupyter-widgets/controls",
       "_view_module_version": "1.5.0",
       "_view_name": "HBoxView",
       "box_style": "",
       "children": [
        "IPY_MODEL_086b3d6fcecd45e8aa5311ff79f171c9",
        "IPY_MODEL_ab71da7bb4cb4458bb0be6bbeb6004b5",
        "IPY_MODEL_5b7a5d18707b448089f2903a6b80ce20"
       ],
       "layout": "IPY_MODEL_21f53be7d0aa4dd4b8cb6a33440af215"
      }
     },
     "5348cbaba25844b6807b6de491821f48": {
      "model_module": "@jupyter-widgets/controls",
      "model_module_version": "1.5.0",
      "model_name": "ProgressStyleModel",
      "state": {
       "_model_module": "@jupyter-widgets/controls",
       "_model_module_version": "1.5.0",
       "_model_name": "ProgressStyleModel",
       "_view_count": null,
       "_view_module": "@jupyter-widgets/base",
       "_view_module_version": "1.2.0",
       "_view_name": "StyleView",
       "bar_color": null,
       "description_width": ""
      }
     },
     "55d5c169dcc849c59a4acd18e5f2babd": {
      "model_module": "@jupyter-widgets/controls",
      "model_module_version": "1.5.0",
      "model_name": "HTMLModel",
      "state": {
       "_dom_classes": [],
       "_model_module": "@jupyter-widgets/controls",
       "_model_module_version": "1.5.0",
       "_model_name": "HTMLModel",
       "_view_count": null,
       "_view_module": "@jupyter-widgets/controls",
       "_view_module_version": "1.5.0",
       "_view_name": "HTMLView",
       "description": "",
       "description_tooltip": null,
       "layout": "IPY_MODEL_302466788a424c6d804b29db9b1ed835",
       "placeholder": "​",
       "style": "IPY_MODEL_de215ddf3060461ab96cbb11fadb219b",
       "value": "100%"
      }
     },
     "586f0ab342854e4d8e3edf0896b67529": {
      "model_module": "@jupyter-widgets/base",
      "model_module_version": "1.2.0",
      "model_name": "LayoutModel",
      "state": {
       "_model_module": "@jupyter-widgets/base",
       "_model_module_version": "1.2.0",
       "_model_name": "LayoutModel",
       "_view_count": null,
       "_view_module": "@jupyter-widgets/base",
       "_view_module_version": "1.2.0",
       "_view_name": "LayoutView",
       "align_content": null,
       "align_items": null,
       "align_self": null,
       "border": null,
       "bottom": null,
       "display": null,
       "flex": null,
       "flex_flow": null,
       "grid_area": null,
       "grid_auto_columns": null,
       "grid_auto_flow": null,
       "grid_auto_rows": null,
       "grid_column": null,
       "grid_gap": null,
       "grid_row": null,
       "grid_template_areas": null,
       "grid_template_columns": null,
       "grid_template_rows": null,
       "height": null,
       "justify_content": null,
       "justify_items": null,
       "left": null,
       "margin": null,
       "max_height": null,
       "max_width": null,
       "min_height": null,
       "min_width": null,
       "object_fit": null,
       "object_position": null,
       "order": null,
       "overflow": null,
       "overflow_x": null,
       "overflow_y": null,
       "padding": null,
       "right": null,
       "top": null,
       "visibility": null,
       "width": null
      }
     },
     "599624c2052a4e7a9ad4d287c20a9af0": {
      "model_module": "@jupyter-widgets/controls",
      "model_module_version": "1.5.0",
      "model_name": "HBoxModel",
      "state": {
       "_dom_classes": [],
       "_model_module": "@jupyter-widgets/controls",
       "_model_module_version": "1.5.0",
       "_model_name": "HBoxModel",
       "_view_count": null,
       "_view_module": "@jupyter-widgets/controls",
       "_view_module_version": "1.5.0",
       "_view_name": "HBoxView",
       "box_style": "",
       "children": [
        "IPY_MODEL_55d5c169dcc849c59a4acd18e5f2babd",
        "IPY_MODEL_3c8bce3e295948b981495334b1c87dbd",
        "IPY_MODEL_0728c2704aa64a8ca5d198caa19a7b0c"
       ],
       "layout": "IPY_MODEL_f1e625d41a404f2d82aeec0a8ee951b0"
      }
     },
     "5b7a5d18707b448089f2903a6b80ce20": {
      "model_module": "@jupyter-widgets/controls",
      "model_module_version": "1.5.0",
      "model_name": "HTMLModel",
      "state": {
       "_dom_classes": [],
       "_model_module": "@jupyter-widgets/controls",
       "_model_module_version": "1.5.0",
       "_model_name": "HTMLModel",
       "_view_count": null,
       "_view_module": "@jupyter-widgets/controls",
       "_view_module_version": "1.5.0",
       "_view_name": "HTMLView",
       "description": "",
       "description_tooltip": null,
       "layout": "IPY_MODEL_660df8485ccb422b89f65543549c038d",
       "placeholder": "​",
       "style": "IPY_MODEL_66a2abb3166445f289f9b1d074c51afa",
       "value": " 2781652/2781652 [04:03&lt;00:00, 8657.80 examples/s]"
      }
     },
     "5e029115e69c400cba9b00003e295823": {
      "model_module": "@jupyter-widgets/controls",
      "model_module_version": "1.5.0",
      "model_name": "FloatProgressModel",
      "state": {
       "_dom_classes": [],
       "_model_module": "@jupyter-widgets/controls",
       "_model_module_version": "1.5.0",
       "_model_name": "FloatProgressModel",
       "_view_count": null,
       "_view_module": "@jupyter-widgets/controls",
       "_view_module_version": "1.5.0",
       "_view_name": "ProgressView",
       "bar_style": "success",
       "description": "",
       "description_tooltip": null,
       "layout": "IPY_MODEL_88eff67a8ab64a3a99777e3e3ed8474c",
       "max": 4520652.0,
       "min": 0.0,
       "orientation": "horizontal",
       "style": "IPY_MODEL_7ed6d9b5546f4c31ace17099e19022ea",
       "value": 4520652.0
      }
     },
     "5f034010f0f64c2fa52fc10f1636054c": {
      "model_module": "@jupyter-widgets/controls",
      "model_module_version": "1.5.0",
      "model_name": "FloatProgressModel",
      "state": {
       "_dom_classes": [],
       "_model_module": "@jupyter-widgets/controls",
       "_model_module_version": "1.5.0",
       "_model_name": "FloatProgressModel",
       "_view_count": null,
       "_view_module": "@jupyter-widgets/controls",
       "_view_module_version": "1.5.0",
       "_view_name": "ProgressView",
       "bar_style": "success",
       "description": "",
       "description_tooltip": null,
       "layout": "IPY_MODEL_501435038a0b4ba096a3cfd507b5e5f3",
       "max": 200.0,
       "min": 0.0,
       "orientation": "horizontal",
       "style": "IPY_MODEL_65d373dc9be84accb4f724e623db8e1a",
       "value": 200.0
      }
     },
     "5fb5ca713b6b4d029a14e8b6f75c5bf2": {
      "model_module": "@jupyter-widgets/controls",
      "model_module_version": "1.5.0",
      "model_name": "HBoxModel",
      "state": {
       "_dom_classes": [],
       "_model_module": "@jupyter-widgets/controls",
       "_model_module_version": "1.5.0",
       "_model_name": "HBoxModel",
       "_view_count": null,
       "_view_module": "@jupyter-widgets/controls",
       "_view_module_version": "1.5.0",
       "_view_name": "HBoxView",
       "box_style": "",
       "children": [
        "IPY_MODEL_66cfe147c42b4725b2e2a85dc1286eff",
        "IPY_MODEL_3854f812bec44c79b0cb5c7ca83e35af",
        "IPY_MODEL_3b7838c850cf4cf8bc7983f72f2c34e3"
       ],
       "layout": "IPY_MODEL_067af7f2717c43fba50c6cbc22c81153"
      }
     },
     "607c462c413b409b91070aac76586f99": {
      "model_module": "@jupyter-widgets/base",
      "model_module_version": "1.2.0",
      "model_name": "LayoutModel",
      "state": {
       "_model_module": "@jupyter-widgets/base",
       "_model_module_version": "1.2.0",
       "_model_name": "LayoutModel",
       "_view_count": null,
       "_view_module": "@jupyter-widgets/base",
       "_view_module_version": "1.2.0",
       "_view_name": "LayoutView",
       "align_content": null,
       "align_items": null,
       "align_self": null,
       "border": null,
       "bottom": null,
       "display": null,
       "flex": null,
       "flex_flow": null,
       "grid_area": null,
       "grid_auto_columns": null,
       "grid_auto_flow": null,
       "grid_auto_rows": null,
       "grid_column": null,
       "grid_gap": null,
       "grid_row": null,
       "grid_template_areas": null,
       "grid_template_columns": null,
       "grid_template_rows": null,
       "height": null,
       "justify_content": null,
       "justify_items": null,
       "left": null,
       "margin": null,
       "max_height": null,
       "max_width": null,
       "min_height": null,
       "min_width": null,
       "object_fit": null,
       "object_position": null,
       "order": null,
       "overflow": null,
       "overflow_x": null,
       "overflow_y": null,
       "padding": null,
       "right": null,
       "top": null,
       "visibility": null,
       "width": null
      }
     },
     "633dbb46d9284fa095e52b854cc8c762": {
      "model_module": "@jupyter-widgets/controls",
      "model_module_version": "1.5.0",
      "model_name": "ProgressStyleModel",
      "state": {
       "_model_module": "@jupyter-widgets/controls",
       "_model_module_version": "1.5.0",
       "_model_name": "ProgressStyleModel",
       "_view_count": null,
       "_view_module": "@jupyter-widgets/base",
       "_view_module_version": "1.2.0",
       "_view_name": "StyleView",
       "bar_color": null,
       "description_width": ""
      }
     },
     "634f84dfd4e647109cbee4d05bc6a8e0": {
      "model_module": "@jupyter-widgets/base",
      "model_module_version": "1.2.0",
      "model_name": "LayoutModel",
      "state": {
       "_model_module": "@jupyter-widgets/base",
       "_model_module_version": "1.2.0",
       "_model_name": "LayoutModel",
       "_view_count": null,
       "_view_module": "@jupyter-widgets/base",
       "_view_module_version": "1.2.0",
       "_view_name": "LayoutView",
       "align_content": null,
       "align_items": null,
       "align_self": null,
       "border": null,
       "bottom": null,
       "display": null,
       "flex": null,
       "flex_flow": null,
       "grid_area": null,
       "grid_auto_columns": null,
       "grid_auto_flow": null,
       "grid_auto_rows": null,
       "grid_column": null,
       "grid_gap": null,
       "grid_row": null,
       "grid_template_areas": null,
       "grid_template_columns": null,
       "grid_template_rows": null,
       "height": null,
       "justify_content": null,
       "justify_items": null,
       "left": null,
       "margin": null,
       "max_height": null,
       "max_width": null,
       "min_height": null,
       "min_width": null,
       "object_fit": null,
       "object_position": null,
       "order": null,
       "overflow": null,
       "overflow_x": null,
       "overflow_y": null,
       "padding": null,
       "right": null,
       "top": null,
       "visibility": null,
       "width": null
      }
     },
     "638beb0f8f28458eae441a0551eee6a0": {
      "model_module": "@jupyter-widgets/controls",
      "model_module_version": "1.5.0",
      "model_name": "DescriptionStyleModel",
      "state": {
       "_model_module": "@jupyter-widgets/controls",
       "_model_module_version": "1.5.0",
       "_model_name": "DescriptionStyleModel",
       "_view_count": null,
       "_view_module": "@jupyter-widgets/base",
       "_view_module_version": "1.2.0",
       "_view_name": "StyleView",
       "description_width": ""
      }
     },
     "64a34e7b1f4e491dbefd2e3581180480": {
      "model_module": "@jupyter-widgets/controls",
      "model_module_version": "1.5.0",
      "model_name": "HBoxModel",
      "state": {
       "_dom_classes": [],
       "_model_module": "@jupyter-widgets/controls",
       "_model_module_version": "1.5.0",
       "_model_name": "HBoxModel",
       "_view_count": null,
       "_view_module": "@jupyter-widgets/controls",
       "_view_module_version": "1.5.0",
       "_view_name": "HBoxView",
       "box_style": "",
       "children": [
        "IPY_MODEL_4f117a22c2f74ef78e1687b081a40e4e",
        "IPY_MODEL_5f034010f0f64c2fa52fc10f1636054c",
        "IPY_MODEL_4cfd937cd9604bdea2a1e2869ca0115b"
       ],
       "layout": "IPY_MODEL_8a37bb1ecbd0497fba6fe7387da70a5f"
      }
     },
     "6558ca7529aa41e696e7f307857db34b": {
      "model_module": "@jupyter-widgets/base",
      "model_module_version": "1.2.0",
      "model_name": "LayoutModel",
      "state": {
       "_model_module": "@jupyter-widgets/base",
       "_model_module_version": "1.2.0",
       "_model_name": "LayoutModel",
       "_view_count": null,
       "_view_module": "@jupyter-widgets/base",
       "_view_module_version": "1.2.0",
       "_view_name": "LayoutView",
       "align_content": null,
       "align_items": null,
       "align_self": null,
       "border": null,
       "bottom": null,
       "display": null,
       "flex": null,
       "flex_flow": null,
       "grid_area": null,
       "grid_auto_columns": null,
       "grid_auto_flow": null,
       "grid_auto_rows": null,
       "grid_column": null,
       "grid_gap": null,
       "grid_row": null,
       "grid_template_areas": null,
       "grid_template_columns": null,
       "grid_template_rows": null,
       "height": null,
       "justify_content": null,
       "justify_items": null,
       "left": null,
       "margin": null,
       "max_height": null,
       "max_width": null,
       "min_height": null,
       "min_width": null,
       "object_fit": null,
       "object_position": null,
       "order": null,
       "overflow": null,
       "overflow_x": null,
       "overflow_y": null,
       "padding": null,
       "right": null,
       "top": null,
       "visibility": null,
       "width": null
      }
     },
     "65d373dc9be84accb4f724e623db8e1a": {
      "model_module": "@jupyter-widgets/controls",
      "model_module_version": "1.5.0",
      "model_name": "ProgressStyleModel",
      "state": {
       "_model_module": "@jupyter-widgets/controls",
       "_model_module_version": "1.5.0",
       "_model_name": "ProgressStyleModel",
       "_view_count": null,
       "_view_module": "@jupyter-widgets/base",
       "_view_module_version": "1.2.0",
       "_view_name": "StyleView",
       "bar_color": null,
       "description_width": ""
      }
     },
     "660df8485ccb422b89f65543549c038d": {
      "model_module": "@jupyter-widgets/base",
      "model_module_version": "1.2.0",
      "model_name": "LayoutModel",
      "state": {
       "_model_module": "@jupyter-widgets/base",
       "_model_module_version": "1.2.0",
       "_model_name": "LayoutModel",
       "_view_count": null,
       "_view_module": "@jupyter-widgets/base",
       "_view_module_version": "1.2.0",
       "_view_name": "LayoutView",
       "align_content": null,
       "align_items": null,
       "align_self": null,
       "border": null,
       "bottom": null,
       "display": null,
       "flex": null,
       "flex_flow": null,
       "grid_area": null,
       "grid_auto_columns": null,
       "grid_auto_flow": null,
       "grid_auto_rows": null,
       "grid_column": null,
       "grid_gap": null,
       "grid_row": null,
       "grid_template_areas": null,
       "grid_template_columns": null,
       "grid_template_rows": null,
       "height": null,
       "justify_content": null,
       "justify_items": null,
       "left": null,
       "margin": null,
       "max_height": null,
       "max_width": null,
       "min_height": null,
       "min_width": null,
       "object_fit": null,
       "object_position": null,
       "order": null,
       "overflow": null,
       "overflow_x": null,
       "overflow_y": null,
       "padding": null,
       "right": null,
       "top": null,
       "visibility": null,
       "width": null
      }
     },
     "66a2abb3166445f289f9b1d074c51afa": {
      "model_module": "@jupyter-widgets/controls",
      "model_module_version": "1.5.0",
      "model_name": "DescriptionStyleModel",
      "state": {
       "_model_module": "@jupyter-widgets/controls",
       "_model_module_version": "1.5.0",
       "_model_name": "DescriptionStyleModel",
       "_view_count": null,
       "_view_module": "@jupyter-widgets/base",
       "_view_module_version": "1.2.0",
       "_view_name": "StyleView",
       "description_width": ""
      }
     },
     "66cfe147c42b4725b2e2a85dc1286eff": {
      "model_module": "@jupyter-widgets/controls",
      "model_module_version": "1.5.0",
      "model_name": "HTMLModel",
      "state": {
       "_dom_classes": [],
       "_model_module": "@jupyter-widgets/controls",
       "_model_module_version": "1.5.0",
       "_model_name": "HTMLModel",
       "_view_count": null,
       "_view_module": "@jupyter-widgets/controls",
       "_view_module_version": "1.5.0",
       "_view_name": "HTMLView",
       "description": "",
       "description_tooltip": null,
       "layout": "IPY_MODEL_6c4ad1e5193b4499a6a04fb768449355",
       "placeholder": "​",
       "style": "IPY_MODEL_ea50f58100624c0b8dee01dddcc0faeb",
       "value": "100%"
      }
     },
     "69c65d8a350c484fa3b6630990d1c30a": {
      "model_module": "@jupyter-widgets/controls",
      "model_module_version": "1.5.0",
      "model_name": "DescriptionStyleModel",
      "state": {
       "_model_module": "@jupyter-widgets/controls",
       "_model_module_version": "1.5.0",
       "_model_name": "DescriptionStyleModel",
       "_view_count": null,
       "_view_module": "@jupyter-widgets/base",
       "_view_module_version": "1.2.0",
       "_view_name": "StyleView",
       "description_width": ""
      }
     },
     "6c4ad1e5193b4499a6a04fb768449355": {
      "model_module": "@jupyter-widgets/base",
      "model_module_version": "1.2.0",
      "model_name": "LayoutModel",
      "state": {
       "_model_module": "@jupyter-widgets/base",
       "_model_module_version": "1.2.0",
       "_model_name": "LayoutModel",
       "_view_count": null,
       "_view_module": "@jupyter-widgets/base",
       "_view_module_version": "1.2.0",
       "_view_name": "LayoutView",
       "align_content": null,
       "align_items": null,
       "align_self": null,
       "border": null,
       "bottom": null,
       "display": null,
       "flex": null,
       "flex_flow": null,
       "grid_area": null,
       "grid_auto_columns": null,
       "grid_auto_flow": null,
       "grid_auto_rows": null,
       "grid_column": null,
       "grid_gap": null,
       "grid_row": null,
       "grid_template_areas": null,
       "grid_template_columns": null,
       "grid_template_rows": null,
       "height": null,
       "justify_content": null,
       "justify_items": null,
       "left": null,
       "margin": null,
       "max_height": null,
       "max_width": null,
       "min_height": null,
       "min_width": null,
       "object_fit": null,
       "object_position": null,
       "order": null,
       "overflow": null,
       "overflow_x": null,
       "overflow_y": null,
       "padding": null,
       "right": null,
       "top": null,
       "visibility": null,
       "width": null
      }
     },
     "6ec195d16de34c51b4cd4515686043cc": {
      "model_module": "@jupyter-widgets/controls",
      "model_module_version": "1.5.0",
      "model_name": "DescriptionStyleModel",
      "state": {
       "_model_module": "@jupyter-widgets/controls",
       "_model_module_version": "1.5.0",
       "_model_name": "DescriptionStyleModel",
       "_view_count": null,
       "_view_module": "@jupyter-widgets/base",
       "_view_module_version": "1.2.0",
       "_view_name": "StyleView",
       "description_width": ""
      }
     },
     "7a120970710a4975ac135bb3a7d6737b": {
      "model_module": "@jupyter-widgets/base",
      "model_module_version": "1.2.0",
      "model_name": "LayoutModel",
      "state": {
       "_model_module": "@jupyter-widgets/base",
       "_model_module_version": "1.2.0",
       "_model_name": "LayoutModel",
       "_view_count": null,
       "_view_module": "@jupyter-widgets/base",
       "_view_module_version": "1.2.0",
       "_view_name": "LayoutView",
       "align_content": null,
       "align_items": null,
       "align_self": null,
       "border": null,
       "bottom": null,
       "display": null,
       "flex": null,
       "flex_flow": null,
       "grid_area": null,
       "grid_auto_columns": null,
       "grid_auto_flow": null,
       "grid_auto_rows": null,
       "grid_column": null,
       "grid_gap": null,
       "grid_row": null,
       "grid_template_areas": null,
       "grid_template_columns": null,
       "grid_template_rows": null,
       "height": null,
       "justify_content": null,
       "justify_items": null,
       "left": null,
       "margin": null,
       "max_height": null,
       "max_width": null,
       "min_height": null,
       "min_width": null,
       "object_fit": null,
       "object_position": null,
       "order": null,
       "overflow": null,
       "overflow_x": null,
       "overflow_y": null,
       "padding": null,
       "right": null,
       "top": null,
       "visibility": null,
       "width": null
      }
     },
     "7d407755b0f34eef8a2a707770b49ab1": {
      "model_module": "@jupyter-widgets/controls",
      "model_module_version": "1.5.0",
      "model_name": "HBoxModel",
      "state": {
       "_dom_classes": [],
       "_model_module": "@jupyter-widgets/controls",
       "_model_module_version": "1.5.0",
       "_model_name": "HBoxModel",
       "_view_count": null,
       "_view_module": "@jupyter-widgets/controls",
       "_view_module_version": "1.5.0",
       "_view_name": "HBoxView",
       "box_style": "",
       "children": [
        "IPY_MODEL_d762c57249d546cb8e69a83ce278b9e6",
        "IPY_MODEL_0359df7ed0f645bf805bfdc7ac24a866",
        "IPY_MODEL_f738745a3b744a358c8699339a602c5c"
       ],
       "layout": "IPY_MODEL_abbae8b7e0c04ef9a0975e49e2f2d5eb"
      }
     },
     "7e99a2ee2887410883e3ddd746ad7f86": {
      "model_module": "@jupyter-widgets/controls",
      "model_module_version": "1.5.0",
      "model_name": "HTMLModel",
      "state": {
       "_dom_classes": [],
       "_model_module": "@jupyter-widgets/controls",
       "_model_module_version": "1.5.0",
       "_model_name": "HTMLModel",
       "_view_count": null,
       "_view_module": "@jupyter-widgets/controls",
       "_view_module_version": "1.5.0",
       "_view_name": "HTMLView",
       "description": "",
       "description_tooltip": null,
       "layout": "IPY_MODEL_634f84dfd4e647109cbee4d05bc6a8e0",
       "placeholder": "​",
       "style": "IPY_MODEL_38449516ff0b4c2ea65d5d3ee5fd08dc",
       "value": " 200/200 [00:02&lt;00:00, 113.37 examples/s]"
      }
     },
     "7ed6d9b5546f4c31ace17099e19022ea": {
      "model_module": "@jupyter-widgets/controls",
      "model_module_version": "1.5.0",
      "model_name": "ProgressStyleModel",
      "state": {
       "_model_module": "@jupyter-widgets/controls",
       "_model_module_version": "1.5.0",
       "_model_name": "ProgressStyleModel",
       "_view_count": null,
       "_view_module": "@jupyter-widgets/base",
       "_view_module_version": "1.2.0",
       "_view_name": "StyleView",
       "bar_color": null,
       "description_width": ""
      }
     },
     "80f361efce9e4720b172f7c04f4da7a0": {
      "model_module": "@jupyter-widgets/controls",
      "model_module_version": "1.5.0",
      "model_name": "DescriptionStyleModel",
      "state": {
       "_model_module": "@jupyter-widgets/controls",
       "_model_module_version": "1.5.0",
       "_model_name": "DescriptionStyleModel",
       "_view_count": null,
       "_view_module": "@jupyter-widgets/base",
       "_view_module_version": "1.2.0",
       "_view_name": "StyleView",
       "description_width": ""
      }
     },
     "83e3bc5181814ca6b727007943f44bb2": {
      "model_module": "@jupyter-widgets/base",
      "model_module_version": "1.2.0",
      "model_name": "LayoutModel",
      "state": {
       "_model_module": "@jupyter-widgets/base",
       "_model_module_version": "1.2.0",
       "_model_name": "LayoutModel",
       "_view_count": null,
       "_view_module": "@jupyter-widgets/base",
       "_view_module_version": "1.2.0",
       "_view_name": "LayoutView",
       "align_content": null,
       "align_items": null,
       "align_self": null,
       "border": null,
       "bottom": null,
       "display": null,
       "flex": null,
       "flex_flow": null,
       "grid_area": null,
       "grid_auto_columns": null,
       "grid_auto_flow": null,
       "grid_auto_rows": null,
       "grid_column": null,
       "grid_gap": null,
       "grid_row": null,
       "grid_template_areas": null,
       "grid_template_columns": null,
       "grid_template_rows": null,
       "height": null,
       "justify_content": null,
       "justify_items": null,
       "left": null,
       "margin": null,
       "max_height": null,
       "max_width": null,
       "min_height": null,
       "min_width": null,
       "object_fit": null,
       "object_position": null,
       "order": null,
       "overflow": null,
       "overflow_x": null,
       "overflow_y": null,
       "padding": null,
       "right": null,
       "top": null,
       "visibility": null,
       "width": null
      }
     },
     "8402f170e1d7458db52e49541237d975": {
      "model_module": "@jupyter-widgets/controls",
      "model_module_version": "1.5.0",
      "model_name": "DescriptionStyleModel",
      "state": {
       "_model_module": "@jupyter-widgets/controls",
       "_model_module_version": "1.5.0",
       "_model_name": "DescriptionStyleModel",
       "_view_count": null,
       "_view_module": "@jupyter-widgets/base",
       "_view_module_version": "1.2.0",
       "_view_name": "StyleView",
       "description_width": ""
      }
     },
     "88eff67a8ab64a3a99777e3e3ed8474c": {
      "model_module": "@jupyter-widgets/base",
      "model_module_version": "1.2.0",
      "model_name": "LayoutModel",
      "state": {
       "_model_module": "@jupyter-widgets/base",
       "_model_module_version": "1.2.0",
       "_model_name": "LayoutModel",
       "_view_count": null,
       "_view_module": "@jupyter-widgets/base",
       "_view_module_version": "1.2.0",
       "_view_name": "LayoutView",
       "align_content": null,
       "align_items": null,
       "align_self": null,
       "border": null,
       "bottom": null,
       "display": null,
       "flex": null,
       "flex_flow": null,
       "grid_area": null,
       "grid_auto_columns": null,
       "grid_auto_flow": null,
       "grid_auto_rows": null,
       "grid_column": null,
       "grid_gap": null,
       "grid_row": null,
       "grid_template_areas": null,
       "grid_template_columns": null,
       "grid_template_rows": null,
       "height": null,
       "justify_content": null,
       "justify_items": null,
       "left": null,
       "margin": null,
       "max_height": null,
       "max_width": null,
       "min_height": null,
       "min_width": null,
       "object_fit": null,
       "object_position": null,
       "order": null,
       "overflow": null,
       "overflow_x": null,
       "overflow_y": null,
       "padding": null,
       "right": null,
       "top": null,
       "visibility": null,
       "width": null
      }
     },
     "8994bacebc7f4b039beee03fa0efdd9e": {
      "model_module": "@jupyter-widgets/controls",
      "model_module_version": "1.5.0",
      "model_name": "HTMLModel",
      "state": {
       "_dom_classes": [],
       "_model_module": "@jupyter-widgets/controls",
       "_model_module_version": "1.5.0",
       "_model_name": "HTMLModel",
       "_view_count": null,
       "_view_module": "@jupyter-widgets/controls",
       "_view_module_version": "1.5.0",
       "_view_name": "HTMLView",
       "description": "",
       "description_tooltip": null,
       "layout": "IPY_MODEL_c0a3db325ca040e2bb80bd2fbdcd4390",
       "placeholder": "​",
       "style": "IPY_MODEL_39c9e7fdb56a4cdb9ec5a6cd080fcac4",
       "value": " 200/200 [01:35&lt;00:00,  1.94it/s]"
      }
     },
     "8a37bb1ecbd0497fba6fe7387da70a5f": {
      "model_module": "@jupyter-widgets/base",
      "model_module_version": "1.2.0",
      "model_name": "LayoutModel",
      "state": {
       "_model_module": "@jupyter-widgets/base",
       "_model_module_version": "1.2.0",
       "_model_name": "LayoutModel",
       "_view_count": null,
       "_view_module": "@jupyter-widgets/base",
       "_view_module_version": "1.2.0",
       "_view_name": "LayoutView",
       "align_content": null,
       "align_items": null,
       "align_self": null,
       "border": null,
       "bottom": null,
       "display": null,
       "flex": null,
       "flex_flow": null,
       "grid_area": null,
       "grid_auto_columns": null,
       "grid_auto_flow": null,
       "grid_auto_rows": null,
       "grid_column": null,
       "grid_gap": null,
       "grid_row": null,
       "grid_template_areas": null,
       "grid_template_columns": null,
       "grid_template_rows": null,
       "height": null,
       "justify_content": null,
       "justify_items": null,
       "left": null,
       "margin": null,
       "max_height": null,
       "max_width": null,
       "min_height": null,
       "min_width": null,
       "object_fit": null,
       "object_position": null,
       "order": null,
       "overflow": null,
       "overflow_x": null,
       "overflow_y": null,
       "padding": null,
       "right": null,
       "top": null,
       "visibility": null,
       "width": null
      }
     },
     "8aa7d67cf3754fd4b0a14cb64334c55f": {
      "model_module": "@jupyter-widgets/base",
      "model_module_version": "1.2.0",
      "model_name": "LayoutModel",
      "state": {
       "_model_module": "@jupyter-widgets/base",
       "_model_module_version": "1.2.0",
       "_model_name": "LayoutModel",
       "_view_count": null,
       "_view_module": "@jupyter-widgets/base",
       "_view_module_version": "1.2.0",
       "_view_name": "LayoutView",
       "align_content": null,
       "align_items": null,
       "align_self": null,
       "border": null,
       "bottom": null,
       "display": null,
       "flex": null,
       "flex_flow": null,
       "grid_area": null,
       "grid_auto_columns": null,
       "grid_auto_flow": null,
       "grid_auto_rows": null,
       "grid_column": null,
       "grid_gap": null,
       "grid_row": null,
       "grid_template_areas": null,
       "grid_template_columns": null,
       "grid_template_rows": null,
       "height": null,
       "justify_content": null,
       "justify_items": null,
       "left": null,
       "margin": null,
       "max_height": null,
       "max_width": null,
       "min_height": null,
       "min_width": null,
       "object_fit": null,
       "object_position": null,
       "order": null,
       "overflow": null,
       "overflow_x": null,
       "overflow_y": null,
       "padding": null,
       "right": null,
       "top": null,
       "visibility": null,
       "width": null
      }
     },
     "8ca1ae61588743efb58bd8c781d89bb7": {
      "model_module": "@jupyter-widgets/base",
      "model_module_version": "1.2.0",
      "model_name": "LayoutModel",
      "state": {
       "_model_module": "@jupyter-widgets/base",
       "_model_module_version": "1.2.0",
       "_model_name": "LayoutModel",
       "_view_count": null,
       "_view_module": "@jupyter-widgets/base",
       "_view_module_version": "1.2.0",
       "_view_name": "LayoutView",
       "align_content": null,
       "align_items": null,
       "align_self": null,
       "border": null,
       "bottom": null,
       "display": null,
       "flex": null,
       "flex_flow": null,
       "grid_area": null,
       "grid_auto_columns": null,
       "grid_auto_flow": null,
       "grid_auto_rows": null,
       "grid_column": null,
       "grid_gap": null,
       "grid_row": null,
       "grid_template_areas": null,
       "grid_template_columns": null,
       "grid_template_rows": null,
       "height": null,
       "justify_content": null,
       "justify_items": null,
       "left": null,
       "margin": null,
       "max_height": null,
       "max_width": null,
       "min_height": null,
       "min_width": null,
       "object_fit": null,
       "object_position": null,
       "order": null,
       "overflow": null,
       "overflow_x": null,
       "overflow_y": null,
       "padding": null,
       "right": null,
       "top": null,
       "visibility": null,
       "width": null
      }
     },
     "91d0b59dbced43f7903631c6bd841c9a": {
      "model_module": "@jupyter-widgets/controls",
      "model_module_version": "1.5.0",
      "model_name": "ProgressStyleModel",
      "state": {
       "_model_module": "@jupyter-widgets/controls",
       "_model_module_version": "1.5.0",
       "_model_name": "ProgressStyleModel",
       "_view_count": null,
       "_view_module": "@jupyter-widgets/base",
       "_view_module_version": "1.2.0",
       "_view_name": "StyleView",
       "bar_color": null,
       "description_width": ""
      }
     },
     "936cceebf6ca40e6a5f27f1b5f96085c": {
      "model_module": "@jupyter-widgets/controls",
      "model_module_version": "1.5.0",
      "model_name": "HTMLModel",
      "state": {
       "_dom_classes": [],
       "_model_module": "@jupyter-widgets/controls",
       "_model_module_version": "1.5.0",
       "_model_name": "HTMLModel",
       "_view_count": null,
       "_view_module": "@jupyter-widgets/controls",
       "_view_module_version": "1.5.0",
       "_view_name": "HTMLView",
       "description": "",
       "description_tooltip": null,
       "layout": "IPY_MODEL_4b7691b86f9d4b26bb595ffe16ccdf4b",
       "placeholder": "​",
       "style": "IPY_MODEL_941b328f5edf4ea2a46c9c2bc3258b59",
       "value": "Map (num_proc=2): 100%"
      }
     },
     "941b328f5edf4ea2a46c9c2bc3258b59": {
      "model_module": "@jupyter-widgets/controls",
      "model_module_version": "1.5.0",
      "model_name": "DescriptionStyleModel",
      "state": {
       "_model_module": "@jupyter-widgets/controls",
       "_model_module_version": "1.5.0",
       "_model_name": "DescriptionStyleModel",
       "_view_count": null,
       "_view_module": "@jupyter-widgets/base",
       "_view_module_version": "1.2.0",
       "_view_name": "StyleView",
       "description_width": ""
      }
     },
     "9580b441aae144baacc64d54122b2b0c": {
      "model_module": "@jupyter-widgets/base",
      "model_module_version": "1.2.0",
      "model_name": "LayoutModel",
      "state": {
       "_model_module": "@jupyter-widgets/base",
       "_model_module_version": "1.2.0",
       "_model_name": "LayoutModel",
       "_view_count": null,
       "_view_module": "@jupyter-widgets/base",
       "_view_module_version": "1.2.0",
       "_view_name": "LayoutView",
       "align_content": null,
       "align_items": null,
       "align_self": null,
       "border": null,
       "bottom": null,
       "display": null,
       "flex": null,
       "flex_flow": null,
       "grid_area": null,
       "grid_auto_columns": null,
       "grid_auto_flow": null,
       "grid_auto_rows": null,
       "grid_column": null,
       "grid_gap": null,
       "grid_row": null,
       "grid_template_areas": null,
       "grid_template_columns": null,
       "grid_template_rows": null,
       "height": null,
       "justify_content": null,
       "justify_items": null,
       "left": null,
       "margin": null,
       "max_height": null,
       "max_width": null,
       "min_height": null,
       "min_width": null,
       "object_fit": null,
       "object_position": null,
       "order": null,
       "overflow": null,
       "overflow_x": null,
       "overflow_y": null,
       "padding": null,
       "right": null,
       "top": null,
       "visibility": null,
       "width": null
      }
     },
     "9be4aadd565b44dcad470da7898b495a": {
      "model_module": "@jupyter-widgets/controls",
      "model_module_version": "1.5.0",
      "model_name": "HTMLModel",
      "state": {
       "_dom_classes": [],
       "_model_module": "@jupyter-widgets/controls",
       "_model_module_version": "1.5.0",
       "_model_name": "HTMLModel",
       "_view_count": null,
       "_view_module": "@jupyter-widgets/controls",
       "_view_module_version": "1.5.0",
       "_view_name": "HTMLView",
       "description": "",
       "description_tooltip": null,
       "layout": "IPY_MODEL_aa2e3674a0034e2d92c2d95f8a13a403",
       "placeholder": "​",
       "style": "IPY_MODEL_1df5ae02bd784461a23243ac41996eb2",
       "value": "100%"
      }
     },
     "a3e081b3482445228651d0100e2dbd6b": {
      "model_module": "@jupyter-widgets/base",
      "model_module_version": "1.2.0",
      "model_name": "LayoutModel",
      "state": {
       "_model_module": "@jupyter-widgets/base",
       "_model_module_version": "1.2.0",
       "_model_name": "LayoutModel",
       "_view_count": null,
       "_view_module": "@jupyter-widgets/base",
       "_view_module_version": "1.2.0",
       "_view_name": "LayoutView",
       "align_content": null,
       "align_items": null,
       "align_self": null,
       "border": null,
       "bottom": null,
       "display": null,
       "flex": null,
       "flex_flow": null,
       "grid_area": null,
       "grid_auto_columns": null,
       "grid_auto_flow": null,
       "grid_auto_rows": null,
       "grid_column": null,
       "grid_gap": null,
       "grid_row": null,
       "grid_template_areas": null,
       "grid_template_columns": null,
       "grid_template_rows": null,
       "height": null,
       "justify_content": null,
       "justify_items": null,
       "left": null,
       "margin": null,
       "max_height": null,
       "max_width": null,
       "min_height": null,
       "min_width": null,
       "object_fit": null,
       "object_position": null,
       "order": null,
       "overflow": null,
       "overflow_x": null,
       "overflow_y": null,
       "padding": null,
       "right": null,
       "top": null,
       "visibility": null,
       "width": null
      }
     },
     "a8f2a139adea486ebd8aa528ba1427d9": {
      "model_module": "@jupyter-widgets/controls",
      "model_module_version": "1.5.0",
      "model_name": "ProgressStyleModel",
      "state": {
       "_model_module": "@jupyter-widgets/controls",
       "_model_module_version": "1.5.0",
       "_model_name": "ProgressStyleModel",
       "_view_count": null,
       "_view_module": "@jupyter-widgets/base",
       "_view_module_version": "1.2.0",
       "_view_name": "StyleView",
       "bar_color": null,
       "description_width": ""
      }
     },
     "aa2e3674a0034e2d92c2d95f8a13a403": {
      "model_module": "@jupyter-widgets/base",
      "model_module_version": "1.2.0",
      "model_name": "LayoutModel",
      "state": {
       "_model_module": "@jupyter-widgets/base",
       "_model_module_version": "1.2.0",
       "_model_name": "LayoutModel",
       "_view_count": null,
       "_view_module": "@jupyter-widgets/base",
       "_view_module_version": "1.2.0",
       "_view_name": "LayoutView",
       "align_content": null,
       "align_items": null,
       "align_self": null,
       "border": null,
       "bottom": null,
       "display": null,
       "flex": null,
       "flex_flow": null,
       "grid_area": null,
       "grid_auto_columns": null,
       "grid_auto_flow": null,
       "grid_auto_rows": null,
       "grid_column": null,
       "grid_gap": null,
       "grid_row": null,
       "grid_template_areas": null,
       "grid_template_columns": null,
       "grid_template_rows": null,
       "height": null,
       "justify_content": null,
       "justify_items": null,
       "left": null,
       "margin": null,
       "max_height": null,
       "max_width": null,
       "min_height": null,
       "min_width": null,
       "object_fit": null,
       "object_position": null,
       "order": null,
       "overflow": null,
       "overflow_x": null,
       "overflow_y": null,
       "padding": null,
       "right": null,
       "top": null,
       "visibility": null,
       "width": null
      }
     },
     "ab71da7bb4cb4458bb0be6bbeb6004b5": {
      "model_module": "@jupyter-widgets/controls",
      "model_module_version": "1.5.0",
      "model_name": "FloatProgressModel",
      "state": {
       "_dom_classes": [],
       "_model_module": "@jupyter-widgets/controls",
       "_model_module_version": "1.5.0",
       "_model_name": "FloatProgressModel",
       "_view_count": null,
       "_view_module": "@jupyter-widgets/controls",
       "_view_module_version": "1.5.0",
       "_view_name": "ProgressView",
       "bar_style": "success",
       "description": "",
       "description_tooltip": null,
       "layout": "IPY_MODEL_1878f16a9a6d40b492c75e8579611f3c",
       "max": 2781652.0,
       "min": 0.0,
       "orientation": "horizontal",
       "style": "IPY_MODEL_a8f2a139adea486ebd8aa528ba1427d9",
       "value": 2781652.0
      }
     },
     "abbae8b7e0c04ef9a0975e49e2f2d5eb": {
      "model_module": "@jupyter-widgets/base",
      "model_module_version": "1.2.0",
      "model_name": "LayoutModel",
      "state": {
       "_model_module": "@jupyter-widgets/base",
       "_model_module_version": "1.2.0",
       "_model_name": "LayoutModel",
       "_view_count": null,
       "_view_module": "@jupyter-widgets/base",
       "_view_module_version": "1.2.0",
       "_view_name": "LayoutView",
       "align_content": null,
       "align_items": null,
       "align_self": null,
       "border": null,
       "bottom": null,
       "display": null,
       "flex": null,
       "flex_flow": null,
       "grid_area": null,
       "grid_auto_columns": null,
       "grid_auto_flow": null,
       "grid_auto_rows": null,
       "grid_column": null,
       "grid_gap": null,
       "grid_row": null,
       "grid_template_areas": null,
       "grid_template_columns": null,
       "grid_template_rows": null,
       "height": null,
       "justify_content": null,
       "justify_items": null,
       "left": null,
       "margin": null,
       "max_height": null,
       "max_width": null,
       "min_height": null,
       "min_width": null,
       "object_fit": null,
       "object_position": null,
       "order": null,
       "overflow": null,
       "overflow_x": null,
       "overflow_y": null,
       "padding": null,
       "right": null,
       "top": null,
       "visibility": null,
       "width": null
      }
     },
     "b23fc86b565c45eda9f6d4aabdb4f4d4": {
      "model_module": "@jupyter-widgets/controls",
      "model_module_version": "1.5.0",
      "model_name": "FloatProgressModel",
      "state": {
       "_dom_classes": [],
       "_model_module": "@jupyter-widgets/controls",
       "_model_module_version": "1.5.0",
       "_model_name": "FloatProgressModel",
       "_view_count": null,
       "_view_module": "@jupyter-widgets/controls",
       "_view_module_version": "1.5.0",
       "_view_name": "ProgressView",
       "bar_style": "success",
       "description": "",
       "description_tooltip": null,
       "layout": "IPY_MODEL_e3ed8526367f478e8fa23b0cf8ca5af6",
       "max": 200.0,
       "min": 0.0,
       "orientation": "horizontal",
       "style": "IPY_MODEL_dc5e0003c08343efb0171fe98ce8d65a",
       "value": 200.0
      }
     },
     "b677ffb31d794511b3211fe4cf033cab": {
      "model_module": "@jupyter-widgets/base",
      "model_module_version": "1.2.0",
      "model_name": "LayoutModel",
      "state": {
       "_model_module": "@jupyter-widgets/base",
       "_model_module_version": "1.2.0",
       "_model_name": "LayoutModel",
       "_view_count": null,
       "_view_module": "@jupyter-widgets/base",
       "_view_module_version": "1.2.0",
       "_view_name": "LayoutView",
       "align_content": null,
       "align_items": null,
       "align_self": null,
       "border": null,
       "bottom": null,
       "display": null,
       "flex": null,
       "flex_flow": null,
       "grid_area": null,
       "grid_auto_columns": null,
       "grid_auto_flow": null,
       "grid_auto_rows": null,
       "grid_column": null,
       "grid_gap": null,
       "grid_row": null,
       "grid_template_areas": null,
       "grid_template_columns": null,
       "grid_template_rows": null,
       "height": null,
       "justify_content": null,
       "justify_items": null,
       "left": null,
       "margin": null,
       "max_height": null,
       "max_width": null,
       "min_height": null,
       "min_width": null,
       "object_fit": null,
       "object_position": null,
       "order": null,
       "overflow": null,
       "overflow_x": null,
       "overflow_y": null,
       "padding": null,
       "right": null,
       "top": null,
       "visibility": null,
       "width": null
      }
     },
     "b7a972e479bb42e1971517cb93874ef7": {
      "model_module": "@jupyter-widgets/base",
      "model_module_version": "1.2.0",
      "model_name": "LayoutModel",
      "state": {
       "_model_module": "@jupyter-widgets/base",
       "_model_module_version": "1.2.0",
       "_model_name": "LayoutModel",
       "_view_count": null,
       "_view_module": "@jupyter-widgets/base",
       "_view_module_version": "1.2.0",
       "_view_name": "LayoutView",
       "align_content": null,
       "align_items": null,
       "align_self": null,
       "border": null,
       "bottom": null,
       "display": null,
       "flex": null,
       "flex_flow": null,
       "grid_area": null,
       "grid_auto_columns": null,
       "grid_auto_flow": null,
       "grid_auto_rows": null,
       "grid_column": null,
       "grid_gap": null,
       "grid_row": null,
       "grid_template_areas": null,
       "grid_template_columns": null,
       "grid_template_rows": null,
       "height": null,
       "justify_content": null,
       "justify_items": null,
       "left": null,
       "margin": null,
       "max_height": null,
       "max_width": null,
       "min_height": null,
       "min_width": null,
       "object_fit": null,
       "object_position": null,
       "order": null,
       "overflow": null,
       "overflow_x": null,
       "overflow_y": null,
       "padding": null,
       "right": null,
       "top": null,
       "visibility": null,
       "width": null
      }
     },
     "b7d24094c8c04a3d8bef95da04af9cb5": {
      "model_module": "@jupyter-widgets/base",
      "model_module_version": "1.2.0",
      "model_name": "LayoutModel",
      "state": {
       "_model_module": "@jupyter-widgets/base",
       "_model_module_version": "1.2.0",
       "_model_name": "LayoutModel",
       "_view_count": null,
       "_view_module": "@jupyter-widgets/base",
       "_view_module_version": "1.2.0",
       "_view_name": "LayoutView",
       "align_content": null,
       "align_items": null,
       "align_self": null,
       "border": null,
       "bottom": null,
       "display": null,
       "flex": null,
       "flex_flow": null,
       "grid_area": null,
       "grid_auto_columns": null,
       "grid_auto_flow": null,
       "grid_auto_rows": null,
       "grid_column": null,
       "grid_gap": null,
       "grid_row": null,
       "grid_template_areas": null,
       "grid_template_columns": null,
       "grid_template_rows": null,
       "height": null,
       "justify_content": null,
       "justify_items": null,
       "left": null,
       "margin": null,
       "max_height": null,
       "max_width": null,
       "min_height": null,
       "min_width": null,
       "object_fit": null,
       "object_position": null,
       "order": null,
       "overflow": null,
       "overflow_x": null,
       "overflow_y": null,
       "padding": null,
       "right": null,
       "top": null,
       "visibility": null,
       "width": null
      }
     },
     "b933ec8a95bb449a919f86c7ac705604": {
      "model_module": "@jupyter-widgets/controls",
      "model_module_version": "1.5.0",
      "model_name": "HTMLModel",
      "state": {
       "_dom_classes": [],
       "_model_module": "@jupyter-widgets/controls",
       "_model_module_version": "1.5.0",
       "_model_name": "HTMLModel",
       "_view_count": null,
       "_view_module": "@jupyter-widgets/controls",
       "_view_module_version": "1.5.0",
       "_view_name": "HTMLView",
       "description": "",
       "description_tooltip": null,
       "layout": "IPY_MODEL_08256aaac4164a9690e3a012a52bcd4b",
       "placeholder": "​",
       "style": "IPY_MODEL_2ea23172a7994be9a82d08f436d5f377",
       "value": " 200/200 [01:35&lt;00:00,  1.94it/s]"
      }
     },
     "bc213ba68a174f10befc8a9733cae912": {
      "model_module": "@jupyter-widgets/base",
      "model_module_version": "1.2.0",
      "model_name": "LayoutModel",
      "state": {
       "_model_module": "@jupyter-widgets/base",
       "_model_module_version": "1.2.0",
       "_model_name": "LayoutModel",
       "_view_count": null,
       "_view_module": "@jupyter-widgets/base",
       "_view_module_version": "1.2.0",
       "_view_name": "LayoutView",
       "align_content": null,
       "align_items": null,
       "align_self": null,
       "border": null,
       "bottom": null,
       "display": null,
       "flex": null,
       "flex_flow": null,
       "grid_area": null,
       "grid_auto_columns": null,
       "grid_auto_flow": null,
       "grid_auto_rows": null,
       "grid_column": null,
       "grid_gap": null,
       "grid_row": null,
       "grid_template_areas": null,
       "grid_template_columns": null,
       "grid_template_rows": null,
       "height": null,
       "justify_content": null,
       "justify_items": null,
       "left": null,
       "margin": null,
       "max_height": null,
       "max_width": null,
       "min_height": null,
       "min_width": null,
       "object_fit": null,
       "object_position": null,
       "order": null,
       "overflow": null,
       "overflow_x": null,
       "overflow_y": null,
       "padding": null,
       "right": null,
       "top": null,
       "visibility": null,
       "width": null
      }
     },
     "be18851be8954fdb832a24ea8543c62d": {
      "model_module": "@jupyter-widgets/controls",
      "model_module_version": "1.5.0",
      "model_name": "DescriptionStyleModel",
      "state": {
       "_model_module": "@jupyter-widgets/controls",
       "_model_module_version": "1.5.0",
       "_model_name": "DescriptionStyleModel",
       "_view_count": null,
       "_view_module": "@jupyter-widgets/base",
       "_view_module_version": "1.2.0",
       "_view_name": "StyleView",
       "description_width": ""
      }
     },
     "c0a3db325ca040e2bb80bd2fbdcd4390": {
      "model_module": "@jupyter-widgets/base",
      "model_module_version": "1.2.0",
      "model_name": "LayoutModel",
      "state": {
       "_model_module": "@jupyter-widgets/base",
       "_model_module_version": "1.2.0",
       "_model_name": "LayoutModel",
       "_view_count": null,
       "_view_module": "@jupyter-widgets/base",
       "_view_module_version": "1.2.0",
       "_view_name": "LayoutView",
       "align_content": null,
       "align_items": null,
       "align_self": null,
       "border": null,
       "bottom": null,
       "display": null,
       "flex": null,
       "flex_flow": null,
       "grid_area": null,
       "grid_auto_columns": null,
       "grid_auto_flow": null,
       "grid_auto_rows": null,
       "grid_column": null,
       "grid_gap": null,
       "grid_row": null,
       "grid_template_areas": null,
       "grid_template_columns": null,
       "grid_template_rows": null,
       "height": null,
       "justify_content": null,
       "justify_items": null,
       "left": null,
       "margin": null,
       "max_height": null,
       "max_width": null,
       "min_height": null,
       "min_width": null,
       "object_fit": null,
       "object_position": null,
       "order": null,
       "overflow": null,
       "overflow_x": null,
       "overflow_y": null,
       "padding": null,
       "right": null,
       "top": null,
       "visibility": null,
       "width": null
      }
     },
     "c1a913e9a5574b47abd9019f701990c7": {
      "model_module": "@jupyter-widgets/controls",
      "model_module_version": "1.5.0",
      "model_name": "DescriptionStyleModel",
      "state": {
       "_model_module": "@jupyter-widgets/controls",
       "_model_module_version": "1.5.0",
       "_model_name": "DescriptionStyleModel",
       "_view_count": null,
       "_view_module": "@jupyter-widgets/base",
       "_view_module_version": "1.2.0",
       "_view_name": "StyleView",
       "description_width": ""
      }
     },
     "c53d244a949743cf82e78cbff7017185": {
      "model_module": "@jupyter-widgets/controls",
      "model_module_version": "1.5.0",
      "model_name": "DescriptionStyleModel",
      "state": {
       "_model_module": "@jupyter-widgets/controls",
       "_model_module_version": "1.5.0",
       "_model_name": "DescriptionStyleModel",
       "_view_count": null,
       "_view_module": "@jupyter-widgets/base",
       "_view_module_version": "1.2.0",
       "_view_name": "StyleView",
       "description_width": ""
      }
     },
     "c6a432ffcb2b41db9265bd41d2e17769": {
      "model_module": "@jupyter-widgets/base",
      "model_module_version": "1.2.0",
      "model_name": "LayoutModel",
      "state": {
       "_model_module": "@jupyter-widgets/base",
       "_model_module_version": "1.2.0",
       "_model_name": "LayoutModel",
       "_view_count": null,
       "_view_module": "@jupyter-widgets/base",
       "_view_module_version": "1.2.0",
       "_view_name": "LayoutView",
       "align_content": null,
       "align_items": null,
       "align_self": null,
       "border": null,
       "bottom": null,
       "display": null,
       "flex": null,
       "flex_flow": null,
       "grid_area": null,
       "grid_auto_columns": null,
       "grid_auto_flow": null,
       "grid_auto_rows": null,
       "grid_column": null,
       "grid_gap": null,
       "grid_row": null,
       "grid_template_areas": null,
       "grid_template_columns": null,
       "grid_template_rows": null,
       "height": null,
       "justify_content": null,
       "justify_items": null,
       "left": null,
       "margin": null,
       "max_height": null,
       "max_width": null,
       "min_height": null,
       "min_width": null,
       "object_fit": null,
       "object_position": null,
       "order": null,
       "overflow": null,
       "overflow_x": null,
       "overflow_y": null,
       "padding": null,
       "right": null,
       "top": null,
       "visibility": null,
       "width": null
      }
     },
     "cce0eda18d59491f8691f795f47f914b": {
      "model_module": "@jupyter-widgets/controls",
      "model_module_version": "1.5.0",
      "model_name": "HBoxModel",
      "state": {
       "_dom_classes": [],
       "_model_module": "@jupyter-widgets/controls",
       "_model_module_version": "1.5.0",
       "_model_name": "HBoxModel",
       "_view_count": null,
       "_view_module": "@jupyter-widgets/controls",
       "_view_module_version": "1.5.0",
       "_view_name": "HBoxView",
       "box_style": "",
       "children": [
        "IPY_MODEL_9be4aadd565b44dcad470da7898b495a",
        "IPY_MODEL_b23fc86b565c45eda9f6d4aabdb4f4d4",
        "IPY_MODEL_b933ec8a95bb449a919f86c7ac705604"
       ],
       "layout": "IPY_MODEL_b677ffb31d794511b3211fe4cf033cab"
      }
     },
     "ce2c05907c8e41f986f420dfbe2783d0": {
      "model_module": "@jupyter-widgets/controls",
      "model_module_version": "1.5.0",
      "model_name": "HBoxModel",
      "state": {
       "_dom_classes": [],
       "_model_module": "@jupyter-widgets/controls",
       "_model_module_version": "1.5.0",
       "_model_name": "HBoxModel",
       "_view_count": null,
       "_view_module": "@jupyter-widgets/controls",
       "_view_module_version": "1.5.0",
       "_view_name": "HBoxView",
       "box_style": "",
       "children": [
        "IPY_MODEL_936cceebf6ca40e6a5f27f1b5f96085c",
        "IPY_MODEL_5e029115e69c400cba9b00003e295823",
        "IPY_MODEL_e1daa1d465cc4fcdbde0cd175df00cc2"
       ],
       "layout": "IPY_MODEL_83e3bc5181814ca6b727007943f44bb2"
      }
     },
     "d762c57249d546cb8e69a83ce278b9e6": {
      "model_module": "@jupyter-widgets/controls",
      "model_module_version": "1.5.0",
      "model_name": "HTMLModel",
      "state": {
       "_dom_classes": [],
       "_model_module": "@jupyter-widgets/controls",
       "_model_module_version": "1.5.0",
       "_model_name": "HTMLModel",
       "_view_count": null,
       "_view_module": "@jupyter-widgets/controls",
       "_view_module_version": "1.5.0",
       "_view_name": "HTMLView",
       "description": "",
       "description_tooltip": null,
       "layout": "IPY_MODEL_b7a972e479bb42e1971517cb93874ef7",
       "placeholder": "​",
       "style": "IPY_MODEL_21f6c55f223247adbc316956bbad70ff",
       "value": "Map: 100%"
      }
     },
     "dc5e0003c08343efb0171fe98ce8d65a": {
      "model_module": "@jupyter-widgets/controls",
      "model_module_version": "1.5.0",
      "model_name": "ProgressStyleModel",
      "state": {
       "_model_module": "@jupyter-widgets/controls",
       "_model_module_version": "1.5.0",
       "_model_name": "ProgressStyleModel",
       "_view_count": null,
       "_view_module": "@jupyter-widgets/base",
       "_view_module_version": "1.2.0",
       "_view_name": "StyleView",
       "bar_color": null,
       "description_width": ""
      }
     },
     "de044d4726434beea26826ef3ada279c": {
      "model_module": "@jupyter-widgets/controls",
      "model_module_version": "1.5.0",
      "model_name": "HBoxModel",
      "state": {
       "_dom_classes": [],
       "_model_module": "@jupyter-widgets/controls",
       "_model_module_version": "1.5.0",
       "_model_name": "HBoxModel",
       "_view_count": null,
       "_view_module": "@jupyter-widgets/controls",
       "_view_module_version": "1.5.0",
       "_view_name": "HBoxView",
       "box_style": "",
       "children": [
        "IPY_MODEL_52a75ccb18544aa495192cb506c6d7fa",
        "IPY_MODEL_3937eb385bd34dabb54829d6b73c6871",
        "IPY_MODEL_7e99a2ee2887410883e3ddd746ad7f86"
       ],
       "layout": "IPY_MODEL_b7d24094c8c04a3d8bef95da04af9cb5"
      }
     },
     "de215ddf3060461ab96cbb11fadb219b": {
      "model_module": "@jupyter-widgets/controls",
      "model_module_version": "1.5.0",
      "model_name": "DescriptionStyleModel",
      "state": {
       "_model_module": "@jupyter-widgets/controls",
       "_model_module_version": "1.5.0",
       "_model_name": "DescriptionStyleModel",
       "_view_count": null,
       "_view_module": "@jupyter-widgets/base",
       "_view_module_version": "1.2.0",
       "_view_name": "StyleView",
       "description_width": ""
      }
     },
     "e1daa1d465cc4fcdbde0cd175df00cc2": {
      "model_module": "@jupyter-widgets/controls",
      "model_module_version": "1.5.0",
      "model_name": "HTMLModel",
      "state": {
       "_dom_classes": [],
       "_model_module": "@jupyter-widgets/controls",
       "_model_module_version": "1.5.0",
       "_model_name": "HTMLModel",
       "_view_count": null,
       "_view_module": "@jupyter-widgets/controls",
       "_view_module_version": "1.5.0",
       "_view_name": "HTMLView",
       "description": "",
       "description_tooltip": null,
       "layout": "IPY_MODEL_8ca1ae61588743efb58bd8c781d89bb7",
       "placeholder": "​",
       "style": "IPY_MODEL_6ec195d16de34c51b4cd4515686043cc",
       "value": " 4520652/4520652 [05:12&lt;00:00, 10487.79 examples/s]"
      }
     },
     "e3ed8526367f478e8fa23b0cf8ca5af6": {
      "model_module": "@jupyter-widgets/base",
      "model_module_version": "1.2.0",
      "model_name": "LayoutModel",
      "state": {
       "_model_module": "@jupyter-widgets/base",
       "_model_module_version": "1.2.0",
       "_model_name": "LayoutModel",
       "_view_count": null,
       "_view_module": "@jupyter-widgets/base",
       "_view_module_version": "1.2.0",
       "_view_name": "LayoutView",
       "align_content": null,
       "align_items": null,
       "align_self": null,
       "border": null,
       "bottom": null,
       "display": null,
       "flex": null,
       "flex_flow": null,
       "grid_area": null,
       "grid_auto_columns": null,
       "grid_auto_flow": null,
       "grid_auto_rows": null,
       "grid_column": null,
       "grid_gap": null,
       "grid_row": null,
       "grid_template_areas": null,
       "grid_template_columns": null,
       "grid_template_rows": null,
       "height": null,
       "justify_content": null,
       "justify_items": null,
       "left": null,
       "margin": null,
       "max_height": null,
       "max_width": null,
       "min_height": null,
       "min_width": null,
       "object_fit": null,
       "object_position": null,
       "order": null,
       "overflow": null,
       "overflow_x": null,
       "overflow_y": null,
       "padding": null,
       "right": null,
       "top": null,
       "visibility": null,
       "width": null
      }
     },
     "ea50f58100624c0b8dee01dddcc0faeb": {
      "model_module": "@jupyter-widgets/controls",
      "model_module_version": "1.5.0",
      "model_name": "DescriptionStyleModel",
      "state": {
       "_model_module": "@jupyter-widgets/controls",
       "_model_module_version": "1.5.0",
       "_model_name": "DescriptionStyleModel",
       "_view_count": null,
       "_view_module": "@jupyter-widgets/base",
       "_view_module_version": "1.2.0",
       "_view_name": "StyleView",
       "description_width": ""
      }
     },
     "ed029172cae3482e84dc8d928ef29a2f": {
      "model_module": "@jupyter-widgets/base",
      "model_module_version": "1.2.0",
      "model_name": "LayoutModel",
      "state": {
       "_model_module": "@jupyter-widgets/base",
       "_model_module_version": "1.2.0",
       "_model_name": "LayoutModel",
       "_view_count": null,
       "_view_module": "@jupyter-widgets/base",
       "_view_module_version": "1.2.0",
       "_view_name": "LayoutView",
       "align_content": null,
       "align_items": null,
       "align_self": null,
       "border": null,
       "bottom": null,
       "display": null,
       "flex": null,
       "flex_flow": null,
       "grid_area": null,
       "grid_auto_columns": null,
       "grid_auto_flow": null,
       "grid_auto_rows": null,
       "grid_column": null,
       "grid_gap": null,
       "grid_row": null,
       "grid_template_areas": null,
       "grid_template_columns": null,
       "grid_template_rows": null,
       "height": null,
       "justify_content": null,
       "justify_items": null,
       "left": null,
       "margin": null,
       "max_height": null,
       "max_width": null,
       "min_height": null,
       "min_width": null,
       "object_fit": null,
       "object_position": null,
       "order": null,
       "overflow": null,
       "overflow_x": null,
       "overflow_y": null,
       "padding": null,
       "right": null,
       "top": null,
       "visibility": null,
       "width": null
      }
     },
     "efbd64a321994e2193e3b3220017a8d5": {
      "model_module": "@jupyter-widgets/controls",
      "model_module_version": "1.5.0",
      "model_name": "ProgressStyleModel",
      "state": {
       "_model_module": "@jupyter-widgets/controls",
       "_model_module_version": "1.5.0",
       "_model_name": "ProgressStyleModel",
       "_view_count": null,
       "_view_module": "@jupyter-widgets/base",
       "_view_module_version": "1.2.0",
       "_view_name": "StyleView",
       "bar_color": null,
       "description_width": ""
      }
     },
     "f1e625d41a404f2d82aeec0a8ee951b0": {
      "model_module": "@jupyter-widgets/base",
      "model_module_version": "1.2.0",
      "model_name": "LayoutModel",
      "state": {
       "_model_module": "@jupyter-widgets/base",
       "_model_module_version": "1.2.0",
       "_model_name": "LayoutModel",
       "_view_count": null,
       "_view_module": "@jupyter-widgets/base",
       "_view_module_version": "1.2.0",
       "_view_name": "LayoutView",
       "align_content": null,
       "align_items": null,
       "align_self": null,
       "border": null,
       "bottom": null,
       "display": null,
       "flex": null,
       "flex_flow": null,
       "grid_area": null,
       "grid_auto_columns": null,
       "grid_auto_flow": null,
       "grid_auto_rows": null,
       "grid_column": null,
       "grid_gap": null,
       "grid_row": null,
       "grid_template_areas": null,
       "grid_template_columns": null,
       "grid_template_rows": null,
       "height": null,
       "justify_content": null,
       "justify_items": null,
       "left": null,
       "margin": null,
       "max_height": null,
       "max_width": null,
       "min_height": null,
       "min_width": null,
       "object_fit": null,
       "object_position": null,
       "order": null,
       "overflow": null,
       "overflow_x": null,
       "overflow_y": null,
       "padding": null,
       "right": null,
       "top": null,
       "visibility": null,
       "width": null
      }
     },
     "f265eda8f53d478ea91fd76e74cd9375": {
      "model_module": "@jupyter-widgets/controls",
      "model_module_version": "1.5.0",
      "model_name": "HBoxModel",
      "state": {
       "_dom_classes": [],
       "_model_module": "@jupyter-widgets/controls",
       "_model_module_version": "1.5.0",
       "_model_name": "HBoxModel",
       "_view_count": null,
       "_view_module": "@jupyter-widgets/controls",
       "_view_module_version": "1.5.0",
       "_view_name": "HBoxView",
       "box_style": "",
       "children": [
        "IPY_MODEL_3bbe283b1ad04fc1aacc8c873de73e2c",
        "IPY_MODEL_2a176dda05ba41ab9055a239364d46c0",
        "IPY_MODEL_8994bacebc7f4b039beee03fa0efdd9e"
       ],
       "layout": "IPY_MODEL_8aa7d67cf3754fd4b0a14cb64334c55f"
      }
     },
     "f28231a2576546e699daf014275a9dba": {
      "model_module": "@jupyter-widgets/base",
      "model_module_version": "1.2.0",
      "model_name": "LayoutModel",
      "state": {
       "_model_module": "@jupyter-widgets/base",
       "_model_module_version": "1.2.0",
       "_model_name": "LayoutModel",
       "_view_count": null,
       "_view_module": "@jupyter-widgets/base",
       "_view_module_version": "1.2.0",
       "_view_name": "LayoutView",
       "align_content": null,
       "align_items": null,
       "align_self": null,
       "border": null,
       "bottom": null,
       "display": null,
       "flex": null,
       "flex_flow": null,
       "grid_area": null,
       "grid_auto_columns": null,
       "grid_auto_flow": null,
       "grid_auto_rows": null,
       "grid_column": null,
       "grid_gap": null,
       "grid_row": null,
       "grid_template_areas": null,
       "grid_template_columns": null,
       "grid_template_rows": null,
       "height": null,
       "justify_content": null,
       "justify_items": null,
       "left": null,
       "margin": null,
       "max_height": null,
       "max_width": null,
       "min_height": null,
       "min_width": null,
       "object_fit": null,
       "object_position": null,
       "order": null,
       "overflow": null,
       "overflow_x": null,
       "overflow_y": null,
       "padding": null,
       "right": null,
       "top": null,
       "visibility": null,
       "width": null
      }
     },
     "f738745a3b744a358c8699339a602c5c": {
      "model_module": "@jupyter-widgets/controls",
      "model_module_version": "1.5.0",
      "model_name": "HTMLModel",
      "state": {
       "_dom_classes": [],
       "_model_module": "@jupyter-widgets/controls",
       "_model_module_version": "1.5.0",
       "_model_name": "HTMLModel",
       "_view_count": null,
       "_view_module": "@jupyter-widgets/controls",
       "_view_module_version": "1.5.0",
       "_view_name": "HTMLView",
       "description": "",
       "description_tooltip": null,
       "layout": "IPY_MODEL_402cddaec0c44e64af83cee7b2d5f407",
       "placeholder": "​",
       "style": "IPY_MODEL_8402f170e1d7458db52e49541237d975",
       "value": " 200/200 [00:01&lt;00:00, 114.13 examples/s]"
      }
     }
    },
    "version_major": 2,
    "version_minor": 0
   }
  }
 },
 "nbformat": 4,
 "nbformat_minor": 5
}
